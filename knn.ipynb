{
 "cells": [
  {
   "attachments": {},
   "cell_type": "markdown",
   "metadata": {},
   "source": [
    "## Sobre o KNN (K-Nearest Neighbors)\n",
    "O KNN é um modelo de aprendizagem de máquina supervisionado, o que significa que o modelo aprende a partir de dados já classificados. Nele, o modelo classifica a um dado o rótulo predominante dos seus \"k\" pontos mais próximos."
   ]
  },
  {
   "attachments": {},
   "cell_type": "markdown",
   "metadata": {},
   "source": [
    "## Aplicação do projeto.\n",
    "- Qual variável ou quais variáveis estamos tentando prever?\n",
    "\n",
    "- Dividir o dataset entre dados de treinamento e de teste. O modelo aprende com o primeiro, e vemos como ele performa em dados não vistos com o segundo.\n",
    "\n"
   ]
  },
  {
   "cell_type": "code",
   "execution_count": null,
   "metadata": {
    "vscode": {
     "languageId": "plaintext"
    }
   },
   "outputs": [],
   "source": []
  },
  {
   "attachments": {},
   "cell_type": "markdown",
   "metadata": {},
   "source": [
    "### Referências bibliográficas\n",
    "- [x] [Scikit-learn documentation](https://scikit-learn.org/stable/index.html)\n",
    "\t- [ ] [sklearn.neighbors.KNeighborsRegressor](https://scikit-learn.org/stable/modules/generated/sklearn.neighbors.KNeighborsRegressor.html#sklearn.neighbors.KNeighborsRegressor)\n",
    "- [x] [StatQuest: K-nearest neighbors, Clearly Explained](https://www.youtube.com/watch?v=HVXime0nQeI)\n",
    "- [Eijaz Allibhai: Building a k-Nearest-Neighbors (k-NN) Model with Scikit-learn](https://towardsdatascience.com/building-a-k-nearest-neighbors-k-nn-model-with-scikit-learn-51209555453a)\n",
    "- [Datacamp: K-Nearest Neighbors (KNN) Classification with scikit-learn](https://www.datacamp.com/tutorial/k-nearest-neighbor-classification-scikit-learn)\n",
    "- [Cássia Sampaio. StackAbuse: Guide to the K-Nearest Neighbors Algorithm in Python and Scikit-Learn](https://stackabuse.com/k-nearest-neighbors-algorithm-in-python-and-scikit-learn/)\n",
    "- [Joos Korstanje. Real Python: The k-Nearest Neighbors (kNN) Algorithm in Python](https://realpython.com/knn-python/)"
   ]
  },
  {
   "attachments": {},
   "cell_type": "markdown",
   "metadata": {},
   "source": [
    "The optimal choice of the value is highly data-dependent: in general a larger suppresses the effects of noise, but makes the classification boundaries less distinct.\n",
    "\n",
    "Neighbors-based regression can be used in cases where the data labels are continuous rather than discrete variables. The label assigned to a query point is computed based on the mean of the labels of its nearest neighbors."
   ]
  }
 ],
 "metadata": {
  "language_info": {
   "name": "python"
  },
  "orig_nbformat": 4
 },
 "nbformat": 4,
 "nbformat_minor": 2
}
