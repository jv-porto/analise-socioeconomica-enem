{
 "cells": [
  {
   "attachments": {},
   "cell_type": "markdown",
   "metadata": {},
   "source": [
    "# **Projeto: Quais fatores mais influenciam no desempenho de um aluno no ENEM e como podemos ajudá-lo a melhorar sua performance?**\n",
    "\n",
    "**Integrantes:** Hellen Cristine Silva Rosa (RA00319076), João Victor Porto (RA00311353), Laura Gabriel Murayama (RA00319321), Maria Eduarda Bonel Iribarnegaray (RA00318891), Vinícius Ferreira de Mendonça (RA00319760), Vitória de Fátima Teixeira (RA00320578)"
   ]
  },
  {
   "attachments": {},
   "cell_type": "markdown",
   "metadata": {},
   "source": [
    "## **Banco de Dados**"
   ]
  },
  {
   "attachments": {},
   "cell_type": "markdown",
   "metadata": {},
   "source": [
    "### **Importando bibliotecas e definindo funções importantes**"
   ]
  },
  {
   "cell_type": "code",
   "execution_count": null,
   "metadata": {},
   "outputs": [],
   "source": [
    "# importing libraries\n",
    "import os\n",
    "import psycopg2\n",
    "import pandas as pd\n",
    "import numpy as np\n",
    "\n",
    "# loading environment variables\n",
    "from dotenv import load_dotenv\n",
    "load_dotenv()"
   ]
  },
  {
   "cell_type": "code",
   "execution_count": null,
   "metadata": {},
   "outputs": [],
   "source": [
    "# establishing connection with DB\n",
    "class db_connection():\n",
    "    '''\n",
    "    Instantiates a connection with the database.\n",
    "    '''\n",
    "    def __init__(self):\n",
    "        self.DB_URI = os.environ.get('DB_URI')\n",
    "         \n",
    "    def __enter__(self):\n",
    "        self.connection = psycopg2.connect(self.DB_URI)\n",
    "        return self.connection\n",
    "    \n",
    "    def __exit__(self, *args):\n",
    "        self.connection.close()"
   ]
  },
  {
   "attachments": {},
   "cell_type": "markdown",
   "metadata": {},
   "source": [
    "### **REQ#02: Identificar um dataset sobre a temática do projeto**"
   ]
  },
  {
   "attachments": {},
   "cell_type": "markdown",
   "metadata": {},
   "source": [
    "Utilizaremos os microdados do ENEM 2022, [disponibilizados pelo INEP](https://www.gov.br/inep/pt-br/acesso-a-informacao/dados-abertos/microdados/enem)."
   ]
  },
  {
   "attachments": {},
   "cell_type": "markdown",
   "metadata": {},
   "source": [
    "### **REQ#03: Modelo conceitual**"
   ]
  },
  {
   "attachments": {},
   "cell_type": "markdown",
   "metadata": {},
   "source": [
    "xxxxx"
   ]
  },
  {
   "attachments": {},
   "cell_type": "markdown",
   "metadata": {},
   "source": [
    "### **REQ#04: Modelo lógico**"
   ]
  },
  {
   "attachments": {},
   "cell_type": "markdown",
   "metadata": {},
   "source": [
    "xxxxx"
   ]
  },
  {
   "attachments": {},
   "cell_type": "markdown",
   "metadata": {},
   "source": [
    "### **REQ#05: Modelo físico**"
   ]
  },
  {
   "attachments": {},
   "cell_type": "markdown",
   "metadata": {},
   "source": [
    "#### **Microdados**\n",
    "\n",
    "```sql\n",
    "CREATE TABLE projeto_enem.microdados (\n",
    "\t\"ID\" INTEGER GENERATED ALWAYS AS IDENTITY PRIMARY KEY,\n",
    "\t\"NU_INSCRICAO\" BIGINT,\n",
    "\t\"NU_ANO\" INTEGER,\n",
    "\t\"TP_FAIXA_ETARIA\" INTEGER,\n",
    "\t\"TP_SEXO\" VARCHAR(1),\n",
    "\t\"TP_ESTADO_CIVIL\" INTEGER,\n",
    "\t\"TP_COR_RACA\" INTEGER,\n",
    "\t\"TP_NACIONALIDADE\" INTEGER,\n",
    "\t\"TP_ST_CONCLUSAO\" INTEGER,\n",
    "\t\"TP_ANO_CONCLUIU\" INTEGER,\n",
    "\t\"TP_ESCOLA\" INTEGER,\n",
    "\t\"TP_ENSINO\" INTEGER,\n",
    "\t\"IN_TREINEIRO\" INTEGER,\n",
    "\t\"CO_MUNICIPIO_ESC\" INTEGER,\n",
    "\t\"NO_MUNICIPIO_ESC\" VARCHAR(150),\n",
    "\t\"CO_UF_ESC\" INTEGER,\n",
    "\t\"SG_UF_ESC\" VARCHAR(2),\n",
    "\t\"TP_DEPENDENCIA_ADM_ESC\" INTEGER,\n",
    "\t\"TP_LOCALIZACAO_ESC\" INTEGER,\n",
    "\t\"TP_SIT_FUNC_ESC\" INTEGER,\n",
    "\t\"CO_MUNICIPIO_PROVA\" INTEGER,\n",
    "\t\"NO_MUNICIPIO_PROVA\" VARCHAR(150),\n",
    "\t\"CO_UF_PROVA\" INTEGER,\n",
    "\t\"SG_UF_PROVA\" VARCHAR(2),\n",
    "\t\"TP_PRESENCA_CN\" INTEGER,\n",
    "\t\"TP_PRESENCA_CH\" INTEGER,\n",
    "\t\"TP_PRESENCA_LC\" INTEGER,\n",
    "\t\"TP_PRESENCA_MT\" INTEGER,\n",
    "\t\"CO_PROVA_CN\" INTEGER,\n",
    "\t\"CO_PROVA_CH\" INTEGER,\n",
    "\t\"CO_PROVA_LC\" INTEGER,\n",
    "\t\"CO_PROVA_MT\" INTEGER,\n",
    "\t\"NU_NOTA_CN\" FLOAT,\n",
    "\t\"NU_NOTA_CH\" FLOAT,\n",
    "\t\"NU_NOTA_LC\" FLOAT,\n",
    "\t\"NU_NOTA_MT\" FLOAT,\n",
    "\t\"TX_RESPOSTAS_CN\" VARCHAR(45),\n",
    "\t\"TX_RESPOSTAS_CH\" VARCHAR(45),\n",
    "\t\"TX_RESPOSTAS_LC\" VARCHAR(45),\n",
    "\t\"TX_RESPOSTAS_MT\" VARCHAR(45),\n",
    "\t\"TP_LINGUA\" INTEGER,\n",
    "\t\"TX_GABARITO_CN\" VARCHAR(45),\n",
    "\t\"TX_GABARITO_CH\" VARCHAR(45),\n",
    "\t\"TX_GABARITO_LC\" VARCHAR(50),\n",
    "\t\"TX_GABARITO_MT\" VARCHAR(45),\n",
    "\t\"TP_STATUS_REDACAO\" INTEGER,\n",
    "\t\"NU_NOTA_COMP1\" INTEGER,\n",
    "\t\"NU_NOTA_COMP2\" INTEGER,\n",
    "\t\"NU_NOTA_COMP3\" INTEGER,\n",
    "\t\"NU_NOTA_COMP4\" INTEGER,\n",
    "\t\"NU_NOTA_COMP5\" INTEGER,\n",
    "\t\"NU_NOTA_REDACAO\" INTEGER,\n",
    "\t\"Q001\" VARCHAR(1),\n",
    "\t\"Q002\" VARCHAR(1),\n",
    "\t\"Q003\" VARCHAR(1),\n",
    "\t\"Q004\" VARCHAR(1),\n",
    "\t\"Q005\" INTEGER,\n",
    "\t\"Q006\" VARCHAR(1),\n",
    "\t\"Q007\" VARCHAR(1),\n",
    "\t\"Q008\" VARCHAR(1),\n",
    "\t\"Q009\" VARCHAR(1),\n",
    "\t\"Q010\" VARCHAR(1),\n",
    "\t\"Q011\" VARCHAR(1),\n",
    "\t\"Q012\" VARCHAR(1),\n",
    "\t\"Q013\" VARCHAR(1),\n",
    "\t\"Q014\" VARCHAR(1),\n",
    "\t\"Q015\" VARCHAR(1),\n",
    "\t\"Q016\" VARCHAR(1),\n",
    "\t\"Q017\" VARCHAR(1),\n",
    "\t\"Q018\" VARCHAR(1),\n",
    "\t\"Q019\" VARCHAR(1),\n",
    "\t\"Q020\" VARCHAR(1),\n",
    "\t\"Q021\" VARCHAR(1),\n",
    "\t\"Q022\" VARCHAR(1),\n",
    "\t\"Q023\" VARCHAR(1),\n",
    "\t\"Q024\" VARCHAR(1),\n",
    "\t\"Q025\" VARCHAR(1)\n",
    ");\n",
    "```"
   ]
  },
  {
   "attachments": {},
   "cell_type": "markdown",
   "metadata": {},
   "source": [
    "#### **hab_estudo**\n",
    "\n",
    "```sql\n",
    "CREATE TABLE projeto_enem.hab_estudo (\n",
    "\t\"ID\" INTEGER GENERATED ALWAYS AS IDENTITY PRIMARY KEY,\n",
    "\t\"NU_INSCRICAO\" BIGINT,\n",
    "\t\"TP_RESPOSTA\" INTEGER,\n",
    "\t\"Q001\" VARCHAR(1),\n",
    "\t\"Q002\" VARCHAR(1),\n",
    "\t\"Q003\" VARCHAR(1),\n",
    "\t\"Q004\" VARCHAR(1),\n",
    "\t\"Q005\" VARCHAR(1),\n",
    "\t\"Q006\" VARCHAR(1),\n",
    "\t\"Q007\" VARCHAR(1),\n",
    "\t\"Q008\" VARCHAR(1),\n",
    "\t\"Q009\" VARCHAR(1),\n",
    "\t\"Q010\" VARCHAR(1),\n",
    "\t\"Q011\" VARCHAR(1),\n",
    "\t\"Q012\" VARCHAR(1),\n",
    "\t\"Q013\" VARCHAR(1),\n",
    "\t\"Q014\" VARCHAR(1),\n",
    "\t\"Q015\" VARCHAR(1),\n",
    "\t\"Q016\" VARCHAR(1),\n",
    "\t\"Q017\" VARCHAR(1),\n",
    "\t\"Q018\" VARCHAR(1),\n",
    "\t\"Q019\" VARCHAR(1),\n",
    "\t\"Q020\" VARCHAR(1),\n",
    "\t\"Q021\" VARCHAR(1),\n",
    "\t\"Q022\" VARCHAR(1),\n",
    "\t\"Q023\" VARCHAR(1),\n",
    "\t\"Q024\" VARCHAR(1),\n",
    "\t\"Q025A\" VARCHAR(1),\n",
    "\t\"Q025B\" VARCHAR(1),\n",
    "\t\"Q025C\" VARCHAR(1),\n",
    "\t\"Q025D\" VARCHAR(1),\n",
    "\t\"Q025E\" VARCHAR(1),\n",
    "\t\"Q025F\" VARCHAR(1),\n",
    "\t\"Q026A\" VARCHAR(1),\n",
    "\t\"Q026B\" VARCHAR(1),\n",
    "\t\"Q026C\" VARCHAR(1),\n",
    "\t\"Q026D\" VARCHAR(1),\n",
    "\t\"Q026E\" VARCHAR(1),\n",
    "\t\"Q026F\" VARCHAR(1),\n",
    "\t\"Q026G\" VARCHAR(1),\n",
    "\t\"Q026H\" VARCHAR(1),\n",
    "\t\"Q027\" VARCHAR(1),\n",
    "\t\"Q028A\" VARCHAR(1),\n",
    "\t\"Q028B\" VARCHAR(1),\n",
    "\t\"Q028C\" VARCHAR(1),\n",
    "\t\"Q028D\" VARCHAR(1),\n",
    "\t\"Q028E\" VARCHAR(1),\n",
    "\t\"Q028F\" VARCHAR(1),\n",
    "\t\"Q028G\" VARCHAR(1),\n",
    "\t\"Q028H\" VARCHAR(1),\n",
    "\t\"Q028I\" VARCHAR(1),\n",
    "\t\"Q028J\" VARCHAR(1),\n",
    "\t\"Q028K\" VARCHAR(1),\n",
    "\t\"Q028L\" VARCHAR(1),\n",
    "\t\"Q028M\" VARCHAR(1),\n",
    "\t\"Q028N\" VARCHAR(1),\n",
    "\t\"Q028O\" VARCHAR(1),\n",
    "\t\"Q028P\" VARCHAR(1),\n",
    "\t\"Q028Q\" VARCHAR(1),\n",
    "\t\"Q028R\" VARCHAR(1),\n",
    "\t\"Q029\" VARCHAR(1),\n",
    "\t\"Q030A\" VARCHAR(1),\n",
    "\t\"Q030B\" VARCHAR(1),\n",
    "\t\"Q030C\" VARCHAR(1),\n",
    "\t\"Q030D\" VARCHAR(1),\n",
    "\t\"Q030E\" VARCHAR(1),\n",
    "\t\"Q030F\" VARCHAR(1),\n",
    "\t\"Q030G\" VARCHAR(1),\n",
    "\t\"Q031\" VARCHAR(1),\n",
    "\t\"Q032A\" VARCHAR(1),\n",
    "\t\"Q032B\" VARCHAR(1),\n",
    "\t\"Q032C\" VARCHAR(1),\n",
    "\t\"Q032D\" VARCHAR(1),\n",
    "\t\"Q032E\" VARCHAR(1),\n",
    "\t\"Q032F\" VARCHAR(1),\n",
    "\t\"Q032G\" VARCHAR(1),\n",
    "\t\"Q033A\" VARCHAR(1),\n",
    "\t\"Q033B\" VARCHAR(1),\n",
    "\t\"Q033C\" VARCHAR(1),\n",
    "\t\"Q033D\" VARCHAR(1),\n",
    "\t\"Q033E\" VARCHAR(1),\n",
    "\t\"Q033F\" VARCHAR(1),\n",
    "\t\"Q033G\" VARCHAR(1),\n",
    "\t\"Q033H\" VARCHAR(1),\n",
    "\t\"Q033I\" VARCHAR(1),\n",
    "\t\"Q033J\" VARCHAR(1),\n",
    "\t\"Q034\" VARCHAR(1)\n",
    ");\n",
    "```"
   ]
  },
  {
   "attachments": {},
   "cell_type": "markdown",
   "metadata": {},
   "source": [
    "### **REQ#06: Popular o Banco de Dados a partir do dataset**"
   ]
  },
  {
   "attachments": {},
   "cell_type": "markdown",
   "metadata": {},
   "source": [
    "#### Criando tabelas"
   ]
  },
  {
   "cell_type": "code",
   "execution_count": null,
   "metadata": {},
   "outputs": [],
   "source": [
    "microdados_creation_query = '''\n",
    "CREATE TABLE projeto_enem.microdados (\n",
    "    \"ID\" INTEGER GENERATED ALWAYS AS IDENTITY PRIMARY KEY,\n",
    "\t\"NU_INSCRICAO\" BIGINT,\n",
    "\t\"NU_ANO\" INTEGER,\n",
    "\t\"TP_FAIXA_ETARIA\" INTEGER,\n",
    "\t\"TP_SEXO\" VARCHAR(1),\n",
    "\t\"TP_ESTADO_CIVIL\" INTEGER,\n",
    "\t\"TP_COR_RACA\" INTEGER,\n",
    "\t\"TP_NACIONALIDADE\" INTEGER,\n",
    "\t\"TP_ST_CONCLUSAO\" INTEGER,\n",
    "\t\"TP_ANO_CONCLUIU\" INTEGER,\n",
    "\t\"TP_ESCOLA\" INTEGER,\n",
    "\t\"TP_ENSINO\" INTEGER,\n",
    "\t\"IN_TREINEIRO\" INTEGER,\n",
    "\t\"CO_MUNICIPIO_ESC\" INTEGER,\n",
    "\t\"NO_MUNICIPIO_ESC\" VARCHAR(150),\n",
    "\t\"CO_UF_ESC\" INTEGER,\n",
    "\t\"SG_UF_ESC\" VARCHAR(2),\n",
    "\t\"TP_DEPENDENCIA_ADM_ESC\" INTEGER,\n",
    "\t\"TP_LOCALIZACAO_ESC\" INTEGER,\n",
    "\t\"TP_SIT_FUNC_ESC\" INTEGER,\n",
    "\t\"CO_MUNICIPIO_PROVA\" INTEGER,\n",
    "\t\"NO_MUNICIPIO_PROVA\" VARCHAR(150),\n",
    "\t\"CO_UF_PROVA\" INTEGER,\n",
    "\t\"SG_UF_PROVA\" VARCHAR(2),\n",
    "\t\"TP_PRESENCA_CN\" INTEGER,\n",
    "\t\"TP_PRESENCA_CH\" INTEGER,\n",
    "\t\"TP_PRESENCA_LC\" INTEGER,\n",
    "\t\"TP_PRESENCA_MT\" INTEGER,\n",
    "\t\"CO_PROVA_CN\" INTEGER,\n",
    "\t\"CO_PROVA_CH\" INTEGER,\n",
    "\t\"CO_PROVA_LC\" INTEGER,\n",
    "\t\"CO_PROVA_MT\" INTEGER,\n",
    "\t\"NU_NOTA_CN\" FLOAT,\n",
    "\t\"NU_NOTA_CH\" FLOAT,\n",
    "\t\"NU_NOTA_LC\" FLOAT,\n",
    "\t\"NU_NOTA_MT\" FLOAT,\n",
    "\t\"TX_RESPOSTAS_CN\" VARCHAR(45),\n",
    "\t\"TX_RESPOSTAS_CH\" VARCHAR(45),\n",
    "\t\"TX_RESPOSTAS_LC\" VARCHAR(45),\n",
    "\t\"TX_RESPOSTAS_MT\" VARCHAR(45),\n",
    "\t\"TP_LINGUA\" INTEGER,\n",
    "\t\"TX_GABARITO_CN\" VARCHAR(45),\n",
    "\t\"TX_GABARITO_CH\" VARCHAR(45),\n",
    "\t\"TX_GABARITO_LC\" VARCHAR(50),\n",
    "\t\"TX_GABARITO_MT\" VARCHAR(45),\n",
    "\t\"TP_STATUS_REDACAO\" INTEGER,\n",
    "\t\"NU_NOTA_COMP1\" INTEGER,\n",
    "\t\"NU_NOTA_COMP2\" INTEGER,\n",
    "\t\"NU_NOTA_COMP3\" INTEGER,\n",
    "\t\"NU_NOTA_COMP4\" INTEGER,\n",
    "\t\"NU_NOTA_COMP5\" INTEGER,\n",
    "\t\"NU_NOTA_REDACAO\" INTEGER,\n",
    "\t\"Q001\" VARCHAR(1),\n",
    "\t\"Q002\" VARCHAR(1),\n",
    "\t\"Q003\" VARCHAR(1),\n",
    "\t\"Q004\" VARCHAR(1),\n",
    "\t\"Q005\" INTEGER,\n",
    "\t\"Q006\" VARCHAR(1),\n",
    "\t\"Q007\" VARCHAR(1),\n",
    "\t\"Q008\" VARCHAR(1),\n",
    "\t\"Q009\" VARCHAR(1),\n",
    "\t\"Q010\" VARCHAR(1),\n",
    "\t\"Q011\" VARCHAR(1),\n",
    "\t\"Q012\" VARCHAR(1),\n",
    "\t\"Q013\" VARCHAR(1),\n",
    "\t\"Q014\" VARCHAR(1),\n",
    "\t\"Q015\" VARCHAR(1),\n",
    "\t\"Q016\" VARCHAR(1),\n",
    "\t\"Q017\" VARCHAR(1),\n",
    "\t\"Q018\" VARCHAR(1),\n",
    "\t\"Q019\" VARCHAR(1),\n",
    "\t\"Q020\" VARCHAR(1),\n",
    "\t\"Q021\" VARCHAR(1),\n",
    "\t\"Q022\" VARCHAR(1),\n",
    "\t\"Q023\" VARCHAR(1),\n",
    "\t\"Q024\" VARCHAR(1),\n",
    "\t\"Q025\" VARCHAR(1)\n",
    ");\n",
    "'''\n",
    "\n",
    "hab_estudo_creation_query = '''\n",
    "CREATE TABLE projeto_enem.hab_estudo (\n",
    "\t\"ID\" INTEGER GENERATED ALWAYS AS IDENTITY PRIMARY KEY,\n",
    "\t\"NU_INSCRICAO\" BIGINT,\n",
    "\t\"TP_RESPOSTA\" INTEGER,\n",
    "\t\"Q001\" VARCHAR(1),\n",
    "\t\"Q002\" VARCHAR(1),\n",
    "\t\"Q003\" VARCHAR(1),\n",
    "\t\"Q004\" VARCHAR(1),\n",
    "\t\"Q005\" VARCHAR(1),\n",
    "\t\"Q006\" VARCHAR(1),\n",
    "\t\"Q007\" VARCHAR(1),\n",
    "\t\"Q008\" VARCHAR(1),\n",
    "\t\"Q009\" VARCHAR(1),\n",
    "\t\"Q010\" VARCHAR(1),\n",
    "\t\"Q011\" VARCHAR(1),\n",
    "\t\"Q012\" VARCHAR(1),\n",
    "\t\"Q013\" VARCHAR(1),\n",
    "\t\"Q014\" VARCHAR(1),\n",
    "\t\"Q015\" VARCHAR(1),\n",
    "\t\"Q016\" VARCHAR(1),\n",
    "\t\"Q017\" VARCHAR(1),\n",
    "\t\"Q018\" VARCHAR(1),\n",
    "\t\"Q019\" VARCHAR(1),\n",
    "\t\"Q020\" VARCHAR(1),\n",
    "\t\"Q021\" VARCHAR(1),\n",
    "\t\"Q022\" VARCHAR(1),\n",
    "\t\"Q023\" VARCHAR(1),\n",
    "\t\"Q024\" VARCHAR(1),\n",
    "\t\"Q025A\" VARCHAR(1),\n",
    "\t\"Q025B\" VARCHAR(1),\n",
    "\t\"Q025C\" VARCHAR(1),\n",
    "\t\"Q025D\" VARCHAR(1),\n",
    "\t\"Q025E\" VARCHAR(1),\n",
    "\t\"Q025F\" VARCHAR(1),\n",
    "\t\"Q026A\" VARCHAR(1),\n",
    "\t\"Q026B\" VARCHAR(1),\n",
    "\t\"Q026C\" VARCHAR(1),\n",
    "\t\"Q026D\" VARCHAR(1),\n",
    "\t\"Q026E\" VARCHAR(1),\n",
    "\t\"Q026F\" VARCHAR(1),\n",
    "\t\"Q026G\" VARCHAR(1),\n",
    "\t\"Q026H\" VARCHAR(1),\n",
    "\t\"Q027\" VARCHAR(1),\n",
    "\t\"Q028A\" VARCHAR(1),\n",
    "\t\"Q028B\" VARCHAR(1),\n",
    "\t\"Q028C\" VARCHAR(1),\n",
    "\t\"Q028D\" VARCHAR(1),\n",
    "\t\"Q028E\" VARCHAR(1),\n",
    "\t\"Q028F\" VARCHAR(1),\n",
    "\t\"Q028G\" VARCHAR(1),\n",
    "\t\"Q028H\" VARCHAR(1),\n",
    "\t\"Q028I\" VARCHAR(1),\n",
    "\t\"Q028J\" VARCHAR(1),\n",
    "\t\"Q028K\" VARCHAR(1),\n",
    "\t\"Q028L\" VARCHAR(1),\n",
    "\t\"Q028M\" VARCHAR(1),\n",
    "\t\"Q028N\" VARCHAR(1),\n",
    "\t\"Q028O\" VARCHAR(1),\n",
    "\t\"Q028P\" VARCHAR(1),\n",
    "\t\"Q028Q\" VARCHAR(1),\n",
    "\t\"Q028R\" VARCHAR(1),\n",
    "\t\"Q029\" VARCHAR(1),\n",
    "\t\"Q030A\" VARCHAR(1),\n",
    "\t\"Q030B\" VARCHAR(1),\n",
    "\t\"Q030C\" VARCHAR(1),\n",
    "\t\"Q030D\" VARCHAR(1),\n",
    "\t\"Q030E\" VARCHAR(1),\n",
    "\t\"Q030F\" VARCHAR(1),\n",
    "\t\"Q030G\" VARCHAR(1),\n",
    "\t\"Q031\" VARCHAR(1),\n",
    "\t\"Q032A\" VARCHAR(1),\n",
    "\t\"Q032B\" VARCHAR(1),\n",
    "\t\"Q032C\" VARCHAR(1),\n",
    "\t\"Q032D\" VARCHAR(1),\n",
    "\t\"Q032E\" VARCHAR(1),\n",
    "\t\"Q032F\" VARCHAR(1),\n",
    "\t\"Q032G\" VARCHAR(1),\n",
    "\t\"Q033A\" VARCHAR(1),\n",
    "\t\"Q033B\" VARCHAR(1),\n",
    "\t\"Q033C\" VARCHAR(1),\n",
    "\t\"Q033D\" VARCHAR(1),\n",
    "\t\"Q033E\" VARCHAR(1),\n",
    "\t\"Q033F\" VARCHAR(1),\n",
    "\t\"Q033G\" VARCHAR(1),\n",
    "\t\"Q033H\" VARCHAR(1),\n",
    "\t\"Q033I\" VARCHAR(1),\n",
    "\t\"Q033J\" VARCHAR(1),\n",
    "\t\"Q034\" VARCHAR(1)\n",
    ");\n",
    "'''\n",
    "\n",
    "\n",
    "with db_connection() as conn, conn.cursor() as cursor:\n",
    "    cursor.execute(microdados_creation_query)\n",
    "    cursor.execute(hab_estudo_creation_query)\n",
    "    conn.commit()"
   ]
  },
  {
   "attachments": {},
   "cell_type": "markdown",
   "metadata": {},
   "source": [
    "#### Populando tabelas"
   ]
  },
  {
   "cell_type": "code",
   "execution_count": null,
   "metadata": {},
   "outputs": [],
   "source": [
    "microdados_csv_query = '''\n",
    "COPY projeto_enem.microdados(\"NU_INSCRICAO\", \"NU_ANO\", \"TP_FAIXA_ETARIA\", \"TP_SEXO\", \"TP_ESTADO_CIVIL\", \"TP_COR_RACA\", \"TP_NACIONALIDADE\", \"TP_ST_CONCLUSAO\", \"TP_ANO_CONCLUIU\", \"TP_ESCOLA\", \"TP_ENSINO\", \"IN_TREINEIRO\", \"CO_MUNICIPIO_ESC\", \"NO_MUNICIPIO_ESC\", \"CO_UF_ESC\", \"SG_UF_ESC\", \"TP_DEPENDENCIA_ADM_ESC\", \"TP_LOCALIZACAO_ESC\", \"TP_SIT_FUNC_ESC\", \"CO_MUNICIPIO_PROVA\", \"NO_MUNICIPIO_PROVA\", \"CO_UF_PROVA\", \"SG_UF_PROVA\", \"TP_PRESENCA_CN\", \"TP_PRESENCA_CH\", \"TP_PRESENCA_LC\", \"TP_PRESENCA_MT\", \"CO_PROVA_CN\", \"CO_PROVA_CH\", \"CO_PROVA_LC\", \"CO_PROVA_MT\", \"NU_NOTA_CN\", \"NU_NOTA_CH\", \"NU_NOTA_LC\", \"NU_NOTA_MT\", \"TX_RESPOSTAS_CN\", \"TX_RESPOSTAS_CH\", \"TX_RESPOSTAS_LC\", \"TX_RESPOSTAS_MT\", \"TP_LINGUA\", \"TX_GABARITO_CN\", \"TX_GABARITO_CH\", \"TX_GABARITO_LC\", \"TX_GABARITO_MT\", \"TP_STATUS_REDACAO\", \"NU_NOTA_COMP1\", \"NU_NOTA_COMP2\", \"NU_NOTA_COMP3\", \"NU_NOTA_COMP4\", \"NU_NOTA_COMP5\", \"NU_NOTA_REDACAO\", \"Q001\", \"Q002\", \"Q003\", \"Q004\", \"Q005\", \"Q006\", \"Q007\", \"Q008\", \"Q009\", \"Q010\", \"Q011\", \"Q012\", \"Q013\", \"Q014\", \"Q015\", \"Q016\", \"Q017\", \"Q018\", \"Q019\", \"Q020\", \"Q021\", \"Q022\", \"Q023\", \"Q024\", \"Q025\")\n",
    "FROM STDIN\n",
    "WITH (DELIMITER ';',\n",
    "ENCODING 'latin1',\n",
    "FORMAT CSV,\n",
    "HEADER);\n",
    "'''\n",
    "\n",
    "hab_estudo_csv_query = '''\n",
    "COPY projeto_enem.hab_estudo(\"NU_INSCRICAO\", \"TP_RESPOSTA\", \"Q001\", \"Q002\", \"Q003\", \"Q004\", \"Q005\", \"Q006\", \"Q007\", \"Q008\", \"Q009\", \"Q010\", \"Q011\", \"Q012\", \"Q013\", \"Q014\", \"Q015\", \"Q016\", \"Q017\", \"Q018\", \"Q019\", \"Q020\", \"Q021\", \"Q022\", \"Q023\", \"Q024\", \"Q025A\", \"Q025B\", \"Q025C\", \"Q025D\", \"Q025E\", \"Q025F\", \"Q026A\", \"Q026B\", \"Q026C\", \"Q026D\", \"Q026E\", \"Q026F\", \"Q026G\", \"Q026H\", \"Q027\", \"Q028A\", \"Q028B\", \"Q028C\", \"Q028D\", \"Q028E\", \"Q028F\", \"Q028G\", \"Q028H\", \"Q028I\", \"Q028J\", \"Q028K\", \"Q028L\", \"Q028M\", \"Q028N\", \"Q028O\", \"Q028P\", \"Q028Q\", \"Q028R\", \"Q029\", \"Q030A\", \"Q030B\", \"Q030C\", \"Q030D\", \"Q030E\", \"Q030F\", \"Q030G\", \"Q031\", \"Q032A\", \"Q032B\", \"Q032C\", \"Q032D\", \"Q032E\", \"Q032F\", \"Q032G\", \"Q033A\", \"Q033B\", \"Q033C\", \"Q033D\", \"Q033E\", \"Q033F\", \"Q033G\", \"Q033H\", \"Q033I\", \"Q033J\", \"Q034\")\n",
    "FROM STDIN\n",
    "WITH (DELIMITER ';',\n",
    "ENCODING 'latin1',\n",
    "FORMAT CSV,\n",
    "HEADER);\n",
    "'''\n",
    "\n",
    "\n",
    "with db_connection() as conn, conn.cursor() as cursor:\n",
    "    with open('../microdados_enem_2022/DADOS/MICRODADOS_ENEM_2022.csv', encoding='latin1') as microdados_file:\n",
    "        with open('../microdados_enem_2022/DADOS/QUEST_HAB_ESTUDO.csv', encoding='latin1') as hab_estudo_file:\n",
    "            cursor.copy_expert(microdados_csv_query, microdados_file)\n",
    "            cursor.copy_expert(hab_estudo_csv_query, hab_estudo_file)\n",
    "            conn.commit()"
   ]
  },
  {
   "attachments": {},
   "cell_type": "markdown",
   "metadata": {},
   "source": [
    "### **REQ#01: Função para unir as duas tabelas**"
   ]
  },
  {
   "cell_type": "code",
   "execution_count": null,
   "metadata": {},
   "outputs": [],
   "source": [
    "with db_connection() as conn, conn.cursor() as cursor:\n",
    "    query_columns = 'projeto_enem.microdados.\"NU_INSCRICAO\" as \"NU_INSCRICAO\",  projeto_enem.microdados.\"NU_ANO\" AS \"MICRODADOS_NU_ANO\",  projeto_enem.microdados.\"TP_FAIXA_ETARIA\" AS \"MICRODADOS_TP_FAIXA_ETARIA\",  projeto_enem.microdados.\"TP_SEXO\" AS \"MICRODADOS_TP_SEXO\",  projeto_enem.microdados.\"TP_ESTADO_CIVIL\" AS \"MICRODADOS_TP_ESTADO_CIVIL\",  projeto_enem.microdados.\"TP_COR_RACA\" AS \"MICRODADOS_TP_COR_RACA\",  projeto_enem.microdados.\"TP_NACIONALIDADE\" AS \"MICRODADOS_TP_NACIONALIDADE\",  projeto_enem.microdados.\"TP_ST_CONCLUSAO\" AS \"MICRODADOS_TP_ST_CONCLUSAO\",  projeto_enem.microdados.\"TP_ANO_CONCLUIU\" AS \"MICRODADOS_TP_ANO_CONCLUIU\",  projeto_enem.microdados.\"TP_ESCOLA\" AS \"MICRODADOS_TP_ESCOLA\",  projeto_enem.microdados.\"TP_ENSINO\" AS \"MICRODADOS_TP_ENSINO\",  projeto_enem.microdados.\"IN_TREINEIRO\" AS \"MICRODADOS_IN_TREINEIRO\",  projeto_enem.microdados.\"CO_MUNICIPIO_ESC\" AS \"MICRODADOS_CO_MUNICIPIO_ESC\",  projeto_enem.microdados.\"NO_MUNICIPIO_ESC\" AS \"MICRODADOS_NO_MUNICIPIO_ESC\",  projeto_enem.microdados.\"CO_UF_ESC\" AS \"MICRODADOS_CO_UF_ESC\",  projeto_enem.microdados.\"SG_UF_ESC\" AS \"MICRODADOS_SG_UF_ESC\",  projeto_enem.microdados.\"TP_DEPENDENCIA_ADM_ESC\" AS \"MICRODADOS_TP_DEPENDENCIA_ADM_ESC\",  projeto_enem.microdados.\"TP_LOCALIZACAO_ESC\" AS \"MICRODADOS_TP_LOCALIZACAO_ESC\",  projeto_enem.microdados.\"TP_SIT_FUNC_ESC\" AS \"MICRODADOS_TP_SIT_FUNC_ESC\",  projeto_enem.microdados.\"CO_MUNICIPIO_PROVA\" AS \"MICRODADOS_CO_MUNICIPIO_PROVA\",  projeto_enem.microdados.\"NO_MUNICIPIO_PROVA\" AS \"MICRODADOS_NO_MUNICIPIO_PROVA\",  projeto_enem.microdados.\"CO_UF_PROVA\" AS \"MICRODADOS_CO_UF_PROVA\",  projeto_enem.microdados.\"SG_UF_PROVA\" AS \"MICRODADOS_SG_UF_PROVA\",  projeto_enem.microdados.\"TP_PRESENCA_CN\" AS \"MICRODADOS_TP_PRESENCA_CN\",  projeto_enem.microdados.\"TP_PRESENCA_CH\" AS \"MICRODADOS_TP_PRESENCA_CH\",  projeto_enem.microdados.\"TP_PRESENCA_LC\" AS \"MICRODADOS_TP_PRESENCA_LC\",  projeto_enem.microdados.\"TP_PRESENCA_MT\" AS \"MICRODADOS_TP_PRESENCA_MT\",  projeto_enem.microdados.\"CO_PROVA_CN\" AS \"MICRODADOS_CO_PROVA_CN\",  projeto_enem.microdados.\"CO_PROVA_CH\" AS \"MICRODADOS_CO_PROVA_CH\",  projeto_enem.microdados.\"CO_PROVA_LC\" AS \"MICRODADOS_CO_PROVA_LC\",  projeto_enem.microdados.\"CO_PROVA_MT\" AS \"MICRODADOS_CO_PROVA_MT\",  projeto_enem.microdados.\"NU_NOTA_CN\" AS \"MICRODADOS_NU_NOTA_CN\",  projeto_enem.microdados.\"NU_NOTA_CH\" AS \"MICRODADOS_NU_NOTA_CH\",  projeto_enem.microdados.\"NU_NOTA_LC\" AS \"MICRODADOS_NU_NOTA_LC\",  projeto_enem.microdados.\"NU_NOTA_MT\" AS \"MICRODADOS_NU_NOTA_MT\",  projeto_enem.microdados.\"TX_RESPOSTAS_CN\" AS \"MICRODADOS_TX_RESPOSTAS_CN\",  projeto_enem.microdados.\"TX_RESPOSTAS_CH\" AS \"MICRODADOS_TX_RESPOSTAS_CH\",  projeto_enem.microdados.\"TX_RESPOSTAS_LC\" AS \"MICRODADOS_TX_RESPOSTAS_LC\",  projeto_enem.microdados.\"TX_RESPOSTAS_MT\" AS \"MICRODADOS_TX_RESPOSTAS_MT\",  projeto_enem.microdados.\"TP_LINGUA\" AS \"MICRODADOS_TP_LINGUA\",  projeto_enem.microdados.\"TX_GABARITO_CN\" AS \"MICRODADOS_TX_GABARITO_CN\",  projeto_enem.microdados.\"TX_GABARITO_CH\" AS \"MICRODADOS_TX_GABARITO_CH\",  projeto_enem.microdados.\"TX_GABARITO_LC\" AS \"MICRODADOS_TX_GABARITO_LC\",  projeto_enem.microdados.\"TX_GABARITO_MT\" AS \"MICRODADOS_TX_GABARITO_MT\",  projeto_enem.microdados.\"TP_STATUS_REDACAO\" AS \"MICRODADOS_TP_STATUS_REDACAO\",  projeto_enem.microdados.\"NU_NOTA_COMP1\" AS \"MICRODADOS_NU_NOTA_COMP1\",  projeto_enem.microdados.\"NU_NOTA_COMP2\" AS \"MICRODADOS_NU_NOTA_COMP2\",  projeto_enem.microdados.\"NU_NOTA_COMP3\" AS \"MICRODADOS_NU_NOTA_COMP3\",  projeto_enem.microdados.\"NU_NOTA_COMP4\" AS \"MICRODADOS_NU_NOTA_COMP4\",  projeto_enem.microdados.\"NU_NOTA_COMP5\" AS \"MICRODADOS_NU_NOTA_COMP5\",  projeto_enem.microdados.\"NU_NOTA_REDACAO\" AS \"MICRODADOS_NU_NOTA_REDACAO\",  projeto_enem.microdados.\"Q001\" AS \"MICRODADOS_Q001\",  projeto_enem.microdados.\"Q002\" AS \"MICRODADOS_Q002\",  projeto_enem.microdados.\"Q003\" AS \"MICRODADOS_Q003\",  projeto_enem.microdados.\"Q004\" AS \"MICRODADOS_Q004\",  projeto_enem.microdados.\"Q005\" AS \"MICRODADOS_Q005\",  projeto_enem.microdados.\"Q006\" AS \"MICRODADOS_Q006\",  projeto_enem.microdados.\"Q007\" AS \"MICRODADOS_Q007\",  projeto_enem.microdados.\"Q008\" AS \"MICRODADOS_Q008\",  projeto_enem.microdados.\"Q009\" AS \"MICRODADOS_Q009\",  projeto_enem.microdados.\"Q010\" AS \"MICRODADOS_Q010\",  projeto_enem.microdados.\"Q011\" AS \"MICRODADOS_Q011\",  projeto_enem.microdados.\"Q012\" AS \"MICRODADOS_Q012\",  projeto_enem.microdados.\"Q013\" AS \"MICRODADOS_Q013\",  projeto_enem.microdados.\"Q014\" AS \"MICRODADOS_Q014\",  projeto_enem.microdados.\"Q015\" AS \"MICRODADOS_Q015\",  projeto_enem.microdados.\"Q016\" AS \"MICRODADOS_Q016\",  projeto_enem.microdados.\"Q017\" AS \"MICRODADOS_Q017\",  projeto_enem.microdados.\"Q018\" AS \"MICRODADOS_Q018\",  projeto_enem.microdados.\"Q019\" AS \"MICRODADOS_Q019\",  projeto_enem.microdados.\"Q020\" AS \"MICRODADOS_Q020\",  projeto_enem.microdados.\"Q021\" AS \"MICRODADOS_Q021\",  projeto_enem.microdados.\"Q022\" AS \"MICRODADOS_Q022\",  projeto_enem.microdados.\"Q023\" AS \"MICRODADOS_Q023\",  projeto_enem.microdados.\"Q024\" AS \"MICRODADOS_Q024\",  projeto_enem.microdados.\"Q025\" AS \"MICRODADOS_Q025\",  projeto_enem.hab_estudo.\"TP_RESPOSTA\" AS \"HABESTUDO_TP_RESPOSTA\",  projeto_enem.hab_estudo.\"Q001\" AS \"HABESTUDO_Q001\",  projeto_enem.hab_estudo.\"Q002\" AS \"HABESTUDO_Q002\",  projeto_enem.hab_estudo.\"Q003\" AS \"HABESTUDO_Q003\",  projeto_enem.hab_estudo.\"Q004\" AS \"HABESTUDO_Q004\",  projeto_enem.hab_estudo.\"Q005\" AS \"HABESTUDO_Q005\",  projeto_enem.hab_estudo.\"Q006\" AS \"HABESTUDO_Q006\",  projeto_enem.hab_estudo.\"Q007\" AS \"HABESTUDO_Q007\",  projeto_enem.hab_estudo.\"Q008\" AS \"HABESTUDO_Q008\",  projeto_enem.hab_estudo.\"Q009\" AS \"HABESTUDO_Q009\",  projeto_enem.hab_estudo.\"Q010\" AS \"HABESTUDO_Q010\",  projeto_enem.hab_estudo.\"Q011\" AS \"HABESTUDO_Q011\",  projeto_enem.hab_estudo.\"Q012\" AS \"HABESTUDO_Q012\",  projeto_enem.hab_estudo.\"Q013\" AS \"HABESTUDO_Q013\",  projeto_enem.hab_estudo.\"Q014\" AS \"HABESTUDO_Q014\",  projeto_enem.hab_estudo.\"Q015\" AS \"HABESTUDO_Q015\",  projeto_enem.hab_estudo.\"Q016\" AS \"HABESTUDO_Q016\",  projeto_enem.hab_estudo.\"Q017\" AS \"HABESTUDO_Q017\",  projeto_enem.hab_estudo.\"Q018\" AS \"HABESTUDO_Q018\",  projeto_enem.hab_estudo.\"Q019\" AS \"HABESTUDO_Q019\",  projeto_enem.hab_estudo.\"Q020\" AS \"HABESTUDO_Q020\",  projeto_enem.hab_estudo.\"Q021\" AS \"HABESTUDO_Q021\",  projeto_enem.hab_estudo.\"Q022\" AS \"HABESTUDO_Q022\",  projeto_enem.hab_estudo.\"Q023\" AS \"HABESTUDO_Q023\",  projeto_enem.hab_estudo.\"Q024\" AS \"HABESTUDO_Q024\",  projeto_enem.hab_estudo.\"Q025A\" AS \"HABESTUDO_Q025A\",  projeto_enem.hab_estudo.\"Q025B\" AS \"HABESTUDO_Q025B\",  projeto_enem.hab_estudo.\"Q025C\" AS \"HABESTUDO_Q025C\",  projeto_enem.hab_estudo.\"Q025D\" AS \"HABESTUDO_Q025D\",  projeto_enem.hab_estudo.\"Q025E\" AS \"HABESTUDO_Q025E\",  projeto_enem.hab_estudo.\"Q025F\" AS \"HABESTUDO_Q025F\",  projeto_enem.hab_estudo.\"Q026A\" AS \"HABESTUDO_Q026A\",  projeto_enem.hab_estudo.\"Q026B\" AS \"HABESTUDO_Q026B\",  projeto_enem.hab_estudo.\"Q026C\" AS \"HABESTUDO_Q026C\",  projeto_enem.hab_estudo.\"Q026D\" AS \"HABESTUDO_Q026D\",  projeto_enem.hab_estudo.\"Q026E\" AS \"HABESTUDO_Q026E\",  projeto_enem.hab_estudo.\"Q026F\" AS \"HABESTUDO_Q026F\",  projeto_enem.hab_estudo.\"Q026G\" AS \"HABESTUDO_Q026G\",  projeto_enem.hab_estudo.\"Q026H\" AS \"HABESTUDO_Q026H\",  projeto_enem.hab_estudo.\"Q027\" AS \"HABESTUDO_Q027\",  projeto_enem.hab_estudo.\"Q028A\" AS \"HABESTUDO_Q028A\",  projeto_enem.hab_estudo.\"Q028B\" AS \"HABESTUDO_Q028B\",  projeto_enem.hab_estudo.\"Q028C\" AS \"HABESTUDO_Q028C\",  projeto_enem.hab_estudo.\"Q028D\" AS \"HABESTUDO_Q028D\",  projeto_enem.hab_estudo.\"Q028E\" AS \"HABESTUDO_Q028E\",  projeto_enem.hab_estudo.\"Q028F\" AS \"HABESTUDO_Q028F\",  projeto_enem.hab_estudo.\"Q028G\" AS \"HABESTUDO_Q028G\",  projeto_enem.hab_estudo.\"Q028H\" AS \"HABESTUDO_Q028H\",  projeto_enem.hab_estudo.\"Q028I\" AS \"HABESTUDO_Q028I\",  projeto_enem.hab_estudo.\"Q028J\" AS \"HABESTUDO_Q028J\",  projeto_enem.hab_estudo.\"Q028K\" AS \"HABESTUDO_Q028K\",  projeto_enem.hab_estudo.\"Q028L\" AS \"HABESTUDO_Q028L\",  projeto_enem.hab_estudo.\"Q028M\" AS \"HABESTUDO_Q028M\",  projeto_enem.hab_estudo.\"Q028N\" AS \"HABESTUDO_Q028N\",  projeto_enem.hab_estudo.\"Q028O\" AS \"HABESTUDO_Q028O\",  projeto_enem.hab_estudo.\"Q028P\" AS \"HABESTUDO_Q028P\",  projeto_enem.hab_estudo.\"Q028Q\" AS \"HABESTUDO_Q028Q\",  projeto_enem.hab_estudo.\"Q028R\" AS \"HABESTUDO_Q028R\",  projeto_enem.hab_estudo.\"Q029\" AS \"HABESTUDO_Q029\",  projeto_enem.hab_estudo.\"Q030A\" AS \"HABESTUDO_Q030A\",  projeto_enem.hab_estudo.\"Q030B\" AS \"HABESTUDO_Q030B\",  projeto_enem.hab_estudo.\"Q030C\" AS \"HABESTUDO_Q030C\",  projeto_enem.hab_estudo.\"Q030D\" AS \"HABESTUDO_Q030D\",  projeto_enem.hab_estudo.\"Q030E\" AS \"HABESTUDO_Q030E\",  projeto_enem.hab_estudo.\"Q030F\" AS \"HABESTUDO_Q030F\",  projeto_enem.hab_estudo.\"Q030G\" AS \"HABESTUDO_Q030G\",  projeto_enem.hab_estudo.\"Q031\" AS \"HABESTUDO_Q031\",  projeto_enem.hab_estudo.\"Q032A\" AS \"HABESTUDO_Q032A\",  projeto_enem.hab_estudo.\"Q032B\" AS \"HABESTUDO_Q032B\",  projeto_enem.hab_estudo.\"Q032C\" AS \"HABESTUDO_Q032C\",  projeto_enem.hab_estudo.\"Q032D\" AS \"HABESTUDO_Q032D\",  projeto_enem.hab_estudo.\"Q032E\" AS \"HABESTUDO_Q032E\",  projeto_enem.hab_estudo.\"Q032F\" AS \"HABESTUDO_Q032F\",  projeto_enem.hab_estudo.\"Q032G\" AS \"HABESTUDO_Q032G\",  projeto_enem.hab_estudo.\"Q033A\" AS \"HABESTUDO_Q033A\",  projeto_enem.hab_estudo.\"Q033B\" AS \"HABESTUDO_Q033B\",  projeto_enem.hab_estudo.\"Q033C\" AS \"HABESTUDO_Q033C\",  projeto_enem.hab_estudo.\"Q033D\" AS \"HABESTUDO_Q033D\",  projeto_enem.hab_estudo.\"Q033E\" AS \"HABESTUDO_Q033E\",  projeto_enem.hab_estudo.\"Q033F\" AS \"HABESTUDO_Q033F\",  projeto_enem.hab_estudo.\"Q033G\" AS \"HABESTUDO_Q033G\",  projeto_enem.hab_estudo.\"Q033H\" AS \"HABESTUDO_Q033H\",  projeto_enem.hab_estudo.\"Q033I\" AS \"HABESTUDO_Q033I\",  projeto_enem.hab_estudo.\"Q033J\" AS \"HABESTUDO_Q033J\",  projeto_enem.hab_estudo.\"Q034\" AS \"HABESTUDO_Q034\"'\n",
    "\n",
    "    query = f'''\n",
    "        CREATE TABLE projeto_enem.aggregated_data\n",
    "        AS\n",
    "        SELECT {query_columns}\n",
    "        FROM projeto_enem.microdados\n",
    "        FULL JOIN projeto_enem.hab_estudo ON projeto_enem.microdados.\"NU_INSCRICAO\" = projeto_enem.hab_estudo.\"NU_INSCRICAO\";\n",
    "    '''\n",
    "\n",
    "    cursor.execute(query)\n",
    "    conn.commit()"
   ]
  },
  {
   "cell_type": "code",
   "execution_count": null,
   "metadata": {},
   "outputs": [],
   "source": [
    "with db_connection() as conn, conn.cursor() as cursor:\n",
    "    query = '''\n",
    "        SELECT *\n",
    "        FROM projeto_enem.aggregated_data;\n",
    "    '''\n",
    "    \n",
    "    cursor.execute(query)\n",
    "    data = cursor.fetchall()\n",
    "    columns = [desc[0] for desc in cursor.description]"
   ]
  },
  {
   "cell_type": "code",
   "execution_count": null,
   "metadata": {},
   "outputs": [],
   "source": [
    "aggregated_data = pd.DataFrame(data, columns=columns)\n",
    "aggregated_data"
   ]
  },
  {
   "attachments": {},
   "cell_type": "markdown",
   "metadata": {},
   "source": [
    "### **REQ#07: Questões**"
   ]
  },
  {
   "attachments": {},
   "cell_type": "markdown",
   "metadata": {},
   "source": [
    "#### **Questão 1: xxxxx**"
   ]
  },
  {
   "cell_type": "code",
   "execution_count": null,
   "metadata": {},
   "outputs": [],
   "source": []
  },
  {
   "attachments": {},
   "cell_type": "markdown",
   "metadata": {},
   "source": [
    "#### **Questão 2: xxxxx**"
   ]
  },
  {
   "cell_type": "code",
   "execution_count": null,
   "metadata": {},
   "outputs": [],
   "source": []
  },
  {
   "attachments": {},
   "cell_type": "markdown",
   "metadata": {},
   "source": [
    "#### **Questão 3: xxxxx**"
   ]
  },
  {
   "cell_type": "code",
   "execution_count": null,
   "metadata": {},
   "outputs": [],
   "source": []
  },
  {
   "attachments": {},
   "cell_type": "markdown",
   "metadata": {},
   "source": [
    "#### **Questão 4: xxxxx**"
   ]
  },
  {
   "cell_type": "code",
   "execution_count": null,
   "metadata": {},
   "outputs": [],
   "source": []
  },
  {
   "attachments": {},
   "cell_type": "markdown",
   "metadata": {},
   "source": [
    "#### **Questão 5: xxxxx**"
   ]
  },
  {
   "cell_type": "code",
   "execution_count": null,
   "metadata": {},
   "outputs": [],
   "source": []
  },
  {
   "attachments": {},
   "cell_type": "markdown",
   "metadata": {},
   "source": [
    "#### **Questão 6: xxxxx**"
   ]
  },
  {
   "cell_type": "code",
   "execution_count": null,
   "metadata": {},
   "outputs": [],
   "source": []
  },
  {
   "attachments": {},
   "cell_type": "markdown",
   "metadata": {},
   "source": [
    "#### **Questão 7: xxxxx**"
   ]
  },
  {
   "cell_type": "code",
   "execution_count": null,
   "metadata": {},
   "outputs": [],
   "source": []
  },
  {
   "attachments": {},
   "cell_type": "markdown",
   "metadata": {},
   "source": [
    "#### **Questão 8: xxxxx**"
   ]
  },
  {
   "cell_type": "code",
   "execution_count": null,
   "metadata": {},
   "outputs": [],
   "source": []
  },
  {
   "attachments": {},
   "cell_type": "markdown",
   "metadata": {},
   "source": [
    "#### **Questão 9: xxxxx**"
   ]
  },
  {
   "cell_type": "code",
   "execution_count": null,
   "metadata": {},
   "outputs": [],
   "source": []
  },
  {
   "attachments": {},
   "cell_type": "markdown",
   "metadata": {},
   "source": [
    "#### **Questão 10: xxxxx**"
   ]
  },
  {
   "cell_type": "code",
   "execution_count": null,
   "metadata": {},
   "outputs": [],
   "source": []
  }
 ],
 "metadata": {
  "kernelspec": {
   "display_name": "base",
   "language": "python",
   "name": "python3"
  },
  "language_info": {
   "codemirror_mode": {
    "name": "ipython",
    "version": 3
   },
   "file_extension": ".py",
   "mimetype": "text/x-python",
   "name": "python",
   "nbconvert_exporter": "python",
   "pygments_lexer": "ipython3",
   "version": "3.11.3"
  },
  "orig_nbformat": 4
 },
 "nbformat": 4,
 "nbformat_minor": 2
}
