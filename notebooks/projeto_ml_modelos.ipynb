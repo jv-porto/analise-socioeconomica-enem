{
 "cells": [
  {
   "attachments": {},
   "cell_type": "markdown",
   "metadata": {},
   "source": [
    "# **Projeto: Quais fatores mais influenciam no desempenho de um aluno no ENEM e como podemos ajudá-lo a melhorar sua performance?**\n",
    "\n",
    "**Integrantes:** Hellen Cristine Silva Rosa (RA00319076), João Victor Porto (RA00311353), Laura Gabriel Murayama (RA00319321), Maria Eduarda Bonel Iribarnegaray (RA00318891), Vinícius Ferreira de Mendonça (RA00319760), Vitória de Fátima Teixeira (RA00320578)"
   ]
  },
  {
   "attachments": {},
   "cell_type": "markdown",
   "metadata": {},
   "source": [
    "### **Importando bibliotecas e definindo funções importantes**"
   ]
  },
  {
   "cell_type": "code",
   "execution_count": 1,
   "metadata": {},
   "outputs": [
    {
     "name": "stderr",
     "output_type": "stream",
     "text": [
      "Intel(R) Extension for Scikit-learn* enabled (https://github.com/intel/scikit-learn-intelex)\n"
     ]
    }
   ],
   "source": [
    "SEED = 3\n",
    "\n",
    "# loading environment variables\n",
    "from dotenv import load_dotenv\n",
    "load_dotenv()\n",
    "\n",
    "# accelerating sklearn\n",
    "from sklearnex import patch_sklearn\n",
    "patch_sklearn()\n",
    "\n",
    "# importing libraries\n",
    "import os\n",
    "import re\n",
    "import psycopg2\n",
    "import pandas as pd\n",
    "import numpy as np\n",
    "import joblib\n",
    "import skops.io as sio\n",
    "import matplotlib.pyplot as plt\n",
    "import seaborn as sns\n",
    "\n",
    "# importing sklearn functions\n",
    "from sklearn.compose import ColumnTransformer\n",
    "from sklearn.pipeline import Pipeline\n",
    "from sklearn.preprocessing import OneHotEncoder, OrdinalEncoder, MinMaxScaler, StandardScaler\n",
    "from sklearn.model_selection import train_test_split\n",
    "from sklearn.model_selection import cross_val_score\n",
    "from sklearn.metrics import mean_squared_error, mean_absolute_error, accuracy_score, f1_score, precision_recall_fscore_support, confusion_matrix, ConfusionMatrixDisplay\n",
    "from sklearn.dummy import DummyClassifier\n",
    "from sklearn.svm import SVC\n",
    "from sklearn.ensemble import AdaBoostClassifier, RandomForestClassifier, RandomForestRegressor\n",
    "from sklearn.neighbors import KNeighborsClassifier, KNeighborsRegressor\n",
    "from sklearn.tree import DecisionTreeClassifier, DecisionTreeRegressor\n",
    "from sklearn.linear_model import LogisticRegression\n",
    "from sklearn.model_selection import GridSearchCV, RandomizedSearchCV, KFold"
   ]
  },
  {
   "cell_type": "code",
   "execution_count": 2,
   "metadata": {},
   "outputs": [],
   "source": [
    "# establishing connection with DB\n",
    "class db_connection():\n",
    "    '''\n",
    "    Instantiates a connection with the database.\n",
    "    '''\n",
    "    def __init__(self):\n",
    "        self.DB_URI = os.environ.get('DB_URI')\n",
    "         \n",
    "    def __enter__(self):\n",
    "        self.connection = psycopg2.connect(self.DB_URI)\n",
    "        return self.connection\n",
    "    \n",
    "    def __exit__(self, *args):\n",
    "        self.connection.close()"
   ]
  },
  {
   "attachments": {},
   "cell_type": "markdown",
   "metadata": {},
   "source": [
    "### **REQ#03-11: Treinamento de modelos**\n",
    "\n",
    "Todos os modelos serão testados com 30% dos dados. A avaliação será feita a partir das métricas acurácia, precision, recall, F1 e matriz de confusão. Eles serão persistidos."
   ]
  },
  {
   "cell_type": "code",
   "execution_count": 5,
   "metadata": {},
   "outputs": [
    {
     "ename": "OperationalError",
     "evalue": "connection to server at \"localhost\" (::1), port 5432 failed: fe_sendauth: no password supplied\n",
     "output_type": "error",
     "traceback": [
      "\u001b[1;31m---------------------------------------------------------------------------\u001b[0m",
      "\u001b[1;31mOperationalError\u001b[0m                          Traceback (most recent call last)",
      "Cell \u001b[1;32mIn[5], line 1\u001b[0m\n\u001b[1;32m----> 1\u001b[0m \u001b[39mwith\u001b[39;00m db_connection() \u001b[39mas\u001b[39;00m conn, conn\u001b[39m.\u001b[39mcursor() \u001b[39mas\u001b[39;00m cursor:\n\u001b[0;32m      2\u001b[0m     query \u001b[39m=\u001b[39m \u001b[39m'''\u001b[39m\n\u001b[0;32m      3\u001b[0m \u001b[39m    SELECT *\u001b[39m\n\u001b[0;32m      4\u001b[0m \u001b[39m    FROM projeto_enem.filtered_aggregated_data\u001b[39m\n\u001b[0;32m      5\u001b[0m \u001b[39m    ORDER BY \u001b[39m\u001b[39m\"\u001b[39m\u001b[39mNU_INSCRICAO\u001b[39m\u001b[39m\"\u001b[39m\u001b[39m ASC;\u001b[39m\n\u001b[0;32m      6\u001b[0m \u001b[39m    \u001b[39m\u001b[39m'''\u001b[39m\n\u001b[0;32m      8\u001b[0m     cursor\u001b[39m.\u001b[39mexecute(query)\n",
      "Cell \u001b[1;32mIn[2], line 10\u001b[0m, in \u001b[0;36mdb_connection.__enter__\u001b[1;34m(self)\u001b[0m\n\u001b[0;32m      9\u001b[0m \u001b[39mdef\u001b[39;00m \u001b[39m__enter__\u001b[39m(\u001b[39mself\u001b[39m):\n\u001b[1;32m---> 10\u001b[0m     \u001b[39mself\u001b[39m\u001b[39m.\u001b[39mconnection \u001b[39m=\u001b[39m psycopg2\u001b[39m.\u001b[39;49mconnect(\u001b[39mself\u001b[39;49m\u001b[39m.\u001b[39;49mDB_URI)\n\u001b[0;32m     11\u001b[0m     \u001b[39mreturn\u001b[39;00m \u001b[39mself\u001b[39m\u001b[39m.\u001b[39mconnection\n",
      "File \u001b[1;32mc:\\Users\\User\\env\\lib\\site-packages\\psycopg2\\__init__.py:122\u001b[0m, in \u001b[0;36mconnect\u001b[1;34m(dsn, connection_factory, cursor_factory, **kwargs)\u001b[0m\n\u001b[0;32m    119\u001b[0m     kwasync[\u001b[39m'\u001b[39m\u001b[39masync_\u001b[39m\u001b[39m'\u001b[39m] \u001b[39m=\u001b[39m kwargs\u001b[39m.\u001b[39mpop(\u001b[39m'\u001b[39m\u001b[39masync_\u001b[39m\u001b[39m'\u001b[39m)\n\u001b[0;32m    121\u001b[0m dsn \u001b[39m=\u001b[39m _ext\u001b[39m.\u001b[39mmake_dsn(dsn, \u001b[39m*\u001b[39m\u001b[39m*\u001b[39mkwargs)\n\u001b[1;32m--> 122\u001b[0m conn \u001b[39m=\u001b[39m _connect(dsn, connection_factory\u001b[39m=\u001b[39mconnection_factory, \u001b[39m*\u001b[39m\u001b[39m*\u001b[39mkwasync)\n\u001b[0;32m    123\u001b[0m \u001b[39mif\u001b[39;00m cursor_factory \u001b[39mis\u001b[39;00m \u001b[39mnot\u001b[39;00m \u001b[39mNone\u001b[39;00m:\n\u001b[0;32m    124\u001b[0m     conn\u001b[39m.\u001b[39mcursor_factory \u001b[39m=\u001b[39m cursor_factory\n",
      "\u001b[1;31mOperationalError\u001b[0m: connection to server at \"localhost\" (::1), port 5432 failed: fe_sendauth: no password supplied\n"
     ]
    }
   ],
   "source": [
    "with db_connection() as conn, conn.cursor() as cursor:\n",
    "    query = '''\n",
    "    SELECT *\n",
    "    FROM projeto_enem.filtered_aggregated_data\n",
    "    ORDER BY \"NU_INSCRICAO\" ASC;\n",
    "    '''\n",
    "\n",
    "    cursor.execute(query)\n",
    "    complete_data_fetched = cursor.fetchall()\n",
    "    complete_data_columns = tuple(desc[0] for desc in cursor.description)\n",
    "\n",
    "\n",
    "complete_data = pd.DataFrame(complete_data_fetched, columns=complete_data_columns)\n",
    "complete_data"
   ]
  },
  {
   "cell_type": "code",
   "execution_count": 42,
   "metadata": {},
   "outputs": [
    {
     "data": {
      "text/html": [
       "<div>\n",
       "<style scoped>\n",
       "    .dataframe tbody tr th:only-of-type {\n",
       "        vertical-align: middle;\n",
       "    }\n",
       "\n",
       "    .dataframe tbody tr th {\n",
       "        vertical-align: top;\n",
       "    }\n",
       "\n",
       "    .dataframe thead th {\n",
       "        text-align: right;\n",
       "    }\n",
       "</style>\n",
       "<table border=\"1\" class=\"dataframe\">\n",
       "  <thead>\n",
       "    <tr style=\"text-align: right;\">\n",
       "      <th></th>\n",
       "      <th>NU_INSCRICAO</th>\n",
       "      <th>MICRODADOS_TP_FAIXA_ETARIA</th>\n",
       "      <th>MICRODADOS_TP_SEXO</th>\n",
       "      <th>MICRODADOS_TP_COR_RACA</th>\n",
       "      <th>MICRODADOS_TP_ST_CONCLUSAO</th>\n",
       "      <th>MICRODADOS_TP_ANO_CONCLUIU</th>\n",
       "      <th>MICRODADOS_TP_ESCOLA</th>\n",
       "      <th>MICRODADOS_TP_ENSINO</th>\n",
       "      <th>MICRODADOS_IN_TREINEIRO</th>\n",
       "      <th>MICRODADOS_REGIAO_ESCOLA</th>\n",
       "      <th>...</th>\n",
       "      <th>MICRODADOS_TP_LINGUA</th>\n",
       "      <th>MICRODADOS_RENDA_PER_CAPITA</th>\n",
       "      <th>HABESTUDO_ST_MAT_PERC_APR</th>\n",
       "      <th>HABESTUDO_GES_TEMP_PLAN_EST</th>\n",
       "      <th>HABESTUDO_PRAT_EST_PES</th>\n",
       "      <th>HABESTUDO_TECN_TP_ACES</th>\n",
       "      <th>HABESTUDO_PROB_ROT_EST</th>\n",
       "      <th>HABESTUDO_DIF_INFR</th>\n",
       "      <th>HABESTUDO_AJUD_TERC</th>\n",
       "      <th>HABESTUDO_AVAL_PROP_EXP</th>\n",
       "    </tr>\n",
       "  </thead>\n",
       "  <tbody>\n",
       "    <tr>\n",
       "      <th>0</th>\n",
       "      <td>210054479101</td>\n",
       "      <td>2</td>\n",
       "      <td>F</td>\n",
       "      <td>3</td>\n",
       "      <td>2</td>\n",
       "      <td>0</td>\n",
       "      <td>2</td>\n",
       "      <td>1.0</td>\n",
       "      <td>0</td>\n",
       "      <td>Centro-Oeste</td>\n",
       "      <td>...</td>\n",
       "      <td>1</td>\n",
       "      <td>303.00</td>\n",
       "      <td>3.50</td>\n",
       "      <td>2.66</td>\n",
       "      <td>4.63</td>\n",
       "      <td>2.0</td>\n",
       "      <td>2.0</td>\n",
       "      <td>3.0</td>\n",
       "      <td>2.5</td>\n",
       "      <td>0.00</td>\n",
       "    </tr>\n",
       "    <tr>\n",
       "      <th>1</th>\n",
       "      <td>210054480429</td>\n",
       "      <td>3</td>\n",
       "      <td>M</td>\n",
       "      <td>1</td>\n",
       "      <td>2</td>\n",
       "      <td>0</td>\n",
       "      <td>3</td>\n",
       "      <td>1.0</td>\n",
       "      <td>0</td>\n",
       "      <td>Norte</td>\n",
       "      <td>...</td>\n",
       "      <td>0</td>\n",
       "      <td>707.00</td>\n",
       "      <td>4.00</td>\n",
       "      <td>0.00</td>\n",
       "      <td>0.33</td>\n",
       "      <td>3.0</td>\n",
       "      <td>2.0</td>\n",
       "      <td>2.0</td>\n",
       "      <td>2.5</td>\n",
       "      <td>0.00</td>\n",
       "    </tr>\n",
       "    <tr>\n",
       "      <th>2</th>\n",
       "      <td>210054480874</td>\n",
       "      <td>3</td>\n",
       "      <td>F</td>\n",
       "      <td>3</td>\n",
       "      <td>2</td>\n",
       "      <td>0</td>\n",
       "      <td>2</td>\n",
       "      <td>1.0</td>\n",
       "      <td>0</td>\n",
       "      <td>Norte</td>\n",
       "      <td>...</td>\n",
       "      <td>1</td>\n",
       "      <td>909.00</td>\n",
       "      <td>3.35</td>\n",
       "      <td>2.66</td>\n",
       "      <td>7.00</td>\n",
       "      <td>4.0</td>\n",
       "      <td>7.0</td>\n",
       "      <td>3.0</td>\n",
       "      <td>4.5</td>\n",
       "      <td>0.25</td>\n",
       "    </tr>\n",
       "    <tr>\n",
       "      <th>3</th>\n",
       "      <td>210054481135</td>\n",
       "      <td>3</td>\n",
       "      <td>F</td>\n",
       "      <td>1</td>\n",
       "      <td>2</td>\n",
       "      <td>0</td>\n",
       "      <td>3</td>\n",
       "      <td>1.0</td>\n",
       "      <td>0</td>\n",
       "      <td>Norte</td>\n",
       "      <td>...</td>\n",
       "      <td>0</td>\n",
       "      <td>1818.00</td>\n",
       "      <td>3.10</td>\n",
       "      <td>5.01</td>\n",
       "      <td>7.66</td>\n",
       "      <td>4.0</td>\n",
       "      <td>8.0</td>\n",
       "      <td>2.0</td>\n",
       "      <td>4.5</td>\n",
       "      <td>0.25</td>\n",
       "    </tr>\n",
       "    <tr>\n",
       "      <th>4</th>\n",
       "      <td>210054481966</td>\n",
       "      <td>3</td>\n",
       "      <td>F</td>\n",
       "      <td>3</td>\n",
       "      <td>2</td>\n",
       "      <td>0</td>\n",
       "      <td>2</td>\n",
       "      <td>1.0</td>\n",
       "      <td>0</td>\n",
       "      <td>Norte</td>\n",
       "      <td>...</td>\n",
       "      <td>1</td>\n",
       "      <td>0.00</td>\n",
       "      <td>3.75</td>\n",
       "      <td>4.02</td>\n",
       "      <td>7.70</td>\n",
       "      <td>2.0</td>\n",
       "      <td>2.0</td>\n",
       "      <td>2.0</td>\n",
       "      <td>3.5</td>\n",
       "      <td>0.25</td>\n",
       "    </tr>\n",
       "    <tr>\n",
       "      <th>...</th>\n",
       "      <td>...</td>\n",
       "      <td>...</td>\n",
       "      <td>...</td>\n",
       "      <td>...</td>\n",
       "      <td>...</td>\n",
       "      <td>...</td>\n",
       "      <td>...</td>\n",
       "      <td>...</td>\n",
       "      <td>...</td>\n",
       "      <td>...</td>\n",
       "      <td>...</td>\n",
       "      <td>...</td>\n",
       "      <td>...</td>\n",
       "      <td>...</td>\n",
       "      <td>...</td>\n",
       "      <td>...</td>\n",
       "      <td>...</td>\n",
       "      <td>...</td>\n",
       "      <td>...</td>\n",
       "      <td>...</td>\n",
       "      <td>...</td>\n",
       "    </tr>\n",
       "    <tr>\n",
       "      <th>22162</th>\n",
       "      <td>210058025162</td>\n",
       "      <td>3</td>\n",
       "      <td>M</td>\n",
       "      <td>1</td>\n",
       "      <td>2</td>\n",
       "      <td>0</td>\n",
       "      <td>2</td>\n",
       "      <td>1.0</td>\n",
       "      <td>0</td>\n",
       "      <td>Nordeste</td>\n",
       "      <td>...</td>\n",
       "      <td>1</td>\n",
       "      <td>2727.00</td>\n",
       "      <td>3.50</td>\n",
       "      <td>2.32</td>\n",
       "      <td>4.62</td>\n",
       "      <td>4.0</td>\n",
       "      <td>2.0</td>\n",
       "      <td>3.0</td>\n",
       "      <td>3.5</td>\n",
       "      <td>0.50</td>\n",
       "    </tr>\n",
       "    <tr>\n",
       "      <th>22163</th>\n",
       "      <td>210058025171</td>\n",
       "      <td>3</td>\n",
       "      <td>M</td>\n",
       "      <td>2</td>\n",
       "      <td>2</td>\n",
       "      <td>0</td>\n",
       "      <td>2</td>\n",
       "      <td>1.0</td>\n",
       "      <td>0</td>\n",
       "      <td>Nordeste</td>\n",
       "      <td>...</td>\n",
       "      <td>0</td>\n",
       "      <td>151.50</td>\n",
       "      <td>3.35</td>\n",
       "      <td>0.00</td>\n",
       "      <td>5.32</td>\n",
       "      <td>4.0</td>\n",
       "      <td>3.0</td>\n",
       "      <td>3.0</td>\n",
       "      <td>4.5</td>\n",
       "      <td>0.25</td>\n",
       "    </tr>\n",
       "    <tr>\n",
       "      <th>22164</th>\n",
       "      <td>210058025427</td>\n",
       "      <td>3</td>\n",
       "      <td>M</td>\n",
       "      <td>1</td>\n",
       "      <td>2</td>\n",
       "      <td>0</td>\n",
       "      <td>3</td>\n",
       "      <td>1.0</td>\n",
       "      <td>0</td>\n",
       "      <td>Sudeste</td>\n",
       "      <td>...</td>\n",
       "      <td>1</td>\n",
       "      <td>3333.00</td>\n",
       "      <td>3.10</td>\n",
       "      <td>3.33</td>\n",
       "      <td>8.01</td>\n",
       "      <td>4.0</td>\n",
       "      <td>3.0</td>\n",
       "      <td>3.0</td>\n",
       "      <td>3.5</td>\n",
       "      <td>0.50</td>\n",
       "    </tr>\n",
       "    <tr>\n",
       "      <th>22165</th>\n",
       "      <td>210058025530</td>\n",
       "      <td>2</td>\n",
       "      <td>F</td>\n",
       "      <td>3</td>\n",
       "      <td>2</td>\n",
       "      <td>0</td>\n",
       "      <td>2</td>\n",
       "      <td>1.0</td>\n",
       "      <td>0</td>\n",
       "      <td>Nordeste</td>\n",
       "      <td>...</td>\n",
       "      <td>1</td>\n",
       "      <td>378.75</td>\n",
       "      <td>3.10</td>\n",
       "      <td>3.68</td>\n",
       "      <td>10.68</td>\n",
       "      <td>4.0</td>\n",
       "      <td>4.0</td>\n",
       "      <td>3.0</td>\n",
       "      <td>4.5</td>\n",
       "      <td>0.25</td>\n",
       "    </tr>\n",
       "    <tr>\n",
       "      <th>22166</th>\n",
       "      <td>210058025546</td>\n",
       "      <td>3</td>\n",
       "      <td>F</td>\n",
       "      <td>3</td>\n",
       "      <td>2</td>\n",
       "      <td>0</td>\n",
       "      <td>2</td>\n",
       "      <td>1.0</td>\n",
       "      <td>0</td>\n",
       "      <td>Nordeste</td>\n",
       "      <td>...</td>\n",
       "      <td>0</td>\n",
       "      <td>545.40</td>\n",
       "      <td>2.60</td>\n",
       "      <td>4.02</td>\n",
       "      <td>8.71</td>\n",
       "      <td>4.0</td>\n",
       "      <td>2.0</td>\n",
       "      <td>3.0</td>\n",
       "      <td>3.5</td>\n",
       "      <td>0.50</td>\n",
       "    </tr>\n",
       "  </tbody>\n",
       "</table>\n",
       "<p>22167 rows × 43 columns</p>\n",
       "</div>"
      ],
      "text/plain": [
       "       NU_INSCRICAO  MICRODADOS_TP_FAIXA_ETARIA MICRODADOS_TP_SEXO   \n",
       "0      210054479101                           2                  F  \\\n",
       "1      210054480429                           3                  M   \n",
       "2      210054480874                           3                  F   \n",
       "3      210054481135                           3                  F   \n",
       "4      210054481966                           3                  F   \n",
       "...             ...                         ...                ...   \n",
       "22162  210058025162                           3                  M   \n",
       "22163  210058025171                           3                  M   \n",
       "22164  210058025427                           3                  M   \n",
       "22165  210058025530                           2                  F   \n",
       "22166  210058025546                           3                  F   \n",
       "\n",
       "       MICRODADOS_TP_COR_RACA  MICRODADOS_TP_ST_CONCLUSAO   \n",
       "0                           3                           2  \\\n",
       "1                           1                           2   \n",
       "2                           3                           2   \n",
       "3                           1                           2   \n",
       "4                           3                           2   \n",
       "...                       ...                         ...   \n",
       "22162                       1                           2   \n",
       "22163                       2                           2   \n",
       "22164                       1                           2   \n",
       "22165                       3                           2   \n",
       "22166                       3                           2   \n",
       "\n",
       "       MICRODADOS_TP_ANO_CONCLUIU  MICRODADOS_TP_ESCOLA  MICRODADOS_TP_ENSINO   \n",
       "0                               0                     2                   1.0  \\\n",
       "1                               0                     3                   1.0   \n",
       "2                               0                     2                   1.0   \n",
       "3                               0                     3                   1.0   \n",
       "4                               0                     2                   1.0   \n",
       "...                           ...                   ...                   ...   \n",
       "22162                           0                     2                   1.0   \n",
       "22163                           0                     2                   1.0   \n",
       "22164                           0                     3                   1.0   \n",
       "22165                           0                     2                   1.0   \n",
       "22166                           0                     2                   1.0   \n",
       "\n",
       "       MICRODADOS_IN_TREINEIRO MICRODADOS_REGIAO_ESCOLA  ...   \n",
       "0                            0             Centro-Oeste  ...  \\\n",
       "1                            0                    Norte  ...   \n",
       "2                            0                    Norte  ...   \n",
       "3                            0                    Norte  ...   \n",
       "4                            0                    Norte  ...   \n",
       "...                        ...                      ...  ...   \n",
       "22162                        0                 Nordeste  ...   \n",
       "22163                        0                 Nordeste  ...   \n",
       "22164                        0                  Sudeste  ...   \n",
       "22165                        0                 Nordeste  ...   \n",
       "22166                        0                 Nordeste  ...   \n",
       "\n",
       "       MICRODADOS_TP_LINGUA  MICRODADOS_RENDA_PER_CAPITA   \n",
       "0                         1                       303.00  \\\n",
       "1                         0                       707.00   \n",
       "2                         1                       909.00   \n",
       "3                         0                      1818.00   \n",
       "4                         1                         0.00   \n",
       "...                     ...                          ...   \n",
       "22162                     1                      2727.00   \n",
       "22163                     0                       151.50   \n",
       "22164                     1                      3333.00   \n",
       "22165                     1                       378.75   \n",
       "22166                     0                       545.40   \n",
       "\n",
       "       HABESTUDO_ST_MAT_PERC_APR  HABESTUDO_GES_TEMP_PLAN_EST   \n",
       "0                           3.50                         2.66  \\\n",
       "1                           4.00                         0.00   \n",
       "2                           3.35                         2.66   \n",
       "3                           3.10                         5.01   \n",
       "4                           3.75                         4.02   \n",
       "...                          ...                          ...   \n",
       "22162                       3.50                         2.32   \n",
       "22163                       3.35                         0.00   \n",
       "22164                       3.10                         3.33   \n",
       "22165                       3.10                         3.68   \n",
       "22166                       2.60                         4.02   \n",
       "\n",
       "       HABESTUDO_PRAT_EST_PES  HABESTUDO_TECN_TP_ACES  HABESTUDO_PROB_ROT_EST   \n",
       "0                        4.63                     2.0                     2.0  \\\n",
       "1                        0.33                     3.0                     2.0   \n",
       "2                        7.00                     4.0                     7.0   \n",
       "3                        7.66                     4.0                     8.0   \n",
       "4                        7.70                     2.0                     2.0   \n",
       "...                       ...                     ...                     ...   \n",
       "22162                    4.62                     4.0                     2.0   \n",
       "22163                    5.32                     4.0                     3.0   \n",
       "22164                    8.01                     4.0                     3.0   \n",
       "22165                   10.68                     4.0                     4.0   \n",
       "22166                    8.71                     4.0                     2.0   \n",
       "\n",
       "       HABESTUDO_DIF_INFR  HABESTUDO_AJUD_TERC  HABESTUDO_AVAL_PROP_EXP  \n",
       "0                     3.0                  2.5                     0.00  \n",
       "1                     2.0                  2.5                     0.00  \n",
       "2                     3.0                  4.5                     0.25  \n",
       "3                     2.0                  4.5                     0.25  \n",
       "4                     2.0                  3.5                     0.25  \n",
       "...                   ...                  ...                      ...  \n",
       "22162                 3.0                  3.5                     0.50  \n",
       "22163                 3.0                  4.5                     0.25  \n",
       "22164                 3.0                  3.5                     0.50  \n",
       "22165                 3.0                  4.5                     0.25  \n",
       "22166                 3.0                  3.5                     0.50  \n",
       "\n",
       "[22167 rows x 43 columns]"
      ]
     },
     "execution_count": 42,
     "metadata": {},
     "output_type": "execute_result"
    }
   ],
   "source": [
    "renda_inf_indexes = complete_data[complete_data['MICRODADOS_RENDA_PER_CAPITA'] == float('inf')].index\n",
    "\n",
    "complete_data = complete_data.drop(index=renda_inf_indexes).reset_index(drop=True)\n",
    "complete_data"
   ]
  },
  {
   "attachments": {},
   "cell_type": "markdown",
   "metadata": {},
   "source": [
    "#### **Pré-processamento**"
   ]
  },
  {
   "attachments": {},
   "cell_type": "markdown",
   "metadata": {},
   "source": [
    "**nominal:** 'MICRODADOS_TP_SEXO', 'MICRODADOS_REGIAO_ESCOLA'\n",
    "\n",
    "**numerical:** 'NU_INSCRICAO', 'MICRODADOS_TP_FAIXA_ETARIA', 'MICRODADOS_TP_COR_RACA', 'MICRODADOS_TP_ST_CONCLUSAO', 'MICRODADOS_TP_ANO_CONCLUIU', 'MICRODADOS_TP_ESCOLA', 'MICRODADOS_TP_ENSINO', 'MICRODADOS_IN_TREINEIRO', 'MICRODADOS_TP_PRESENCA_CN', 'MICRODADOS_TP_PRESENCA_CH', 'MICRODADOS_TP_PRESENCA_LC', 'MICRODADOS_TP_PRESENCA_MT', 'MICRODADOS_NU_NOTA_CN', 'MICRODADOS_NU_NOTA_CH', 'MICRODADOS_NU_NOTA_LC', 'MICRODADOS_NU_NOTA_MT', 'MICRODADOS_NU_NOTA_REDACAO', 'MICRODADOS_TP_STATUS_REDACAO', 'MICRODADOS_NU_NOTA_COMP1', 'MICRODADOS_NU_NOTA_COMP2', 'MICRODADOS_NU_NOTA_COMP3', 'MICRODADOS_NU_NOTA_COMP4', 'MICRODADOS_NU_NOTA_COMP5', 'MICRODADOS_NU_NOTA_MEDIA', 'MICRODADOS_NU_NOTA_CONCEITO', 'MICRODADOS_NU_ACERTOS_CN', 'MICRODADOS_NU_ACERTOS_CH', 'MICRODADOS_NU_ACERTOS_LC', 'MICRODADOS_NU_ACERTOS_MT', 'MICRODADOS_NU_ACERTOS_TOTAL', 'MICRODADOS_NU_ACERTOS_MEDIO', 'MICRODADOS_TP_LINGUA', 'MICRODADOS_RENDA_PER_CAPITA', 'HABESTUDO_ST_MAT_PERC_APR', 'HABESTUDO_GES_TEMP_PLAN_EST', 'HABESTUDO_PRAT_EST_PES', 'HABESTUDO_TECN_TP_ACES', 'HABESTUDO_PROB_ROT_EST', 'HABESTUDO_DIF_INFR', 'HABESTUDO_AJUD_TERC', 'HABESTUDO_AVAL_PROP_EXP'"
   ]
  },
  {
   "cell_type": "code",
   "execution_count": 43,
   "metadata": {},
   "outputs": [],
   "source": [
    "nominal_features = list(set(complete_data.select_dtypes(include='object').columns.values))\n",
    "numerical_features = list(set(complete_data.select_dtypes(exclude='object').columns.values))"
   ]
  },
  {
   "cell_type": "code",
   "execution_count": 44,
   "metadata": {},
   "outputs": [],
   "source": [
    "nominal_transformer = Pipeline(steps=[\n",
    "    ('encoder', OneHotEncoder()),\n",
    "])\n",
    "\n",
    "preprocessor = ColumnTransformer(transformers=[\n",
    "    ('nominal', nominal_transformer, nominal_features),\n",
    "], remainder='passthrough')"
   ]
  },
  {
   "cell_type": "code",
   "execution_count": 11,
   "metadata": {},
   "outputs": [
    {
     "ename": "NameError",
     "evalue": "name 'complete_data' is not defined",
     "output_type": "error",
     "traceback": [
      "\u001b[1;31m---------------------------------------------------------------------------\u001b[0m",
      "\u001b[1;31mNameError\u001b[0m                                 Traceback (most recent call last)",
      "Cell \u001b[1;32mIn[11], line 1\u001b[0m\n\u001b[1;32m----> 1\u001b[0m X \u001b[39m=\u001b[39m complete_data\u001b[39m.\u001b[39mdrop(columns\u001b[39m=\u001b[39m[\u001b[39m'\u001b[39m\u001b[39mNU_INSCRICAO\u001b[39m\u001b[39m'\u001b[39m, \u001b[39m'\u001b[39m\u001b[39mMICRODADOS_NU_NOTA_MEDIA\u001b[39m\u001b[39m'\u001b[39m, \u001b[39m'\u001b[39m\u001b[39mMICRODADOS_NU_NOTA_CONCEITO\u001b[39m\u001b[39m'\u001b[39m])\n\u001b[0;32m      3\u001b[0m X_transformed \u001b[39m=\u001b[39m preprocessor\u001b[39m.\u001b[39mfit_transform(X)\n\u001b[0;32m      4\u001b[0m y_numerical_transformed \u001b[39m=\u001b[39m complete_data[\u001b[39m'\u001b[39m\u001b[39mMICRODADOS_NU_NOTA_MEDIA\u001b[39m\u001b[39m'\u001b[39m]\n",
      "\u001b[1;31mNameError\u001b[0m: name 'complete_data' is not defined"
     ]
    }
   ],
   "source": [
    "X = complete_data.drop(columns=['NU_INSCRICAO', 'MICRODADOS_NU_NOTA_MEDIA', 'MICRODADOS_NU_NOTA_CONCEITO'])\n",
    "\n",
    "X_transformed = preprocessor.fit_transform(X)\n",
    "y_numerical_transformed = complete_data['MICRODADOS_NU_NOTA_MEDIA']\n",
    "y_categorical_transformed = complete_data['MICRODADOS_NU_NOTA_CONCEITO']"
   ]
  },
  {
   "cell_type": "code",
   "execution_count": 46,
   "metadata": {},
   "outputs": [],
   "source": [
    "preprocessor_feature_names = preprocessor.get_feature_names_out()\n",
    "preprocessor_feature_names = [re.sub(r'.+__', '', item) for item in preprocessor_feature_names]"
   ]
  },
  {
   "cell_type": "code",
   "execution_count": 47,
   "metadata": {},
   "outputs": [
    {
     "data": {
      "text/html": [
       "<div>\n",
       "<style scoped>\n",
       "    .dataframe tbody tr th:only-of-type {\n",
       "        vertical-align: middle;\n",
       "    }\n",
       "\n",
       "    .dataframe tbody tr th {\n",
       "        vertical-align: top;\n",
       "    }\n",
       "\n",
       "    .dataframe thead th {\n",
       "        text-align: right;\n",
       "    }\n",
       "</style>\n",
       "<table border=\"1\" class=\"dataframe\">\n",
       "  <thead>\n",
       "    <tr style=\"text-align: right;\">\n",
       "      <th></th>\n",
       "      <th>MICRODADOS_TP_SEXO_F</th>\n",
       "      <th>MICRODADOS_TP_SEXO_M</th>\n",
       "      <th>MICRODADOS_REGIAO_ESCOLA_Centro-Oeste</th>\n",
       "      <th>MICRODADOS_REGIAO_ESCOLA_Nordeste</th>\n",
       "      <th>MICRODADOS_REGIAO_ESCOLA_Norte</th>\n",
       "      <th>MICRODADOS_REGIAO_ESCOLA_Sudeste</th>\n",
       "      <th>MICRODADOS_REGIAO_ESCOLA_Sul</th>\n",
       "      <th>MICRODADOS_TP_FAIXA_ETARIA</th>\n",
       "      <th>MICRODADOS_TP_COR_RACA</th>\n",
       "      <th>MICRODADOS_TP_ST_CONCLUSAO</th>\n",
       "      <th>...</th>\n",
       "      <th>MICRODADOS_TP_LINGUA</th>\n",
       "      <th>MICRODADOS_RENDA_PER_CAPITA</th>\n",
       "      <th>HABESTUDO_ST_MAT_PERC_APR</th>\n",
       "      <th>HABESTUDO_GES_TEMP_PLAN_EST</th>\n",
       "      <th>HABESTUDO_PRAT_EST_PES</th>\n",
       "      <th>HABESTUDO_TECN_TP_ACES</th>\n",
       "      <th>HABESTUDO_PROB_ROT_EST</th>\n",
       "      <th>HABESTUDO_DIF_INFR</th>\n",
       "      <th>HABESTUDO_AJUD_TERC</th>\n",
       "      <th>HABESTUDO_AVAL_PROP_EXP</th>\n",
       "    </tr>\n",
       "  </thead>\n",
       "  <tbody>\n",
       "    <tr>\n",
       "      <th>0</th>\n",
       "      <td>1.0</td>\n",
       "      <td>0.0</td>\n",
       "      <td>1.0</td>\n",
       "      <td>0.0</td>\n",
       "      <td>0.0</td>\n",
       "      <td>0.0</td>\n",
       "      <td>0.0</td>\n",
       "      <td>2.0</td>\n",
       "      <td>3.0</td>\n",
       "      <td>2.0</td>\n",
       "      <td>...</td>\n",
       "      <td>1.0</td>\n",
       "      <td>303.00</td>\n",
       "      <td>3.50</td>\n",
       "      <td>2.66</td>\n",
       "      <td>4.63</td>\n",
       "      <td>2.0</td>\n",
       "      <td>2.0</td>\n",
       "      <td>3.0</td>\n",
       "      <td>2.5</td>\n",
       "      <td>0.00</td>\n",
       "    </tr>\n",
       "    <tr>\n",
       "      <th>1</th>\n",
       "      <td>0.0</td>\n",
       "      <td>1.0</td>\n",
       "      <td>0.0</td>\n",
       "      <td>0.0</td>\n",
       "      <td>1.0</td>\n",
       "      <td>0.0</td>\n",
       "      <td>0.0</td>\n",
       "      <td>3.0</td>\n",
       "      <td>1.0</td>\n",
       "      <td>2.0</td>\n",
       "      <td>...</td>\n",
       "      <td>0.0</td>\n",
       "      <td>707.00</td>\n",
       "      <td>4.00</td>\n",
       "      <td>0.00</td>\n",
       "      <td>0.33</td>\n",
       "      <td>3.0</td>\n",
       "      <td>2.0</td>\n",
       "      <td>2.0</td>\n",
       "      <td>2.5</td>\n",
       "      <td>0.00</td>\n",
       "    </tr>\n",
       "    <tr>\n",
       "      <th>2</th>\n",
       "      <td>1.0</td>\n",
       "      <td>0.0</td>\n",
       "      <td>0.0</td>\n",
       "      <td>0.0</td>\n",
       "      <td>1.0</td>\n",
       "      <td>0.0</td>\n",
       "      <td>0.0</td>\n",
       "      <td>3.0</td>\n",
       "      <td>3.0</td>\n",
       "      <td>2.0</td>\n",
       "      <td>...</td>\n",
       "      <td>1.0</td>\n",
       "      <td>909.00</td>\n",
       "      <td>3.35</td>\n",
       "      <td>2.66</td>\n",
       "      <td>7.00</td>\n",
       "      <td>4.0</td>\n",
       "      <td>7.0</td>\n",
       "      <td>3.0</td>\n",
       "      <td>4.5</td>\n",
       "      <td>0.25</td>\n",
       "    </tr>\n",
       "    <tr>\n",
       "      <th>3</th>\n",
       "      <td>1.0</td>\n",
       "      <td>0.0</td>\n",
       "      <td>0.0</td>\n",
       "      <td>0.0</td>\n",
       "      <td>1.0</td>\n",
       "      <td>0.0</td>\n",
       "      <td>0.0</td>\n",
       "      <td>3.0</td>\n",
       "      <td>1.0</td>\n",
       "      <td>2.0</td>\n",
       "      <td>...</td>\n",
       "      <td>0.0</td>\n",
       "      <td>1818.00</td>\n",
       "      <td>3.10</td>\n",
       "      <td>5.01</td>\n",
       "      <td>7.66</td>\n",
       "      <td>4.0</td>\n",
       "      <td>8.0</td>\n",
       "      <td>2.0</td>\n",
       "      <td>4.5</td>\n",
       "      <td>0.25</td>\n",
       "    </tr>\n",
       "    <tr>\n",
       "      <th>4</th>\n",
       "      <td>1.0</td>\n",
       "      <td>0.0</td>\n",
       "      <td>0.0</td>\n",
       "      <td>0.0</td>\n",
       "      <td>1.0</td>\n",
       "      <td>0.0</td>\n",
       "      <td>0.0</td>\n",
       "      <td>3.0</td>\n",
       "      <td>3.0</td>\n",
       "      <td>2.0</td>\n",
       "      <td>...</td>\n",
       "      <td>1.0</td>\n",
       "      <td>0.00</td>\n",
       "      <td>3.75</td>\n",
       "      <td>4.02</td>\n",
       "      <td>7.70</td>\n",
       "      <td>2.0</td>\n",
       "      <td>2.0</td>\n",
       "      <td>2.0</td>\n",
       "      <td>3.5</td>\n",
       "      <td>0.25</td>\n",
       "    </tr>\n",
       "    <tr>\n",
       "      <th>...</th>\n",
       "      <td>...</td>\n",
       "      <td>...</td>\n",
       "      <td>...</td>\n",
       "      <td>...</td>\n",
       "      <td>...</td>\n",
       "      <td>...</td>\n",
       "      <td>...</td>\n",
       "      <td>...</td>\n",
       "      <td>...</td>\n",
       "      <td>...</td>\n",
       "      <td>...</td>\n",
       "      <td>...</td>\n",
       "      <td>...</td>\n",
       "      <td>...</td>\n",
       "      <td>...</td>\n",
       "      <td>...</td>\n",
       "      <td>...</td>\n",
       "      <td>...</td>\n",
       "      <td>...</td>\n",
       "      <td>...</td>\n",
       "      <td>...</td>\n",
       "    </tr>\n",
       "    <tr>\n",
       "      <th>22162</th>\n",
       "      <td>0.0</td>\n",
       "      <td>1.0</td>\n",
       "      <td>0.0</td>\n",
       "      <td>1.0</td>\n",
       "      <td>0.0</td>\n",
       "      <td>0.0</td>\n",
       "      <td>0.0</td>\n",
       "      <td>3.0</td>\n",
       "      <td>1.0</td>\n",
       "      <td>2.0</td>\n",
       "      <td>...</td>\n",
       "      <td>1.0</td>\n",
       "      <td>2727.00</td>\n",
       "      <td>3.50</td>\n",
       "      <td>2.32</td>\n",
       "      <td>4.62</td>\n",
       "      <td>4.0</td>\n",
       "      <td>2.0</td>\n",
       "      <td>3.0</td>\n",
       "      <td>3.5</td>\n",
       "      <td>0.50</td>\n",
       "    </tr>\n",
       "    <tr>\n",
       "      <th>22163</th>\n",
       "      <td>0.0</td>\n",
       "      <td>1.0</td>\n",
       "      <td>0.0</td>\n",
       "      <td>1.0</td>\n",
       "      <td>0.0</td>\n",
       "      <td>0.0</td>\n",
       "      <td>0.0</td>\n",
       "      <td>3.0</td>\n",
       "      <td>2.0</td>\n",
       "      <td>2.0</td>\n",
       "      <td>...</td>\n",
       "      <td>0.0</td>\n",
       "      <td>151.50</td>\n",
       "      <td>3.35</td>\n",
       "      <td>0.00</td>\n",
       "      <td>5.32</td>\n",
       "      <td>4.0</td>\n",
       "      <td>3.0</td>\n",
       "      <td>3.0</td>\n",
       "      <td>4.5</td>\n",
       "      <td>0.25</td>\n",
       "    </tr>\n",
       "    <tr>\n",
       "      <th>22164</th>\n",
       "      <td>0.0</td>\n",
       "      <td>1.0</td>\n",
       "      <td>0.0</td>\n",
       "      <td>0.0</td>\n",
       "      <td>0.0</td>\n",
       "      <td>1.0</td>\n",
       "      <td>0.0</td>\n",
       "      <td>3.0</td>\n",
       "      <td>1.0</td>\n",
       "      <td>2.0</td>\n",
       "      <td>...</td>\n",
       "      <td>1.0</td>\n",
       "      <td>3333.00</td>\n",
       "      <td>3.10</td>\n",
       "      <td>3.33</td>\n",
       "      <td>8.01</td>\n",
       "      <td>4.0</td>\n",
       "      <td>3.0</td>\n",
       "      <td>3.0</td>\n",
       "      <td>3.5</td>\n",
       "      <td>0.50</td>\n",
       "    </tr>\n",
       "    <tr>\n",
       "      <th>22165</th>\n",
       "      <td>1.0</td>\n",
       "      <td>0.0</td>\n",
       "      <td>0.0</td>\n",
       "      <td>1.0</td>\n",
       "      <td>0.0</td>\n",
       "      <td>0.0</td>\n",
       "      <td>0.0</td>\n",
       "      <td>2.0</td>\n",
       "      <td>3.0</td>\n",
       "      <td>2.0</td>\n",
       "      <td>...</td>\n",
       "      <td>1.0</td>\n",
       "      <td>378.75</td>\n",
       "      <td>3.10</td>\n",
       "      <td>3.68</td>\n",
       "      <td>10.68</td>\n",
       "      <td>4.0</td>\n",
       "      <td>4.0</td>\n",
       "      <td>3.0</td>\n",
       "      <td>4.5</td>\n",
       "      <td>0.25</td>\n",
       "    </tr>\n",
       "    <tr>\n",
       "      <th>22166</th>\n",
       "      <td>1.0</td>\n",
       "      <td>0.0</td>\n",
       "      <td>0.0</td>\n",
       "      <td>1.0</td>\n",
       "      <td>0.0</td>\n",
       "      <td>0.0</td>\n",
       "      <td>0.0</td>\n",
       "      <td>3.0</td>\n",
       "      <td>3.0</td>\n",
       "      <td>2.0</td>\n",
       "      <td>...</td>\n",
       "      <td>0.0</td>\n",
       "      <td>545.40</td>\n",
       "      <td>2.60</td>\n",
       "      <td>4.02</td>\n",
       "      <td>8.71</td>\n",
       "      <td>4.0</td>\n",
       "      <td>2.0</td>\n",
       "      <td>3.0</td>\n",
       "      <td>3.5</td>\n",
       "      <td>0.50</td>\n",
       "    </tr>\n",
       "  </tbody>\n",
       "</table>\n",
       "<p>22167 rows × 45 columns</p>\n",
       "</div>"
      ],
      "text/plain": [
       "       MICRODADOS_TP_SEXO_F  MICRODADOS_TP_SEXO_M   \n",
       "0                       1.0                   0.0  \\\n",
       "1                       0.0                   1.0   \n",
       "2                       1.0                   0.0   \n",
       "3                       1.0                   0.0   \n",
       "4                       1.0                   0.0   \n",
       "...                     ...                   ...   \n",
       "22162                   0.0                   1.0   \n",
       "22163                   0.0                   1.0   \n",
       "22164                   0.0                   1.0   \n",
       "22165                   1.0                   0.0   \n",
       "22166                   1.0                   0.0   \n",
       "\n",
       "       MICRODADOS_REGIAO_ESCOLA_Centro-Oeste   \n",
       "0                                        1.0  \\\n",
       "1                                        0.0   \n",
       "2                                        0.0   \n",
       "3                                        0.0   \n",
       "4                                        0.0   \n",
       "...                                      ...   \n",
       "22162                                    0.0   \n",
       "22163                                    0.0   \n",
       "22164                                    0.0   \n",
       "22165                                    0.0   \n",
       "22166                                    0.0   \n",
       "\n",
       "       MICRODADOS_REGIAO_ESCOLA_Nordeste  MICRODADOS_REGIAO_ESCOLA_Norte   \n",
       "0                                    0.0                             0.0  \\\n",
       "1                                    0.0                             1.0   \n",
       "2                                    0.0                             1.0   \n",
       "3                                    0.0                             1.0   \n",
       "4                                    0.0                             1.0   \n",
       "...                                  ...                             ...   \n",
       "22162                                1.0                             0.0   \n",
       "22163                                1.0                             0.0   \n",
       "22164                                0.0                             0.0   \n",
       "22165                                1.0                             0.0   \n",
       "22166                                1.0                             0.0   \n",
       "\n",
       "       MICRODADOS_REGIAO_ESCOLA_Sudeste  MICRODADOS_REGIAO_ESCOLA_Sul   \n",
       "0                                   0.0                           0.0  \\\n",
       "1                                   0.0                           0.0   \n",
       "2                                   0.0                           0.0   \n",
       "3                                   0.0                           0.0   \n",
       "4                                   0.0                           0.0   \n",
       "...                                 ...                           ...   \n",
       "22162                               0.0                           0.0   \n",
       "22163                               0.0                           0.0   \n",
       "22164                               1.0                           0.0   \n",
       "22165                               0.0                           0.0   \n",
       "22166                               0.0                           0.0   \n",
       "\n",
       "       MICRODADOS_TP_FAIXA_ETARIA  MICRODADOS_TP_COR_RACA   \n",
       "0                             2.0                     3.0  \\\n",
       "1                             3.0                     1.0   \n",
       "2                             3.0                     3.0   \n",
       "3                             3.0                     1.0   \n",
       "4                             3.0                     3.0   \n",
       "...                           ...                     ...   \n",
       "22162                         3.0                     1.0   \n",
       "22163                         3.0                     2.0   \n",
       "22164                         3.0                     1.0   \n",
       "22165                         2.0                     3.0   \n",
       "22166                         3.0                     3.0   \n",
       "\n",
       "       MICRODADOS_TP_ST_CONCLUSAO  ...  MICRODADOS_TP_LINGUA   \n",
       "0                             2.0  ...                   1.0  \\\n",
       "1                             2.0  ...                   0.0   \n",
       "2                             2.0  ...                   1.0   \n",
       "3                             2.0  ...                   0.0   \n",
       "4                             2.0  ...                   1.0   \n",
       "...                           ...  ...                   ...   \n",
       "22162                         2.0  ...                   1.0   \n",
       "22163                         2.0  ...                   0.0   \n",
       "22164                         2.0  ...                   1.0   \n",
       "22165                         2.0  ...                   1.0   \n",
       "22166                         2.0  ...                   0.0   \n",
       "\n",
       "       MICRODADOS_RENDA_PER_CAPITA  HABESTUDO_ST_MAT_PERC_APR   \n",
       "0                           303.00                       3.50  \\\n",
       "1                           707.00                       4.00   \n",
       "2                           909.00                       3.35   \n",
       "3                          1818.00                       3.10   \n",
       "4                             0.00                       3.75   \n",
       "...                            ...                        ...   \n",
       "22162                      2727.00                       3.50   \n",
       "22163                       151.50                       3.35   \n",
       "22164                      3333.00                       3.10   \n",
       "22165                       378.75                       3.10   \n",
       "22166                       545.40                       2.60   \n",
       "\n",
       "       HABESTUDO_GES_TEMP_PLAN_EST  HABESTUDO_PRAT_EST_PES   \n",
       "0                             2.66                    4.63  \\\n",
       "1                             0.00                    0.33   \n",
       "2                             2.66                    7.00   \n",
       "3                             5.01                    7.66   \n",
       "4                             4.02                    7.70   \n",
       "...                            ...                     ...   \n",
       "22162                         2.32                    4.62   \n",
       "22163                         0.00                    5.32   \n",
       "22164                         3.33                    8.01   \n",
       "22165                         3.68                   10.68   \n",
       "22166                         4.02                    8.71   \n",
       "\n",
       "       HABESTUDO_TECN_TP_ACES  HABESTUDO_PROB_ROT_EST  HABESTUDO_DIF_INFR   \n",
       "0                         2.0                     2.0                 3.0  \\\n",
       "1                         3.0                     2.0                 2.0   \n",
       "2                         4.0                     7.0                 3.0   \n",
       "3                         4.0                     8.0                 2.0   \n",
       "4                         2.0                     2.0                 2.0   \n",
       "...                       ...                     ...                 ...   \n",
       "22162                     4.0                     2.0                 3.0   \n",
       "22163                     4.0                     3.0                 3.0   \n",
       "22164                     4.0                     3.0                 3.0   \n",
       "22165                     4.0                     4.0                 3.0   \n",
       "22166                     4.0                     2.0                 3.0   \n",
       "\n",
       "       HABESTUDO_AJUD_TERC  HABESTUDO_AVAL_PROP_EXP  \n",
       "0                      2.5                     0.00  \n",
       "1                      2.5                     0.00  \n",
       "2                      4.5                     0.25  \n",
       "3                      4.5                     0.25  \n",
       "4                      3.5                     0.25  \n",
       "...                    ...                      ...  \n",
       "22162                  3.5                     0.50  \n",
       "22163                  4.5                     0.25  \n",
       "22164                  3.5                     0.50  \n",
       "22165                  4.5                     0.25  \n",
       "22166                  3.5                     0.50  \n",
       "\n",
       "[22167 rows x 45 columns]"
      ]
     },
     "execution_count": 47,
     "metadata": {},
     "output_type": "execute_result"
    }
   ],
   "source": [
    "X_transformed = pd.DataFrame(X_transformed, columns=preprocessor_feature_names)\n",
    "X_transformed"
   ]
  },
  {
   "cell_type": "code",
   "execution_count": 48,
   "metadata": {},
   "outputs": [
    {
     "data": {
      "text/html": [
       "<div>\n",
       "<style scoped>\n",
       "    .dataframe tbody tr th:only-of-type {\n",
       "        vertical-align: middle;\n",
       "    }\n",
       "\n",
       "    .dataframe tbody tr th {\n",
       "        vertical-align: top;\n",
       "    }\n",
       "\n",
       "    .dataframe thead th {\n",
       "        text-align: right;\n",
       "    }\n",
       "</style>\n",
       "<table border=\"1\" class=\"dataframe\">\n",
       "  <thead>\n",
       "    <tr style=\"text-align: right;\">\n",
       "      <th></th>\n",
       "      <th>MICRODADOS_TP_SEXO_F</th>\n",
       "      <th>MICRODADOS_REGIAO_ESCOLA_Centro-Oeste</th>\n",
       "      <th>MICRODADOS_REGIAO_ESCOLA_Nordeste</th>\n",
       "      <th>MICRODADOS_REGIAO_ESCOLA_Norte</th>\n",
       "      <th>MICRODADOS_REGIAO_ESCOLA_Sudeste</th>\n",
       "      <th>MICRODADOS_REGIAO_ESCOLA_Sul</th>\n",
       "      <th>MICRODADOS_TP_FAIXA_ETARIA</th>\n",
       "      <th>MICRODADOS_TP_COR_RACA</th>\n",
       "      <th>MICRODADOS_TP_ESCOLA</th>\n",
       "      <th>MICRODADOS_TP_ENSINO</th>\n",
       "      <th>MICRODADOS_RENDA_PER_CAPITA</th>\n",
       "      <th>HABESTUDO_ST_MAT_PERC_APR</th>\n",
       "      <th>HABESTUDO_GES_TEMP_PLAN_EST</th>\n",
       "      <th>HABESTUDO_PRAT_EST_PES</th>\n",
       "      <th>HABESTUDO_TECN_TP_ACES</th>\n",
       "      <th>HABESTUDO_PROB_ROT_EST</th>\n",
       "      <th>HABESTUDO_DIF_INFR</th>\n",
       "      <th>HABESTUDO_AJUD_TERC</th>\n",
       "      <th>HABESTUDO_AVAL_PROP_EXP</th>\n",
       "    </tr>\n",
       "  </thead>\n",
       "  <tbody>\n",
       "    <tr>\n",
       "      <th>0</th>\n",
       "      <td>1.0</td>\n",
       "      <td>1.0</td>\n",
       "      <td>0.0</td>\n",
       "      <td>0.0</td>\n",
       "      <td>0.0</td>\n",
       "      <td>0.0</td>\n",
       "      <td>2.0</td>\n",
       "      <td>3.0</td>\n",
       "      <td>2.0</td>\n",
       "      <td>1.0</td>\n",
       "      <td>303.00</td>\n",
       "      <td>3.50</td>\n",
       "      <td>2.66</td>\n",
       "      <td>4.63</td>\n",
       "      <td>2.0</td>\n",
       "      <td>2.0</td>\n",
       "      <td>3.0</td>\n",
       "      <td>2.5</td>\n",
       "      <td>0.00</td>\n",
       "    </tr>\n",
       "    <tr>\n",
       "      <th>1</th>\n",
       "      <td>0.0</td>\n",
       "      <td>0.0</td>\n",
       "      <td>0.0</td>\n",
       "      <td>1.0</td>\n",
       "      <td>0.0</td>\n",
       "      <td>0.0</td>\n",
       "      <td>3.0</td>\n",
       "      <td>1.0</td>\n",
       "      <td>3.0</td>\n",
       "      <td>1.0</td>\n",
       "      <td>707.00</td>\n",
       "      <td>4.00</td>\n",
       "      <td>0.00</td>\n",
       "      <td>0.33</td>\n",
       "      <td>3.0</td>\n",
       "      <td>2.0</td>\n",
       "      <td>2.0</td>\n",
       "      <td>2.5</td>\n",
       "      <td>0.00</td>\n",
       "    </tr>\n",
       "    <tr>\n",
       "      <th>2</th>\n",
       "      <td>1.0</td>\n",
       "      <td>0.0</td>\n",
       "      <td>0.0</td>\n",
       "      <td>1.0</td>\n",
       "      <td>0.0</td>\n",
       "      <td>0.0</td>\n",
       "      <td>3.0</td>\n",
       "      <td>3.0</td>\n",
       "      <td>2.0</td>\n",
       "      <td>1.0</td>\n",
       "      <td>909.00</td>\n",
       "      <td>3.35</td>\n",
       "      <td>2.66</td>\n",
       "      <td>7.00</td>\n",
       "      <td>4.0</td>\n",
       "      <td>7.0</td>\n",
       "      <td>3.0</td>\n",
       "      <td>4.5</td>\n",
       "      <td>0.25</td>\n",
       "    </tr>\n",
       "    <tr>\n",
       "      <th>3</th>\n",
       "      <td>1.0</td>\n",
       "      <td>0.0</td>\n",
       "      <td>0.0</td>\n",
       "      <td>1.0</td>\n",
       "      <td>0.0</td>\n",
       "      <td>0.0</td>\n",
       "      <td>3.0</td>\n",
       "      <td>1.0</td>\n",
       "      <td>3.0</td>\n",
       "      <td>1.0</td>\n",
       "      <td>1818.00</td>\n",
       "      <td>3.10</td>\n",
       "      <td>5.01</td>\n",
       "      <td>7.66</td>\n",
       "      <td>4.0</td>\n",
       "      <td>8.0</td>\n",
       "      <td>2.0</td>\n",
       "      <td>4.5</td>\n",
       "      <td>0.25</td>\n",
       "    </tr>\n",
       "    <tr>\n",
       "      <th>4</th>\n",
       "      <td>1.0</td>\n",
       "      <td>0.0</td>\n",
       "      <td>0.0</td>\n",
       "      <td>1.0</td>\n",
       "      <td>0.0</td>\n",
       "      <td>0.0</td>\n",
       "      <td>3.0</td>\n",
       "      <td>3.0</td>\n",
       "      <td>2.0</td>\n",
       "      <td>1.0</td>\n",
       "      <td>0.00</td>\n",
       "      <td>3.75</td>\n",
       "      <td>4.02</td>\n",
       "      <td>7.70</td>\n",
       "      <td>2.0</td>\n",
       "      <td>2.0</td>\n",
       "      <td>2.0</td>\n",
       "      <td>3.5</td>\n",
       "      <td>0.25</td>\n",
       "    </tr>\n",
       "    <tr>\n",
       "      <th>...</th>\n",
       "      <td>...</td>\n",
       "      <td>...</td>\n",
       "      <td>...</td>\n",
       "      <td>...</td>\n",
       "      <td>...</td>\n",
       "      <td>...</td>\n",
       "      <td>...</td>\n",
       "      <td>...</td>\n",
       "      <td>...</td>\n",
       "      <td>...</td>\n",
       "      <td>...</td>\n",
       "      <td>...</td>\n",
       "      <td>...</td>\n",
       "      <td>...</td>\n",
       "      <td>...</td>\n",
       "      <td>...</td>\n",
       "      <td>...</td>\n",
       "      <td>...</td>\n",
       "      <td>...</td>\n",
       "    </tr>\n",
       "    <tr>\n",
       "      <th>22162</th>\n",
       "      <td>0.0</td>\n",
       "      <td>0.0</td>\n",
       "      <td>1.0</td>\n",
       "      <td>0.0</td>\n",
       "      <td>0.0</td>\n",
       "      <td>0.0</td>\n",
       "      <td>3.0</td>\n",
       "      <td>1.0</td>\n",
       "      <td>2.0</td>\n",
       "      <td>1.0</td>\n",
       "      <td>2727.00</td>\n",
       "      <td>3.50</td>\n",
       "      <td>2.32</td>\n",
       "      <td>4.62</td>\n",
       "      <td>4.0</td>\n",
       "      <td>2.0</td>\n",
       "      <td>3.0</td>\n",
       "      <td>3.5</td>\n",
       "      <td>0.50</td>\n",
       "    </tr>\n",
       "    <tr>\n",
       "      <th>22163</th>\n",
       "      <td>0.0</td>\n",
       "      <td>0.0</td>\n",
       "      <td>1.0</td>\n",
       "      <td>0.0</td>\n",
       "      <td>0.0</td>\n",
       "      <td>0.0</td>\n",
       "      <td>3.0</td>\n",
       "      <td>2.0</td>\n",
       "      <td>2.0</td>\n",
       "      <td>1.0</td>\n",
       "      <td>151.50</td>\n",
       "      <td>3.35</td>\n",
       "      <td>0.00</td>\n",
       "      <td>5.32</td>\n",
       "      <td>4.0</td>\n",
       "      <td>3.0</td>\n",
       "      <td>3.0</td>\n",
       "      <td>4.5</td>\n",
       "      <td>0.25</td>\n",
       "    </tr>\n",
       "    <tr>\n",
       "      <th>22164</th>\n",
       "      <td>0.0</td>\n",
       "      <td>0.0</td>\n",
       "      <td>0.0</td>\n",
       "      <td>0.0</td>\n",
       "      <td>1.0</td>\n",
       "      <td>0.0</td>\n",
       "      <td>3.0</td>\n",
       "      <td>1.0</td>\n",
       "      <td>3.0</td>\n",
       "      <td>1.0</td>\n",
       "      <td>3333.00</td>\n",
       "      <td>3.10</td>\n",
       "      <td>3.33</td>\n",
       "      <td>8.01</td>\n",
       "      <td>4.0</td>\n",
       "      <td>3.0</td>\n",
       "      <td>3.0</td>\n",
       "      <td>3.5</td>\n",
       "      <td>0.50</td>\n",
       "    </tr>\n",
       "    <tr>\n",
       "      <th>22165</th>\n",
       "      <td>1.0</td>\n",
       "      <td>0.0</td>\n",
       "      <td>1.0</td>\n",
       "      <td>0.0</td>\n",
       "      <td>0.0</td>\n",
       "      <td>0.0</td>\n",
       "      <td>2.0</td>\n",
       "      <td>3.0</td>\n",
       "      <td>2.0</td>\n",
       "      <td>1.0</td>\n",
       "      <td>378.75</td>\n",
       "      <td>3.10</td>\n",
       "      <td>3.68</td>\n",
       "      <td>10.68</td>\n",
       "      <td>4.0</td>\n",
       "      <td>4.0</td>\n",
       "      <td>3.0</td>\n",
       "      <td>4.5</td>\n",
       "      <td>0.25</td>\n",
       "    </tr>\n",
       "    <tr>\n",
       "      <th>22166</th>\n",
       "      <td>1.0</td>\n",
       "      <td>0.0</td>\n",
       "      <td>1.0</td>\n",
       "      <td>0.0</td>\n",
       "      <td>0.0</td>\n",
       "      <td>0.0</td>\n",
       "      <td>3.0</td>\n",
       "      <td>3.0</td>\n",
       "      <td>2.0</td>\n",
       "      <td>1.0</td>\n",
       "      <td>545.40</td>\n",
       "      <td>2.60</td>\n",
       "      <td>4.02</td>\n",
       "      <td>8.71</td>\n",
       "      <td>4.0</td>\n",
       "      <td>2.0</td>\n",
       "      <td>3.0</td>\n",
       "      <td>3.5</td>\n",
       "      <td>0.50</td>\n",
       "    </tr>\n",
       "  </tbody>\n",
       "</table>\n",
       "<p>22167 rows × 19 columns</p>\n",
       "</div>"
      ],
      "text/plain": [
       "       MICRODADOS_TP_SEXO_F  MICRODADOS_REGIAO_ESCOLA_Centro-Oeste   \n",
       "0                       1.0                                    1.0  \\\n",
       "1                       0.0                                    0.0   \n",
       "2                       1.0                                    0.0   \n",
       "3                       1.0                                    0.0   \n",
       "4                       1.0                                    0.0   \n",
       "...                     ...                                    ...   \n",
       "22162                   0.0                                    0.0   \n",
       "22163                   0.0                                    0.0   \n",
       "22164                   0.0                                    0.0   \n",
       "22165                   1.0                                    0.0   \n",
       "22166                   1.0                                    0.0   \n",
       "\n",
       "       MICRODADOS_REGIAO_ESCOLA_Nordeste  MICRODADOS_REGIAO_ESCOLA_Norte   \n",
       "0                                    0.0                             0.0  \\\n",
       "1                                    0.0                             1.0   \n",
       "2                                    0.0                             1.0   \n",
       "3                                    0.0                             1.0   \n",
       "4                                    0.0                             1.0   \n",
       "...                                  ...                             ...   \n",
       "22162                                1.0                             0.0   \n",
       "22163                                1.0                             0.0   \n",
       "22164                                0.0                             0.0   \n",
       "22165                                1.0                             0.0   \n",
       "22166                                1.0                             0.0   \n",
       "\n",
       "       MICRODADOS_REGIAO_ESCOLA_Sudeste  MICRODADOS_REGIAO_ESCOLA_Sul   \n",
       "0                                   0.0                           0.0  \\\n",
       "1                                   0.0                           0.0   \n",
       "2                                   0.0                           0.0   \n",
       "3                                   0.0                           0.0   \n",
       "4                                   0.0                           0.0   \n",
       "...                                 ...                           ...   \n",
       "22162                               0.0                           0.0   \n",
       "22163                               0.0                           0.0   \n",
       "22164                               1.0                           0.0   \n",
       "22165                               0.0                           0.0   \n",
       "22166                               0.0                           0.0   \n",
       "\n",
       "       MICRODADOS_TP_FAIXA_ETARIA  MICRODADOS_TP_COR_RACA   \n",
       "0                             2.0                     3.0  \\\n",
       "1                             3.0                     1.0   \n",
       "2                             3.0                     3.0   \n",
       "3                             3.0                     1.0   \n",
       "4                             3.0                     3.0   \n",
       "...                           ...                     ...   \n",
       "22162                         3.0                     1.0   \n",
       "22163                         3.0                     2.0   \n",
       "22164                         3.0                     1.0   \n",
       "22165                         2.0                     3.0   \n",
       "22166                         3.0                     3.0   \n",
       "\n",
       "       MICRODADOS_TP_ESCOLA  MICRODADOS_TP_ENSINO   \n",
       "0                       2.0                   1.0  \\\n",
       "1                       3.0                   1.0   \n",
       "2                       2.0                   1.0   \n",
       "3                       3.0                   1.0   \n",
       "4                       2.0                   1.0   \n",
       "...                     ...                   ...   \n",
       "22162                   2.0                   1.0   \n",
       "22163                   2.0                   1.0   \n",
       "22164                   3.0                   1.0   \n",
       "22165                   2.0                   1.0   \n",
       "22166                   2.0                   1.0   \n",
       "\n",
       "       MICRODADOS_RENDA_PER_CAPITA  HABESTUDO_ST_MAT_PERC_APR   \n",
       "0                           303.00                       3.50  \\\n",
       "1                           707.00                       4.00   \n",
       "2                           909.00                       3.35   \n",
       "3                          1818.00                       3.10   \n",
       "4                             0.00                       3.75   \n",
       "...                            ...                        ...   \n",
       "22162                      2727.00                       3.50   \n",
       "22163                       151.50                       3.35   \n",
       "22164                      3333.00                       3.10   \n",
       "22165                       378.75                       3.10   \n",
       "22166                       545.40                       2.60   \n",
       "\n",
       "       HABESTUDO_GES_TEMP_PLAN_EST  HABESTUDO_PRAT_EST_PES   \n",
       "0                             2.66                    4.63  \\\n",
       "1                             0.00                    0.33   \n",
       "2                             2.66                    7.00   \n",
       "3                             5.01                    7.66   \n",
       "4                             4.02                    7.70   \n",
       "...                            ...                     ...   \n",
       "22162                         2.32                    4.62   \n",
       "22163                         0.00                    5.32   \n",
       "22164                         3.33                    8.01   \n",
       "22165                         3.68                   10.68   \n",
       "22166                         4.02                    8.71   \n",
       "\n",
       "       HABESTUDO_TECN_TP_ACES  HABESTUDO_PROB_ROT_EST  HABESTUDO_DIF_INFR   \n",
       "0                         2.0                     2.0                 3.0  \\\n",
       "1                         3.0                     2.0                 2.0   \n",
       "2                         4.0                     7.0                 3.0   \n",
       "3                         4.0                     8.0                 2.0   \n",
       "4                         2.0                     2.0                 2.0   \n",
       "...                       ...                     ...                 ...   \n",
       "22162                     4.0                     2.0                 3.0   \n",
       "22163                     4.0                     3.0                 3.0   \n",
       "22164                     4.0                     3.0                 3.0   \n",
       "22165                     4.0                     4.0                 3.0   \n",
       "22166                     4.0                     2.0                 3.0   \n",
       "\n",
       "       HABESTUDO_AJUD_TERC  HABESTUDO_AVAL_PROP_EXP  \n",
       "0                      2.5                     0.00  \n",
       "1                      2.5                     0.00  \n",
       "2                      4.5                     0.25  \n",
       "3                      4.5                     0.25  \n",
       "4                      3.5                     0.25  \n",
       "...                    ...                      ...  \n",
       "22162                  3.5                     0.50  \n",
       "22163                  4.5                     0.25  \n",
       "22164                  3.5                     0.50  \n",
       "22165                  4.5                     0.25  \n",
       "22166                  3.5                     0.50  \n",
       "\n",
       "[22167 rows x 19 columns]"
      ]
     },
     "execution_count": 48,
     "metadata": {},
     "output_type": "execute_result"
    }
   ],
   "source": [
    "columns_to_drop = ['MICRODADOS_TP_ST_CONCLUSAO', 'MICRODADOS_TP_ANO_CONCLUIU', 'MICRODADOS_IN_TREINEIRO', 'MICRODADOS_TP_PRESENCA_CN', 'MICRODADOS_TP_PRESENCA_CH', 'MICRODADOS_TP_PRESENCA_LC', 'MICRODADOS_TP_PRESENCA_MT', 'MICRODADOS_TP_SEXO_M', 'MICRODADOS_NU_ACERTOS_MEDIO', 'MICRODADOS_NU_ACERTOS_CN', 'MICRODADOS_NU_ACERTOS_CH', 'MICRODADOS_NU_ACERTOS_LC', 'MICRODADOS_NU_ACERTOS_MT', 'MICRODADOS_NU_NOTA_CN', 'MICRODADOS_NU_NOTA_CH', 'MICRODADOS_NU_NOTA_LC', 'MICRODADOS_NU_NOTA_MT', 'MICRODADOS_NU_NOTA_REDACAO', 'MICRODADOS_TP_STATUS_REDACAO', 'MICRODADOS_NU_NOTA_COMP1', 'MICRODADOS_NU_NOTA_COMP2', 'MICRODADOS_NU_NOTA_COMP3', 'MICRODADOS_NU_NOTA_COMP4', 'MICRODADOS_NU_NOTA_COMP5', 'MICRODADOS_NU_ACERTOS_TOTAL', 'MICRODADOS_TP_LINGUA']\n",
    "\n",
    "X_transformed = X_transformed.drop(columns=columns_to_drop).reset_index(drop=True)\n",
    "X_transformed"
   ]
  },
  {
   "cell_type": "code",
   "execution_count": 49,
   "metadata": {},
   "outputs": [],
   "source": [
    "X_numerical_train, X_numerical_test, y_numerical_train, y_numerical_test = train_test_split(X_transformed, y_numerical_transformed, test_size=0.3, random_state=SEED)\n",
    "\n",
    "X_categorical_train, X_categorical_test, y_categorical_train, y_categorical_test = train_test_split(X_transformed, y_categorical_transformed, test_size=0.3, random_state=SEED)"
   ]
  },
  {
   "attachments": {},
   "cell_type": "markdown",
   "metadata": {},
   "source": [
    "#### **kNN**"
   ]
  },
  {
   "attachments": {},
   "cell_type": "markdown",
   "metadata": {},
   "source": [
    "**Classificador**"
   ]
  },
  {
   "cell_type": "code",
   "execution_count": 70,
   "metadata": {},
   "outputs": [],
   "source": [
    "knn_classifier_pipe = Pipeline(steps=[\n",
    "    ('scaler', StandardScaler()),\n",
    "    ('classifier', KNeighborsClassifier(n_neighbors=3)),\n",
    "])"
   ]
  },
  {
   "cell_type": "code",
   "execution_count": 61,
   "metadata": {},
   "outputs": [
    {
     "data": {
      "text/html": [
       "<style>#sk-container-id-8 {color: black;background-color: white;}#sk-container-id-8 pre{padding: 0;}#sk-container-id-8 div.sk-toggleable {background-color: white;}#sk-container-id-8 label.sk-toggleable__label {cursor: pointer;display: block;width: 100%;margin-bottom: 0;padding: 0.3em;box-sizing: border-box;text-align: center;}#sk-container-id-8 label.sk-toggleable__label-arrow:before {content: \"▸\";float: left;margin-right: 0.25em;color: #696969;}#sk-container-id-8 label.sk-toggleable__label-arrow:hover:before {color: black;}#sk-container-id-8 div.sk-estimator:hover label.sk-toggleable__label-arrow:before {color: black;}#sk-container-id-8 div.sk-toggleable__content {max-height: 0;max-width: 0;overflow: hidden;text-align: left;background-color: #f0f8ff;}#sk-container-id-8 div.sk-toggleable__content pre {margin: 0.2em;color: black;border-radius: 0.25em;background-color: #f0f8ff;}#sk-container-id-8 input.sk-toggleable__control:checked~div.sk-toggleable__content {max-height: 200px;max-width: 100%;overflow: auto;}#sk-container-id-8 input.sk-toggleable__control:checked~label.sk-toggleable__label-arrow:before {content: \"▾\";}#sk-container-id-8 div.sk-estimator input.sk-toggleable__control:checked~label.sk-toggleable__label {background-color: #d4ebff;}#sk-container-id-8 div.sk-label input.sk-toggleable__control:checked~label.sk-toggleable__label {background-color: #d4ebff;}#sk-container-id-8 input.sk-hidden--visually {border: 0;clip: rect(1px 1px 1px 1px);clip: rect(1px, 1px, 1px, 1px);height: 1px;margin: -1px;overflow: hidden;padding: 0;position: absolute;width: 1px;}#sk-container-id-8 div.sk-estimator {font-family: monospace;background-color: #f0f8ff;border: 1px dotted black;border-radius: 0.25em;box-sizing: border-box;margin-bottom: 0.5em;}#sk-container-id-8 div.sk-estimator:hover {background-color: #d4ebff;}#sk-container-id-8 div.sk-parallel-item::after {content: \"\";width: 100%;border-bottom: 1px solid gray;flex-grow: 1;}#sk-container-id-8 div.sk-label:hover label.sk-toggleable__label {background-color: #d4ebff;}#sk-container-id-8 div.sk-serial::before {content: \"\";position: absolute;border-left: 1px solid gray;box-sizing: border-box;top: 0;bottom: 0;left: 50%;z-index: 0;}#sk-container-id-8 div.sk-serial {display: flex;flex-direction: column;align-items: center;background-color: white;padding-right: 0.2em;padding-left: 0.2em;position: relative;}#sk-container-id-8 div.sk-item {position: relative;z-index: 1;}#sk-container-id-8 div.sk-parallel {display: flex;align-items: stretch;justify-content: center;background-color: white;position: relative;}#sk-container-id-8 div.sk-item::before, #sk-container-id-8 div.sk-parallel-item::before {content: \"\";position: absolute;border-left: 1px solid gray;box-sizing: border-box;top: 0;bottom: 0;left: 50%;z-index: -1;}#sk-container-id-8 div.sk-parallel-item {display: flex;flex-direction: column;z-index: 1;position: relative;background-color: white;}#sk-container-id-8 div.sk-parallel-item:first-child::after {align-self: flex-end;width: 50%;}#sk-container-id-8 div.sk-parallel-item:last-child::after {align-self: flex-start;width: 50%;}#sk-container-id-8 div.sk-parallel-item:only-child::after {width: 0;}#sk-container-id-8 div.sk-dashed-wrapped {border: 1px dashed gray;margin: 0 0.4em 0.5em 0.4em;box-sizing: border-box;padding-bottom: 0.4em;background-color: white;}#sk-container-id-8 div.sk-label label {font-family: monospace;font-weight: bold;display: inline-block;line-height: 1.2em;}#sk-container-id-8 div.sk-label-container {text-align: center;}#sk-container-id-8 div.sk-container {/* jupyter's `normalize.less` sets `[hidden] { display: none; }` but bootstrap.min.css set `[hidden] { display: none !important; }` so we also need the `!important` here to be able to override the default hidden behavior on the sphinx rendered scikit-learn.org. See: https://github.com/scikit-learn/scikit-learn/issues/21755 */display: inline-block !important;position: relative;}#sk-container-id-8 div.sk-text-repr-fallback {display: none;}</style><div id=\"sk-container-id-8\" class=\"sk-top-container\"><div class=\"sk-text-repr-fallback\"><pre>Pipeline(steps=[(&#x27;scaler&#x27;, StandardScaler()),\n",
       "                (&#x27;classifier&#x27;, KNeighborsClassifier(n_neighbors=3))])</pre><b>In a Jupyter environment, please rerun this cell to show the HTML representation or trust the notebook. <br />On GitHub, the HTML representation is unable to render, please try loading this page with nbviewer.org.</b></div><div class=\"sk-container\" hidden><div class=\"sk-item sk-dashed-wrapped\"><div class=\"sk-label-container\"><div class=\"sk-label sk-toggleable\"><input class=\"sk-toggleable__control sk-hidden--visually\" id=\"sk-estimator-id-20\" type=\"checkbox\" ><label for=\"sk-estimator-id-20\" class=\"sk-toggleable__label sk-toggleable__label-arrow\">Pipeline</label><div class=\"sk-toggleable__content\"><pre>Pipeline(steps=[(&#x27;scaler&#x27;, StandardScaler()),\n",
       "                (&#x27;classifier&#x27;, KNeighborsClassifier(n_neighbors=3))])</pre></div></div></div><div class=\"sk-serial\"><div class=\"sk-item\"><div class=\"sk-estimator sk-toggleable\"><input class=\"sk-toggleable__control sk-hidden--visually\" id=\"sk-estimator-id-21\" type=\"checkbox\" ><label for=\"sk-estimator-id-21\" class=\"sk-toggleable__label sk-toggleable__label-arrow\">StandardScaler</label><div class=\"sk-toggleable__content\"><pre>StandardScaler()</pre></div></div></div><div class=\"sk-item\"><div class=\"sk-estimator sk-toggleable\"><input class=\"sk-toggleable__control sk-hidden--visually\" id=\"sk-estimator-id-22\" type=\"checkbox\" ><label for=\"sk-estimator-id-22\" class=\"sk-toggleable__label sk-toggleable__label-arrow\">KNeighborsClassifier</label><div class=\"sk-toggleable__content\"><pre>KNeighborsClassifier(n_neighbors=3)</pre></div></div></div></div></div></div></div>"
      ],
      "text/plain": [
       "Pipeline(steps=[('scaler', StandardScaler()),\n",
       "                ('classifier', KNeighborsClassifier(n_neighbors=3))])"
      ]
     },
     "execution_count": 61,
     "metadata": {},
     "output_type": "execute_result"
    }
   ],
   "source": [
    "knn_classifier_pipe.fit(X_categorical_train, y_categorical_train)"
   ]
  },
  {
   "attachments": {},
   "cell_type": "markdown",
   "metadata": {},
   "source": [
    "Acurácia"
   ]
  },
  {
   "cell_type": "code",
   "execution_count": 71,
   "metadata": {},
   "outputs": [
    {
     "data": {
      "text/plain": [
       "0.3341673337690981"
      ]
     },
     "execution_count": 71,
     "metadata": {},
     "output_type": "execute_result"
    }
   ],
   "source": [
    "knn_classifier_accuracy_scores = cross_val_score(knn_classifier_pipe, X_transformed, y_categorical_transformed, cv=5, scoring='balanced_accuracy')\n",
    "knn_classifier_accuracy_scores.mean()"
   ]
  },
  {
   "attachments": {},
   "cell_type": "markdown",
   "metadata": {},
   "source": [
    "Precisão"
   ]
  },
  {
   "cell_type": "code",
   "execution_count": 63,
   "metadata": {},
   "outputs": [
    {
     "data": {
      "text/plain": [
       "0.3415554069490655"
      ]
     },
     "execution_count": 63,
     "metadata": {},
     "output_type": "execute_result"
    }
   ],
   "source": [
    "knn_classifier_precision_scores = cross_val_score(knn_classifier_pipe, X_transformed, y_categorical_transformed, cv=5, scoring='precision_weighted')\n",
    "knn_classifier_precision_scores.mean()"
   ]
  },
  {
   "attachments": {},
   "cell_type": "markdown",
   "metadata": {},
   "source": [
    "Recall"
   ]
  },
  {
   "cell_type": "code",
   "execution_count": 64,
   "metadata": {},
   "outputs": [
    {
     "data": {
      "text/plain": [
       "0.3341453532426512"
      ]
     },
     "execution_count": 64,
     "metadata": {},
     "output_type": "execute_result"
    }
   ],
   "source": [
    "knn_classifier_recall_scores = cross_val_score(knn_classifier_pipe, X_transformed, y_categorical_transformed, cv=5, scoring='recall_weighted')\n",
    "knn_classifier_recall_scores.mean()"
   ]
  },
  {
   "attachments": {},
   "cell_type": "markdown",
   "metadata": {},
   "source": [
    "F1-score"
   ]
  },
  {
   "cell_type": "code",
   "execution_count": 65,
   "metadata": {},
   "outputs": [
    {
     "data": {
      "text/plain": [
       "0.32749725057474977"
      ]
     },
     "execution_count": 65,
     "metadata": {},
     "output_type": "execute_result"
    }
   ],
   "source": [
    "knn_classifier_f1_scores = cross_val_score(knn_classifier_pipe, X_transformed, y_categorical_transformed, cv=5, scoring='f1_weighted')\n",
    "knn_classifier_f1_scores.mean()"
   ]
  },
  {
   "attachments": {},
   "cell_type": "markdown",
   "metadata": {},
   "source": [
    "Matriz de confusão"
   ]
  },
  {
   "cell_type": "code",
   "execution_count": 66,
   "metadata": {},
   "outputs": [
    {
     "data": {
      "image/png": "[encoded data removed]",
      "text/plain": [
       "<Figure size 640x480 with 2 Axes>"
      ]
     },
     "metadata": {},
     "output_type": "display_data"
    }
   ],
   "source": [
    "ConfusionMatrixDisplay.from_estimator(knn_classifier_pipe, X_transformed, y_categorical_transformed, cmap='Blues')\n",
    "plt.show()"
   ]
  },
  {
   "attachments": {},
   "cell_type": "markdown",
   "metadata": {},
   "source": [
    "**Regressor**\n"
   ]
  },
  {
   "cell_type": "code",
   "execution_count": 73,
   "metadata": {},
   "outputs": [],
   "source": [
    "knn_regressor_pipe = Pipeline(steps=[\n",
    "    ('scaler', StandardScaler()),\n",
    "    ('regressor', KNeighborsRegressor(n_neighbors=3)),\n",
    "])"
   ]
  },
  {
   "cell_type": "code",
   "execution_count": 74,
   "metadata": {},
   "outputs": [
    {
     "data": {
      "text/html": [
       "<style>#sk-container-id-9 {color: black;background-color: white;}#sk-container-id-9 pre{padding: 0;}#sk-container-id-9 div.sk-toggleable {background-color: white;}#sk-container-id-9 label.sk-toggleable__label {cursor: pointer;display: block;width: 100%;margin-bottom: 0;padding: 0.3em;box-sizing: border-box;text-align: center;}#sk-container-id-9 label.sk-toggleable__label-arrow:before {content: \"▸\";float: left;margin-right: 0.25em;color: #696969;}#sk-container-id-9 label.sk-toggleable__label-arrow:hover:before {color: black;}#sk-container-id-9 div.sk-estimator:hover label.sk-toggleable__label-arrow:before {color: black;}#sk-container-id-9 div.sk-toggleable__content {max-height: 0;max-width: 0;overflow: hidden;text-align: left;background-color: #f0f8ff;}#sk-container-id-9 div.sk-toggleable__content pre {margin: 0.2em;color: black;border-radius: 0.25em;background-color: #f0f8ff;}#sk-container-id-9 input.sk-toggleable__control:checked~div.sk-toggleable__content {max-height: 200px;max-width: 100%;overflow: auto;}#sk-container-id-9 input.sk-toggleable__control:checked~label.sk-toggleable__label-arrow:before {content: \"▾\";}#sk-container-id-9 div.sk-estimator input.sk-toggleable__control:checked~label.sk-toggleable__label {background-color: #d4ebff;}#sk-container-id-9 div.sk-label input.sk-toggleable__control:checked~label.sk-toggleable__label {background-color: #d4ebff;}#sk-container-id-9 input.sk-hidden--visually {border: 0;clip: rect(1px 1px 1px 1px);clip: rect(1px, 1px, 1px, 1px);height: 1px;margin: -1px;overflow: hidden;padding: 0;position: absolute;width: 1px;}#sk-container-id-9 div.sk-estimator {font-family: monospace;background-color: #f0f8ff;border: 1px dotted black;border-radius: 0.25em;box-sizing: border-box;margin-bottom: 0.5em;}#sk-container-id-9 div.sk-estimator:hover {background-color: #d4ebff;}#sk-container-id-9 div.sk-parallel-item::after {content: \"\";width: 100%;border-bottom: 1px solid gray;flex-grow: 1;}#sk-container-id-9 div.sk-label:hover label.sk-toggleable__label {background-color: #d4ebff;}#sk-container-id-9 div.sk-serial::before {content: \"\";position: absolute;border-left: 1px solid gray;box-sizing: border-box;top: 0;bottom: 0;left: 50%;z-index: 0;}#sk-container-id-9 div.sk-serial {display: flex;flex-direction: column;align-items: center;background-color: white;padding-right: 0.2em;padding-left: 0.2em;position: relative;}#sk-container-id-9 div.sk-item {position: relative;z-index: 1;}#sk-container-id-9 div.sk-parallel {display: flex;align-items: stretch;justify-content: center;background-color: white;position: relative;}#sk-container-id-9 div.sk-item::before, #sk-container-id-9 div.sk-parallel-item::before {content: \"\";position: absolute;border-left: 1px solid gray;box-sizing: border-box;top: 0;bottom: 0;left: 50%;z-index: -1;}#sk-container-id-9 div.sk-parallel-item {display: flex;flex-direction: column;z-index: 1;position: relative;background-color: white;}#sk-container-id-9 div.sk-parallel-item:first-child::after {align-self: flex-end;width: 50%;}#sk-container-id-9 div.sk-parallel-item:last-child::after {align-self: flex-start;width: 50%;}#sk-container-id-9 div.sk-parallel-item:only-child::after {width: 0;}#sk-container-id-9 div.sk-dashed-wrapped {border: 1px dashed gray;margin: 0 0.4em 0.5em 0.4em;box-sizing: border-box;padding-bottom: 0.4em;background-color: white;}#sk-container-id-9 div.sk-label label {font-family: monospace;font-weight: bold;display: inline-block;line-height: 1.2em;}#sk-container-id-9 div.sk-label-container {text-align: center;}#sk-container-id-9 div.sk-container {/* jupyter's `normalize.less` sets `[hidden] { display: none; }` but bootstrap.min.css set `[hidden] { display: none !important; }` so we also need the `!important` here to be able to override the default hidden behavior on the sphinx rendered scikit-learn.org. See: https://github.com/scikit-learn/scikit-learn/issues/21755 */display: inline-block !important;position: relative;}#sk-container-id-9 div.sk-text-repr-fallback {display: none;}</style><div id=\"sk-container-id-9\" class=\"sk-top-container\"><div class=\"sk-text-repr-fallback\"><pre>Pipeline(steps=[(&#x27;scaler&#x27;, StandardScaler()),\n",
       "                (&#x27;regressor&#x27;, KNeighborsRegressor(n_neighbors=3))])</pre><b>In a Jupyter environment, please rerun this cell to show the HTML representation or trust the notebook. <br />On GitHub, the HTML representation is unable to render, please try loading this page with nbviewer.org.</b></div><div class=\"sk-container\" hidden><div class=\"sk-item sk-dashed-wrapped\"><div class=\"sk-label-container\"><div class=\"sk-label sk-toggleable\"><input class=\"sk-toggleable__control sk-hidden--visually\" id=\"sk-estimator-id-23\" type=\"checkbox\" ><label for=\"sk-estimator-id-23\" class=\"sk-toggleable__label sk-toggleable__label-arrow\">Pipeline</label><div class=\"sk-toggleable__content\"><pre>Pipeline(steps=[(&#x27;scaler&#x27;, StandardScaler()),\n",
       "                (&#x27;regressor&#x27;, KNeighborsRegressor(n_neighbors=3))])</pre></div></div></div><div class=\"sk-serial\"><div class=\"sk-item\"><div class=\"sk-estimator sk-toggleable\"><input class=\"sk-toggleable__control sk-hidden--visually\" id=\"sk-estimator-id-24\" type=\"checkbox\" ><label for=\"sk-estimator-id-24\" class=\"sk-toggleable__label sk-toggleable__label-arrow\">StandardScaler</label><div class=\"sk-toggleable__content\"><pre>StandardScaler()</pre></div></div></div><div class=\"sk-item\"><div class=\"sk-estimator sk-toggleable\"><input class=\"sk-toggleable__control sk-hidden--visually\" id=\"sk-estimator-id-25\" type=\"checkbox\" ><label for=\"sk-estimator-id-25\" class=\"sk-toggleable__label sk-toggleable__label-arrow\">KNeighborsRegressor</label><div class=\"sk-toggleable__content\"><pre>KNeighborsRegressor(n_neighbors=3)</pre></div></div></div></div></div></div></div>"
      ],
      "text/plain": [
       "Pipeline(steps=[('scaler', StandardScaler()),\n",
       "                ('regressor', KNeighborsRegressor(n_neighbors=3))])"
      ]
     },
     "execution_count": 74,
     "metadata": {},
     "output_type": "execute_result"
    }
   ],
   "source": [
    "knn_regressor_pipe.fit(X_numerical_train, y_numerical_train)"
   ]
  },
  {
   "attachments": {},
   "cell_type": "markdown",
   "metadata": {},
   "source": [
    "Erro médio absoluto"
   ]
  },
  {
   "cell_type": "code",
   "execution_count": 75,
   "metadata": {},
   "outputs": [
    {
     "data": {
      "text/plain": [
       "65.3357859035053"
      ]
     },
     "execution_count": 75,
     "metadata": {},
     "output_type": "execute_result"
    }
   ],
   "source": [
    "knn_regressor_mae_scores = -1 * cross_val_score(knn_regressor_pipe, X_transformed, y_numerical_transformed, cv=5, scoring='neg_mean_absolute_error')\n",
    "knn_regressor_mae_scores.mean()"
   ]
  },
  {
   "attachments": {},
   "cell_type": "markdown",
   "metadata": {},
   "source": [
    "Raiz Quadrada do Erro Médio"
   ]
  },
  {
   "cell_type": "code",
   "execution_count": 80,
   "metadata": {},
   "outputs": [
    {
     "data": {
      "text/plain": [
       "82.77315460078373"
      ]
     },
     "execution_count": 80,
     "metadata": {},
     "output_type": "execute_result"
    }
   ],
   "source": [
    "knn_regressor_rmse_scores = -1 * cross_val_score(knn_regressor_pipe, X_transformed, y_numerical_transformed, cv=5, scoring='neg_root_mean_squared_error')\n",
    "knn_regressor_rmse_scores.mean()"
   ]
  },
  {
   "attachments": {},
   "cell_type": "markdown",
   "metadata": {},
   "source": [
    "Coeficiente de determinação"
   ]
  },
  {
   "cell_type": "code",
   "execution_count": 81,
   "metadata": {},
   "outputs": [
    {
     "data": {
      "text/plain": [
       "0.05428630205750462"
      ]
     },
     "execution_count": 81,
     "metadata": {},
     "output_type": "execute_result"
    }
   ],
   "source": [
    "knn_regressor_r2_scores = cross_val_score(knn_regressor_pipe, X_transformed, y_numerical_transformed, cv=5, scoring='r2')\n",
    "knn_regressor_r2_scores.mean()"
   ]
  },
  {
   "attachments": {},
   "cell_type": "markdown",
   "metadata": {},
   "source": [
    "Erro percentual absoluto médio"
   ]
  },
  {
   "cell_type": "code",
   "execution_count": 82,
   "metadata": {},
   "outputs": [
    {
     "data": {
      "text/plain": [
       "0.1334434972752196"
      ]
     },
     "execution_count": 82,
     "metadata": {},
     "output_type": "execute_result"
    }
   ],
   "source": [
    "knn_regressor_mape_scores = -1 * cross_val_score(knn_regressor_pipe, X_transformed, y_numerical_transformed, cv=5, scoring='neg_mean_absolute_percentage_error')\n",
    "knn_regressor_mape_scores.mean()"
   ]
  },
  {
   "attachments": {},
   "cell_type": "markdown",
   "metadata": {},
   "source": [
    "#### **Regressão Linear**"
   ]
  },
  {
   "cell_type": "code",
   "execution_count": null,
   "metadata": {},
   "outputs": [],
   "source": []
  },
  {
   "attachments": {},
   "cell_type": "markdown",
   "metadata": {},
   "source": [
    "#### **Regressão Logística**"
   ]
  },
  {
   "cell_type": "code",
   "execution_count": null,
   "metadata": {},
   "outputs": [],
   "source": []
  },
  {
   "attachments": {},
   "cell_type": "markdown",
   "metadata": {},
   "source": [
    "#### **Naive Bayes**"
   ]
  },
  {
   "cell_type": "code",
   "execution_count": null,
   "metadata": {},
   "outputs": [],
   "source": []
  },
  {
   "attachments": {},
   "cell_type": "markdown",
   "metadata": {},
   "source": [
    "#### **SVM**"
   ]
  },
  {
   "cell_type": "code",
   "execution_count": null,
   "metadata": {},
   "outputs": [],
   "source": []
  },
  {
   "attachments": {},
   "cell_type": "markdown",
   "metadata": {},
   "source": [
    "#### **Random Forest**"
   ]
  },
  {
   "attachments": {},
   "cell_type": "markdown",
   "metadata": {},
   "source": [
    "**Classificador**"
   ]
  },
  {
   "cell_type": "code",
   "execution_count": 51,
   "metadata": {},
   "outputs": [],
   "source": [
    "randomforest_classifier_pipe = Pipeline(steps=[\n",
    "    ('scaler', StandardScaler()),\n",
    "    ('classifier', RandomForestClassifier(random_state=SEED)),\n",
    "])"
   ]
  },
  {
   "cell_type": "code",
   "execution_count": 52,
   "metadata": {},
   "outputs": [
    {
     "data": {
      "text/html": [
       "<style>#sk-container-id-6 {color: black;background-color: white;}#sk-container-id-6 pre{padding: 0;}#sk-container-id-6 div.sk-toggleable {background-color: white;}#sk-container-id-6 label.sk-toggleable__label {cursor: pointer;display: block;width: 100%;margin-bottom: 0;padding: 0.3em;box-sizing: border-box;text-align: center;}#sk-container-id-6 label.sk-toggleable__label-arrow:before {content: \"▸\";float: left;margin-right: 0.25em;color: #696969;}#sk-container-id-6 label.sk-toggleable__label-arrow:hover:before {color: black;}#sk-container-id-6 div.sk-estimator:hover label.sk-toggleable__label-arrow:before {color: black;}#sk-container-id-6 div.sk-toggleable__content {max-height: 0;max-width: 0;overflow: hidden;text-align: left;background-color: #f0f8ff;}#sk-container-id-6 div.sk-toggleable__content pre {margin: 0.2em;color: black;border-radius: 0.25em;background-color: #f0f8ff;}#sk-container-id-6 input.sk-toggleable__control:checked~div.sk-toggleable__content {max-height: 200px;max-width: 100%;overflow: auto;}#sk-container-id-6 input.sk-toggleable__control:checked~label.sk-toggleable__label-arrow:before {content: \"▾\";}#sk-container-id-6 div.sk-estimator input.sk-toggleable__control:checked~label.sk-toggleable__label {background-color: #d4ebff;}#sk-container-id-6 div.sk-label input.sk-toggleable__control:checked~label.sk-toggleable__label {background-color: #d4ebff;}#sk-container-id-6 input.sk-hidden--visually {border: 0;clip: rect(1px 1px 1px 1px);clip: rect(1px, 1px, 1px, 1px);height: 1px;margin: -1px;overflow: hidden;padding: 0;position: absolute;width: 1px;}#sk-container-id-6 div.sk-estimator {font-family: monospace;background-color: #f0f8ff;border: 1px dotted black;border-radius: 0.25em;box-sizing: border-box;margin-bottom: 0.5em;}#sk-container-id-6 div.sk-estimator:hover {background-color: #d4ebff;}#sk-container-id-6 div.sk-parallel-item::after {content: \"\";width: 100%;border-bottom: 1px solid gray;flex-grow: 1;}#sk-container-id-6 div.sk-label:hover label.sk-toggleable__label {background-color: #d4ebff;}#sk-container-id-6 div.sk-serial::before {content: \"\";position: absolute;border-left: 1px solid gray;box-sizing: border-box;top: 0;bottom: 0;left: 50%;z-index: 0;}#sk-container-id-6 div.sk-serial {display: flex;flex-direction: column;align-items: center;background-color: white;padding-right: 0.2em;padding-left: 0.2em;position: relative;}#sk-container-id-6 div.sk-item {position: relative;z-index: 1;}#sk-container-id-6 div.sk-parallel {display: flex;align-items: stretch;justify-content: center;background-color: white;position: relative;}#sk-container-id-6 div.sk-item::before, #sk-container-id-6 div.sk-parallel-item::before {content: \"\";position: absolute;border-left: 1px solid gray;box-sizing: border-box;top: 0;bottom: 0;left: 50%;z-index: -1;}#sk-container-id-6 div.sk-parallel-item {display: flex;flex-direction: column;z-index: 1;position: relative;background-color: white;}#sk-container-id-6 div.sk-parallel-item:first-child::after {align-self: flex-end;width: 50%;}#sk-container-id-6 div.sk-parallel-item:last-child::after {align-self: flex-start;width: 50%;}#sk-container-id-6 div.sk-parallel-item:only-child::after {width: 0;}#sk-container-id-6 div.sk-dashed-wrapped {border: 1px dashed gray;margin: 0 0.4em 0.5em 0.4em;box-sizing: border-box;padding-bottom: 0.4em;background-color: white;}#sk-container-id-6 div.sk-label label {font-family: monospace;font-weight: bold;display: inline-block;line-height: 1.2em;}#sk-container-id-6 div.sk-label-container {text-align: center;}#sk-container-id-6 div.sk-container {/* jupyter's `normalize.less` sets `[hidden] { display: none; }` but bootstrap.min.css set `[hidden] { display: none !important; }` so we also need the `!important` here to be able to override the default hidden behavior on the sphinx rendered scikit-learn.org. See: https://github.com/scikit-learn/scikit-learn/issues/21755 */display: inline-block !important;position: relative;}#sk-container-id-6 div.sk-text-repr-fallback {display: none;}</style><div id=\"sk-container-id-6\" class=\"sk-top-container\"><div class=\"sk-text-repr-fallback\"><pre>Pipeline(steps=[(&#x27;scaler&#x27;, StandardScaler()),\n",
       "                (&#x27;classifier&#x27;, RandomForestClassifier(random_state=3))])</pre><b>In a Jupyter environment, please rerun this cell to show the HTML representation or trust the notebook. <br />On GitHub, the HTML representation is unable to render, please try loading this page with nbviewer.org.</b></div><div class=\"sk-container\" hidden><div class=\"sk-item sk-dashed-wrapped\"><div class=\"sk-label-container\"><div class=\"sk-label sk-toggleable\"><input class=\"sk-toggleable__control sk-hidden--visually\" id=\"sk-estimator-id-14\" type=\"checkbox\" ><label for=\"sk-estimator-id-14\" class=\"sk-toggleable__label sk-toggleable__label-arrow\">Pipeline</label><div class=\"sk-toggleable__content\"><pre>Pipeline(steps=[(&#x27;scaler&#x27;, StandardScaler()),\n",
       "                (&#x27;classifier&#x27;, RandomForestClassifier(random_state=3))])</pre></div></div></div><div class=\"sk-serial\"><div class=\"sk-item\"><div class=\"sk-estimator sk-toggleable\"><input class=\"sk-toggleable__control sk-hidden--visually\" id=\"sk-estimator-id-15\" type=\"checkbox\" ><label for=\"sk-estimator-id-15\" class=\"sk-toggleable__label sk-toggleable__label-arrow\">StandardScaler</label><div class=\"sk-toggleable__content\"><pre>StandardScaler()</pre></div></div></div><div class=\"sk-item\"><div class=\"sk-estimator sk-toggleable\"><input class=\"sk-toggleable__control sk-hidden--visually\" id=\"sk-estimator-id-16\" type=\"checkbox\" ><label for=\"sk-estimator-id-16\" class=\"sk-toggleable__label sk-toggleable__label-arrow\">RandomForestClassifier</label><div class=\"sk-toggleable__content\"><pre>RandomForestClassifier(random_state=3)</pre></div></div></div></div></div></div></div>"
      ],
      "text/plain": [
       "Pipeline(steps=[('scaler', StandardScaler()),\n",
       "                ('classifier', RandomForestClassifier(random_state=3))])"
      ]
     },
     "execution_count": 52,
     "metadata": {},
     "output_type": "execute_result"
    }
   ],
   "source": [
    "randomforest_classifier_pipe.fit(X_categorical_train, y_categorical_train)"
   ]
  },
  {
   "cell_type": "code",
   "execution_count": 53,
   "metadata": {},
   "outputs": [
    {
     "data": {
      "text/plain": [
       "0.3937395253152843"
      ]
     },
     "execution_count": 53,
     "metadata": {},
     "output_type": "execute_result"
    }
   ],
   "source": [
    "randomforest_classifier_accuracy_scores = cross_val_score(randomforest_classifier_pipe, X_transformed, y_categorical_transformed, cv=5, scoring='balanced_accuracy')\n",
    "randomforest_classifier_accuracy_scores.mean()"
   ]
  },
  {
   "cell_type": "code",
   "execution_count": 76,
   "metadata": {},
   "outputs": [
    {
     "data": {
      "text/plain": [
       "0.38223161073101763"
      ]
     },
     "execution_count": 76,
     "metadata": {},
     "output_type": "execute_result"
    }
   ],
   "source": [
    "randomforest_classifier_precision_scores = cross_val_score(randomforest_classifier_pipe, X_transformed, y_categorical_transformed, cv=5, scoring='precision_weighted')\n",
    "randomforest_classifier_precision_scores.mean()"
   ]
  },
  {
   "cell_type": "code",
   "execution_count": null,
   "metadata": {},
   "outputs": [],
   "source": [
    "randomforest_classifier_recall_scores = cross_val_score(randomforest_classifier_pipe, X_transformed, y_categorical_transformed, cv=5, scoring='recall_weighted')\n",
    "randomforest_classifier_recall_scores.mean()"
   ]
  },
  {
   "cell_type": "code",
   "execution_count": null,
   "metadata": {},
   "outputs": [],
   "source": [
    "randomforest_classifier_f1_scores = cross_val_score(randomforest_classifier_pipe, X_transformed, y_categorical_transformed, cv=5, scoring='f1_weighted')\n",
    "randomforest_classifier_f1_scores.mean()"
   ]
  },
  {
   "cell_type": "code",
   "execution_count": null,
   "metadata": {},
   "outputs": [],
   "source": [
    "ConfusionMatrixDisplay.from_estimator(randomforest_classifier_pipe, X_transformed, y_categorical_transformed, cmap='Blues')\n",
    "plt.show()"
   ]
  },
  {
   "cell_type": "code",
   "execution_count": null,
   "metadata": {},
   "outputs": [],
   "source": [
    "randomforest_classifier_feature_importances = pd.Series(randomforest_classifier_pipe['classifier'].feature_importances_, index=X_categorical_train.columns)\n",
    "randomforest_classifier_feature_importances = randomforest_classifier_feature_importances.sort_values(ascending=False)\n",
    "randomforest_classifier_feature_importances = randomforest_classifier_feature_importances.apply(lambda x: round(100*x, 2))\n",
    "randomforest_classifier_feature_importances"
   ]
  },
  {
   "attachments": {},
   "cell_type": "markdown",
   "metadata": {},
   "source": [
    "**Regressor**"
   ]
  },
  {
   "cell_type": "code",
   "execution_count": 77,
   "metadata": {},
   "outputs": [],
   "source": [
    "randomforest_regressor_pipe = Pipeline(steps=[\n",
    "    ('scaler', StandardScaler()),\n",
    "    ('regressor', RandomForestRegressor(random_state=SEED)),\n",
    "])"
   ]
  },
  {
   "cell_type": "code",
   "execution_count": 78,
   "metadata": {},
   "outputs": [
    {
     "data": {
      "text/html": [
       "<style>#sk-container-id-10 {color: black;background-color: white;}#sk-container-id-10 pre{padding: 0;}#sk-container-id-10 div.sk-toggleable {background-color: white;}#sk-container-id-10 label.sk-toggleable__label {cursor: pointer;display: block;width: 100%;margin-bottom: 0;padding: 0.3em;box-sizing: border-box;text-align: center;}#sk-container-id-10 label.sk-toggleable__label-arrow:before {content: \"▸\";float: left;margin-right: 0.25em;color: #696969;}#sk-container-id-10 label.sk-toggleable__label-arrow:hover:before {color: black;}#sk-container-id-10 div.sk-estimator:hover label.sk-toggleable__label-arrow:before {color: black;}#sk-container-id-10 div.sk-toggleable__content {max-height: 0;max-width: 0;overflow: hidden;text-align: left;background-color: #f0f8ff;}#sk-container-id-10 div.sk-toggleable__content pre {margin: 0.2em;color: black;border-radius: 0.25em;background-color: #f0f8ff;}#sk-container-id-10 input.sk-toggleable__control:checked~div.sk-toggleable__content {max-height: 200px;max-width: 100%;overflow: auto;}#sk-container-id-10 input.sk-toggleable__control:checked~label.sk-toggleable__label-arrow:before {content: \"▾\";}#sk-container-id-10 div.sk-estimator input.sk-toggleable__control:checked~label.sk-toggleable__label {background-color: #d4ebff;}#sk-container-id-10 div.sk-label input.sk-toggleable__control:checked~label.sk-toggleable__label {background-color: #d4ebff;}#sk-container-id-10 input.sk-hidden--visually {border: 0;clip: rect(1px 1px 1px 1px);clip: rect(1px, 1px, 1px, 1px);height: 1px;margin: -1px;overflow: hidden;padding: 0;position: absolute;width: 1px;}#sk-container-id-10 div.sk-estimator {font-family: monospace;background-color: #f0f8ff;border: 1px dotted black;border-radius: 0.25em;box-sizing: border-box;margin-bottom: 0.5em;}#sk-container-id-10 div.sk-estimator:hover {background-color: #d4ebff;}#sk-container-id-10 div.sk-parallel-item::after {content: \"\";width: 100%;border-bottom: 1px solid gray;flex-grow: 1;}#sk-container-id-10 div.sk-label:hover label.sk-toggleable__label {background-color: #d4ebff;}#sk-container-id-10 div.sk-serial::before {content: \"\";position: absolute;border-left: 1px solid gray;box-sizing: border-box;top: 0;bottom: 0;left: 50%;z-index: 0;}#sk-container-id-10 div.sk-serial {display: flex;flex-direction: column;align-items: center;background-color: white;padding-right: 0.2em;padding-left: 0.2em;position: relative;}#sk-container-id-10 div.sk-item {position: relative;z-index: 1;}#sk-container-id-10 div.sk-parallel {display: flex;align-items: stretch;justify-content: center;background-color: white;position: relative;}#sk-container-id-10 div.sk-item::before, #sk-container-id-10 div.sk-parallel-item::before {content: \"\";position: absolute;border-left: 1px solid gray;box-sizing: border-box;top: 0;bottom: 0;left: 50%;z-index: -1;}#sk-container-id-10 div.sk-parallel-item {display: flex;flex-direction: column;z-index: 1;position: relative;background-color: white;}#sk-container-id-10 div.sk-parallel-item:first-child::after {align-self: flex-end;width: 50%;}#sk-container-id-10 div.sk-parallel-item:last-child::after {align-self: flex-start;width: 50%;}#sk-container-id-10 div.sk-parallel-item:only-child::after {width: 0;}#sk-container-id-10 div.sk-dashed-wrapped {border: 1px dashed gray;margin: 0 0.4em 0.5em 0.4em;box-sizing: border-box;padding-bottom: 0.4em;background-color: white;}#sk-container-id-10 div.sk-label label {font-family: monospace;font-weight: bold;display: inline-block;line-height: 1.2em;}#sk-container-id-10 div.sk-label-container {text-align: center;}#sk-container-id-10 div.sk-container {/* jupyter's `normalize.less` sets `[hidden] { display: none; }` but bootstrap.min.css set `[hidden] { display: none !important; }` so we also need the `!important` here to be able to override the default hidden behavior on the sphinx rendered scikit-learn.org. See: https://github.com/scikit-learn/scikit-learn/issues/21755 */display: inline-block !important;position: relative;}#sk-container-id-10 div.sk-text-repr-fallback {display: none;}</style><div id=\"sk-container-id-10\" class=\"sk-top-container\"><div class=\"sk-text-repr-fallback\"><pre>Pipeline(steps=[(&#x27;scaler&#x27;, StandardScaler()),\n",
       "                (&#x27;regressor&#x27;, RandomForestRegressor(random_state=3))])</pre><b>In a Jupyter environment, please rerun this cell to show the HTML representation or trust the notebook. <br />On GitHub, the HTML representation is unable to render, please try loading this page with nbviewer.org.</b></div><div class=\"sk-container\" hidden><div class=\"sk-item sk-dashed-wrapped\"><div class=\"sk-label-container\"><div class=\"sk-label sk-toggleable\"><input class=\"sk-toggleable__control sk-hidden--visually\" id=\"sk-estimator-id-26\" type=\"checkbox\" ><label for=\"sk-estimator-id-26\" class=\"sk-toggleable__label sk-toggleable__label-arrow\">Pipeline</label><div class=\"sk-toggleable__content\"><pre>Pipeline(steps=[(&#x27;scaler&#x27;, StandardScaler()),\n",
       "                (&#x27;regressor&#x27;, RandomForestRegressor(random_state=3))])</pre></div></div></div><div class=\"sk-serial\"><div class=\"sk-item\"><div class=\"sk-estimator sk-toggleable\"><input class=\"sk-toggleable__control sk-hidden--visually\" id=\"sk-estimator-id-27\" type=\"checkbox\" ><label for=\"sk-estimator-id-27\" class=\"sk-toggleable__label sk-toggleable__label-arrow\">StandardScaler</label><div class=\"sk-toggleable__content\"><pre>StandardScaler()</pre></div></div></div><div class=\"sk-item\"><div class=\"sk-estimator sk-toggleable\"><input class=\"sk-toggleable__control sk-hidden--visually\" id=\"sk-estimator-id-28\" type=\"checkbox\" ><label for=\"sk-estimator-id-28\" class=\"sk-toggleable__label sk-toggleable__label-arrow\">RandomForestRegressor</label><div class=\"sk-toggleable__content\"><pre>RandomForestRegressor(random_state=3)</pre></div></div></div></div></div></div></div>"
      ],
      "text/plain": [
       "Pipeline(steps=[('scaler', StandardScaler()),\n",
       "                ('regressor', RandomForestRegressor(random_state=3))])"
      ]
     },
     "execution_count": 78,
     "metadata": {},
     "output_type": "execute_result"
    }
   ],
   "source": [
    "randomforest_regressor_pipe.fit(X_numerical_train, y_numerical_train)"
   ]
  },
  {
   "cell_type": "code",
   "execution_count": 79,
   "metadata": {},
   "outputs": [
    {
     "data": {
      "text/plain": [
       "57.09945547776239"
      ]
     },
     "execution_count": 79,
     "metadata": {},
     "output_type": "execute_result"
    }
   ],
   "source": [
    "randomforest_regressor_mae_scores = -1 * cross_val_score(randomforest_regressor_pipe, X_transformed, y_numerical_transformed, cv=5, scoring='neg_mean_absolute_error')\n",
    "randomforest_regressor_mae_scores.mean()"
   ]
  },
  {
   "cell_type": "code",
   "execution_count": null,
   "metadata": {},
   "outputs": [],
   "source": [
    "randomforest_regressor_rmse_scores = -1 * cross_val_score(randomforest_regressor_pipe, x_transformed, y_numerical_transformed, cv=5, scoring='neg_root_mean_squared_error')\n",
    "randomforest_regressor_rmse_scores.mean()"
   ]
  },
  {
   "cell_type": "code",
   "execution_count": null,
   "metadata": {},
   "outputs": [],
   "source": [
    "randomforest_regressor_r2_scores = cross_val_score(randomforest_regressor_pipe, X_transformed, y_numerical_transformed, cv=5, scoring='r2')\n",
    "randomforest_regressor_r2_scores.mean()"
   ]
  },
  {
   "cell_type": "code",
   "execution_count": null,
   "metadata": {},
   "outputs": [],
   "source": [
    "randomforest_regressor_mape_scores = -1 * cross_val_score(randomforest_regressor_pipe, X_transformed, y_numerical_transformed, cv=5, scoring='neg_mean_absolute_percentage_error')\n",
    "randomforest_regressor_mape_scores.mean()"
   ]
  },
  {
   "cell_type": "code",
   "execution_count": null,
   "metadata": {},
   "outputs": [],
   "source": [
    "randomforest_regressor_feature_importances = pd.Series(randomforest_regressor_pipe['regressor'].feature_importances_, index=X_numerical_train.columns)\n",
    "randomforest_regressor_feature_importances = randomforest_regressor_feature_importances.sort_values(ascending=False)\n",
    "randomforest_regressor_feature_importances = randomforest_regressor_feature_importances.apply(lambda x: round(100*x, 2))\n",
    "randomforest_regressor_feature_importances"
   ]
  }
 ],
 "metadata": {
  "kernelspec": {
   "display_name": "py311",
   "language": "python",
   "name": "python3"
  },
  "language_info": {
   "codemirror_mode": {
    "name": "ipython",
    "version": 3
   },
   "file_extension": ".py",
   "mimetype": "text/x-python",
   "name": "python",
   "nbconvert_exporter": "python",
   "pygments_lexer": "ipython3",
   "version": "3.10.6"
  },
  "orig_nbformat": 4
 },
 "nbformat": 4,
 "nbformat_minor": 2
}
