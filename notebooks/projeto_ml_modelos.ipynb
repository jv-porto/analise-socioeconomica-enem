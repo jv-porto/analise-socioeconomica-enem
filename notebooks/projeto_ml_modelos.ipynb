{
 "cells": [
  {
   "attachments": {},
   "cell_type": "markdown",
   "metadata": {},
   "source": [
    "# **Projeto: Quais fatores mais influenciam no desempenho de um aluno no ENEM e como podemos ajudá-lo a melhorar sua performance?**\n",
    "\n",
    "**Integrantes:** Hellen Cristine Silva Rosa (RA00319076), João Victor Porto (RA00311353), Laura Gabriel Murayama (RA00319321), Maria Eduarda Bonel Iribarnegaray (RA00318891), Vinícius Ferreira de Mendonça (RA00319760), Vitória de Fátima Teixeira (RA00320578)"
   ]
  },
  {
   "attachments": {},
   "cell_type": "markdown",
   "metadata": {},
   "source": [
    "### **Importando bibliotecas e definindo funções importantes**"
   ]
  },
  {
   "cell_type": "code",
   "execution_count": 75,
   "metadata": {},
   "outputs": [],
   "source": [
    "SEED = 3\n",
    "\n",
    "# loading environment variables\n",
    "from dotenv import load_dotenv\n",
    "load_dotenv()\n",
    "\n",
    "# importing sklearn accelerator\n",
    "from sklearnex import patch_sklearn, unpatch_sklearn\n",
    "\n",
    "# ignoring certain warnings\n",
    "import warnings\n",
    "from sklearn.exceptions import UndefinedMetricWarning\n",
    "warnings.filterwarnings('ignore', category=UndefinedMetricWarning)\n",
    "\n",
    "# importing libraries\n",
    "import os\n",
    "import re\n",
    "import psycopg2\n",
    "import pandas as pd\n",
    "import skops.io as sio\n",
    "import matplotlib.pyplot as plt\n",
    "\n",
    "# importing sklearn functions\n",
    "from sklearn.decomposition import PCA\n",
    "from sklearn.compose import ColumnTransformer\n",
    "from sklearn.pipeline import Pipeline\n",
    "from sklearn.preprocessing import OneHotEncoder, OrdinalEncoder, MinMaxScaler, StandardScaler\n",
    "from sklearn.model_selection import train_test_split\n",
    "from sklearn.model_selection import cross_val_score\n",
    "from sklearn.metrics import classification_report, ConfusionMatrixDisplay\n",
    "from sklearn.naive_bayes import GaussianNB\n",
    "from sklearn.linear_model import LinearRegression\n",
    "from sklearn.svm import SVC, SVR\n",
    "from sklearn.ensemble import RandomForestClassifier, RandomForestRegressor\n",
    "from sklearn.neighbors import KNeighborsClassifier, KNeighborsRegressor\n",
    "from sklearn.linear_model import LogisticRegression\n",
    "from sklearn.model_selection import GridSearchCV, RandomizedSearchCV, KFold"
   ]
  },
  {
   "cell_type": "code",
   "execution_count": 76,
   "metadata": {},
   "outputs": [],
   "source": [
    "# establishing connection with DB\n",
    "class db_connection():\n",
    "    '''\n",
    "    Instantiates a connection with the database.\n",
    "    '''\n",
    "    def __init__(self):\n",
    "        self.DB_URI = os.environ.get('DB_URI')\n",
    "         \n",
    "    def __enter__(self):\n",
    "        self.connection = psycopg2.connect(self.DB_URI)\n",
    "        return self.connection\n",
    "    \n",
    "    def __exit__(self, *args):\n",
    "        self.connection.close()"
   ]
  },
  {
   "attachments": {},
   "cell_type": "markdown",
   "metadata": {},
   "source": [
    "### **REQ#03-11: Treinamento de modelos**\n",
    "\n",
    "Todos os modelos serão testados com 30% dos dados. A avaliação será feita a partir das métricas acurácia, precision, recall, F1 e matriz de confusão. Eles serão persistidos."
   ]
  },
  {
   "cell_type": "code",
   "execution_count": 77,
   "metadata": {},
   "outputs": [
    {
     "data": {
      "text/html": [
       "<div>\n",
       "<style scoped>\n",
       "    .dataframe tbody tr th:only-of-type {\n",
       "        vertical-align: middle;\n",
       "    }\n",
       "\n",
       "    .dataframe tbody tr th {\n",
       "        vertical-align: top;\n",
       "    }\n",
       "\n",
       "    .dataframe thead th {\n",
       "        text-align: right;\n",
       "    }\n",
       "</style>\n",
       "<table border=\"1\" class=\"dataframe\">\n",
       "  <thead>\n",
       "    <tr style=\"text-align: right;\">\n",
       "      <th></th>\n",
       "      <th>NU_INSCRICAO</th>\n",
       "      <th>PARTICIPANTE_TP_FAIXA_ETARIA</th>\n",
       "      <th>PARTICIPANTE_TP_SEXO</th>\n",
       "      <th>PARTICIPANTE_TP_COR_RACA</th>\n",
       "      <th>PARTICIPANTE_REGIAO_ESCOLA</th>\n",
       "      <th>NOTAS_NU_NOTA_MEDIA</th>\n",
       "      <th>NOTAS_NU_NOTA_CONCEITO</th>\n",
       "      <th>PARTICIPANTE_RENDA_PER_CAPITA</th>\n",
       "      <th>HABESTUDO_Q005</th>\n",
       "      <th>HABESTUDO_Q006</th>\n",
       "      <th>...</th>\n",
       "      <th>HABESTUDO_Q028I</th>\n",
       "      <th>HABESTUDO_Q028J</th>\n",
       "      <th>HABESTUDO_Q028K</th>\n",
       "      <th>HABESTUDO_Q028L</th>\n",
       "      <th>HABESTUDO_Q028M</th>\n",
       "      <th>HABESTUDO_Q028N</th>\n",
       "      <th>HABESTUDO_Q028O</th>\n",
       "      <th>HABESTUDO_Q028P</th>\n",
       "      <th>HABESTUDO_Q028Q</th>\n",
       "      <th>HABESTUDO_Q028R</th>\n",
       "    </tr>\n",
       "  </thead>\n",
       "  <tbody>\n",
       "    <tr>\n",
       "      <th>0</th>\n",
       "      <td>210054480429</td>\n",
       "      <td>3</td>\n",
       "      <td>M</td>\n",
       "      <td>1</td>\n",
       "      <td>Norte</td>\n",
       "      <td>485.64</td>\n",
       "      <td>1</td>\n",
       "      <td>707.0</td>\n",
       "      <td>A</td>\n",
       "      <td>A</td>\n",
       "      <td>...</td>\n",
       "      <td>B</td>\n",
       "      <td>B</td>\n",
       "      <td>B</td>\n",
       "      <td>B</td>\n",
       "      <td>B</td>\n",
       "      <td>B</td>\n",
       "      <td>B</td>\n",
       "      <td>B</td>\n",
       "      <td>B</td>\n",
       "      <td>B</td>\n",
       "    </tr>\n",
       "    <tr>\n",
       "      <th>1</th>\n",
       "      <td>210054481135</td>\n",
       "      <td>3</td>\n",
       "      <td>F</td>\n",
       "      <td>1</td>\n",
       "      <td>Norte</td>\n",
       "      <td>652.08</td>\n",
       "      <td>3</td>\n",
       "      <td>1818.0</td>\n",
       "      <td>C</td>\n",
       "      <td>D</td>\n",
       "      <td>...</td>\n",
       "      <td>A</td>\n",
       "      <td>A</td>\n",
       "      <td>B</td>\n",
       "      <td>B</td>\n",
       "      <td>A</td>\n",
       "      <td>B</td>\n",
       "      <td>B</td>\n",
       "      <td>B</td>\n",
       "      <td>B</td>\n",
       "      <td>B</td>\n",
       "    </tr>\n",
       "    <tr>\n",
       "      <th>2</th>\n",
       "      <td>210054482583</td>\n",
       "      <td>2</td>\n",
       "      <td>F</td>\n",
       "      <td>1</td>\n",
       "      <td>Norte</td>\n",
       "      <td>627.22</td>\n",
       "      <td>3</td>\n",
       "      <td>1111.0</td>\n",
       "      <td>C</td>\n",
       "      <td>D</td>\n",
       "      <td>...</td>\n",
       "      <td>B</td>\n",
       "      <td>B</td>\n",
       "      <td>B</td>\n",
       "      <td>B</td>\n",
       "      <td>B</td>\n",
       "      <td>B</td>\n",
       "      <td>B</td>\n",
       "      <td>B</td>\n",
       "      <td>B</td>\n",
       "      <td>B</td>\n",
       "    </tr>\n",
       "    <tr>\n",
       "      <th>3</th>\n",
       "      <td>210054484900</td>\n",
       "      <td>1</td>\n",
       "      <td>M</td>\n",
       "      <td>3</td>\n",
       "      <td>Norte</td>\n",
       "      <td>472.54</td>\n",
       "      <td>1</td>\n",
       "      <td>424.2</td>\n",
       "      <td>B</td>\n",
       "      <td>B</td>\n",
       "      <td>...</td>\n",
       "      <td>B</td>\n",
       "      <td>B</td>\n",
       "      <td>B</td>\n",
       "      <td>A</td>\n",
       "      <td>B</td>\n",
       "      <td>A</td>\n",
       "      <td>B</td>\n",
       "      <td>B</td>\n",
       "      <td>A</td>\n",
       "      <td>B</td>\n",
       "    </tr>\n",
       "    <tr>\n",
       "      <th>4</th>\n",
       "      <td>210054490288</td>\n",
       "      <td>2</td>\n",
       "      <td>M</td>\n",
       "      <td>3</td>\n",
       "      <td>Norte</td>\n",
       "      <td>674.70</td>\n",
       "      <td>3</td>\n",
       "      <td>1818.0</td>\n",
       "      <td>B</td>\n",
       "      <td>B</td>\n",
       "      <td>...</td>\n",
       "      <td>B</td>\n",
       "      <td>B</td>\n",
       "      <td>B</td>\n",
       "      <td>B</td>\n",
       "      <td>B</td>\n",
       "      <td>B</td>\n",
       "      <td>B</td>\n",
       "      <td>B</td>\n",
       "      <td>B</td>\n",
       "      <td>B</td>\n",
       "    </tr>\n",
       "    <tr>\n",
       "      <th>...</th>\n",
       "      <td>...</td>\n",
       "      <td>...</td>\n",
       "      <td>...</td>\n",
       "      <td>...</td>\n",
       "      <td>...</td>\n",
       "      <td>...</td>\n",
       "      <td>...</td>\n",
       "      <td>...</td>\n",
       "      <td>...</td>\n",
       "      <td>...</td>\n",
       "      <td>...</td>\n",
       "      <td>...</td>\n",
       "      <td>...</td>\n",
       "      <td>...</td>\n",
       "      <td>...</td>\n",
       "      <td>...</td>\n",
       "      <td>...</td>\n",
       "      <td>...</td>\n",
       "      <td>...</td>\n",
       "      <td>...</td>\n",
       "      <td>...</td>\n",
       "    </tr>\n",
       "    <tr>\n",
       "      <th>2352</th>\n",
       "      <td>210058018555</td>\n",
       "      <td>2</td>\n",
       "      <td>F</td>\n",
       "      <td>3</td>\n",
       "      <td>Sudeste</td>\n",
       "      <td>440.58</td>\n",
       "      <td>0</td>\n",
       "      <td>3434.0</td>\n",
       "      <td>B</td>\n",
       "      <td>C</td>\n",
       "      <td>...</td>\n",
       "      <td>B</td>\n",
       "      <td>B</td>\n",
       "      <td>B</td>\n",
       "      <td>B</td>\n",
       "      <td>B</td>\n",
       "      <td>B</td>\n",
       "      <td>B</td>\n",
       "      <td>B</td>\n",
       "      <td>B</td>\n",
       "      <td>B</td>\n",
       "    </tr>\n",
       "    <tr>\n",
       "      <th>2353</th>\n",
       "      <td>210058019736</td>\n",
       "      <td>4</td>\n",
       "      <td>F</td>\n",
       "      <td>3</td>\n",
       "      <td>Sudeste</td>\n",
       "      <td>473.86</td>\n",
       "      <td>1</td>\n",
       "      <td>151.5</td>\n",
       "      <td>B</td>\n",
       "      <td>B</td>\n",
       "      <td>...</td>\n",
       "      <td>B</td>\n",
       "      <td>B</td>\n",
       "      <td>B</td>\n",
       "      <td>B</td>\n",
       "      <td>B</td>\n",
       "      <td>B</td>\n",
       "      <td>B</td>\n",
       "      <td>B</td>\n",
       "      <td>B</td>\n",
       "      <td>B</td>\n",
       "    </tr>\n",
       "    <tr>\n",
       "      <th>2354</th>\n",
       "      <td>210058020771</td>\n",
       "      <td>2</td>\n",
       "      <td>F</td>\n",
       "      <td>1</td>\n",
       "      <td>Sul</td>\n",
       "      <td>464.94</td>\n",
       "      <td>1</td>\n",
       "      <td>424.2</td>\n",
       "      <td>B</td>\n",
       "      <td>B</td>\n",
       "      <td>...</td>\n",
       "      <td>B</td>\n",
       "      <td>B</td>\n",
       "      <td>B</td>\n",
       "      <td>B</td>\n",
       "      <td>B</td>\n",
       "      <td>B</td>\n",
       "      <td>B</td>\n",
       "      <td>B</td>\n",
       "      <td>B</td>\n",
       "      <td>B</td>\n",
       "    </tr>\n",
       "    <tr>\n",
       "      <th>2355</th>\n",
       "      <td>210058021639</td>\n",
       "      <td>2</td>\n",
       "      <td>F</td>\n",
       "      <td>1</td>\n",
       "      <td>Nordeste</td>\n",
       "      <td>623.64</td>\n",
       "      <td>3</td>\n",
       "      <td>1363.5</td>\n",
       "      <td>C</td>\n",
       "      <td>C</td>\n",
       "      <td>...</td>\n",
       "      <td>B</td>\n",
       "      <td>B</td>\n",
       "      <td>B</td>\n",
       "      <td>B</td>\n",
       "      <td>B</td>\n",
       "      <td>B</td>\n",
       "      <td>B</td>\n",
       "      <td>B</td>\n",
       "      <td>B</td>\n",
       "      <td>B</td>\n",
       "    </tr>\n",
       "    <tr>\n",
       "      <th>2356</th>\n",
       "      <td>210058025427</td>\n",
       "      <td>3</td>\n",
       "      <td>M</td>\n",
       "      <td>1</td>\n",
       "      <td>Sudeste</td>\n",
       "      <td>617.40</td>\n",
       "      <td>3</td>\n",
       "      <td>3333.0</td>\n",
       "      <td>B</td>\n",
       "      <td>B</td>\n",
       "      <td>...</td>\n",
       "      <td>B</td>\n",
       "      <td>B</td>\n",
       "      <td>B</td>\n",
       "      <td>B</td>\n",
       "      <td>B</td>\n",
       "      <td>B</td>\n",
       "      <td>B</td>\n",
       "      <td>B</td>\n",
       "      <td>B</td>\n",
       "      <td>B</td>\n",
       "    </tr>\n",
       "  </tbody>\n",
       "</table>\n",
       "<p>2357 rows × 47 columns</p>\n",
       "</div>"
      ],
      "text/plain": [
       "      NU_INSCRICAO  PARTICIPANTE_TP_FAIXA_ETARIA PARTICIPANTE_TP_SEXO  \\\n",
       "0     210054480429                             3                    M   \n",
       "1     210054481135                             3                    F   \n",
       "2     210054482583                             2                    F   \n",
       "3     210054484900                             1                    M   \n",
       "4     210054490288                             2                    M   \n",
       "...            ...                           ...                  ...   \n",
       "2352  210058018555                             2                    F   \n",
       "2353  210058019736                             4                    F   \n",
       "2354  210058020771                             2                    F   \n",
       "2355  210058021639                             2                    F   \n",
       "2356  210058025427                             3                    M   \n",
       "\n",
       "      PARTICIPANTE_TP_COR_RACA PARTICIPANTE_REGIAO_ESCOLA  \\\n",
       "0                            1                      Norte   \n",
       "1                            1                      Norte   \n",
       "2                            1                      Norte   \n",
       "3                            3                      Norte   \n",
       "4                            3                      Norte   \n",
       "...                        ...                        ...   \n",
       "2352                         3                    Sudeste   \n",
       "2353                         3                    Sudeste   \n",
       "2354                         1                        Sul   \n",
       "2355                         1                   Nordeste   \n",
       "2356                         1                    Sudeste   \n",
       "\n",
       "      NOTAS_NU_NOTA_MEDIA  NOTAS_NU_NOTA_CONCEITO  \\\n",
       "0                  485.64                       1   \n",
       "1                  652.08                       3   \n",
       "2                  627.22                       3   \n",
       "3                  472.54                       1   \n",
       "4                  674.70                       3   \n",
       "...                   ...                     ...   \n",
       "2352               440.58                       0   \n",
       "2353               473.86                       1   \n",
       "2354               464.94                       1   \n",
       "2355               623.64                       3   \n",
       "2356               617.40                       3   \n",
       "\n",
       "      PARTICIPANTE_RENDA_PER_CAPITA HABESTUDO_Q005 HABESTUDO_Q006  ...  \\\n",
       "0                             707.0              A              A  ...   \n",
       "1                            1818.0              C              D  ...   \n",
       "2                            1111.0              C              D  ...   \n",
       "3                             424.2              B              B  ...   \n",
       "4                            1818.0              B              B  ...   \n",
       "...                             ...            ...            ...  ...   \n",
       "2352                         3434.0              B              C  ...   \n",
       "2353                          151.5              B              B  ...   \n",
       "2354                          424.2              B              B  ...   \n",
       "2355                         1363.5              C              C  ...   \n",
       "2356                         3333.0              B              B  ...   \n",
       "\n",
       "     HABESTUDO_Q028I HABESTUDO_Q028J HABESTUDO_Q028K HABESTUDO_Q028L  \\\n",
       "0                  B               B               B               B   \n",
       "1                  A               A               B               B   \n",
       "2                  B               B               B               B   \n",
       "3                  B               B               B               A   \n",
       "4                  B               B               B               B   \n",
       "...              ...             ...             ...             ...   \n",
       "2352               B               B               B               B   \n",
       "2353               B               B               B               B   \n",
       "2354               B               B               B               B   \n",
       "2355               B               B               B               B   \n",
       "2356               B               B               B               B   \n",
       "\n",
       "     HABESTUDO_Q028M HABESTUDO_Q028N HABESTUDO_Q028O HABESTUDO_Q028P  \\\n",
       "0                  B               B               B               B   \n",
       "1                  A               B               B               B   \n",
       "2                  B               B               B               B   \n",
       "3                  B               A               B               B   \n",
       "4                  B               B               B               B   \n",
       "...              ...             ...             ...             ...   \n",
       "2352               B               B               B               B   \n",
       "2353               B               B               B               B   \n",
       "2354               B               B               B               B   \n",
       "2355               B               B               B               B   \n",
       "2356               B               B               B               B   \n",
       "\n",
       "     HABESTUDO_Q028Q HABESTUDO_Q028R  \n",
       "0                  B               B  \n",
       "1                  B               B  \n",
       "2                  B               B  \n",
       "3                  A               B  \n",
       "4                  B               B  \n",
       "...              ...             ...  \n",
       "2352               B               B  \n",
       "2353               B               B  \n",
       "2354               B               B  \n",
       "2355               B               B  \n",
       "2356               B               B  \n",
       "\n",
       "[2357 rows x 47 columns]"
      ]
     },
     "execution_count": 77,
     "metadata": {},
     "output_type": "execute_result"
    }
   ],
   "source": [
    "with db_connection() as conn, conn.cursor() as cursor:\n",
    "    query = '''\n",
    "    SELECT *\n",
    "    FROM projeto_enem.complete_private_data\n",
    "    ORDER BY \"NU_INSCRICAO\" ASC;\n",
    "    '''\n",
    "\n",
    "    cursor.execute(query)\n",
    "    complete_private_data_fetched = cursor.fetchall()\n",
    "    complete_private_data_columns = tuple(desc[0] for desc in cursor.description)\n",
    "\n",
    "\n",
    "complete_private_data = pd.DataFrame(complete_private_data_fetched, columns=complete_private_data_columns)\n",
    "complete_private_data"
   ]
  },
  {
   "attachments": {},
   "cell_type": "markdown",
   "metadata": {},
   "source": [
    "#### **Pré-processamento**"
   ]
  },
  {
   "attachments": {},
   "cell_type": "markdown",
   "metadata": {},
   "source": [
    "**ordinal:** 'HABESTUDO_Q005', 'HABESTUDO_Q006', 'HABESTUDO_Q007', 'HABESTUDO_Q008', 'HABESTUDO_Q021', 'HABESTUDO_Q022', 'HABESTUDO_Q009', 'HABESTUDO_Q010', 'HABESTUDO_Q011', 'HABESTUDO_Q012', 'HABESTUDO_Q013', 'HABESTUDO_Q014', 'HABESTUDO_Q015', 'HABESTUDO_Q016', 'HABESTUDO_Q017', 'HABESTUDO_Q018', 'HABESTUDO_Q019', 'HABESTUDO_Q020', 'HABESTUDO_Q023', 'HABESTUDO_Q024', 'HABESTUDO_Q027', 'HABESTUDO_Q028A', 'HABESTUDO_Q028B', 'HABESTUDO_Q028C', 'HABESTUDO_Q028D', 'HABESTUDO_Q028E', 'HABESTUDO_Q028F', 'HABESTUDO_Q028G', 'HABESTUDO_Q028H', 'HABESTUDO_Q028I', 'HABESTUDO_Q028J', 'HABESTUDO_Q028K', 'HABESTUDO_Q028L', 'HABESTUDO_Q028M', 'HABESTUDO_Q028N', 'HABESTUDO_Q028O', 'HABESTUDO_Q028P', 'HABESTUDO_Q028Q', 'HABESTUDO_Q028R'\n",
    "\n",
    "**nominal:** 'MICRODADOS_TP_SEXO', 'MICRODADOS_REGIAO_ESCOLA'\n",
    "\n",
    "**numerical:** 'NU_INSCRICAO', 'MICRODADOS_TP_FAIXA_ETARIA', 'MICRODADOS_TP_COR_RACA', 'MICRODADOS_TP_ST_CONCLUSAO', 'MICRODADOS_TP_ANO_CONCLUIU', 'MICRODADOS_TP_ESCOLA', 'MICRODADOS_IN_TREINEIRO', 'MICRODADOS_TP_PRESENCA_CN', 'MICRODADOS_TP_PRESENCA_CH', 'MICRODADOS_TP_PRESENCA_LC', 'MICRODADOS_TP_PRESENCA_MT', 'MICRODADOS_NU_NOTA_CN', 'MICRODADOS_NU_NOTA_CH', 'MICRODADOS_NU_NOTA_LC', 'MICRODADOS_NU_NOTA_MT', 'MICRODADOS_NU_NOTA_REDACAO', 'MICRODADOS_TP_STATUS_REDACAO', 'MICRODADOS_NU_NOTA_COMP1', 'MICRODADOS_NU_NOTA_COMP2', 'MICRODADOS_NU_NOTA_COMP3', 'MICRODADOS_NU_NOTA_COMP4', 'MICRODADOS_NU_NOTA_COMP5', 'MICRODADOS_NU_NOTA_MEDIA', 'MICRODADOS_NU_NOTA_CONCEITO', 'MICRODADOS_NU_ACERTOS_CN', 'MICRODADOS_NU_ACERTOS_CH', 'MICRODADOS_NU_ACERTOS_LC', 'MICRODADOS_NU_ACERTOS_MT', 'MICRODADOS_NU_ACERTOS_TOTAL', 'MICRODADOS_NU_ACERTOS_MEDIO', 'MICRODADOS_TP_LINGUA', 'MICRODADOS_RENDA_PER_CAPITA'"
   ]
  },
  {
   "cell_type": "code",
   "execution_count": 78,
   "metadata": {},
   "outputs": [],
   "source": [
    "ordinal_features = ['HABESTUDO_Q005', 'HABESTUDO_Q006', 'HABESTUDO_Q007', 'HABESTUDO_Q008', 'HABESTUDO_Q021', 'HABESTUDO_Q022', 'HABESTUDO_Q009', 'HABESTUDO_Q010', 'HABESTUDO_Q011', 'HABESTUDO_Q012', 'HABESTUDO_Q013', 'HABESTUDO_Q014', 'HABESTUDO_Q015', 'HABESTUDO_Q016', 'HABESTUDO_Q017', 'HABESTUDO_Q018', 'HABESTUDO_Q019', 'HABESTUDO_Q020', 'HABESTUDO_Q023', 'HABESTUDO_Q024', 'HABESTUDO_Q027', 'HABESTUDO_Q028A', 'HABESTUDO_Q028B', 'HABESTUDO_Q028C', 'HABESTUDO_Q028D', 'HABESTUDO_Q028E', 'HABESTUDO_Q028F', 'HABESTUDO_Q028G', 'HABESTUDO_Q028H', 'HABESTUDO_Q028I', 'HABESTUDO_Q028J', 'HABESTUDO_Q028K', 'HABESTUDO_Q028L', 'HABESTUDO_Q028M', 'HABESTUDO_Q028N', 'HABESTUDO_Q028O', 'HABESTUDO_Q028P', 'HABESTUDO_Q028Q', 'HABESTUDO_Q028R']\n",
    "nominal_features = list(set(complete_private_data.select_dtypes(include='object').columns.values) - set(ordinal_features))\n",
    "numerical_features = list(set(complete_private_data.select_dtypes(exclude='object').columns.values) - set(ordinal_features))"
   ]
  },
  {
   "cell_type": "code",
   "execution_count": 79,
   "metadata": {},
   "outputs": [],
   "source": [
    "ordinal_transformer = Pipeline(steps=[\n",
    "    ('encoder', OrdinalEncoder(categories=[\n",
    "        ('A', 'B', 'C', 'D'),   # HABESTUDO_Q005\n",
    "        ('A', 'B', 'C', 'D'),   # HABESTUDO_Q006\n",
    "        ('A', 'B', 'C', 'D'),   # HABESTUDO_Q007\n",
    "        ('A', 'B', 'C', 'D'),   # HABESTUDO_Q008\n",
    "        ('A', 'B', 'C', 'D'),   # HABESTUDO_Q021\n",
    "        ('A', 'B', 'C', 'D'),   # HABESTUDO_Q022\n",
    "        ('A', 'B', 'C', 'D'),   # HABESTUDO_Q009\n",
    "        ('A', 'B', 'C', 'D'),   # HABESTUDO_Q010\n",
    "        ('A', 'B', 'C', 'D'),   # HABESTUDO_Q011\n",
    "        ('A', 'B', 'C', 'D'),   # HABESTUDO_Q012\n",
    "        ('A', 'B', 'C', 'D'),   # HABESTUDO_Q013\n",
    "        ('A', 'B', 'C', 'D'),   # HABESTUDO_Q014\n",
    "        ('A', 'B', 'C', 'D'),   # HABESTUDO_Q015\n",
    "        ('A', 'B', 'C', 'D'),   # HABESTUDO_Q016\n",
    "        ('A', 'B', 'C', 'D'),   # HABESTUDO_Q017\n",
    "        ('A', 'B', 'C', 'D'),   # HABESTUDO_Q018\n",
    "        ('A', 'B', 'C', 'D'),   # HABESTUDO_Q019\n",
    "        ('A', 'B', 'C', 'D'),   # HABESTUDO_Q020\n",
    "        ('A', 'B', 'C', 'D'),   # HABESTUDO_Q023\n",
    "        ('A', 'B', 'C', 'D'),   # HABESTUDO_Q024\n",
    "        ('B', 'A'),   # HABESTUDO_Q027\n",
    "        ('B', 'A'),   # HABESTUDO_Q028A\n",
    "        ('B', 'A'),   # HABESTUDO_Q028B\n",
    "        ('B', 'A'),   # HABESTUDO_Q028C\n",
    "        ('B', 'A'),   # HABESTUDO_Q028D\n",
    "        ('B', 'A'),   # HABESTUDO_Q028E\n",
    "        ('B', 'A'),   # HABESTUDO_Q028F\n",
    "        ('B', 'A'),   # HABESTUDO_Q028G\n",
    "        ('B', 'A'),   # HABESTUDO_Q028H\n",
    "        ('B', 'A'),   # HABESTUDO_Q028I\n",
    "        ('B', 'A'),   # HABESTUDO_Q028J\n",
    "        ('B', 'A'),   # HABESTUDO_Q028K\n",
    "        ('B', 'A'),   # HABESTUDO_Q028L\n",
    "        ('B', 'A'),   # HABESTUDO_Q028M\n",
    "        ('B', 'A'),   # HABESTUDO_Q028N\n",
    "        ('B', 'A'),   # HABESTUDO_Q028O\n",
    "        ('B', 'A'),   # HABESTUDO_Q028P\n",
    "        ('B', 'A'),   # HABESTUDO_Q028Q\n",
    "        ('B', 'A'),   # HABESTUDO_Q028R\n",
    "    ])),\n",
    "])\n",
    "\n",
    "nominal_transformer = Pipeline(steps=[\n",
    "    ('encoder', OneHotEncoder()),\n",
    "])\n",
    "\n",
    "preprocessor = ColumnTransformer(transformers=[\n",
    "    ('ordinal', ordinal_transformer, ordinal_features),\n",
    "    ('nominal', nominal_transformer, nominal_features),\n",
    "], remainder='passthrough')"
   ]
  },
  {
   "cell_type": "code",
   "execution_count": 88,
   "metadata": {},
   "outputs": [],
   "source": [
    "sio.dump(preprocessor, '../sklearn/preprocessor.skops')"
   ]
  },
  {
   "cell_type": "code",
   "execution_count": 80,
   "metadata": {},
   "outputs": [],
   "source": [
    "X = complete_private_data.drop(columns=['NU_INSCRICAO', 'NOTAS_NU_NOTA_MEDIA', 'NOTAS_NU_NOTA_CONCEITO'])\n",
    "\n",
    "X_transformed = preprocessor.fit_transform(X)\n",
    "y_numerical_transformed = complete_private_data['NOTAS_NU_NOTA_MEDIA']\n",
    "y_categorical_transformed = complete_private_data['NOTAS_NU_NOTA_CONCEITO']"
   ]
  },
  {
   "cell_type": "code",
   "execution_count": 81,
   "metadata": {},
   "outputs": [],
   "source": [
    "preprocessor_feature_names = preprocessor.get_feature_names_out()\n",
    "preprocessor_feature_names = [re.sub(r'.+__', '', item) for item in preprocessor_feature_names]"
   ]
  },
  {
   "cell_type": "code",
   "execution_count": 82,
   "metadata": {},
   "outputs": [
    {
     "data": {
      "text/html": [
       "<div>\n",
       "<style scoped>\n",
       "    .dataframe tbody tr th:only-of-type {\n",
       "        vertical-align: middle;\n",
       "    }\n",
       "\n",
       "    .dataframe tbody tr th {\n",
       "        vertical-align: top;\n",
       "    }\n",
       "\n",
       "    .dataframe thead th {\n",
       "        text-align: right;\n",
       "    }\n",
       "</style>\n",
       "<table border=\"1\" class=\"dataframe\">\n",
       "  <thead>\n",
       "    <tr style=\"text-align: right;\">\n",
       "      <th></th>\n",
       "      <th>HABESTUDO_Q005</th>\n",
       "      <th>HABESTUDO_Q006</th>\n",
       "      <th>HABESTUDO_Q007</th>\n",
       "      <th>HABESTUDO_Q008</th>\n",
       "      <th>HABESTUDO_Q021</th>\n",
       "      <th>HABESTUDO_Q022</th>\n",
       "      <th>HABESTUDO_Q009</th>\n",
       "      <th>HABESTUDO_Q010</th>\n",
       "      <th>HABESTUDO_Q011</th>\n",
       "      <th>HABESTUDO_Q012</th>\n",
       "      <th>...</th>\n",
       "      <th>HABESTUDO_Q028R</th>\n",
       "      <th>PARTICIPANTE_TP_SEXO_F</th>\n",
       "      <th>PARTICIPANTE_REGIAO_ESCOLA_Centro-Oeste</th>\n",
       "      <th>PARTICIPANTE_REGIAO_ESCOLA_Nordeste</th>\n",
       "      <th>PARTICIPANTE_REGIAO_ESCOLA_Norte</th>\n",
       "      <th>PARTICIPANTE_REGIAO_ESCOLA_Sudeste</th>\n",
       "      <th>PARTICIPANTE_REGIAO_ESCOLA_Sul</th>\n",
       "      <th>PARTICIPANTE_TP_FAIXA_ETARIA</th>\n",
       "      <th>PARTICIPANTE_TP_COR_RACA</th>\n",
       "      <th>PARTICIPANTE_RENDA_PER_CAPITA</th>\n",
       "    </tr>\n",
       "  </thead>\n",
       "  <tbody>\n",
       "    <tr>\n",
       "      <th>0</th>\n",
       "      <td>0.0</td>\n",
       "      <td>0.0</td>\n",
       "      <td>0.0</td>\n",
       "      <td>0.0</td>\n",
       "      <td>0.0</td>\n",
       "      <td>0.0</td>\n",
       "      <td>0.0</td>\n",
       "      <td>1.0</td>\n",
       "      <td>0.0</td>\n",
       "      <td>0.0</td>\n",
       "      <td>...</td>\n",
       "      <td>0.0</td>\n",
       "      <td>0.0</td>\n",
       "      <td>0.0</td>\n",
       "      <td>0.0</td>\n",
       "      <td>1.0</td>\n",
       "      <td>0.0</td>\n",
       "      <td>0.0</td>\n",
       "      <td>3.0</td>\n",
       "      <td>1.0</td>\n",
       "      <td>707.0</td>\n",
       "    </tr>\n",
       "    <tr>\n",
       "      <th>1</th>\n",
       "      <td>2.0</td>\n",
       "      <td>3.0</td>\n",
       "      <td>3.0</td>\n",
       "      <td>3.0</td>\n",
       "      <td>2.0</td>\n",
       "      <td>2.0</td>\n",
       "      <td>2.0</td>\n",
       "      <td>2.0</td>\n",
       "      <td>3.0</td>\n",
       "      <td>2.0</td>\n",
       "      <td>...</td>\n",
       "      <td>0.0</td>\n",
       "      <td>1.0</td>\n",
       "      <td>0.0</td>\n",
       "      <td>0.0</td>\n",
       "      <td>1.0</td>\n",
       "      <td>0.0</td>\n",
       "      <td>0.0</td>\n",
       "      <td>3.0</td>\n",
       "      <td>1.0</td>\n",
       "      <td>1818.0</td>\n",
       "    </tr>\n",
       "    <tr>\n",
       "      <th>2</th>\n",
       "      <td>2.0</td>\n",
       "      <td>3.0</td>\n",
       "      <td>3.0</td>\n",
       "      <td>2.0</td>\n",
       "      <td>2.0</td>\n",
       "      <td>2.0</td>\n",
       "      <td>2.0</td>\n",
       "      <td>3.0</td>\n",
       "      <td>2.0</td>\n",
       "      <td>2.0</td>\n",
       "      <td>...</td>\n",
       "      <td>0.0</td>\n",
       "      <td>1.0</td>\n",
       "      <td>0.0</td>\n",
       "      <td>0.0</td>\n",
       "      <td>1.0</td>\n",
       "      <td>0.0</td>\n",
       "      <td>0.0</td>\n",
       "      <td>2.0</td>\n",
       "      <td>1.0</td>\n",
       "      <td>1111.0</td>\n",
       "    </tr>\n",
       "    <tr>\n",
       "      <th>3</th>\n",
       "      <td>1.0</td>\n",
       "      <td>1.0</td>\n",
       "      <td>1.0</td>\n",
       "      <td>1.0</td>\n",
       "      <td>0.0</td>\n",
       "      <td>1.0</td>\n",
       "      <td>1.0</td>\n",
       "      <td>1.0</td>\n",
       "      <td>2.0</td>\n",
       "      <td>2.0</td>\n",
       "      <td>...</td>\n",
       "      <td>0.0</td>\n",
       "      <td>0.0</td>\n",
       "      <td>0.0</td>\n",
       "      <td>0.0</td>\n",
       "      <td>1.0</td>\n",
       "      <td>0.0</td>\n",
       "      <td>0.0</td>\n",
       "      <td>1.0</td>\n",
       "      <td>3.0</td>\n",
       "      <td>424.2</td>\n",
       "    </tr>\n",
       "    <tr>\n",
       "      <th>4</th>\n",
       "      <td>1.0</td>\n",
       "      <td>1.0</td>\n",
       "      <td>1.0</td>\n",
       "      <td>1.0</td>\n",
       "      <td>1.0</td>\n",
       "      <td>1.0</td>\n",
       "      <td>1.0</td>\n",
       "      <td>1.0</td>\n",
       "      <td>1.0</td>\n",
       "      <td>1.0</td>\n",
       "      <td>...</td>\n",
       "      <td>0.0</td>\n",
       "      <td>0.0</td>\n",
       "      <td>0.0</td>\n",
       "      <td>0.0</td>\n",
       "      <td>1.0</td>\n",
       "      <td>0.0</td>\n",
       "      <td>0.0</td>\n",
       "      <td>2.0</td>\n",
       "      <td>3.0</td>\n",
       "      <td>1818.0</td>\n",
       "    </tr>\n",
       "    <tr>\n",
       "      <th>...</th>\n",
       "      <td>...</td>\n",
       "      <td>...</td>\n",
       "      <td>...</td>\n",
       "      <td>...</td>\n",
       "      <td>...</td>\n",
       "      <td>...</td>\n",
       "      <td>...</td>\n",
       "      <td>...</td>\n",
       "      <td>...</td>\n",
       "      <td>...</td>\n",
       "      <td>...</td>\n",
       "      <td>...</td>\n",
       "      <td>...</td>\n",
       "      <td>...</td>\n",
       "      <td>...</td>\n",
       "      <td>...</td>\n",
       "      <td>...</td>\n",
       "      <td>...</td>\n",
       "      <td>...</td>\n",
       "      <td>...</td>\n",
       "      <td>...</td>\n",
       "    </tr>\n",
       "    <tr>\n",
       "      <th>2352</th>\n",
       "      <td>1.0</td>\n",
       "      <td>2.0</td>\n",
       "      <td>2.0</td>\n",
       "      <td>2.0</td>\n",
       "      <td>2.0</td>\n",
       "      <td>2.0</td>\n",
       "      <td>2.0</td>\n",
       "      <td>2.0</td>\n",
       "      <td>2.0</td>\n",
       "      <td>2.0</td>\n",
       "      <td>...</td>\n",
       "      <td>0.0</td>\n",
       "      <td>1.0</td>\n",
       "      <td>0.0</td>\n",
       "      <td>0.0</td>\n",
       "      <td>0.0</td>\n",
       "      <td>1.0</td>\n",
       "      <td>0.0</td>\n",
       "      <td>2.0</td>\n",
       "      <td>3.0</td>\n",
       "      <td>3434.0</td>\n",
       "    </tr>\n",
       "    <tr>\n",
       "      <th>2353</th>\n",
       "      <td>1.0</td>\n",
       "      <td>1.0</td>\n",
       "      <td>1.0</td>\n",
       "      <td>2.0</td>\n",
       "      <td>3.0</td>\n",
       "      <td>2.0</td>\n",
       "      <td>2.0</td>\n",
       "      <td>2.0</td>\n",
       "      <td>2.0</td>\n",
       "      <td>2.0</td>\n",
       "      <td>...</td>\n",
       "      <td>0.0</td>\n",
       "      <td>1.0</td>\n",
       "      <td>0.0</td>\n",
       "      <td>0.0</td>\n",
       "      <td>0.0</td>\n",
       "      <td>1.0</td>\n",
       "      <td>0.0</td>\n",
       "      <td>4.0</td>\n",
       "      <td>3.0</td>\n",
       "      <td>151.5</td>\n",
       "    </tr>\n",
       "    <tr>\n",
       "      <th>2354</th>\n",
       "      <td>1.0</td>\n",
       "      <td>1.0</td>\n",
       "      <td>1.0</td>\n",
       "      <td>1.0</td>\n",
       "      <td>1.0</td>\n",
       "      <td>1.0</td>\n",
       "      <td>1.0</td>\n",
       "      <td>1.0</td>\n",
       "      <td>1.0</td>\n",
       "      <td>1.0</td>\n",
       "      <td>...</td>\n",
       "      <td>0.0</td>\n",
       "      <td>1.0</td>\n",
       "      <td>0.0</td>\n",
       "      <td>0.0</td>\n",
       "      <td>0.0</td>\n",
       "      <td>0.0</td>\n",
       "      <td>1.0</td>\n",
       "      <td>2.0</td>\n",
       "      <td>1.0</td>\n",
       "      <td>424.2</td>\n",
       "    </tr>\n",
       "    <tr>\n",
       "      <th>2355</th>\n",
       "      <td>2.0</td>\n",
       "      <td>2.0</td>\n",
       "      <td>2.0</td>\n",
       "      <td>1.0</td>\n",
       "      <td>2.0</td>\n",
       "      <td>1.0</td>\n",
       "      <td>1.0</td>\n",
       "      <td>1.0</td>\n",
       "      <td>1.0</td>\n",
       "      <td>1.0</td>\n",
       "      <td>...</td>\n",
       "      <td>0.0</td>\n",
       "      <td>1.0</td>\n",
       "      <td>0.0</td>\n",
       "      <td>1.0</td>\n",
       "      <td>0.0</td>\n",
       "      <td>0.0</td>\n",
       "      <td>0.0</td>\n",
       "      <td>2.0</td>\n",
       "      <td>1.0</td>\n",
       "      <td>1363.5</td>\n",
       "    </tr>\n",
       "    <tr>\n",
       "      <th>2356</th>\n",
       "      <td>1.0</td>\n",
       "      <td>1.0</td>\n",
       "      <td>1.0</td>\n",
       "      <td>2.0</td>\n",
       "      <td>2.0</td>\n",
       "      <td>3.0</td>\n",
       "      <td>3.0</td>\n",
       "      <td>2.0</td>\n",
       "      <td>3.0</td>\n",
       "      <td>0.0</td>\n",
       "      <td>...</td>\n",
       "      <td>0.0</td>\n",
       "      <td>0.0</td>\n",
       "      <td>0.0</td>\n",
       "      <td>0.0</td>\n",
       "      <td>0.0</td>\n",
       "      <td>1.0</td>\n",
       "      <td>0.0</td>\n",
       "      <td>3.0</td>\n",
       "      <td>1.0</td>\n",
       "      <td>3333.0</td>\n",
       "    </tr>\n",
       "  </tbody>\n",
       "</table>\n",
       "<p>2357 rows × 48 columns</p>\n",
       "</div>"
      ],
      "text/plain": [
       "      HABESTUDO_Q005  HABESTUDO_Q006  HABESTUDO_Q007  HABESTUDO_Q008  \\\n",
       "0                0.0             0.0             0.0             0.0   \n",
       "1                2.0             3.0             3.0             3.0   \n",
       "2                2.0             3.0             3.0             2.0   \n",
       "3                1.0             1.0             1.0             1.0   \n",
       "4                1.0             1.0             1.0             1.0   \n",
       "...              ...             ...             ...             ...   \n",
       "2352             1.0             2.0             2.0             2.0   \n",
       "2353             1.0             1.0             1.0             2.0   \n",
       "2354             1.0             1.0             1.0             1.0   \n",
       "2355             2.0             2.0             2.0             1.0   \n",
       "2356             1.0             1.0             1.0             2.0   \n",
       "\n",
       "      HABESTUDO_Q021  HABESTUDO_Q022  HABESTUDO_Q009  HABESTUDO_Q010  \\\n",
       "0                0.0             0.0             0.0             1.0   \n",
       "1                2.0             2.0             2.0             2.0   \n",
       "2                2.0             2.0             2.0             3.0   \n",
       "3                0.0             1.0             1.0             1.0   \n",
       "4                1.0             1.0             1.0             1.0   \n",
       "...              ...             ...             ...             ...   \n",
       "2352             2.0             2.0             2.0             2.0   \n",
       "2353             3.0             2.0             2.0             2.0   \n",
       "2354             1.0             1.0             1.0             1.0   \n",
       "2355             2.0             1.0             1.0             1.0   \n",
       "2356             2.0             3.0             3.0             2.0   \n",
       "\n",
       "      HABESTUDO_Q011  HABESTUDO_Q012  ...  HABESTUDO_Q028R  \\\n",
       "0                0.0             0.0  ...              0.0   \n",
       "1                3.0             2.0  ...              0.0   \n",
       "2                2.0             2.0  ...              0.0   \n",
       "3                2.0             2.0  ...              0.0   \n",
       "4                1.0             1.0  ...              0.0   \n",
       "...              ...             ...  ...              ...   \n",
       "2352             2.0             2.0  ...              0.0   \n",
       "2353             2.0             2.0  ...              0.0   \n",
       "2354             1.0             1.0  ...              0.0   \n",
       "2355             1.0             1.0  ...              0.0   \n",
       "2356             3.0             0.0  ...              0.0   \n",
       "\n",
       "      PARTICIPANTE_TP_SEXO_F  PARTICIPANTE_REGIAO_ESCOLA_Centro-Oeste  \\\n",
       "0                        0.0                                      0.0   \n",
       "1                        1.0                                      0.0   \n",
       "2                        1.0                                      0.0   \n",
       "3                        0.0                                      0.0   \n",
       "4                        0.0                                      0.0   \n",
       "...                      ...                                      ...   \n",
       "2352                     1.0                                      0.0   \n",
       "2353                     1.0                                      0.0   \n",
       "2354                     1.0                                      0.0   \n",
       "2355                     1.0                                      0.0   \n",
       "2356                     0.0                                      0.0   \n",
       "\n",
       "      PARTICIPANTE_REGIAO_ESCOLA_Nordeste  PARTICIPANTE_REGIAO_ESCOLA_Norte  \\\n",
       "0                                     0.0                               1.0   \n",
       "1                                     0.0                               1.0   \n",
       "2                                     0.0                               1.0   \n",
       "3                                     0.0                               1.0   \n",
       "4                                     0.0                               1.0   \n",
       "...                                   ...                               ...   \n",
       "2352                                  0.0                               0.0   \n",
       "2353                                  0.0                               0.0   \n",
       "2354                                  0.0                               0.0   \n",
       "2355                                  1.0                               0.0   \n",
       "2356                                  0.0                               0.0   \n",
       "\n",
       "      PARTICIPANTE_REGIAO_ESCOLA_Sudeste  PARTICIPANTE_REGIAO_ESCOLA_Sul  \\\n",
       "0                                    0.0                             0.0   \n",
       "1                                    0.0                             0.0   \n",
       "2                                    0.0                             0.0   \n",
       "3                                    0.0                             0.0   \n",
       "4                                    0.0                             0.0   \n",
       "...                                  ...                             ...   \n",
       "2352                                 1.0                             0.0   \n",
       "2353                                 1.0                             0.0   \n",
       "2354                                 0.0                             1.0   \n",
       "2355                                 0.0                             0.0   \n",
       "2356                                 1.0                             0.0   \n",
       "\n",
       "      PARTICIPANTE_TP_FAIXA_ETARIA  PARTICIPANTE_TP_COR_RACA  \\\n",
       "0                              3.0                       1.0   \n",
       "1                              3.0                       1.0   \n",
       "2                              2.0                       1.0   \n",
       "3                              1.0                       3.0   \n",
       "4                              2.0                       3.0   \n",
       "...                            ...                       ...   \n",
       "2352                           2.0                       3.0   \n",
       "2353                           4.0                       3.0   \n",
       "2354                           2.0                       1.0   \n",
       "2355                           2.0                       1.0   \n",
       "2356                           3.0                       1.0   \n",
       "\n",
       "      PARTICIPANTE_RENDA_PER_CAPITA  \n",
       "0                             707.0  \n",
       "1                            1818.0  \n",
       "2                            1111.0  \n",
       "3                             424.2  \n",
       "4                            1818.0  \n",
       "...                             ...  \n",
       "2352                         3434.0  \n",
       "2353                          151.5  \n",
       "2354                          424.2  \n",
       "2355                         1363.5  \n",
       "2356                         3333.0  \n",
       "\n",
       "[2357 rows x 48 columns]"
      ]
     },
     "execution_count": 82,
     "metadata": {},
     "output_type": "execute_result"
    }
   ],
   "source": [
    "X_transformed = pd.DataFrame(X_transformed, columns=preprocessor_feature_names)\n",
    "X_transformed = X_transformed.drop(columns='PARTICIPANTE_TP_SEXO_M').reset_index(drop=True)\n",
    "X_transformed"
   ]
  },
  {
   "cell_type": "code",
   "execution_count": 83,
   "metadata": {},
   "outputs": [],
   "source": [
    "X_numerical_train, X_numerical_test, y_numerical_train, y_numerical_test = train_test_split(X_transformed, y_numerical_transformed, test_size=0.3, random_state=SEED)\n",
    "\n",
    "X_categorical_train, X_categorical_test, y_categorical_train, y_categorical_test = train_test_split(X_transformed, y_categorical_transformed, test_size=0.3, random_state=SEED)"
   ]
  },
  {
   "cell_type": "code",
   "execution_count": 84,
   "metadata": {},
   "outputs": [],
   "source": [
    "def evaluate_classification_model(model_pipe: Pipeline, X: pd.DataFrame = X_transformed, y: pd.Series = y_categorical_transformed, y_train: pd.Series = y_categorical_train):\n",
    "    preds = model_pipe.predict(X_categorical_train)\n",
    "    \n",
    "    accuracy_scores = cross_val_score(model_pipe, X, y, cv=5, scoring='accuracy')\n",
    "    precision_scores = cross_val_score(model_pipe, X, y, cv=5, scoring='precision_weighted')\n",
    "    recall_scores = cross_val_score(model_pipe, X, y, cv=5, scoring='recall_weighted')\n",
    "    f1_scores = cross_val_score(model_pipe, X, y, cv=5, scoring='f1_weighted')\n",
    "    confusion_matrix = ConfusionMatrixDisplay.from_estimator(model_pipe, X, y, cmap='Blues')\n",
    "\n",
    "    print(\n",
    "        f'Acurácia: {accuracy_scores.mean():.2%}',\n",
    "        f'Precision: {precision_scores.mean():.2%}',\n",
    "        f'Recall: {recall_scores.mean():.2%}',\n",
    "        f'F1: {f1_scores.mean():.2%}',\n",
    "        classification_report(y_train, preds),\n",
    "        sep='\\n',\n",
    "    )\n",
    "    return confusion_matrix"
   ]
  },
  {
   "cell_type": "code",
   "execution_count": 85,
   "metadata": {},
   "outputs": [],
   "source": [
    "def evaluate_regression_model(model_pipe: Pipeline, X: pd.DataFrame = X_transformed, y: pd.Series = y_numerical_transformed):\n",
    "    mae_scores = -1 * cross_val_score(model_pipe, X, y, cv=5, scoring='neg_mean_absolute_error')\n",
    "    rmse_scores = -1 * cross_val_score(model_pipe, X, y, cv=5, scoring='neg_root_mean_squared_error')\n",
    "    r2_scores = -1 * cross_val_score(model_pipe, X, y, cv=5, scoring='r2')\n",
    "    mape_scores = -1 * cross_val_score(model_pipe, X, y, cv=5, scoring='neg_mean_absolute_percentage_error')\n",
    "    \n",
    "    return print(\n",
    "        f'MAE: {mae_scores.mean():.2f}',\n",
    "        f'RMSE: {rmse_scores.mean():.2f}',\n",
    "        f'R²: {r2_scores.mean():.2%}',\n",
    "        f'MAPE: {mape_scores.mean():.2%}',\n",
    "        sep='\\n',\n",
    "    )"
   ]
  },
  {
   "cell_type": "code",
   "execution_count": 12,
   "metadata": {},
   "outputs": [
    {
     "name": "stderr",
     "output_type": "stream",
     "text": [
      "Intel(R) Extension for Scikit-learn* enabled (https://github.com/intel/scikit-learn-intelex)\n"
     ]
    }
   ],
   "source": [
    "# accelerating sklearn\n",
    "patch_sklearn()"
   ]
  },
  {
   "attachments": {},
   "cell_type": "markdown",
   "metadata": {},
   "source": [
    "#### **kNN**"
   ]
  },
  {
   "attachments": {},
   "cell_type": "markdown",
   "metadata": {},
   "source": [
    "**Classificador**"
   ]
  },
  {
   "attachments": {},
   "cell_type": "markdown",
   "metadata": {},
   "source": [
    "Base model"
   ]
  },
  {
   "cell_type": "code",
   "execution_count": 13,
   "metadata": {},
   "outputs": [],
   "source": [
    "knn_classifier_pipe = Pipeline(steps=[\n",
    "    ('scaler', StandardScaler()),\n",
    "    ('classifier', KNeighborsClassifier(n_neighbors=3)),\n",
    "])"
   ]
  },
  {
   "cell_type": "code",
   "execution_count": 14,
   "metadata": {},
   "outputs": [
    {
     "data": {
      "text/html": [
       "<style>#sk-container-id-1 {color: black;background-color: white;}#sk-container-id-1 pre{padding: 0;}#sk-container-id-1 div.sk-toggleable {background-color: white;}#sk-container-id-1 label.sk-toggleable__label {cursor: pointer;display: block;width: 100%;margin-bottom: 0;padding: 0.3em;box-sizing: border-box;text-align: center;}#sk-container-id-1 label.sk-toggleable__label-arrow:before {content: \"▸\";float: left;margin-right: 0.25em;color: #696969;}#sk-container-id-1 label.sk-toggleable__label-arrow:hover:before {color: black;}#sk-container-id-1 div.sk-estimator:hover label.sk-toggleable__label-arrow:before {color: black;}#sk-container-id-1 div.sk-toggleable__content {max-height: 0;max-width: 0;overflow: hidden;text-align: left;background-color: #f0f8ff;}#sk-container-id-1 div.sk-toggleable__content pre {margin: 0.2em;color: black;border-radius: 0.25em;background-color: #f0f8ff;}#sk-container-id-1 input.sk-toggleable__control:checked~div.sk-toggleable__content {max-height: 200px;max-width: 100%;overflow: auto;}#sk-container-id-1 input.sk-toggleable__control:checked~label.sk-toggleable__label-arrow:before {content: \"▾\";}#sk-container-id-1 div.sk-estimator input.sk-toggleable__control:checked~label.sk-toggleable__label {background-color: #d4ebff;}#sk-container-id-1 div.sk-label input.sk-toggleable__control:checked~label.sk-toggleable__label {background-color: #d4ebff;}#sk-container-id-1 input.sk-hidden--visually {border: 0;clip: rect(1px 1px 1px 1px);clip: rect(1px, 1px, 1px, 1px);height: 1px;margin: -1px;overflow: hidden;padding: 0;position: absolute;width: 1px;}#sk-container-id-1 div.sk-estimator {font-family: monospace;background-color: #f0f8ff;border: 1px dotted black;border-radius: 0.25em;box-sizing: border-box;margin-bottom: 0.5em;}#sk-container-id-1 div.sk-estimator:hover {background-color: #d4ebff;}#sk-container-id-1 div.sk-parallel-item::after {content: \"\";width: 100%;border-bottom: 1px solid gray;flex-grow: 1;}#sk-container-id-1 div.sk-label:hover label.sk-toggleable__label {background-color: #d4ebff;}#sk-container-id-1 div.sk-serial::before {content: \"\";position: absolute;border-left: 1px solid gray;box-sizing: border-box;top: 0;bottom: 0;left: 50%;z-index: 0;}#sk-container-id-1 div.sk-serial {display: flex;flex-direction: column;align-items: center;background-color: white;padding-right: 0.2em;padding-left: 0.2em;position: relative;}#sk-container-id-1 div.sk-item {position: relative;z-index: 1;}#sk-container-id-1 div.sk-parallel {display: flex;align-items: stretch;justify-content: center;background-color: white;position: relative;}#sk-container-id-1 div.sk-item::before, #sk-container-id-1 div.sk-parallel-item::before {content: \"\";position: absolute;border-left: 1px solid gray;box-sizing: border-box;top: 0;bottom: 0;left: 50%;z-index: -1;}#sk-container-id-1 div.sk-parallel-item {display: flex;flex-direction: column;z-index: 1;position: relative;background-color: white;}#sk-container-id-1 div.sk-parallel-item:first-child::after {align-self: flex-end;width: 50%;}#sk-container-id-1 div.sk-parallel-item:last-child::after {align-self: flex-start;width: 50%;}#sk-container-id-1 div.sk-parallel-item:only-child::after {width: 0;}#sk-container-id-1 div.sk-dashed-wrapped {border: 1px dashed gray;margin: 0 0.4em 0.5em 0.4em;box-sizing: border-box;padding-bottom: 0.4em;background-color: white;}#sk-container-id-1 div.sk-label label {font-family: monospace;font-weight: bold;display: inline-block;line-height: 1.2em;}#sk-container-id-1 div.sk-label-container {text-align: center;}#sk-container-id-1 div.sk-container {/* jupyter's `normalize.less` sets `[hidden] { display: none; }` but bootstrap.min.css set `[hidden] { display: none !important; }` so we also need the `!important` here to be able to override the default hidden behavior on the sphinx rendered scikit-learn.org. See: https://github.com/scikit-learn/scikit-learn/issues/21755 */display: inline-block !important;position: relative;}#sk-container-id-1 div.sk-text-repr-fallback {display: none;}</style><div id=\"sk-container-id-1\" class=\"sk-top-container\"><div class=\"sk-text-repr-fallback\"><pre>Pipeline(steps=[(&#x27;scaler&#x27;, StandardScaler()),\n",
       "                (&#x27;classifier&#x27;, KNeighborsClassifier(n_neighbors=3))])</pre><b>In a Jupyter environment, please rerun this cell to show the HTML representation or trust the notebook. <br />On GitHub, the HTML representation is unable to render, please try loading this page with nbviewer.org.</b></div><div class=\"sk-container\" hidden><div class=\"sk-item sk-dashed-wrapped\"><div class=\"sk-label-container\"><div class=\"sk-label sk-toggleable\"><input class=\"sk-toggleable__control sk-hidden--visually\" id=\"sk-estimator-id-1\" type=\"checkbox\" ><label for=\"sk-estimator-id-1\" class=\"sk-toggleable__label sk-toggleable__label-arrow\">Pipeline</label><div class=\"sk-toggleable__content\"><pre>Pipeline(steps=[(&#x27;scaler&#x27;, StandardScaler()),\n",
       "                (&#x27;classifier&#x27;, KNeighborsClassifier(n_neighbors=3))])</pre></div></div></div><div class=\"sk-serial\"><div class=\"sk-item\"><div class=\"sk-estimator sk-toggleable\"><input class=\"sk-toggleable__control sk-hidden--visually\" id=\"sk-estimator-id-2\" type=\"checkbox\" ><label for=\"sk-estimator-id-2\" class=\"sk-toggleable__label sk-toggleable__label-arrow\">StandardScaler</label><div class=\"sk-toggleable__content\"><pre>StandardScaler()</pre></div></div></div><div class=\"sk-item\"><div class=\"sk-estimator sk-toggleable\"><input class=\"sk-toggleable__control sk-hidden--visually\" id=\"sk-estimator-id-3\" type=\"checkbox\" ><label for=\"sk-estimator-id-3\" class=\"sk-toggleable__label sk-toggleable__label-arrow\">KNeighborsClassifier</label><div class=\"sk-toggleable__content\"><pre>KNeighborsClassifier(n_neighbors=3)</pre></div></div></div></div></div></div></div>"
      ],
      "text/plain": [
       "Pipeline(steps=[('scaler', StandardScaler()),\n",
       "                ('classifier', KNeighborsClassifier(n_neighbors=3))])"
      ]
     },
     "execution_count": 14,
     "metadata": {},
     "output_type": "execute_result"
    }
   ],
   "source": [
    "knn_classifier_pipe.fit(X_categorical_train, y_categorical_train)"
   ]
  },
  {
   "cell_type": "code",
   "execution_count": 15,
   "metadata": {},
   "outputs": [
    {
     "name": "stdout",
     "output_type": "stream",
     "text": [
      "Acurácia: 47.43%\n",
      "Precision: 49.23%\n",
      "Recall: 47.43%\n",
      "F1: 48.02%\n",
      "              precision    recall  f1-score   support\n",
      "\n",
      "           0       0.35      0.62      0.44        73\n",
      "           1       0.44      0.57      0.50       162\n",
      "           2       0.71      0.51      0.59       393\n",
      "           3       0.83      0.83      0.83      1021\n",
      "\n",
      "    accuracy                           0.72      1649\n",
      "   macro avg       0.58      0.63      0.59      1649\n",
      "weighted avg       0.74      0.72      0.72      1649\n",
      "\n"
     ]
    },
    {
     "data": {
      "image/png": "[encoded data removed]",
      "text/plain": [
       "<Figure size 640x480 with 2 Axes>"
      ]
     },
     "metadata": {},
     "output_type": "display_data"
    }
   ],
   "source": [
    "evaluate_classification_model(knn_classifier_pipe)\n",
    "plt.show()"
   ]
  },
  {
   "attachments": {},
   "cell_type": "markdown",
   "metadata": {},
   "source": [
    "Tuned model"
   ]
  },
  {
   "cell_type": "code",
   "execution_count": 16,
   "metadata": {},
   "outputs": [
    {
     "data": {
      "text/html": [
       "<style>#sk-container-id-2 {color: black;background-color: white;}#sk-container-id-2 pre{padding: 0;}#sk-container-id-2 div.sk-toggleable {background-color: white;}#sk-container-id-2 label.sk-toggleable__label {cursor: pointer;display: block;width: 100%;margin-bottom: 0;padding: 0.3em;box-sizing: border-box;text-align: center;}#sk-container-id-2 label.sk-toggleable__label-arrow:before {content: \"▸\";float: left;margin-right: 0.25em;color: #696969;}#sk-container-id-2 label.sk-toggleable__label-arrow:hover:before {color: black;}#sk-container-id-2 div.sk-estimator:hover label.sk-toggleable__label-arrow:before {color: black;}#sk-container-id-2 div.sk-toggleable__content {max-height: 0;max-width: 0;overflow: hidden;text-align: left;background-color: #f0f8ff;}#sk-container-id-2 div.sk-toggleable__content pre {margin: 0.2em;color: black;border-radius: 0.25em;background-color: #f0f8ff;}#sk-container-id-2 input.sk-toggleable__control:checked~div.sk-toggleable__content {max-height: 200px;max-width: 100%;overflow: auto;}#sk-container-id-2 input.sk-toggleable__control:checked~label.sk-toggleable__label-arrow:before {content: \"▾\";}#sk-container-id-2 div.sk-estimator input.sk-toggleable__control:checked~label.sk-toggleable__label {background-color: #d4ebff;}#sk-container-id-2 div.sk-label input.sk-toggleable__control:checked~label.sk-toggleable__label {background-color: #d4ebff;}#sk-container-id-2 input.sk-hidden--visually {border: 0;clip: rect(1px 1px 1px 1px);clip: rect(1px, 1px, 1px, 1px);height: 1px;margin: -1px;overflow: hidden;padding: 0;position: absolute;width: 1px;}#sk-container-id-2 div.sk-estimator {font-family: monospace;background-color: #f0f8ff;border: 1px dotted black;border-radius: 0.25em;box-sizing: border-box;margin-bottom: 0.5em;}#sk-container-id-2 div.sk-estimator:hover {background-color: #d4ebff;}#sk-container-id-2 div.sk-parallel-item::after {content: \"\";width: 100%;border-bottom: 1px solid gray;flex-grow: 1;}#sk-container-id-2 div.sk-label:hover label.sk-toggleable__label {background-color: #d4ebff;}#sk-container-id-2 div.sk-serial::before {content: \"\";position: absolute;border-left: 1px solid gray;box-sizing: border-box;top: 0;bottom: 0;left: 50%;z-index: 0;}#sk-container-id-2 div.sk-serial {display: flex;flex-direction: column;align-items: center;background-color: white;padding-right: 0.2em;padding-left: 0.2em;position: relative;}#sk-container-id-2 div.sk-item {position: relative;z-index: 1;}#sk-container-id-2 div.sk-parallel {display: flex;align-items: stretch;justify-content: center;background-color: white;position: relative;}#sk-container-id-2 div.sk-item::before, #sk-container-id-2 div.sk-parallel-item::before {content: \"\";position: absolute;border-left: 1px solid gray;box-sizing: border-box;top: 0;bottom: 0;left: 50%;z-index: -1;}#sk-container-id-2 div.sk-parallel-item {display: flex;flex-direction: column;z-index: 1;position: relative;background-color: white;}#sk-container-id-2 div.sk-parallel-item:first-child::after {align-self: flex-end;width: 50%;}#sk-container-id-2 div.sk-parallel-item:last-child::after {align-self: flex-start;width: 50%;}#sk-container-id-2 div.sk-parallel-item:only-child::after {width: 0;}#sk-container-id-2 div.sk-dashed-wrapped {border: 1px dashed gray;margin: 0 0.4em 0.5em 0.4em;box-sizing: border-box;padding-bottom: 0.4em;background-color: white;}#sk-container-id-2 div.sk-label label {font-family: monospace;font-weight: bold;display: inline-block;line-height: 1.2em;}#sk-container-id-2 div.sk-label-container {text-align: center;}#sk-container-id-2 div.sk-container {/* jupyter's `normalize.less` sets `[hidden] { display: none; }` but bootstrap.min.css set `[hidden] { display: none !important; }` so we also need the `!important` here to be able to override the default hidden behavior on the sphinx rendered scikit-learn.org. See: https://github.com/scikit-learn/scikit-learn/issues/21755 */display: inline-block !important;position: relative;}#sk-container-id-2 div.sk-text-repr-fallback {display: none;}</style><div id=\"sk-container-id-2\" class=\"sk-top-container\"><div class=\"sk-text-repr-fallback\"><pre>GridSearchCV(cv=KFold(n_splits=5, random_state=None, shuffle=False),\n",
       "             estimator=Pipeline(steps=[(&#x27;scaler&#x27;, StandardScaler()),\n",
       "                                       (&#x27;classifier&#x27;,\n",
       "                                        KNeighborsClassifier(n_neighbors=3))]),\n",
       "             param_grid={&#x27;classifier__metric&#x27;: [&#x27;minkowski&#x27;, &#x27;euclidean&#x27;,\n",
       "                                                &#x27;manhattan&#x27;],\n",
       "                         &#x27;classifier__n_neighbors&#x27;: [3, 5, 7, 9, 11, 13, 15, 17,\n",
       "                                                     19, 25, 30, 25, 40, 45, 50,\n",
       "                                                     55, 60, 65, 70, 75, 80, 85,\n",
       "                                                     90, 95, 100],\n",
       "                         &#x27;classifier__weights&#x27;: [&#x27;uniform&#x27;, &#x27;distance&#x27;]})</pre><b>In a Jupyter environment, please rerun this cell to show the HTML representation or trust the notebook. <br />On GitHub, the HTML representation is unable to render, please try loading this page with nbviewer.org.</b></div><div class=\"sk-container\" hidden><div class=\"sk-item sk-dashed-wrapped\"><div class=\"sk-label-container\"><div class=\"sk-label sk-toggleable\"><input class=\"sk-toggleable__control sk-hidden--visually\" id=\"sk-estimator-id-4\" type=\"checkbox\" ><label for=\"sk-estimator-id-4\" class=\"sk-toggleable__label sk-toggleable__label-arrow\">GridSearchCV</label><div class=\"sk-toggleable__content\"><pre>GridSearchCV(cv=KFold(n_splits=5, random_state=None, shuffle=False),\n",
       "             estimator=Pipeline(steps=[(&#x27;scaler&#x27;, StandardScaler()),\n",
       "                                       (&#x27;classifier&#x27;,\n",
       "                                        KNeighborsClassifier(n_neighbors=3))]),\n",
       "             param_grid={&#x27;classifier__metric&#x27;: [&#x27;minkowski&#x27;, &#x27;euclidean&#x27;,\n",
       "                                                &#x27;manhattan&#x27;],\n",
       "                         &#x27;classifier__n_neighbors&#x27;: [3, 5, 7, 9, 11, 13, 15, 17,\n",
       "                                                     19, 25, 30, 25, 40, 45, 50,\n",
       "                                                     55, 60, 65, 70, 75, 80, 85,\n",
       "                                                     90, 95, 100],\n",
       "                         &#x27;classifier__weights&#x27;: [&#x27;uniform&#x27;, &#x27;distance&#x27;]})</pre></div></div></div><div class=\"sk-parallel\"><div class=\"sk-parallel-item\"><div class=\"sk-item\"><div class=\"sk-label-container\"><div class=\"sk-label sk-toggleable\"><input class=\"sk-toggleable__control sk-hidden--visually\" id=\"sk-estimator-id-5\" type=\"checkbox\" ><label for=\"sk-estimator-id-5\" class=\"sk-toggleable__label sk-toggleable__label-arrow\">estimator: Pipeline</label><div class=\"sk-toggleable__content\"><pre>Pipeline(steps=[(&#x27;scaler&#x27;, StandardScaler()),\n",
       "                (&#x27;classifier&#x27;, KNeighborsClassifier(n_neighbors=3))])</pre></div></div></div><div class=\"sk-serial\"><div class=\"sk-item\"><div class=\"sk-serial\"><div class=\"sk-item\"><div class=\"sk-estimator sk-toggleable\"><input class=\"sk-toggleable__control sk-hidden--visually\" id=\"sk-estimator-id-6\" type=\"checkbox\" ><label for=\"sk-estimator-id-6\" class=\"sk-toggleable__label sk-toggleable__label-arrow\">StandardScaler</label><div class=\"sk-toggleable__content\"><pre>StandardScaler()</pre></div></div></div><div class=\"sk-item\"><div class=\"sk-estimator sk-toggleable\"><input class=\"sk-toggleable__control sk-hidden--visually\" id=\"sk-estimator-id-7\" type=\"checkbox\" ><label for=\"sk-estimator-id-7\" class=\"sk-toggleable__label sk-toggleable__label-arrow\">KNeighborsClassifier</label><div class=\"sk-toggleable__content\"><pre>KNeighborsClassifier(n_neighbors=3)</pre></div></div></div></div></div></div></div></div></div></div></div></div>"
      ],
      "text/plain": [
       "GridSearchCV(cv=KFold(n_splits=5, random_state=None, shuffle=False),\n",
       "             estimator=Pipeline(steps=[('scaler', StandardScaler()),\n",
       "                                       ('classifier',\n",
       "                                        KNeighborsClassifier(n_neighbors=3))]),\n",
       "             param_grid={'classifier__metric': ['minkowski', 'euclidean',\n",
       "                                                'manhattan'],\n",
       "                         'classifier__n_neighbors': [3, 5, 7, 9, 11, 13, 15, 17,\n",
       "                                                     19, 25, 30, 25, 40, 45, 50,\n",
       "                                                     55, 60, 65, 70, 75, 80, 85,\n",
       "                                                     90, 95, 100],\n",
       "                         'classifier__weights': ['uniform', 'distance']})"
      ]
     },
     "execution_count": 16,
     "metadata": {},
     "output_type": "execute_result"
    }
   ],
   "source": [
    "knn_classifier_param_space = {\n",
    "    'classifier__n_neighbors': [3, 5, 7, 9, 11, 13, 15, 17, 19, 25, 30, 25, 40, 45, 50, 55, 60, 65, 70, 75, 80, 85, 90, 95, 100],\n",
    "    'classifier__weights': ['uniform', 'distance'],\n",
    "    'classifier__metric': ['minkowski', 'euclidean', 'manhattan'],\n",
    "}\n",
    "\n",
    "knn_classifier_grid_search = GridSearchCV(knn_classifier_pipe, knn_classifier_param_space, cv=KFold(n_splits=5))\n",
    "\n",
    "knn_classifier_grid_search.fit(X_transformed, y_categorical_transformed)"
   ]
  },
  {
   "cell_type": "code",
   "execution_count": 17,
   "metadata": {},
   "outputs": [
    {
     "data": {
      "text/plain": [
       "{'classifier__metric': 'minkowski',\n",
       " 'classifier__n_neighbors': 50,\n",
       " 'classifier__weights': 'distance'}"
      ]
     },
     "execution_count": 17,
     "metadata": {},
     "output_type": "execute_result"
    }
   ],
   "source": [
    "knn_classifier_grid_search.best_params_"
   ]
  },
  {
   "cell_type": "code",
   "execution_count": 18,
   "metadata": {},
   "outputs": [
    {
     "name": "stdout",
     "output_type": "stream",
     "text": [
      "Acurácia: 61.60%\n",
      "Precision: 47.57%\n",
      "Recall: 61.60%\n",
      "F1: 50.69%\n",
      "              precision    recall  f1-score   support\n",
      "\n",
      "           0       1.00      1.00      1.00        73\n",
      "           1       1.00      1.00      1.00       162\n",
      "           2       1.00      1.00      1.00       393\n",
      "           3       1.00      1.00      1.00      1021\n",
      "\n",
      "    accuracy                           1.00      1649\n",
      "   macro avg       1.00      1.00      1.00      1649\n",
      "weighted avg       1.00      1.00      1.00      1649\n",
      "\n"
     ]
    },
    {
     "data": {
      "image/png": "[encoded data removed]",
      "text/plain": [
       "<Figure size 640x480 with 2 Axes>"
      ]
     },
     "metadata": {},
     "output_type": "display_data"
    }
   ],
   "source": [
    "tuned_knn_classifier_pipe = knn_classifier_grid_search.best_estimator_\n",
    "\n",
    "evaluate_classification_model(tuned_knn_classifier_pipe)\n",
    "plt.show()"
   ]
  },
  {
   "cell_type": "code",
   "execution_count": 19,
   "metadata": {},
   "outputs": [],
   "source": [
    "sio.dump(knn_classifier_pipe, '../sklearn/models/knn_classifier.skops')\n",
    "sio.dump(tuned_knn_classifier_pipe, '../sklearn/models/tuned/tuned_knn_classifier.skops')"
   ]
  },
  {
   "attachments": {},
   "cell_type": "markdown",
   "metadata": {},
   "source": [
    "**Regressor**\n"
   ]
  },
  {
   "attachments": {},
   "cell_type": "markdown",
   "metadata": {},
   "source": [
    "Base model"
   ]
  },
  {
   "cell_type": "code",
   "execution_count": 20,
   "metadata": {},
   "outputs": [],
   "source": [
    "knn_regressor_pipe = Pipeline(steps=[\n",
    "    ('scaler', StandardScaler()),\n",
    "    ('regressor', KNeighborsRegressor(n_neighbors=3)),\n",
    "])"
   ]
  },
  {
   "cell_type": "code",
   "execution_count": 21,
   "metadata": {},
   "outputs": [
    {
     "data": {
      "text/html": [
       "<style>#sk-container-id-3 {color: black;background-color: white;}#sk-container-id-3 pre{padding: 0;}#sk-container-id-3 div.sk-toggleable {background-color: white;}#sk-container-id-3 label.sk-toggleable__label {cursor: pointer;display: block;width: 100%;margin-bottom: 0;padding: 0.3em;box-sizing: border-box;text-align: center;}#sk-container-id-3 label.sk-toggleable__label-arrow:before {content: \"▸\";float: left;margin-right: 0.25em;color: #696969;}#sk-container-id-3 label.sk-toggleable__label-arrow:hover:before {color: black;}#sk-container-id-3 div.sk-estimator:hover label.sk-toggleable__label-arrow:before {color: black;}#sk-container-id-3 div.sk-toggleable__content {max-height: 0;max-width: 0;overflow: hidden;text-align: left;background-color: #f0f8ff;}#sk-container-id-3 div.sk-toggleable__content pre {margin: 0.2em;color: black;border-radius: 0.25em;background-color: #f0f8ff;}#sk-container-id-3 input.sk-toggleable__control:checked~div.sk-toggleable__content {max-height: 200px;max-width: 100%;overflow: auto;}#sk-container-id-3 input.sk-toggleable__control:checked~label.sk-toggleable__label-arrow:before {content: \"▾\";}#sk-container-id-3 div.sk-estimator input.sk-toggleable__control:checked~label.sk-toggleable__label {background-color: #d4ebff;}#sk-container-id-3 div.sk-label input.sk-toggleable__control:checked~label.sk-toggleable__label {background-color: #d4ebff;}#sk-container-id-3 input.sk-hidden--visually {border: 0;clip: rect(1px 1px 1px 1px);clip: rect(1px, 1px, 1px, 1px);height: 1px;margin: -1px;overflow: hidden;padding: 0;position: absolute;width: 1px;}#sk-container-id-3 div.sk-estimator {font-family: monospace;background-color: #f0f8ff;border: 1px dotted black;border-radius: 0.25em;box-sizing: border-box;margin-bottom: 0.5em;}#sk-container-id-3 div.sk-estimator:hover {background-color: #d4ebff;}#sk-container-id-3 div.sk-parallel-item::after {content: \"\";width: 100%;border-bottom: 1px solid gray;flex-grow: 1;}#sk-container-id-3 div.sk-label:hover label.sk-toggleable__label {background-color: #d4ebff;}#sk-container-id-3 div.sk-serial::before {content: \"\";position: absolute;border-left: 1px solid gray;box-sizing: border-box;top: 0;bottom: 0;left: 50%;z-index: 0;}#sk-container-id-3 div.sk-serial {display: flex;flex-direction: column;align-items: center;background-color: white;padding-right: 0.2em;padding-left: 0.2em;position: relative;}#sk-container-id-3 div.sk-item {position: relative;z-index: 1;}#sk-container-id-3 div.sk-parallel {display: flex;align-items: stretch;justify-content: center;background-color: white;position: relative;}#sk-container-id-3 div.sk-item::before, #sk-container-id-3 div.sk-parallel-item::before {content: \"\";position: absolute;border-left: 1px solid gray;box-sizing: border-box;top: 0;bottom: 0;left: 50%;z-index: -1;}#sk-container-id-3 div.sk-parallel-item {display: flex;flex-direction: column;z-index: 1;position: relative;background-color: white;}#sk-container-id-3 div.sk-parallel-item:first-child::after {align-self: flex-end;width: 50%;}#sk-container-id-3 div.sk-parallel-item:last-child::after {align-self: flex-start;width: 50%;}#sk-container-id-3 div.sk-parallel-item:only-child::after {width: 0;}#sk-container-id-3 div.sk-dashed-wrapped {border: 1px dashed gray;margin: 0 0.4em 0.5em 0.4em;box-sizing: border-box;padding-bottom: 0.4em;background-color: white;}#sk-container-id-3 div.sk-label label {font-family: monospace;font-weight: bold;display: inline-block;line-height: 1.2em;}#sk-container-id-3 div.sk-label-container {text-align: center;}#sk-container-id-3 div.sk-container {/* jupyter's `normalize.less` sets `[hidden] { display: none; }` but bootstrap.min.css set `[hidden] { display: none !important; }` so we also need the `!important` here to be able to override the default hidden behavior on the sphinx rendered scikit-learn.org. See: https://github.com/scikit-learn/scikit-learn/issues/21755 */display: inline-block !important;position: relative;}#sk-container-id-3 div.sk-text-repr-fallback {display: none;}</style><div id=\"sk-container-id-3\" class=\"sk-top-container\"><div class=\"sk-text-repr-fallback\"><pre>Pipeline(steps=[(&#x27;scaler&#x27;, StandardScaler()),\n",
       "                (&#x27;regressor&#x27;, KNeighborsRegressor(n_neighbors=3))])</pre><b>In a Jupyter environment, please rerun this cell to show the HTML representation or trust the notebook. <br />On GitHub, the HTML representation is unable to render, please try loading this page with nbviewer.org.</b></div><div class=\"sk-container\" hidden><div class=\"sk-item sk-dashed-wrapped\"><div class=\"sk-label-container\"><div class=\"sk-label sk-toggleable\"><input class=\"sk-toggleable__control sk-hidden--visually\" id=\"sk-estimator-id-8\" type=\"checkbox\" ><label for=\"sk-estimator-id-8\" class=\"sk-toggleable__label sk-toggleable__label-arrow\">Pipeline</label><div class=\"sk-toggleable__content\"><pre>Pipeline(steps=[(&#x27;scaler&#x27;, StandardScaler()),\n",
       "                (&#x27;regressor&#x27;, KNeighborsRegressor(n_neighbors=3))])</pre></div></div></div><div class=\"sk-serial\"><div class=\"sk-item\"><div class=\"sk-estimator sk-toggleable\"><input class=\"sk-toggleable__control sk-hidden--visually\" id=\"sk-estimator-id-9\" type=\"checkbox\" ><label for=\"sk-estimator-id-9\" class=\"sk-toggleable__label sk-toggleable__label-arrow\">StandardScaler</label><div class=\"sk-toggleable__content\"><pre>StandardScaler()</pre></div></div></div><div class=\"sk-item\"><div class=\"sk-estimator sk-toggleable\"><input class=\"sk-toggleable__control sk-hidden--visually\" id=\"sk-estimator-id-10\" type=\"checkbox\" ><label for=\"sk-estimator-id-10\" class=\"sk-toggleable__label sk-toggleable__label-arrow\">KNeighborsRegressor</label><div class=\"sk-toggleable__content\"><pre>KNeighborsRegressor(n_neighbors=3)</pre></div></div></div></div></div></div></div>"
      ],
      "text/plain": [
       "Pipeline(steps=[('scaler', StandardScaler()),\n",
       "                ('regressor', KNeighborsRegressor(n_neighbors=3))])"
      ]
     },
     "execution_count": 21,
     "metadata": {},
     "output_type": "execute_result"
    }
   ],
   "source": [
    "knn_regressor_pipe.fit(X_numerical_train, y_numerical_train)"
   ]
  },
  {
   "cell_type": "code",
   "execution_count": 22,
   "metadata": {},
   "outputs": [
    {
     "name": "stdout",
     "output_type": "stream",
     "text": [
      "MAE: 66.78\n",
      "RMSE: 84.99\n",
      "R²: 12.55%\n",
      "MAPE: 11.76%\n"
     ]
    }
   ],
   "source": [
    "evaluate_regression_model(knn_regressor_pipe)"
   ]
  },
  {
   "attachments": {},
   "cell_type": "markdown",
   "metadata": {},
   "source": [
    "Tuned model"
   ]
  },
  {
   "cell_type": "code",
   "execution_count": 23,
   "metadata": {},
   "outputs": [
    {
     "data": {
      "text/html": [
       "<style>#sk-container-id-4 {color: black;background-color: white;}#sk-container-id-4 pre{padding: 0;}#sk-container-id-4 div.sk-toggleable {background-color: white;}#sk-container-id-4 label.sk-toggleable__label {cursor: pointer;display: block;width: 100%;margin-bottom: 0;padding: 0.3em;box-sizing: border-box;text-align: center;}#sk-container-id-4 label.sk-toggleable__label-arrow:before {content: \"▸\";float: left;margin-right: 0.25em;color: #696969;}#sk-container-id-4 label.sk-toggleable__label-arrow:hover:before {color: black;}#sk-container-id-4 div.sk-estimator:hover label.sk-toggleable__label-arrow:before {color: black;}#sk-container-id-4 div.sk-toggleable__content {max-height: 0;max-width: 0;overflow: hidden;text-align: left;background-color: #f0f8ff;}#sk-container-id-4 div.sk-toggleable__content pre {margin: 0.2em;color: black;border-radius: 0.25em;background-color: #f0f8ff;}#sk-container-id-4 input.sk-toggleable__control:checked~div.sk-toggleable__content {max-height: 200px;max-width: 100%;overflow: auto;}#sk-container-id-4 input.sk-toggleable__control:checked~label.sk-toggleable__label-arrow:before {content: \"▾\";}#sk-container-id-4 div.sk-estimator input.sk-toggleable__control:checked~label.sk-toggleable__label {background-color: #d4ebff;}#sk-container-id-4 div.sk-label input.sk-toggleable__control:checked~label.sk-toggleable__label {background-color: #d4ebff;}#sk-container-id-4 input.sk-hidden--visually {border: 0;clip: rect(1px 1px 1px 1px);clip: rect(1px, 1px, 1px, 1px);height: 1px;margin: -1px;overflow: hidden;padding: 0;position: absolute;width: 1px;}#sk-container-id-4 div.sk-estimator {font-family: monospace;background-color: #f0f8ff;border: 1px dotted black;border-radius: 0.25em;box-sizing: border-box;margin-bottom: 0.5em;}#sk-container-id-4 div.sk-estimator:hover {background-color: #d4ebff;}#sk-container-id-4 div.sk-parallel-item::after {content: \"\";width: 100%;border-bottom: 1px solid gray;flex-grow: 1;}#sk-container-id-4 div.sk-label:hover label.sk-toggleable__label {background-color: #d4ebff;}#sk-container-id-4 div.sk-serial::before {content: \"\";position: absolute;border-left: 1px solid gray;box-sizing: border-box;top: 0;bottom: 0;left: 50%;z-index: 0;}#sk-container-id-4 div.sk-serial {display: flex;flex-direction: column;align-items: center;background-color: white;padding-right: 0.2em;padding-left: 0.2em;position: relative;}#sk-container-id-4 div.sk-item {position: relative;z-index: 1;}#sk-container-id-4 div.sk-parallel {display: flex;align-items: stretch;justify-content: center;background-color: white;position: relative;}#sk-container-id-4 div.sk-item::before, #sk-container-id-4 div.sk-parallel-item::before {content: \"\";position: absolute;border-left: 1px solid gray;box-sizing: border-box;top: 0;bottom: 0;left: 50%;z-index: -1;}#sk-container-id-4 div.sk-parallel-item {display: flex;flex-direction: column;z-index: 1;position: relative;background-color: white;}#sk-container-id-4 div.sk-parallel-item:first-child::after {align-self: flex-end;width: 50%;}#sk-container-id-4 div.sk-parallel-item:last-child::after {align-self: flex-start;width: 50%;}#sk-container-id-4 div.sk-parallel-item:only-child::after {width: 0;}#sk-container-id-4 div.sk-dashed-wrapped {border: 1px dashed gray;margin: 0 0.4em 0.5em 0.4em;box-sizing: border-box;padding-bottom: 0.4em;background-color: white;}#sk-container-id-4 div.sk-label label {font-family: monospace;font-weight: bold;display: inline-block;line-height: 1.2em;}#sk-container-id-4 div.sk-label-container {text-align: center;}#sk-container-id-4 div.sk-container {/* jupyter's `normalize.less` sets `[hidden] { display: none; }` but bootstrap.min.css set `[hidden] { display: none !important; }` so we also need the `!important` here to be able to override the default hidden behavior on the sphinx rendered scikit-learn.org. See: https://github.com/scikit-learn/scikit-learn/issues/21755 */display: inline-block !important;position: relative;}#sk-container-id-4 div.sk-text-repr-fallback {display: none;}</style><div id=\"sk-container-id-4\" class=\"sk-top-container\"><div class=\"sk-text-repr-fallback\"><pre>GridSearchCV(cv=KFold(n_splits=5, random_state=None, shuffle=False),\n",
       "             estimator=Pipeline(steps=[(&#x27;scaler&#x27;, StandardScaler()),\n",
       "                                       (&#x27;regressor&#x27;,\n",
       "                                        KNeighborsRegressor(n_neighbors=3))]),\n",
       "             param_grid={&#x27;regressor__metric&#x27;: [&#x27;minkowski&#x27;, &#x27;euclidean&#x27;,\n",
       "                                               &#x27;manhattan&#x27;],\n",
       "                         &#x27;regressor__n_neighbors&#x27;: [3, 5, 7, 9, 11, 13, 15, 17,\n",
       "                                                    19, 25, 30, 25, 40, 45, 50,\n",
       "                                                    55, 60, 65, 70, 75, 80, 85,\n",
       "                                                    90, 95, 100],\n",
       "                         &#x27;regressor__weights&#x27;: [&#x27;uniform&#x27;, &#x27;distance&#x27;]})</pre><b>In a Jupyter environment, please rerun this cell to show the HTML representation or trust the notebook. <br />On GitHub, the HTML representation is unable to render, please try loading this page with nbviewer.org.</b></div><div class=\"sk-container\" hidden><div class=\"sk-item sk-dashed-wrapped\"><div class=\"sk-label-container\"><div class=\"sk-label sk-toggleable\"><input class=\"sk-toggleable__control sk-hidden--visually\" id=\"sk-estimator-id-11\" type=\"checkbox\" ><label for=\"sk-estimator-id-11\" class=\"sk-toggleable__label sk-toggleable__label-arrow\">GridSearchCV</label><div class=\"sk-toggleable__content\"><pre>GridSearchCV(cv=KFold(n_splits=5, random_state=None, shuffle=False),\n",
       "             estimator=Pipeline(steps=[(&#x27;scaler&#x27;, StandardScaler()),\n",
       "                                       (&#x27;regressor&#x27;,\n",
       "                                        KNeighborsRegressor(n_neighbors=3))]),\n",
       "             param_grid={&#x27;regressor__metric&#x27;: [&#x27;minkowski&#x27;, &#x27;euclidean&#x27;,\n",
       "                                               &#x27;manhattan&#x27;],\n",
       "                         &#x27;regressor__n_neighbors&#x27;: [3, 5, 7, 9, 11, 13, 15, 17,\n",
       "                                                    19, 25, 30, 25, 40, 45, 50,\n",
       "                                                    55, 60, 65, 70, 75, 80, 85,\n",
       "                                                    90, 95, 100],\n",
       "                         &#x27;regressor__weights&#x27;: [&#x27;uniform&#x27;, &#x27;distance&#x27;]})</pre></div></div></div><div class=\"sk-parallel\"><div class=\"sk-parallel-item\"><div class=\"sk-item\"><div class=\"sk-label-container\"><div class=\"sk-label sk-toggleable\"><input class=\"sk-toggleable__control sk-hidden--visually\" id=\"sk-estimator-id-12\" type=\"checkbox\" ><label for=\"sk-estimator-id-12\" class=\"sk-toggleable__label sk-toggleable__label-arrow\">estimator: Pipeline</label><div class=\"sk-toggleable__content\"><pre>Pipeline(steps=[(&#x27;scaler&#x27;, StandardScaler()),\n",
       "                (&#x27;regressor&#x27;, KNeighborsRegressor(n_neighbors=3))])</pre></div></div></div><div class=\"sk-serial\"><div class=\"sk-item\"><div class=\"sk-serial\"><div class=\"sk-item\"><div class=\"sk-estimator sk-toggleable\"><input class=\"sk-toggleable__control sk-hidden--visually\" id=\"sk-estimator-id-13\" type=\"checkbox\" ><label for=\"sk-estimator-id-13\" class=\"sk-toggleable__label sk-toggleable__label-arrow\">StandardScaler</label><div class=\"sk-toggleable__content\"><pre>StandardScaler()</pre></div></div></div><div class=\"sk-item\"><div class=\"sk-estimator sk-toggleable\"><input class=\"sk-toggleable__control sk-hidden--visually\" id=\"sk-estimator-id-14\" type=\"checkbox\" ><label for=\"sk-estimator-id-14\" class=\"sk-toggleable__label sk-toggleable__label-arrow\">KNeighborsRegressor</label><div class=\"sk-toggleable__content\"><pre>KNeighborsRegressor(n_neighbors=3)</pre></div></div></div></div></div></div></div></div></div></div></div></div>"
      ],
      "text/plain": [
       "GridSearchCV(cv=KFold(n_splits=5, random_state=None, shuffle=False),\n",
       "             estimator=Pipeline(steps=[('scaler', StandardScaler()),\n",
       "                                       ('regressor',\n",
       "                                        KNeighborsRegressor(n_neighbors=3))]),\n",
       "             param_grid={'regressor__metric': ['minkowski', 'euclidean',\n",
       "                                               'manhattan'],\n",
       "                         'regressor__n_neighbors': [3, 5, 7, 9, 11, 13, 15, 17,\n",
       "                                                    19, 25, 30, 25, 40, 45, 50,\n",
       "                                                    55, 60, 65, 70, 75, 80, 85,\n",
       "                                                    90, 95, 100],\n",
       "                         'regressor__weights': ['uniform', 'distance']})"
      ]
     },
     "execution_count": 23,
     "metadata": {},
     "output_type": "execute_result"
    }
   ],
   "source": [
    "knn_regressor_param_space = {\n",
    "    'regressor__n_neighbors': [3, 5, 7, 9, 11, 13, 15, 17, 19, 25, 30, 25, 40, 45, 50, 55, 60, 65, 70, 75, 80, 85, 90, 95, 100],\n",
    "    'regressor__weights': ['uniform', 'distance'],\n",
    "    'regressor__metric': ['minkowski', 'euclidean', 'manhattan'],\n",
    "}\n",
    "\n",
    "knn_regressor_grid_search = GridSearchCV(knn_regressor_pipe, knn_regressor_param_space, cv=KFold(n_splits=5))\n",
    "\n",
    "knn_regressor_grid_search.fit(X_transformed, y_categorical_transformed)"
   ]
  },
  {
   "cell_type": "code",
   "execution_count": 24,
   "metadata": {},
   "outputs": [
    {
     "data": {
      "text/plain": [
       "{'classifier__metric': 'minkowski',\n",
       " 'classifier__n_neighbors': 50,\n",
       " 'classifier__weights': 'distance'}"
      ]
     },
     "execution_count": 24,
     "metadata": {},
     "output_type": "execute_result"
    }
   ],
   "source": [
    "knn_classifier_grid_search.best_params_"
   ]
  },
  {
   "cell_type": "code",
   "execution_count": 25,
   "metadata": {},
   "outputs": [
    {
     "name": "stdout",
     "output_type": "stream",
     "text": [
      "MAE: 59.74\n",
      "RMSE: 74.35\n",
      "R²: -14.08%\n",
      "MAPE: 10.49%\n"
     ]
    }
   ],
   "source": [
    "tuned_knn_regressor_pipe = knn_regressor_grid_search.best_estimator_\n",
    "\n",
    "evaluate_regression_model(tuned_knn_regressor_pipe)"
   ]
  },
  {
   "cell_type": "code",
   "execution_count": 26,
   "metadata": {},
   "outputs": [],
   "source": [
    "sio.dump(knn_regressor_pipe, '../sklearn/models/knn_regressor.skops')\n",
    "sio.dump(tuned_knn_regressor_pipe, '../sklearn/models/tuned/tuned_knn_regressor.skops')"
   ]
  },
  {
   "attachments": {},
   "cell_type": "markdown",
   "metadata": {},
   "source": [
    "#### **Regressão Linear**"
   ]
  },
  {
   "cell_type": "code",
   "execution_count": 27,
   "metadata": {},
   "outputs": [],
   "source": [
    "linear_regression_pipe = Pipeline(steps=[\n",
    "    ('scaler', StandardScaler()),\n",
    "    ('regressor', LinearRegression()),\n",
    "])"
   ]
  },
  {
   "cell_type": "code",
   "execution_count": 28,
   "metadata": {},
   "outputs": [
    {
     "data": {
      "text/html": [
       "<style>#sk-container-id-5 {color: black;background-color: white;}#sk-container-id-5 pre{padding: 0;}#sk-container-id-5 div.sk-toggleable {background-color: white;}#sk-container-id-5 label.sk-toggleable__label {cursor: pointer;display: block;width: 100%;margin-bottom: 0;padding: 0.3em;box-sizing: border-box;text-align: center;}#sk-container-id-5 label.sk-toggleable__label-arrow:before {content: \"▸\";float: left;margin-right: 0.25em;color: #696969;}#sk-container-id-5 label.sk-toggleable__label-arrow:hover:before {color: black;}#sk-container-id-5 div.sk-estimator:hover label.sk-toggleable__label-arrow:before {color: black;}#sk-container-id-5 div.sk-toggleable__content {max-height: 0;max-width: 0;overflow: hidden;text-align: left;background-color: #f0f8ff;}#sk-container-id-5 div.sk-toggleable__content pre {margin: 0.2em;color: black;border-radius: 0.25em;background-color: #f0f8ff;}#sk-container-id-5 input.sk-toggleable__control:checked~div.sk-toggleable__content {max-height: 200px;max-width: 100%;overflow: auto;}#sk-container-id-5 input.sk-toggleable__control:checked~label.sk-toggleable__label-arrow:before {content: \"▾\";}#sk-container-id-5 div.sk-estimator input.sk-toggleable__control:checked~label.sk-toggleable__label {background-color: #d4ebff;}#sk-container-id-5 div.sk-label input.sk-toggleable__control:checked~label.sk-toggleable__label {background-color: #d4ebff;}#sk-container-id-5 input.sk-hidden--visually {border: 0;clip: rect(1px 1px 1px 1px);clip: rect(1px, 1px, 1px, 1px);height: 1px;margin: -1px;overflow: hidden;padding: 0;position: absolute;width: 1px;}#sk-container-id-5 div.sk-estimator {font-family: monospace;background-color: #f0f8ff;border: 1px dotted black;border-radius: 0.25em;box-sizing: border-box;margin-bottom: 0.5em;}#sk-container-id-5 div.sk-estimator:hover {background-color: #d4ebff;}#sk-container-id-5 div.sk-parallel-item::after {content: \"\";width: 100%;border-bottom: 1px solid gray;flex-grow: 1;}#sk-container-id-5 div.sk-label:hover label.sk-toggleable__label {background-color: #d4ebff;}#sk-container-id-5 div.sk-serial::before {content: \"\";position: absolute;border-left: 1px solid gray;box-sizing: border-box;top: 0;bottom: 0;left: 50%;z-index: 0;}#sk-container-id-5 div.sk-serial {display: flex;flex-direction: column;align-items: center;background-color: white;padding-right: 0.2em;padding-left: 0.2em;position: relative;}#sk-container-id-5 div.sk-item {position: relative;z-index: 1;}#sk-container-id-5 div.sk-parallel {display: flex;align-items: stretch;justify-content: center;background-color: white;position: relative;}#sk-container-id-5 div.sk-item::before, #sk-container-id-5 div.sk-parallel-item::before {content: \"\";position: absolute;border-left: 1px solid gray;box-sizing: border-box;top: 0;bottom: 0;left: 50%;z-index: -1;}#sk-container-id-5 div.sk-parallel-item {display: flex;flex-direction: column;z-index: 1;position: relative;background-color: white;}#sk-container-id-5 div.sk-parallel-item:first-child::after {align-self: flex-end;width: 50%;}#sk-container-id-5 div.sk-parallel-item:last-child::after {align-self: flex-start;width: 50%;}#sk-container-id-5 div.sk-parallel-item:only-child::after {width: 0;}#sk-container-id-5 div.sk-dashed-wrapped {border: 1px dashed gray;margin: 0 0.4em 0.5em 0.4em;box-sizing: border-box;padding-bottom: 0.4em;background-color: white;}#sk-container-id-5 div.sk-label label {font-family: monospace;font-weight: bold;display: inline-block;line-height: 1.2em;}#sk-container-id-5 div.sk-label-container {text-align: center;}#sk-container-id-5 div.sk-container {/* jupyter's `normalize.less` sets `[hidden] { display: none; }` but bootstrap.min.css set `[hidden] { display: none !important; }` so we also need the `!important` here to be able to override the default hidden behavior on the sphinx rendered scikit-learn.org. See: https://github.com/scikit-learn/scikit-learn/issues/21755 */display: inline-block !important;position: relative;}#sk-container-id-5 div.sk-text-repr-fallback {display: none;}</style><div id=\"sk-container-id-5\" class=\"sk-top-container\"><div class=\"sk-text-repr-fallback\"><pre>Pipeline(steps=[(&#x27;scaler&#x27;, StandardScaler()),\n",
       "                (&#x27;regressor&#x27;, LinearRegression())])</pre><b>In a Jupyter environment, please rerun this cell to show the HTML representation or trust the notebook. <br />On GitHub, the HTML representation is unable to render, please try loading this page with nbviewer.org.</b></div><div class=\"sk-container\" hidden><div class=\"sk-item sk-dashed-wrapped\"><div class=\"sk-label-container\"><div class=\"sk-label sk-toggleable\"><input class=\"sk-toggleable__control sk-hidden--visually\" id=\"sk-estimator-id-15\" type=\"checkbox\" ><label for=\"sk-estimator-id-15\" class=\"sk-toggleable__label sk-toggleable__label-arrow\">Pipeline</label><div class=\"sk-toggleable__content\"><pre>Pipeline(steps=[(&#x27;scaler&#x27;, StandardScaler()),\n",
       "                (&#x27;regressor&#x27;, LinearRegression())])</pre></div></div></div><div class=\"sk-serial\"><div class=\"sk-item\"><div class=\"sk-estimator sk-toggleable\"><input class=\"sk-toggleable__control sk-hidden--visually\" id=\"sk-estimator-id-16\" type=\"checkbox\" ><label for=\"sk-estimator-id-16\" class=\"sk-toggleable__label sk-toggleable__label-arrow\">StandardScaler</label><div class=\"sk-toggleable__content\"><pre>StandardScaler()</pre></div></div></div><div class=\"sk-item\"><div class=\"sk-estimator sk-toggleable\"><input class=\"sk-toggleable__control sk-hidden--visually\" id=\"sk-estimator-id-17\" type=\"checkbox\" ><label for=\"sk-estimator-id-17\" class=\"sk-toggleable__label sk-toggleable__label-arrow\">LinearRegression</label><div class=\"sk-toggleable__content\"><pre>LinearRegression()</pre></div></div></div></div></div></div></div>"
      ],
      "text/plain": [
       "Pipeline(steps=[('scaler', StandardScaler()),\n",
       "                ('regressor', LinearRegression())])"
      ]
     },
     "execution_count": 28,
     "metadata": {},
     "output_type": "execute_result"
    }
   ],
   "source": [
    "linear_regression_pipe.fit(X_numerical_train, y_numerical_train)"
   ]
  },
  {
   "cell_type": "code",
   "execution_count": 29,
   "metadata": {},
   "outputs": [
    {
     "name": "stdout",
     "output_type": "stream",
     "text": [
      "MAE: 74.02\n",
      "RMSE: 453.22\n",
      "R²: 14596.95%\n",
      "MAPE: 13.16%\n"
     ]
    }
   ],
   "source": [
    "evaluate_regression_model(linear_regression_pipe)"
   ]
  },
  {
   "cell_type": "code",
   "execution_count": 30,
   "metadata": {},
   "outputs": [],
   "source": [
    "sio.dump(linear_regression_pipe, '../sklearn/models/linear_regression.skops')"
   ]
  },
  {
   "attachments": {},
   "cell_type": "markdown",
   "metadata": {},
   "source": [
    "#### **Regressão Logística**"
   ]
  },
  {
   "attachments": {},
   "cell_type": "markdown",
   "metadata": {},
   "source": [
    "Base model"
   ]
  },
  {
   "cell_type": "code",
   "execution_count": 31,
   "metadata": {},
   "outputs": [],
   "source": [
    "# decelerating sklearn\n",
    "unpatch_sklearn()"
   ]
  },
  {
   "cell_type": "code",
   "execution_count": 32,
   "metadata": {},
   "outputs": [],
   "source": [
    "logistic_regression_pipe = Pipeline(steps=[\n",
    "    ('scaler', StandardScaler()),\n",
    "    ('classifier', LogisticRegression(max_iter=1000, random_state=SEED)),\n",
    "])"
   ]
  },
  {
   "cell_type": "code",
   "execution_count": 33,
   "metadata": {},
   "outputs": [
    {
     "data": {
      "text/html": [
       "<style>#sk-container-id-6 {color: black;background-color: white;}#sk-container-id-6 pre{padding: 0;}#sk-container-id-6 div.sk-toggleable {background-color: white;}#sk-container-id-6 label.sk-toggleable__label {cursor: pointer;display: block;width: 100%;margin-bottom: 0;padding: 0.3em;box-sizing: border-box;text-align: center;}#sk-container-id-6 label.sk-toggleable__label-arrow:before {content: \"▸\";float: left;margin-right: 0.25em;color: #696969;}#sk-container-id-6 label.sk-toggleable__label-arrow:hover:before {color: black;}#sk-container-id-6 div.sk-estimator:hover label.sk-toggleable__label-arrow:before {color: black;}#sk-container-id-6 div.sk-toggleable__content {max-height: 0;max-width: 0;overflow: hidden;text-align: left;background-color: #f0f8ff;}#sk-container-id-6 div.sk-toggleable__content pre {margin: 0.2em;color: black;border-radius: 0.25em;background-color: #f0f8ff;}#sk-container-id-6 input.sk-toggleable__control:checked~div.sk-toggleable__content {max-height: 200px;max-width: 100%;overflow: auto;}#sk-container-id-6 input.sk-toggleable__control:checked~label.sk-toggleable__label-arrow:before {content: \"▾\";}#sk-container-id-6 div.sk-estimator input.sk-toggleable__control:checked~label.sk-toggleable__label {background-color: #d4ebff;}#sk-container-id-6 div.sk-label input.sk-toggleable__control:checked~label.sk-toggleable__label {background-color: #d4ebff;}#sk-container-id-6 input.sk-hidden--visually {border: 0;clip: rect(1px 1px 1px 1px);clip: rect(1px, 1px, 1px, 1px);height: 1px;margin: -1px;overflow: hidden;padding: 0;position: absolute;width: 1px;}#sk-container-id-6 div.sk-estimator {font-family: monospace;background-color: #f0f8ff;border: 1px dotted black;border-radius: 0.25em;box-sizing: border-box;margin-bottom: 0.5em;}#sk-container-id-6 div.sk-estimator:hover {background-color: #d4ebff;}#sk-container-id-6 div.sk-parallel-item::after {content: \"\";width: 100%;border-bottom: 1px solid gray;flex-grow: 1;}#sk-container-id-6 div.sk-label:hover label.sk-toggleable__label {background-color: #d4ebff;}#sk-container-id-6 div.sk-serial::before {content: \"\";position: absolute;border-left: 1px solid gray;box-sizing: border-box;top: 0;bottom: 0;left: 50%;z-index: 0;}#sk-container-id-6 div.sk-serial {display: flex;flex-direction: column;align-items: center;background-color: white;padding-right: 0.2em;padding-left: 0.2em;position: relative;}#sk-container-id-6 div.sk-item {position: relative;z-index: 1;}#sk-container-id-6 div.sk-parallel {display: flex;align-items: stretch;justify-content: center;background-color: white;position: relative;}#sk-container-id-6 div.sk-item::before, #sk-container-id-6 div.sk-parallel-item::before {content: \"\";position: absolute;border-left: 1px solid gray;box-sizing: border-box;top: 0;bottom: 0;left: 50%;z-index: -1;}#sk-container-id-6 div.sk-parallel-item {display: flex;flex-direction: column;z-index: 1;position: relative;background-color: white;}#sk-container-id-6 div.sk-parallel-item:first-child::after {align-self: flex-end;width: 50%;}#sk-container-id-6 div.sk-parallel-item:last-child::after {align-self: flex-start;width: 50%;}#sk-container-id-6 div.sk-parallel-item:only-child::after {width: 0;}#sk-container-id-6 div.sk-dashed-wrapped {border: 1px dashed gray;margin: 0 0.4em 0.5em 0.4em;box-sizing: border-box;padding-bottom: 0.4em;background-color: white;}#sk-container-id-6 div.sk-label label {font-family: monospace;font-weight: bold;display: inline-block;line-height: 1.2em;}#sk-container-id-6 div.sk-label-container {text-align: center;}#sk-container-id-6 div.sk-container {/* jupyter's `normalize.less` sets `[hidden] { display: none; }` but bootstrap.min.css set `[hidden] { display: none !important; }` so we also need the `!important` here to be able to override the default hidden behavior on the sphinx rendered scikit-learn.org. See: https://github.com/scikit-learn/scikit-learn/issues/21755 */display: inline-block !important;position: relative;}#sk-container-id-6 div.sk-text-repr-fallback {display: none;}</style><div id=\"sk-container-id-6\" class=\"sk-top-container\"><div class=\"sk-text-repr-fallback\"><pre>Pipeline(steps=[(&#x27;scaler&#x27;, StandardScaler()),\n",
       "                (&#x27;classifier&#x27;,\n",
       "                 LogisticRegression(max_iter=1000, random_state=3))])</pre><b>In a Jupyter environment, please rerun this cell to show the HTML representation or trust the notebook. <br />On GitHub, the HTML representation is unable to render, please try loading this page with nbviewer.org.</b></div><div class=\"sk-container\" hidden><div class=\"sk-item sk-dashed-wrapped\"><div class=\"sk-label-container\"><div class=\"sk-label sk-toggleable\"><input class=\"sk-toggleable__control sk-hidden--visually\" id=\"sk-estimator-id-18\" type=\"checkbox\" ><label for=\"sk-estimator-id-18\" class=\"sk-toggleable__label sk-toggleable__label-arrow\">Pipeline</label><div class=\"sk-toggleable__content\"><pre>Pipeline(steps=[(&#x27;scaler&#x27;, StandardScaler()),\n",
       "                (&#x27;classifier&#x27;,\n",
       "                 LogisticRegression(max_iter=1000, random_state=3))])</pre></div></div></div><div class=\"sk-serial\"><div class=\"sk-item\"><div class=\"sk-estimator sk-toggleable\"><input class=\"sk-toggleable__control sk-hidden--visually\" id=\"sk-estimator-id-19\" type=\"checkbox\" ><label for=\"sk-estimator-id-19\" class=\"sk-toggleable__label sk-toggleable__label-arrow\">StandardScaler</label><div class=\"sk-toggleable__content\"><pre>StandardScaler()</pre></div></div></div><div class=\"sk-item\"><div class=\"sk-estimator sk-toggleable\"><input class=\"sk-toggleable__control sk-hidden--visually\" id=\"sk-estimator-id-20\" type=\"checkbox\" ><label for=\"sk-estimator-id-20\" class=\"sk-toggleable__label sk-toggleable__label-arrow\">LogisticRegression</label><div class=\"sk-toggleable__content\"><pre>LogisticRegression(max_iter=1000, random_state=3)</pre></div></div></div></div></div></div></div>"
      ],
      "text/plain": [
       "Pipeline(steps=[('scaler', StandardScaler()),\n",
       "                ('classifier',\n",
       "                 LogisticRegression(max_iter=1000, random_state=3))])"
      ]
     },
     "execution_count": 33,
     "metadata": {},
     "output_type": "execute_result"
    }
   ],
   "source": [
    "logistic_regression_pipe.fit(X_categorical_train, y_categorical_train)"
   ]
  },
  {
   "cell_type": "code",
   "execution_count": 34,
   "metadata": {},
   "outputs": [
    {
     "name": "stdout",
     "output_type": "stream",
     "text": [
      "Acurácia: 60.67%\n",
      "Precision: 50.67%\n",
      "Recall: 60.67%\n",
      "F1: 52.22%\n",
      "              precision    recall  f1-score   support\n",
      "\n",
      "           0       0.33      0.03      0.05        73\n",
      "           1       0.50      0.04      0.07       162\n",
      "           2       0.40      0.19      0.26       393\n",
      "           3       0.66      0.94      0.78      1021\n",
      "\n",
      "    accuracy                           0.63      1649\n",
      "   macro avg       0.47      0.30      0.29      1649\n",
      "weighted avg       0.57      0.63      0.55      1649\n",
      "\n"
     ]
    },
    {
     "data": {
      "image/png": "[encoded data removed]",
      "text/plain": [
       "<Figure size 640x480 with 2 Axes>"
      ]
     },
     "metadata": {},
     "output_type": "display_data"
    }
   ],
   "source": [
    "evaluate_classification_model(logistic_regression_pipe)\n",
    "plt.show()"
   ]
  },
  {
   "attachments": {},
   "cell_type": "markdown",
   "metadata": {},
   "source": [
    "Tuned model"
   ]
  },
  {
   "cell_type": "code",
   "execution_count": 35,
   "metadata": {},
   "outputs": [
    {
     "data": {
      "text/html": [
       "<style>#sk-container-id-7 {color: black;background-color: white;}#sk-container-id-7 pre{padding: 0;}#sk-container-id-7 div.sk-toggleable {background-color: white;}#sk-container-id-7 label.sk-toggleable__label {cursor: pointer;display: block;width: 100%;margin-bottom: 0;padding: 0.3em;box-sizing: border-box;text-align: center;}#sk-container-id-7 label.sk-toggleable__label-arrow:before {content: \"▸\";float: left;margin-right: 0.25em;color: #696969;}#sk-container-id-7 label.sk-toggleable__label-arrow:hover:before {color: black;}#sk-container-id-7 div.sk-estimator:hover label.sk-toggleable__label-arrow:before {color: black;}#sk-container-id-7 div.sk-toggleable__content {max-height: 0;max-width: 0;overflow: hidden;text-align: left;background-color: #f0f8ff;}#sk-container-id-7 div.sk-toggleable__content pre {margin: 0.2em;color: black;border-radius: 0.25em;background-color: #f0f8ff;}#sk-container-id-7 input.sk-toggleable__control:checked~div.sk-toggleable__content {max-height: 200px;max-width: 100%;overflow: auto;}#sk-container-id-7 input.sk-toggleable__control:checked~label.sk-toggleable__label-arrow:before {content: \"▾\";}#sk-container-id-7 div.sk-estimator input.sk-toggleable__control:checked~label.sk-toggleable__label {background-color: #d4ebff;}#sk-container-id-7 div.sk-label input.sk-toggleable__control:checked~label.sk-toggleable__label {background-color: #d4ebff;}#sk-container-id-7 input.sk-hidden--visually {border: 0;clip: rect(1px 1px 1px 1px);clip: rect(1px, 1px, 1px, 1px);height: 1px;margin: -1px;overflow: hidden;padding: 0;position: absolute;width: 1px;}#sk-container-id-7 div.sk-estimator {font-family: monospace;background-color: #f0f8ff;border: 1px dotted black;border-radius: 0.25em;box-sizing: border-box;margin-bottom: 0.5em;}#sk-container-id-7 div.sk-estimator:hover {background-color: #d4ebff;}#sk-container-id-7 div.sk-parallel-item::after {content: \"\";width: 100%;border-bottom: 1px solid gray;flex-grow: 1;}#sk-container-id-7 div.sk-label:hover label.sk-toggleable__label {background-color: #d4ebff;}#sk-container-id-7 div.sk-serial::before {content: \"\";position: absolute;border-left: 1px solid gray;box-sizing: border-box;top: 0;bottom: 0;left: 50%;z-index: 0;}#sk-container-id-7 div.sk-serial {display: flex;flex-direction: column;align-items: center;background-color: white;padding-right: 0.2em;padding-left: 0.2em;position: relative;}#sk-container-id-7 div.sk-item {position: relative;z-index: 1;}#sk-container-id-7 div.sk-parallel {display: flex;align-items: stretch;justify-content: center;background-color: white;position: relative;}#sk-container-id-7 div.sk-item::before, #sk-container-id-7 div.sk-parallel-item::before {content: \"\";position: absolute;border-left: 1px solid gray;box-sizing: border-box;top: 0;bottom: 0;left: 50%;z-index: -1;}#sk-container-id-7 div.sk-parallel-item {display: flex;flex-direction: column;z-index: 1;position: relative;background-color: white;}#sk-container-id-7 div.sk-parallel-item:first-child::after {align-self: flex-end;width: 50%;}#sk-container-id-7 div.sk-parallel-item:last-child::after {align-self: flex-start;width: 50%;}#sk-container-id-7 div.sk-parallel-item:only-child::after {width: 0;}#sk-container-id-7 div.sk-dashed-wrapped {border: 1px dashed gray;margin: 0 0.4em 0.5em 0.4em;box-sizing: border-box;padding-bottom: 0.4em;background-color: white;}#sk-container-id-7 div.sk-label label {font-family: monospace;font-weight: bold;display: inline-block;line-height: 1.2em;}#sk-container-id-7 div.sk-label-container {text-align: center;}#sk-container-id-7 div.sk-container {/* jupyter's `normalize.less` sets `[hidden] { display: none; }` but bootstrap.min.css set `[hidden] { display: none !important; }` so we also need the `!important` here to be able to override the default hidden behavior on the sphinx rendered scikit-learn.org. See: https://github.com/scikit-learn/scikit-learn/issues/21755 */display: inline-block !important;position: relative;}#sk-container-id-7 div.sk-text-repr-fallback {display: none;}</style><div id=\"sk-container-id-7\" class=\"sk-top-container\"><div class=\"sk-text-repr-fallback\"><pre>GridSearchCV(cv=KFold(n_splits=5, random_state=None, shuffle=False),\n",
       "             estimator=Pipeline(steps=[(&#x27;scaler&#x27;, StandardScaler()),\n",
       "                                       (&#x27;classifier&#x27;,\n",
       "                                        LogisticRegression(max_iter=1000,\n",
       "                                                           random_state=3))]),\n",
       "             param_grid={&#x27;classifier__solver&#x27;: [&#x27;lbfgs&#x27;, &#x27;liblinear&#x27;,\n",
       "                                                &#x27;newton-cg&#x27;, &#x27;newton-cholesky&#x27;,\n",
       "                                                &#x27;sag&#x27;, &#x27;saga&#x27;]})</pre><b>In a Jupyter environment, please rerun this cell to show the HTML representation or trust the notebook. <br />On GitHub, the HTML representation is unable to render, please try loading this page with nbviewer.org.</b></div><div class=\"sk-container\" hidden><div class=\"sk-item sk-dashed-wrapped\"><div class=\"sk-label-container\"><div class=\"sk-label sk-toggleable\"><input class=\"sk-toggleable__control sk-hidden--visually\" id=\"sk-estimator-id-21\" type=\"checkbox\" ><label for=\"sk-estimator-id-21\" class=\"sk-toggleable__label sk-toggleable__label-arrow\">GridSearchCV</label><div class=\"sk-toggleable__content\"><pre>GridSearchCV(cv=KFold(n_splits=5, random_state=None, shuffle=False),\n",
       "             estimator=Pipeline(steps=[(&#x27;scaler&#x27;, StandardScaler()),\n",
       "                                       (&#x27;classifier&#x27;,\n",
       "                                        LogisticRegression(max_iter=1000,\n",
       "                                                           random_state=3))]),\n",
       "             param_grid={&#x27;classifier__solver&#x27;: [&#x27;lbfgs&#x27;, &#x27;liblinear&#x27;,\n",
       "                                                &#x27;newton-cg&#x27;, &#x27;newton-cholesky&#x27;,\n",
       "                                                &#x27;sag&#x27;, &#x27;saga&#x27;]})</pre></div></div></div><div class=\"sk-parallel\"><div class=\"sk-parallel-item\"><div class=\"sk-item\"><div class=\"sk-label-container\"><div class=\"sk-label sk-toggleable\"><input class=\"sk-toggleable__control sk-hidden--visually\" id=\"sk-estimator-id-22\" type=\"checkbox\" ><label for=\"sk-estimator-id-22\" class=\"sk-toggleable__label sk-toggleable__label-arrow\">estimator: Pipeline</label><div class=\"sk-toggleable__content\"><pre>Pipeline(steps=[(&#x27;scaler&#x27;, StandardScaler()),\n",
       "                (&#x27;classifier&#x27;,\n",
       "                 LogisticRegression(max_iter=1000, random_state=3))])</pre></div></div></div><div class=\"sk-serial\"><div class=\"sk-item\"><div class=\"sk-serial\"><div class=\"sk-item\"><div class=\"sk-estimator sk-toggleable\"><input class=\"sk-toggleable__control sk-hidden--visually\" id=\"sk-estimator-id-23\" type=\"checkbox\" ><label for=\"sk-estimator-id-23\" class=\"sk-toggleable__label sk-toggleable__label-arrow\">StandardScaler</label><div class=\"sk-toggleable__content\"><pre>StandardScaler()</pre></div></div></div><div class=\"sk-item\"><div class=\"sk-estimator sk-toggleable\"><input class=\"sk-toggleable__control sk-hidden--visually\" id=\"sk-estimator-id-24\" type=\"checkbox\" ><label for=\"sk-estimator-id-24\" class=\"sk-toggleable__label sk-toggleable__label-arrow\">LogisticRegression</label><div class=\"sk-toggleable__content\"><pre>LogisticRegression(max_iter=1000, random_state=3)</pre></div></div></div></div></div></div></div></div></div></div></div></div>"
      ],
      "text/plain": [
       "GridSearchCV(cv=KFold(n_splits=5, random_state=None, shuffle=False),\n",
       "             estimator=Pipeline(steps=[('scaler', StandardScaler()),\n",
       "                                       ('classifier',\n",
       "                                        LogisticRegression(max_iter=1000,\n",
       "                                                           random_state=3))]),\n",
       "             param_grid={'classifier__solver': ['lbfgs', 'liblinear',\n",
       "                                                'newton-cg', 'newton-cholesky',\n",
       "                                                'sag', 'saga']})"
      ]
     },
     "execution_count": 35,
     "metadata": {},
     "output_type": "execute_result"
    }
   ],
   "source": [
    "logistic_regression_param_space = {\n",
    "    'classifier__solver': ['lbfgs', 'liblinear', 'newton-cg', 'newton-cholesky', 'sag', 'saga'],\n",
    "}\n",
    "\n",
    "logistic_regression_grid_search = GridSearchCV(logistic_regression_pipe, logistic_regression_param_space, cv=KFold(n_splits=5))\n",
    "\n",
    "logistic_regression_grid_search.fit(X_transformed, y_categorical_transformed)"
   ]
  },
  {
   "cell_type": "code",
   "execution_count": 36,
   "metadata": {},
   "outputs": [
    {
     "data": {
      "text/plain": [
       "{'classifier__solver': 'liblinear'}"
      ]
     },
     "execution_count": 36,
     "metadata": {},
     "output_type": "execute_result"
    }
   ],
   "source": [
    "logistic_regression_grid_search.best_params_"
   ]
  },
  {
   "cell_type": "code",
   "execution_count": 37,
   "metadata": {},
   "outputs": [
    {
     "name": "stdout",
     "output_type": "stream",
     "text": [
      "Acurácia: 61.31%\n",
      "Precision: 53.07%\n",
      "Recall: 61.31%\n",
      "F1: 52.49%\n",
      "              precision    recall  f1-score   support\n",
      "\n",
      "           0       0.50      0.01      0.03        73\n",
      "           1       0.44      0.04      0.08       162\n",
      "           2       0.39      0.16      0.22       393\n",
      "           3       0.66      0.95      0.78      1021\n",
      "\n",
      "    accuracy                           0.63      1649\n",
      "   macro avg       0.50      0.29      0.28      1649\n",
      "weighted avg       0.57      0.63      0.54      1649\n",
      "\n"
     ]
    },
    {
     "data": {
      "image/png": "[encoded data removed]",
      "text/plain": [
       "<Figure size 640x480 with 2 Axes>"
      ]
     },
     "metadata": {},
     "output_type": "display_data"
    }
   ],
   "source": [
    "tuned_logistic_regression_pipe = logistic_regression_grid_search.best_estimator_\n",
    "\n",
    "evaluate_classification_model(tuned_logistic_regression_pipe)\n",
    "plt.show()"
   ]
  },
  {
   "cell_type": "code",
   "execution_count": 38,
   "metadata": {},
   "outputs": [],
   "source": [
    "sio.dump(logistic_regression_pipe, '../sklearn/models/logistic_regression.skops')\n",
    "sio.dump(tuned_logistic_regression_pipe, '../sklearn/models/tuned/tuned_logistic_regression.skops')"
   ]
  },
  {
   "cell_type": "code",
   "execution_count": 39,
   "metadata": {},
   "outputs": [
    {
     "name": "stderr",
     "output_type": "stream",
     "text": [
      "Intel(R) Extension for Scikit-learn* enabled (https://github.com/intel/scikit-learn-intelex)\n"
     ]
    }
   ],
   "source": [
    "# accelerating sklearn\n",
    "patch_sklearn()"
   ]
  },
  {
   "attachments": {},
   "cell_type": "markdown",
   "metadata": {},
   "source": [
    "#### **Naive Bayes**"
   ]
  },
  {
   "cell_type": "code",
   "execution_count": 40,
   "metadata": {},
   "outputs": [],
   "source": [
    "naive_bayes_pipe = Pipeline(steps=[\n",
    "    ('scaler', StandardScaler()),\n",
    "    ('classifier', GaussianNB()),\n",
    "])"
   ]
  },
  {
   "cell_type": "code",
   "execution_count": 41,
   "metadata": {},
   "outputs": [
    {
     "data": {
      "text/html": [
       "<style>#sk-container-id-8 {color: black;background-color: white;}#sk-container-id-8 pre{padding: 0;}#sk-container-id-8 div.sk-toggleable {background-color: white;}#sk-container-id-8 label.sk-toggleable__label {cursor: pointer;display: block;width: 100%;margin-bottom: 0;padding: 0.3em;box-sizing: border-box;text-align: center;}#sk-container-id-8 label.sk-toggleable__label-arrow:before {content: \"▸\";float: left;margin-right: 0.25em;color: #696969;}#sk-container-id-8 label.sk-toggleable__label-arrow:hover:before {color: black;}#sk-container-id-8 div.sk-estimator:hover label.sk-toggleable__label-arrow:before {color: black;}#sk-container-id-8 div.sk-toggleable__content {max-height: 0;max-width: 0;overflow: hidden;text-align: left;background-color: #f0f8ff;}#sk-container-id-8 div.sk-toggleable__content pre {margin: 0.2em;color: black;border-radius: 0.25em;background-color: #f0f8ff;}#sk-container-id-8 input.sk-toggleable__control:checked~div.sk-toggleable__content {max-height: 200px;max-width: 100%;overflow: auto;}#sk-container-id-8 input.sk-toggleable__control:checked~label.sk-toggleable__label-arrow:before {content: \"▾\";}#sk-container-id-8 div.sk-estimator input.sk-toggleable__control:checked~label.sk-toggleable__label {background-color: #d4ebff;}#sk-container-id-8 div.sk-label input.sk-toggleable__control:checked~label.sk-toggleable__label {background-color: #d4ebff;}#sk-container-id-8 input.sk-hidden--visually {border: 0;clip: rect(1px 1px 1px 1px);clip: rect(1px, 1px, 1px, 1px);height: 1px;margin: -1px;overflow: hidden;padding: 0;position: absolute;width: 1px;}#sk-container-id-8 div.sk-estimator {font-family: monospace;background-color: #f0f8ff;border: 1px dotted black;border-radius: 0.25em;box-sizing: border-box;margin-bottom: 0.5em;}#sk-container-id-8 div.sk-estimator:hover {background-color: #d4ebff;}#sk-container-id-8 div.sk-parallel-item::after {content: \"\";width: 100%;border-bottom: 1px solid gray;flex-grow: 1;}#sk-container-id-8 div.sk-label:hover label.sk-toggleable__label {background-color: #d4ebff;}#sk-container-id-8 div.sk-serial::before {content: \"\";position: absolute;border-left: 1px solid gray;box-sizing: border-box;top: 0;bottom: 0;left: 50%;z-index: 0;}#sk-container-id-8 div.sk-serial {display: flex;flex-direction: column;align-items: center;background-color: white;padding-right: 0.2em;padding-left: 0.2em;position: relative;}#sk-container-id-8 div.sk-item {position: relative;z-index: 1;}#sk-container-id-8 div.sk-parallel {display: flex;align-items: stretch;justify-content: center;background-color: white;position: relative;}#sk-container-id-8 div.sk-item::before, #sk-container-id-8 div.sk-parallel-item::before {content: \"\";position: absolute;border-left: 1px solid gray;box-sizing: border-box;top: 0;bottom: 0;left: 50%;z-index: -1;}#sk-container-id-8 div.sk-parallel-item {display: flex;flex-direction: column;z-index: 1;position: relative;background-color: white;}#sk-container-id-8 div.sk-parallel-item:first-child::after {align-self: flex-end;width: 50%;}#sk-container-id-8 div.sk-parallel-item:last-child::after {align-self: flex-start;width: 50%;}#sk-container-id-8 div.sk-parallel-item:only-child::after {width: 0;}#sk-container-id-8 div.sk-dashed-wrapped {border: 1px dashed gray;margin: 0 0.4em 0.5em 0.4em;box-sizing: border-box;padding-bottom: 0.4em;background-color: white;}#sk-container-id-8 div.sk-label label {font-family: monospace;font-weight: bold;display: inline-block;line-height: 1.2em;}#sk-container-id-8 div.sk-label-container {text-align: center;}#sk-container-id-8 div.sk-container {/* jupyter's `normalize.less` sets `[hidden] { display: none; }` but bootstrap.min.css set `[hidden] { display: none !important; }` so we also need the `!important` here to be able to override the default hidden behavior on the sphinx rendered scikit-learn.org. See: https://github.com/scikit-learn/scikit-learn/issues/21755 */display: inline-block !important;position: relative;}#sk-container-id-8 div.sk-text-repr-fallback {display: none;}</style><div id=\"sk-container-id-8\" class=\"sk-top-container\"><div class=\"sk-text-repr-fallback\"><pre>Pipeline(steps=[(&#x27;scaler&#x27;, StandardScaler()), (&#x27;classifier&#x27;, GaussianNB())])</pre><b>In a Jupyter environment, please rerun this cell to show the HTML representation or trust the notebook. <br />On GitHub, the HTML representation is unable to render, please try loading this page with nbviewer.org.</b></div><div class=\"sk-container\" hidden><div class=\"sk-item sk-dashed-wrapped\"><div class=\"sk-label-container\"><div class=\"sk-label sk-toggleable\"><input class=\"sk-toggleable__control sk-hidden--visually\" id=\"sk-estimator-id-25\" type=\"checkbox\" ><label for=\"sk-estimator-id-25\" class=\"sk-toggleable__label sk-toggleable__label-arrow\">Pipeline</label><div class=\"sk-toggleable__content\"><pre>Pipeline(steps=[(&#x27;scaler&#x27;, StandardScaler()), (&#x27;classifier&#x27;, GaussianNB())])</pre></div></div></div><div class=\"sk-serial\"><div class=\"sk-item\"><div class=\"sk-estimator sk-toggleable\"><input class=\"sk-toggleable__control sk-hidden--visually\" id=\"sk-estimator-id-26\" type=\"checkbox\" ><label for=\"sk-estimator-id-26\" class=\"sk-toggleable__label sk-toggleable__label-arrow\">StandardScaler</label><div class=\"sk-toggleable__content\"><pre>StandardScaler()</pre></div></div></div><div class=\"sk-item\"><div class=\"sk-estimator sk-toggleable\"><input class=\"sk-toggleable__control sk-hidden--visually\" id=\"sk-estimator-id-27\" type=\"checkbox\" ><label for=\"sk-estimator-id-27\" class=\"sk-toggleable__label sk-toggleable__label-arrow\">GaussianNB</label><div class=\"sk-toggleable__content\"><pre>GaussianNB()</pre></div></div></div></div></div></div></div>"
      ],
      "text/plain": [
       "Pipeline(steps=[('scaler', StandardScaler()), ('classifier', GaussianNB())])"
      ]
     },
     "execution_count": 41,
     "metadata": {},
     "output_type": "execute_result"
    }
   ],
   "source": [
    "naive_bayes_pipe.fit(X_categorical_train, y_categorical_train)"
   ]
  },
  {
   "cell_type": "code",
   "execution_count": 42,
   "metadata": {},
   "outputs": [
    {
     "name": "stdout",
     "output_type": "stream",
     "text": [
      "Acurácia: 24.82%\n",
      "Precision: 50.89%\n",
      "Recall: 24.82%\n",
      "F1: 28.99%\n",
      "              precision    recall  f1-score   support\n",
      "\n",
      "           0       0.06      0.99      0.11        73\n",
      "           1       1.00      0.01      0.01       162\n",
      "           2       1.00      0.01      0.01       393\n",
      "           3       0.76      0.28      0.41      1021\n",
      "\n",
      "    accuracy                           0.22      1649\n",
      "   macro avg       0.71      0.32      0.13      1649\n",
      "weighted avg       0.81      0.22      0.26      1649\n",
      "\n"
     ]
    },
    {
     "data": {
      "image/png": "[encoded data removed]",
      "text/plain": [
       "<Figure size 640x480 with 2 Axes>"
      ]
     },
     "metadata": {},
     "output_type": "display_data"
    }
   ],
   "source": [
    "evaluate_classification_model(naive_bayes_pipe)\n",
    "plt.show()"
   ]
  },
  {
   "cell_type": "code",
   "execution_count": 43,
   "metadata": {},
   "outputs": [],
   "source": [
    "sio.dump(naive_bayes_pipe, '../sklearn/models/naive_bayes.skops')"
   ]
  },
  {
   "attachments": {},
   "cell_type": "markdown",
   "metadata": {},
   "source": [
    "#### **SVM**"
   ]
  },
  {
   "attachments": {},
   "cell_type": "markdown",
   "metadata": {},
   "source": [
    "**Classificador**"
   ]
  },
  {
   "attachments": {},
   "cell_type": "markdown",
   "metadata": {},
   "source": [
    "Base model"
   ]
  },
  {
   "cell_type": "code",
   "execution_count": 44,
   "metadata": {},
   "outputs": [],
   "source": [
    "svm_classifier_pipe = Pipeline(steps=[\n",
    "    ('scaler', StandardScaler()),\n",
    "    ('classifier', SVC(random_state=SEED)),\n",
    "])"
   ]
  },
  {
   "cell_type": "code",
   "execution_count": 45,
   "metadata": {},
   "outputs": [
    {
     "data": {
      "text/html": [
       "<style>#sk-container-id-9 {color: black;background-color: white;}#sk-container-id-9 pre{padding: 0;}#sk-container-id-9 div.sk-toggleable {background-color: white;}#sk-container-id-9 label.sk-toggleable__label {cursor: pointer;display: block;width: 100%;margin-bottom: 0;padding: 0.3em;box-sizing: border-box;text-align: center;}#sk-container-id-9 label.sk-toggleable__label-arrow:before {content: \"▸\";float: left;margin-right: 0.25em;color: #696969;}#sk-container-id-9 label.sk-toggleable__label-arrow:hover:before {color: black;}#sk-container-id-9 div.sk-estimator:hover label.sk-toggleable__label-arrow:before {color: black;}#sk-container-id-9 div.sk-toggleable__content {max-height: 0;max-width: 0;overflow: hidden;text-align: left;background-color: #f0f8ff;}#sk-container-id-9 div.sk-toggleable__content pre {margin: 0.2em;color: black;border-radius: 0.25em;background-color: #f0f8ff;}#sk-container-id-9 input.sk-toggleable__control:checked~div.sk-toggleable__content {max-height: 200px;max-width: 100%;overflow: auto;}#sk-container-id-9 input.sk-toggleable__control:checked~label.sk-toggleable__label-arrow:before {content: \"▾\";}#sk-container-id-9 div.sk-estimator input.sk-toggleable__control:checked~label.sk-toggleable__label {background-color: #d4ebff;}#sk-container-id-9 div.sk-label input.sk-toggleable__control:checked~label.sk-toggleable__label {background-color: #d4ebff;}#sk-container-id-9 input.sk-hidden--visually {border: 0;clip: rect(1px 1px 1px 1px);clip: rect(1px, 1px, 1px, 1px);height: 1px;margin: -1px;overflow: hidden;padding: 0;position: absolute;width: 1px;}#sk-container-id-9 div.sk-estimator {font-family: monospace;background-color: #f0f8ff;border: 1px dotted black;border-radius: 0.25em;box-sizing: border-box;margin-bottom: 0.5em;}#sk-container-id-9 div.sk-estimator:hover {background-color: #d4ebff;}#sk-container-id-9 div.sk-parallel-item::after {content: \"\";width: 100%;border-bottom: 1px solid gray;flex-grow: 1;}#sk-container-id-9 div.sk-label:hover label.sk-toggleable__label {background-color: #d4ebff;}#sk-container-id-9 div.sk-serial::before {content: \"\";position: absolute;border-left: 1px solid gray;box-sizing: border-box;top: 0;bottom: 0;left: 50%;z-index: 0;}#sk-container-id-9 div.sk-serial {display: flex;flex-direction: column;align-items: center;background-color: white;padding-right: 0.2em;padding-left: 0.2em;position: relative;}#sk-container-id-9 div.sk-item {position: relative;z-index: 1;}#sk-container-id-9 div.sk-parallel {display: flex;align-items: stretch;justify-content: center;background-color: white;position: relative;}#sk-container-id-9 div.sk-item::before, #sk-container-id-9 div.sk-parallel-item::before {content: \"\";position: absolute;border-left: 1px solid gray;box-sizing: border-box;top: 0;bottom: 0;left: 50%;z-index: -1;}#sk-container-id-9 div.sk-parallel-item {display: flex;flex-direction: column;z-index: 1;position: relative;background-color: white;}#sk-container-id-9 div.sk-parallel-item:first-child::after {align-self: flex-end;width: 50%;}#sk-container-id-9 div.sk-parallel-item:last-child::after {align-self: flex-start;width: 50%;}#sk-container-id-9 div.sk-parallel-item:only-child::after {width: 0;}#sk-container-id-9 div.sk-dashed-wrapped {border: 1px dashed gray;margin: 0 0.4em 0.5em 0.4em;box-sizing: border-box;padding-bottom: 0.4em;background-color: white;}#sk-container-id-9 div.sk-label label {font-family: monospace;font-weight: bold;display: inline-block;line-height: 1.2em;}#sk-container-id-9 div.sk-label-container {text-align: center;}#sk-container-id-9 div.sk-container {/* jupyter's `normalize.less` sets `[hidden] { display: none; }` but bootstrap.min.css set `[hidden] { display: none !important; }` so we also need the `!important` here to be able to override the default hidden behavior on the sphinx rendered scikit-learn.org. See: https://github.com/scikit-learn/scikit-learn/issues/21755 */display: inline-block !important;position: relative;}#sk-container-id-9 div.sk-text-repr-fallback {display: none;}</style><div id=\"sk-container-id-9\" class=\"sk-top-container\"><div class=\"sk-text-repr-fallback\"><pre>Pipeline(steps=[(&#x27;scaler&#x27;, StandardScaler()),\n",
       "                (&#x27;classifier&#x27;, SVC(random_state=3))])</pre><b>In a Jupyter environment, please rerun this cell to show the HTML representation or trust the notebook. <br />On GitHub, the HTML representation is unable to render, please try loading this page with nbviewer.org.</b></div><div class=\"sk-container\" hidden><div class=\"sk-item sk-dashed-wrapped\"><div class=\"sk-label-container\"><div class=\"sk-label sk-toggleable\"><input class=\"sk-toggleable__control sk-hidden--visually\" id=\"sk-estimator-id-28\" type=\"checkbox\" ><label for=\"sk-estimator-id-28\" class=\"sk-toggleable__label sk-toggleable__label-arrow\">Pipeline</label><div class=\"sk-toggleable__content\"><pre>Pipeline(steps=[(&#x27;scaler&#x27;, StandardScaler()),\n",
       "                (&#x27;classifier&#x27;, SVC(random_state=3))])</pre></div></div></div><div class=\"sk-serial\"><div class=\"sk-item\"><div class=\"sk-estimator sk-toggleable\"><input class=\"sk-toggleable__control sk-hidden--visually\" id=\"sk-estimator-id-29\" type=\"checkbox\" ><label for=\"sk-estimator-id-29\" class=\"sk-toggleable__label sk-toggleable__label-arrow\">StandardScaler</label><div class=\"sk-toggleable__content\"><pre>StandardScaler()</pre></div></div></div><div class=\"sk-item\"><div class=\"sk-estimator sk-toggleable\"><input class=\"sk-toggleable__control sk-hidden--visually\" id=\"sk-estimator-id-30\" type=\"checkbox\" ><label for=\"sk-estimator-id-30\" class=\"sk-toggleable__label sk-toggleable__label-arrow\">SVC</label><div class=\"sk-toggleable__content\"><pre>SVC(random_state=3)</pre></div></div></div></div></div></div></div>"
      ],
      "text/plain": [
       "Pipeline(steps=[('scaler', StandardScaler()),\n",
       "                ('classifier', SVC(random_state=3))])"
      ]
     },
     "execution_count": 45,
     "metadata": {},
     "output_type": "execute_result"
    }
   ],
   "source": [
    "svm_classifier_pipe.fit(X_categorical_train, y_categorical_train)"
   ]
  },
  {
   "cell_type": "code",
   "execution_count": 46,
   "metadata": {},
   "outputs": [
    {
     "name": "stdout",
     "output_type": "stream",
     "text": [
      "Acurácia: 61.73%\n",
      "Precision: 46.92%\n",
      "Recall: 61.73%\n",
      "F1: 49.10%\n",
      "              precision    recall  f1-score   support\n",
      "\n",
      "           0       0.00      0.00      0.00        73\n",
      "           1       1.00      0.01      0.01       162\n",
      "           2       0.81      0.19      0.31       393\n",
      "           3       0.65      1.00      0.79      1021\n",
      "\n",
      "    accuracy                           0.66      1649\n",
      "   macro avg       0.62      0.30      0.28      1649\n",
      "weighted avg       0.70      0.66      0.56      1649\n",
      "\n"
     ]
    },
    {
     "data": {
      "image/png": "[encoded data removed]",
      "text/plain": [
       "<Figure size 640x480 with 2 Axes>"
      ]
     },
     "metadata": {},
     "output_type": "display_data"
    }
   ],
   "source": [
    "evaluate_classification_model(svm_classifier_pipe)\n",
    "plt.show()"
   ]
  },
  {
   "attachments": {},
   "cell_type": "markdown",
   "metadata": {},
   "source": [
    "Tuned model"
   ]
  },
  {
   "cell_type": "code",
   "execution_count": 47,
   "metadata": {},
   "outputs": [
    {
     "name": "stdout",
     "output_type": "stream",
     "text": [
      "Fitting 5 folds for each of 50 candidates, totalling 250 fits\n",
      "[CV 1/5] END classifier__C=15, classifier__gamma=1, classifier__kernel=sigmoid;, score=0.447 total time=   0.1s\n",
      "[CV 2/5] END classifier__C=15, classifier__gamma=1, classifier__kernel=sigmoid;, score=0.498 total time=   0.1s\n",
      "[CV 3/5] END classifier__C=15, classifier__gamma=1, classifier__kernel=sigmoid;, score=0.499 total time=   0.1s\n",
      "[CV 4/5] END classifier__C=15, classifier__gamma=1, classifier__kernel=sigmoid;, score=0.427 total time=   0.1s\n",
      "[CV 5/5] END classifier__C=15, classifier__gamma=1, classifier__kernel=sigmoid;, score=0.463 total time=   0.1s\n",
      "[CV 1/5] END classifier__C=10, classifier__gamma=0.001, classifier__kernel=sigmoid;, score=0.621 total time=   0.3s\n",
      "[CV 2/5] END classifier__C=10, classifier__gamma=0.001, classifier__kernel=sigmoid;, score=0.646 total time=   0.4s\n",
      "[CV 3/5] END classifier__C=10, classifier__gamma=0.001, classifier__kernel=sigmoid;, score=0.592 total time=   0.4s\n",
      "[CV 4/5] END classifier__C=10, classifier__gamma=0.001, classifier__kernel=sigmoid;, score=0.626 total time=   0.4s\n",
      "[CV 5/5] END classifier__C=10, classifier__gamma=0.001, classifier__kernel=sigmoid;, score=0.582 total time=   0.4s\n",
      "[CV 1/5] END classifier__C=0.01, classifier__gamma=0.1, classifier__kernel=poly;, score=0.608 total time=   0.2s\n",
      "[CV 2/5] END classifier__C=0.01, classifier__gamma=0.1, classifier__kernel=poly;, score=0.644 total time=   0.2s\n",
      "[CV 3/5] END classifier__C=0.01, classifier__gamma=0.1, classifier__kernel=poly;, score=0.584 total time=   0.2s\n",
      "[CV 4/5] END classifier__C=0.01, classifier__gamma=0.1, classifier__kernel=poly;, score=0.609 total time=   0.2s\n",
      "[CV 5/5] END classifier__C=0.01, classifier__gamma=0.1, classifier__kernel=poly;, score=0.571 total time=   0.2s\n",
      "[CV 1/5] END classifier__C=15, classifier__gamma=0.01, classifier__kernel=sigmoid;, score=0.502 total time=   0.1s\n",
      "[CV 2/5] END classifier__C=15, classifier__gamma=0.01, classifier__kernel=sigmoid;, score=0.547 total time=   0.1s\n",
      "[CV 3/5] END classifier__C=15, classifier__gamma=0.01, classifier__kernel=sigmoid;, score=0.503 total time=   0.1s\n",
      "[CV 4/5] END classifier__C=15, classifier__gamma=0.01, classifier__kernel=sigmoid;, score=0.503 total time=   0.1s\n",
      "[CV 5/5] END classifier__C=15, classifier__gamma=0.01, classifier__kernel=sigmoid;, score=0.514 total time=   0.1s\n",
      "[CV 1/5] END classifier__C=15, classifier__gamma=1, classifier__kernel=poly;, score=0.377 total time=   0.3s\n",
      "[CV 2/5] END classifier__C=15, classifier__gamma=1, classifier__kernel=poly;, score=0.424 total time=   0.2s\n",
      "[CV 3/5] END classifier__C=15, classifier__gamma=1, classifier__kernel=poly;, score=0.450 total time=   0.3s\n",
      "[CV 4/5] END classifier__C=15, classifier__gamma=1, classifier__kernel=poly;, score=0.418 total time=   0.3s\n",
      "[CV 5/5] END classifier__C=15, classifier__gamma=1, classifier__kernel=poly;, score=0.456 total time=   0.2s\n",
      "[CV 1/5] END classifier__C=0.01, classifier__gamma=0.1, classifier__kernel=rbf;, score=0.621 total time=   0.4s\n",
      "[CV 2/5] END classifier__C=0.01, classifier__gamma=0.1, classifier__kernel=rbf;, score=0.646 total time=   0.4s\n",
      "[CV 3/5] END classifier__C=0.01, classifier__gamma=0.1, classifier__kernel=rbf;, score=0.592 total time=   0.4s\n",
      "[CV 4/5] END classifier__C=0.01, classifier__gamma=0.1, classifier__kernel=rbf;, score=0.626 total time=   0.4s\n",
      "[CV 5/5] END classifier__C=0.01, classifier__gamma=0.1, classifier__kernel=rbf;, score=0.582 total time=   0.4s\n",
      "[CV 1/5] END classifier__C=1, classifier__gamma=0.0001, classifier__kernel=sigmoid;, score=0.621 total time=   0.1s\n",
      "[CV 2/5] END classifier__C=1, classifier__gamma=0.0001, classifier__kernel=sigmoid;, score=0.646 total time=   0.1s\n",
      "[CV 3/5] END classifier__C=1, classifier__gamma=0.0001, classifier__kernel=sigmoid;, score=0.592 total time=   0.1s\n",
      "[CV 4/5] END classifier__C=1, classifier__gamma=0.0001, classifier__kernel=sigmoid;, score=0.626 total time=   0.1s\n",
      "[CV 5/5] END classifier__C=1, classifier__gamma=0.0001, classifier__kernel=sigmoid;, score=0.582 total time=   0.1s\n",
      "[CV 1/5] END classifier__C=0.1, classifier__gamma=0.1, classifier__kernel=poly;, score=0.519 total time=   0.2s\n",
      "[CV 2/5] END classifier__C=0.1, classifier__gamma=0.1, classifier__kernel=poly;, score=0.572 total time=   0.3s\n",
      "[CV 3/5] END classifier__C=0.1, classifier__gamma=0.1, classifier__kernel=poly;, score=0.550 total time=   0.3s\n",
      "[CV 4/5] END classifier__C=0.1, classifier__gamma=0.1, classifier__kernel=poly;, score=0.524 total time=   0.2s\n",
      "[CV 5/5] END classifier__C=0.1, classifier__gamma=0.1, classifier__kernel=poly;, score=0.539 total time=   0.2s\n",
      "[CV 1/5] END classifier__C=15, classifier__gamma=0.001, classifier__kernel=linear;, score=0.621 total time= 2.1min\n",
      "[CV 2/5] END classifier__C=15, classifier__gamma=0.001, classifier__kernel=linear;, score=0.646 total time=   1.5s\n",
      "[CV 3/5] END classifier__C=15, classifier__gamma=0.001, classifier__kernel=linear;, score=0.592 total time=  35.1s\n",
      "[CV 4/5] END classifier__C=15, classifier__gamma=0.001, classifier__kernel=linear;, score=0.626 total time=  10.2s\n",
      "[CV 5/5] END classifier__C=15, classifier__gamma=0.001, classifier__kernel=linear;, score=0.582 total time=   1.9s\n",
      "[CV 1/5] END classifier__C=0.01, classifier__gamma=0.0001, classifier__kernel=poly;, score=0.621 total time=   0.1s\n",
      "[CV 2/5] END classifier__C=0.01, classifier__gamma=0.0001, classifier__kernel=poly;, score=0.646 total time=   0.1s\n",
      "[CV 3/5] END classifier__C=0.01, classifier__gamma=0.0001, classifier__kernel=poly;, score=0.592 total time=   0.1s\n",
      "[CV 4/5] END classifier__C=0.01, classifier__gamma=0.0001, classifier__kernel=poly;, score=0.626 total time=   0.1s\n",
      "[CV 5/5] END classifier__C=0.01, classifier__gamma=0.0001, classifier__kernel=poly;, score=0.582 total time=   0.1s\n",
      "[CV 1/5] END classifier__C=15, classifier__gamma=0.0001, classifier__kernel=poly;, score=0.621 total time=   0.1s\n",
      "[CV 2/5] END classifier__C=15, classifier__gamma=0.0001, classifier__kernel=poly;, score=0.646 total time=   0.1s\n",
      "[CV 3/5] END classifier__C=15, classifier__gamma=0.0001, classifier__kernel=poly;, score=0.592 total time=   0.1s\n",
      "[CV 4/5] END classifier__C=15, classifier__gamma=0.0001, classifier__kernel=poly;, score=0.626 total time=   0.1s\n",
      "[CV 5/5] END classifier__C=15, classifier__gamma=0.0001, classifier__kernel=poly;, score=0.582 total time=   0.1s\n",
      "[CV 1/5] END classifier__C=1, classifier__gamma=0.1, classifier__kernel=sigmoid;, score=0.517 total time=   0.1s\n",
      "[CV 2/5] END classifier__C=1, classifier__gamma=0.1, classifier__kernel=sigmoid;, score=0.528 total time=   0.1s\n",
      "[CV 3/5] END classifier__C=1, classifier__gamma=0.1, classifier__kernel=sigmoid;, score=0.484 total time=   0.1s\n",
      "[CV 4/5] END classifier__C=1, classifier__gamma=0.1, classifier__kernel=sigmoid;, score=0.471 total time=   0.1s\n",
      "[CV 5/5] END classifier__C=1, classifier__gamma=0.1, classifier__kernel=sigmoid;, score=0.497 total time=   0.1s\n",
      "[CV 1/5] END classifier__C=15, classifier__gamma=1, classifier__kernel=linear;, score=0.621 total time= 2.1min\n",
      "[CV 2/5] END classifier__C=15, classifier__gamma=1, classifier__kernel=linear;, score=0.646 total time=   1.5s\n",
      "[CV 3/5] END classifier__C=15, classifier__gamma=1, classifier__kernel=linear;, score=0.592 total time=  35.1s\n",
      "[CV 4/5] END classifier__C=15, classifier__gamma=1, classifier__kernel=linear;, score=0.626 total time=  10.2s\n",
      "[CV 5/5] END classifier__C=15, classifier__gamma=1, classifier__kernel=linear;, score=0.582 total time=   1.9s\n",
      "[CV 1/5] END classifier__C=10, classifier__gamma=0.1, classifier__kernel=poly;, score=0.419 total time=   0.3s\n",
      "[CV 2/5] END classifier__C=10, classifier__gamma=0.1, classifier__kernel=poly;, score=0.466 total time=   0.3s\n",
      "[CV 3/5] END classifier__C=10, classifier__gamma=0.1, classifier__kernel=poly;, score=0.452 total time=   0.3s\n",
      "[CV 4/5] END classifier__C=10, classifier__gamma=0.1, classifier__kernel=poly;, score=0.425 total time=   0.3s\n",
      "[CV 5/5] END classifier__C=10, classifier__gamma=0.1, classifier__kernel=poly;, score=0.446 total time=   0.3s\n",
      "[CV 1/5] END classifier__C=1, classifier__gamma=1, classifier__kernel=rbf;, score=0.621 total time=   0.4s\n",
      "[CV 2/5] END classifier__C=1, classifier__gamma=1, classifier__kernel=rbf;, score=0.646 total time=   0.4s\n",
      "[CV 3/5] END classifier__C=1, classifier__gamma=1, classifier__kernel=rbf;, score=0.594 total time=   0.4s\n",
      "[CV 4/5] END classifier__C=1, classifier__gamma=1, classifier__kernel=rbf;, score=0.624 total time=   0.4s\n",
      "[CV 5/5] END classifier__C=1, classifier__gamma=1, classifier__kernel=rbf;, score=0.582 total time=   0.4s\n",
      "[CV 1/5] END classifier__C=0.01, classifier__gamma=0.01, classifier__kernel=linear;, score=0.621 total time=   0.1s\n",
      "[CV 2/5] END classifier__C=0.01, classifier__gamma=0.01, classifier__kernel=linear;, score=0.646 total time=   0.1s\n",
      "[CV 3/5] END classifier__C=0.01, classifier__gamma=0.01, classifier__kernel=linear;, score=0.592 total time=   0.1s\n",
      "[CV 4/5] END classifier__C=0.01, classifier__gamma=0.01, classifier__kernel=linear;, score=0.626 total time=   0.1s\n",
      "[CV 5/5] END classifier__C=0.01, classifier__gamma=0.01, classifier__kernel=linear;, score=0.582 total time=   0.1s\n",
      "[CV 1/5] END classifier__C=1, classifier__gamma=0.0001, classifier__kernel=poly;, score=0.621 total time=   0.1s\n",
      "[CV 2/5] END classifier__C=1, classifier__gamma=0.0001, classifier__kernel=poly;, score=0.646 total time=   0.1s\n",
      "[CV 3/5] END classifier__C=1, classifier__gamma=0.0001, classifier__kernel=poly;, score=0.592 total time=   0.1s\n",
      "[CV 4/5] END classifier__C=1, classifier__gamma=0.0001, classifier__kernel=poly;, score=0.626 total time=   0.1s\n",
      "[CV 5/5] END classifier__C=1, classifier__gamma=0.0001, classifier__kernel=poly;, score=0.582 total time=   0.1s\n",
      "[CV 1/5] END classifier__C=10, classifier__gamma=0.0001, classifier__kernel=poly;, score=0.621 total time=   0.1s\n",
      "[CV 2/5] END classifier__C=10, classifier__gamma=0.0001, classifier__kernel=poly;, score=0.646 total time=   0.1s\n",
      "[CV 3/5] END classifier__C=10, classifier__gamma=0.0001, classifier__kernel=poly;, score=0.592 total time=   0.1s\n",
      "[CV 4/5] END classifier__C=10, classifier__gamma=0.0001, classifier__kernel=poly;, score=0.626 total time=   0.1s\n",
      "[CV 5/5] END classifier__C=10, classifier__gamma=0.0001, classifier__kernel=poly;, score=0.582 total time=   0.1s\n",
      "[CV 1/5] END classifier__C=1, classifier__gamma=0.1, classifier__kernel=poly;, score=0.470 total time=   0.3s\n",
      "[CV 2/5] END classifier__C=1, classifier__gamma=0.1, classifier__kernel=poly;, score=0.508 total time=   0.3s\n",
      "[CV 3/5] END classifier__C=1, classifier__gamma=0.1, classifier__kernel=poly;, score=0.493 total time=   0.3s\n",
      "[CV 4/5] END classifier__C=1, classifier__gamma=0.1, classifier__kernel=poly;, score=0.482 total time=   0.3s\n",
      "[CV 5/5] END classifier__C=1, classifier__gamma=0.1, classifier__kernel=poly;, score=0.469 total time=   0.3s\n",
      "[CV 1/5] END classifier__C=0.01, classifier__gamma=0.1, classifier__kernel=linear;, score=0.621 total time=   0.1s\n",
      "[CV 2/5] END classifier__C=0.01, classifier__gamma=0.1, classifier__kernel=linear;, score=0.646 total time=   0.1s\n",
      "[CV 3/5] END classifier__C=0.01, classifier__gamma=0.1, classifier__kernel=linear;, score=0.592 total time=   0.1s\n",
      "[CV 4/5] END classifier__C=0.01, classifier__gamma=0.1, classifier__kernel=linear;, score=0.626 total time=   0.1s\n",
      "[CV 5/5] END classifier__C=0.01, classifier__gamma=0.1, classifier__kernel=linear;, score=0.582 total time=   0.1s\n",
      "[CV 1/5] END classifier__C=0.01, classifier__gamma=0.001, classifier__kernel=linear;, score=0.621 total time=   0.1s\n",
      "[CV 2/5] END classifier__C=0.01, classifier__gamma=0.001, classifier__kernel=linear;, score=0.646 total time=   0.1s\n",
      "[CV 3/5] END classifier__C=0.01, classifier__gamma=0.001, classifier__kernel=linear;, score=0.592 total time=   0.1s\n",
      "[CV 4/5] END classifier__C=0.01, classifier__gamma=0.001, classifier__kernel=linear;, score=0.626 total time=   0.1s\n",
      "[CV 5/5] END classifier__C=0.01, classifier__gamma=0.001, classifier__kernel=linear;, score=0.582 total time=   0.1s\n",
      "[CV 1/5] END classifier__C=15, classifier__gamma=0.1, classifier__kernel=poly;, score=0.415 total time=   0.3s\n",
      "[CV 2/5] END classifier__C=15, classifier__gamma=0.1, classifier__kernel=poly;, score=0.481 total time=   0.3s\n",
      "[CV 3/5] END classifier__C=15, classifier__gamma=0.1, classifier__kernel=poly;, score=0.450 total time=   0.3s\n",
      "[CV 4/5] END classifier__C=15, classifier__gamma=0.1, classifier__kernel=poly;, score=0.416 total time=   0.3s\n",
      "[CV 5/5] END classifier__C=15, classifier__gamma=0.1, classifier__kernel=poly;, score=0.444 total time=   0.3s\n",
      "[CV 1/5] END classifier__C=1, classifier__gamma=0.001, classifier__kernel=linear;, score=0.621 total time=   0.2s\n",
      "[CV 2/5] END classifier__C=1, classifier__gamma=0.001, classifier__kernel=linear;, score=0.646 total time=   0.2s\n",
      "[CV 3/5] END classifier__C=1, classifier__gamma=0.001, classifier__kernel=linear;, score=0.592 total time=   0.2s\n",
      "[CV 4/5] END classifier__C=1, classifier__gamma=0.001, classifier__kernel=linear;, score=0.626 total time=   0.2s\n",
      "[CV 5/5] END classifier__C=1, classifier__gamma=0.001, classifier__kernel=linear;, score=0.582 total time=   0.2s\n",
      "[CV 1/5] END classifier__C=15, classifier__gamma=0.0001, classifier__kernel=sigmoid;, score=0.621 total time=   0.1s\n",
      "[CV 2/5] END classifier__C=15, classifier__gamma=0.0001, classifier__kernel=sigmoid;, score=0.646 total time=   0.1s\n",
      "[CV 3/5] END classifier__C=15, classifier__gamma=0.0001, classifier__kernel=sigmoid;, score=0.592 total time=   0.1s\n",
      "[CV 4/5] END classifier__C=15, classifier__gamma=0.0001, classifier__kernel=sigmoid;, score=0.626 total time=   0.1s\n",
      "[CV 5/5] END classifier__C=15, classifier__gamma=0.0001, classifier__kernel=sigmoid;, score=0.582 total time=   0.1s\n",
      "[CV 1/5] END classifier__C=10, classifier__gamma=1, classifier__kernel=rbf;, score=0.623 total time=   0.4s\n",
      "[CV 2/5] END classifier__C=10, classifier__gamma=1, classifier__kernel=rbf;, score=0.648 total time=   0.4s\n",
      "[CV 3/5] END classifier__C=10, classifier__gamma=1, classifier__kernel=rbf;, score=0.594 total time=   0.5s\n",
      "[CV 4/5] END classifier__C=10, classifier__gamma=1, classifier__kernel=rbf;, score=0.624 total time=   0.4s\n",
      "[CV 5/5] END classifier__C=10, classifier__gamma=1, classifier__kernel=rbf;, score=0.580 total time=   0.5s\n",
      "[CV 1/5] END classifier__C=5, classifier__gamma=0.0001, classifier__kernel=rbf;, score=0.621 total time=   0.3s\n",
      "[CV 2/5] END classifier__C=5, classifier__gamma=0.0001, classifier__kernel=rbf;, score=0.646 total time=   0.3s\n",
      "[CV 3/5] END classifier__C=5, classifier__gamma=0.0001, classifier__kernel=rbf;, score=0.592 total time=   0.3s\n",
      "[CV 4/5] END classifier__C=5, classifier__gamma=0.0001, classifier__kernel=rbf;, score=0.626 total time=   0.3s\n",
      "[CV 5/5] END classifier__C=5, classifier__gamma=0.0001, classifier__kernel=rbf;, score=0.582 total time=   0.3s\n",
      "[CV 1/5] END classifier__C=0.1, classifier__gamma=0.001, classifier__kernel=rbf;, score=0.621 total time=   0.2s\n",
      "[CV 2/5] END classifier__C=0.1, classifier__gamma=0.001, classifier__kernel=rbf;, score=0.646 total time=   0.2s\n",
      "[CV 3/5] END classifier__C=0.1, classifier__gamma=0.001, classifier__kernel=rbf;, score=0.592 total time=   0.2s\n",
      "[CV 4/5] END classifier__C=0.1, classifier__gamma=0.001, classifier__kernel=rbf;, score=0.626 total time=   0.2s\n",
      "[CV 5/5] END classifier__C=0.1, classifier__gamma=0.001, classifier__kernel=rbf;, score=0.582 total time=   0.2s\n",
      "[CV 1/5] END classifier__C=10, classifier__gamma=0.1, classifier__kernel=sigmoid;, score=0.508 total time=   0.1s\n",
      "[CV 2/5] END classifier__C=10, classifier__gamma=0.1, classifier__kernel=sigmoid;, score=0.519 total time=   0.1s\n",
      "[CV 3/5] END classifier__C=10, classifier__gamma=0.1, classifier__kernel=sigmoid;, score=0.473 total time=   0.1s\n",
      "[CV 4/5] END classifier__C=10, classifier__gamma=0.1, classifier__kernel=sigmoid;, score=0.448 total time=   0.1s\n",
      "[CV 5/5] END classifier__C=10, classifier__gamma=0.1, classifier__kernel=sigmoid;, score=0.490 total time=   0.1s\n",
      "[CV 1/5] END classifier__C=15, classifier__gamma=0.01, classifier__kernel=poly;, score=0.585 total time=   0.2s\n",
      "[CV 2/5] END classifier__C=15, classifier__gamma=0.01, classifier__kernel=poly;, score=0.627 total time=   0.2s\n",
      "[CV 3/5] END classifier__C=15, classifier__gamma=0.01, classifier__kernel=poly;, score=0.573 total time=   0.2s\n",
      "[CV 4/5] END classifier__C=15, classifier__gamma=0.01, classifier__kernel=poly;, score=0.594 total time=   0.2s\n",
      "[CV 5/5] END classifier__C=15, classifier__gamma=0.01, classifier__kernel=poly;, score=0.569 total time=   0.2s\n",
      "[CV 1/5] END classifier__C=0.1, classifier__gamma=1, classifier__kernel=sigmoid;, score=0.500 total time=   0.2s\n",
      "[CV 2/5] END classifier__C=0.1, classifier__gamma=1, classifier__kernel=sigmoid;, score=0.528 total time=   0.2s\n",
      "[CV 3/5] END classifier__C=0.1, classifier__gamma=1, classifier__kernel=sigmoid;, score=0.537 total time=   0.1s\n",
      "[CV 4/5] END classifier__C=0.1, classifier__gamma=1, classifier__kernel=sigmoid;, score=0.478 total time=   0.1s\n",
      "[CV 5/5] END classifier__C=0.1, classifier__gamma=1, classifier__kernel=sigmoid;, score=0.501 total time=   0.1s\n",
      "[CV 1/5] END classifier__C=0.01, classifier__gamma=0.001, classifier__kernel=sigmoid;, score=0.621 total time=   0.1s\n",
      "[CV 2/5] END classifier__C=0.01, classifier__gamma=0.001, classifier__kernel=sigmoid;, score=0.646 total time=   0.1s\n",
      "[CV 3/5] END classifier__C=0.01, classifier__gamma=0.001, classifier__kernel=sigmoid;, score=0.592 total time=   0.1s\n",
      "[CV 4/5] END classifier__C=0.01, classifier__gamma=0.001, classifier__kernel=sigmoid;, score=0.626 total time=   0.1s\n",
      "[CV 5/5] END classifier__C=0.01, classifier__gamma=0.001, classifier__kernel=sigmoid;, score=0.582 total time=   0.1s\n",
      "[CV 1/5] END classifier__C=5, classifier__gamma=0.001, classifier__kernel=poly;, score=0.621 total time=   0.1s\n",
      "[CV 2/5] END classifier__C=5, classifier__gamma=0.001, classifier__kernel=poly;, score=0.646 total time=   0.1s\n",
      "[CV 3/5] END classifier__C=5, classifier__gamma=0.001, classifier__kernel=poly;, score=0.592 total time=   0.1s\n",
      "[CV 4/5] END classifier__C=5, classifier__gamma=0.001, classifier__kernel=poly;, score=0.626 total time=   0.1s\n",
      "[CV 5/5] END classifier__C=5, classifier__gamma=0.001, classifier__kernel=poly;, score=0.582 total time=   0.1s\n",
      "[CV 1/5] END classifier__C=0.01, classifier__gamma=0.01, classifier__kernel=poly;, score=0.621 total time=   0.1s\n",
      "[CV 2/5] END classifier__C=0.01, classifier__gamma=0.01, classifier__kernel=poly;, score=0.646 total time=   0.1s\n",
      "[CV 3/5] END classifier__C=0.01, classifier__gamma=0.01, classifier__kernel=poly;, score=0.592 total time=   0.1s\n",
      "[CV 4/5] END classifier__C=0.01, classifier__gamma=0.01, classifier__kernel=poly;, score=0.626 total time=   0.1s\n",
      "[CV 5/5] END classifier__C=0.01, classifier__gamma=0.01, classifier__kernel=poly;, score=0.582 total time=   0.1s\n",
      "[CV 1/5] END classifier__C=10, classifier__gamma=0.0001, classifier__kernel=rbf;, score=0.621 total time=   0.3s\n",
      "[CV 2/5] END classifier__C=10, classifier__gamma=0.0001, classifier__kernel=rbf;, score=0.646 total time=   0.3s\n",
      "[CV 3/5] END classifier__C=10, classifier__gamma=0.0001, classifier__kernel=rbf;, score=0.592 total time=   0.3s\n",
      "[CV 4/5] END classifier__C=10, classifier__gamma=0.0001, classifier__kernel=rbf;, score=0.626 total time=   0.3s\n",
      "[CV 5/5] END classifier__C=10, classifier__gamma=0.0001, classifier__kernel=rbf;, score=0.582 total time=   0.3s\n",
      "[CV 1/5] END classifier__C=10, classifier__gamma=0.01, classifier__kernel=linear;, score=0.621 total time=   1.1s\n",
      "[CV 2/5] END classifier__C=10, classifier__gamma=0.01, classifier__kernel=linear;, score=0.646 total time=   1.1s\n",
      "[CV 3/5] END classifier__C=10, classifier__gamma=0.01, classifier__kernel=linear;, score=0.592 total time=   1.0s\n",
      "[CV 4/5] END classifier__C=10, classifier__gamma=0.01, classifier__kernel=linear;, score=0.626 total time=  47.5s\n",
      "[CV 5/5] END classifier__C=10, classifier__gamma=0.01, classifier__kernel=linear;, score=0.582 total time=   1.0s\n",
      "[CV 1/5] END classifier__C=5, classifier__gamma=0.01, classifier__kernel=sigmoid;, score=0.555 total time=   0.2s\n",
      "[CV 2/5] END classifier__C=5, classifier__gamma=0.01, classifier__kernel=sigmoid;, score=0.574 total time=   0.2s\n",
      "[CV 3/5] END classifier__C=5, classifier__gamma=0.01, classifier__kernel=sigmoid;, score=0.537 total time=   0.1s\n",
      "[CV 4/5] END classifier__C=5, classifier__gamma=0.01, classifier__kernel=sigmoid;, score=0.563 total time=   0.2s\n",
      "[CV 5/5] END classifier__C=5, classifier__gamma=0.01, classifier__kernel=sigmoid;, score=0.529 total time=   0.1s\n",
      "[CV 1/5] END classifier__C=5, classifier__gamma=0.01, classifier__kernel=linear;, score=0.621 total time=   0.7s\n",
      "[CV 2/5] END classifier__C=5, classifier__gamma=0.01, classifier__kernel=linear;, score=0.646 total time=   0.6s\n",
      "[CV 3/5] END classifier__C=5, classifier__gamma=0.01, classifier__kernel=linear;, score=0.592 total time=   0.6s\n",
      "[CV 4/5] END classifier__C=5, classifier__gamma=0.01, classifier__kernel=linear;, score=0.626 total time=   0.6s\n",
      "[CV 5/5] END classifier__C=5, classifier__gamma=0.01, classifier__kernel=linear;, score=0.582 total time=   0.6s\n",
      "[CV 1/5] END classifier__C=1, classifier__gamma=1, classifier__kernel=linear;, score=0.621 total time=   0.2s\n",
      "[CV 2/5] END classifier__C=1, classifier__gamma=1, classifier__kernel=linear;, score=0.646 total time=   0.2s\n",
      "[CV 3/5] END classifier__C=1, classifier__gamma=1, classifier__kernel=linear;, score=0.592 total time=   0.2s\n",
      "[CV 4/5] END classifier__C=1, classifier__gamma=1, classifier__kernel=linear;, score=0.626 total time=   0.2s\n",
      "[CV 5/5] END classifier__C=1, classifier__gamma=1, classifier__kernel=linear;, score=0.582 total time=   0.2s\n",
      "[CV 1/5] END classifier__C=10, classifier__gamma=0.001, classifier__kernel=linear;, score=0.621 total time=   1.1s\n",
      "[CV 2/5] END classifier__C=10, classifier__gamma=0.001, classifier__kernel=linear;, score=0.646 total time=   1.1s\n",
      "[CV 3/5] END classifier__C=10, classifier__gamma=0.001, classifier__kernel=linear;, score=0.592 total time=   1.0s\n",
      "[CV 4/5] END classifier__C=10, classifier__gamma=0.001, classifier__kernel=linear;, score=0.626 total time=  47.5s\n",
      "[CV 5/5] END classifier__C=10, classifier__gamma=0.001, classifier__kernel=linear;, score=0.582 total time=   1.0s\n",
      "[CV 1/5] END classifier__C=10, classifier__gamma=0.0001, classifier__kernel=sigmoid;, score=0.621 total time=   0.1s\n",
      "[CV 2/5] END classifier__C=10, classifier__gamma=0.0001, classifier__kernel=sigmoid;, score=0.646 total time=   0.1s\n",
      "[CV 3/5] END classifier__C=10, classifier__gamma=0.0001, classifier__kernel=sigmoid;, score=0.592 total time=   0.1s\n",
      "[CV 4/5] END classifier__C=10, classifier__gamma=0.0001, classifier__kernel=sigmoid;, score=0.626 total time=   0.1s\n",
      "[CV 5/5] END classifier__C=10, classifier__gamma=0.0001, classifier__kernel=sigmoid;, score=0.582 total time=   0.1s\n",
      "[CV 1/5] END classifier__C=1, classifier__gamma=0.0001, classifier__kernel=rbf;, score=0.621 total time=   0.2s\n",
      "[CV 2/5] END classifier__C=1, classifier__gamma=0.0001, classifier__kernel=rbf;, score=0.646 total time=   0.2s\n",
      "[CV 3/5] END classifier__C=1, classifier__gamma=0.0001, classifier__kernel=rbf;, score=0.592 total time=   0.2s\n",
      "[CV 4/5] END classifier__C=1, classifier__gamma=0.0001, classifier__kernel=rbf;, score=0.626 total time=   0.2s\n",
      "[CV 5/5] END classifier__C=1, classifier__gamma=0.0001, classifier__kernel=rbf;, score=0.582 total time=   0.2s\n",
      "[CV 1/5] END classifier__C=5, classifier__gamma=0.0001, classifier__kernel=linear;, score=0.621 total time=   0.7s\n",
      "[CV 2/5] END classifier__C=5, classifier__gamma=0.0001, classifier__kernel=linear;, score=0.646 total time=   0.6s\n",
      "[CV 3/5] END classifier__C=5, classifier__gamma=0.0001, classifier__kernel=linear;, score=0.592 total time=   0.6s\n",
      "[CV 4/5] END classifier__C=5, classifier__gamma=0.0001, classifier__kernel=linear;, score=0.626 total time=   0.6s\n",
      "[CV 5/5] END classifier__C=5, classifier__gamma=0.0001, classifier__kernel=linear;, score=0.582 total time=   0.6s\n",
      "[CV 1/5] END classifier__C=10, classifier__gamma=0.001, classifier__kernel=rbf;, score=0.621 total time=   0.3s\n",
      "[CV 2/5] END classifier__C=10, classifier__gamma=0.001, classifier__kernel=rbf;, score=0.646 total time=   0.3s\n",
      "[CV 3/5] END classifier__C=10, classifier__gamma=0.001, classifier__kernel=rbf;, score=0.592 total time=   0.3s\n",
      "[CV 4/5] END classifier__C=10, classifier__gamma=0.001, classifier__kernel=rbf;, score=0.626 total time=   0.3s\n",
      "[CV 5/5] END classifier__C=10, classifier__gamma=0.001, classifier__kernel=rbf;, score=0.582 total time=   0.3s\n",
      "[CV 1/5] END classifier__C=5, classifier__gamma=0.1, classifier__kernel=poly;, score=0.434 total time=   0.3s\n",
      "[CV 2/5] END classifier__C=5, classifier__gamma=0.1, classifier__kernel=poly;, score=0.462 total time=   0.3s\n",
      "[CV 3/5] END classifier__C=5, classifier__gamma=0.1, classifier__kernel=poly;, score=0.467 total time=   0.3s\n",
      "[CV 4/5] END classifier__C=5, classifier__gamma=0.1, classifier__kernel=poly;, score=0.431 total time=   0.3s\n",
      "[CV 5/5] END classifier__C=5, classifier__gamma=0.1, classifier__kernel=poly;, score=0.465 total time=   0.3s\n",
      "[CV 1/5] END classifier__C=0.1, classifier__gamma=0.01, classifier__kernel=rbf;, score=0.621 total time=   0.3s\n",
      "[CV 2/5] END classifier__C=0.1, classifier__gamma=0.01, classifier__kernel=rbf;, score=0.646 total time=   0.3s\n",
      "[CV 3/5] END classifier__C=0.1, classifier__gamma=0.01, classifier__kernel=rbf;, score=0.592 total time=   0.3s\n",
      "[CV 4/5] END classifier__C=0.1, classifier__gamma=0.01, classifier__kernel=rbf;, score=0.626 total time=   0.3s\n",
      "[CV 5/5] END classifier__C=0.1, classifier__gamma=0.01, classifier__kernel=rbf;, score=0.582 total time=   0.3s\n",
      "[CV 1/5] END classifier__C=5, classifier__gamma=0.1, classifier__kernel=sigmoid;, score=0.508 total time=   0.1s\n",
      "[CV 2/5] END classifier__C=5, classifier__gamma=0.1, classifier__kernel=sigmoid;, score=0.517 total time=   0.1s\n",
      "[CV 3/5] END classifier__C=5, classifier__gamma=0.1, classifier__kernel=sigmoid;, score=0.473 total time=   0.1s\n",
      "[CV 4/5] END classifier__C=5, classifier__gamma=0.1, classifier__kernel=sigmoid;, score=0.446 total time=   0.1s\n",
      "[CV 5/5] END classifier__C=5, classifier__gamma=0.1, classifier__kernel=sigmoid;, score=0.490 total time=   0.1s\n",
      "[CV 1/5] END classifier__C=0.01, classifier__gamma=0.001, classifier__kernel=poly;, score=0.621 total time=   0.1s\n",
      "[CV 2/5] END classifier__C=0.01, classifier__gamma=0.001, classifier__kernel=poly;, score=0.646 total time=   0.1s\n",
      "[CV 3/5] END classifier__C=0.01, classifier__gamma=0.001, classifier__kernel=poly;, score=0.592 total time=   0.1s\n",
      "[CV 4/5] END classifier__C=0.01, classifier__gamma=0.001, classifier__kernel=poly;, score=0.626 total time=   0.1s\n",
      "[CV 5/5] END classifier__C=0.01, classifier__gamma=0.001, classifier__kernel=poly;, score=0.582 total time=   0.1s\n",
      "[CV 1/5] END classifier__C=0.1, classifier__gamma=0.01, classifier__kernel=sigmoid;, score=0.621 total time=   0.2s\n",
      "[CV 2/5] END classifier__C=0.1, classifier__gamma=0.01, classifier__kernel=sigmoid;, score=0.646 total time=   0.2s\n",
      "[CV 3/5] END classifier__C=0.1, classifier__gamma=0.01, classifier__kernel=sigmoid;, score=0.592 total time=   0.2s\n",
      "[CV 4/5] END classifier__C=0.1, classifier__gamma=0.01, classifier__kernel=sigmoid;, score=0.626 total time=   0.2s\n",
      "[CV 5/5] END classifier__C=0.1, classifier__gamma=0.01, classifier__kernel=sigmoid;, score=0.582 total time=   0.2s\n",
      "[CV 1/5] END classifier__C=10, classifier__gamma=0.1, classifier__kernel=rbf;, score=0.627 total time=   0.4s\n",
      "[CV 2/5] END classifier__C=10, classifier__gamma=0.1, classifier__kernel=rbf;, score=0.623 total time=   0.4s\n",
      "[CV 3/5] END classifier__C=10, classifier__gamma=0.1, classifier__kernel=rbf;, score=0.586 total time=   0.4s\n",
      "[CV 4/5] END classifier__C=10, classifier__gamma=0.1, classifier__kernel=rbf;, score=0.594 total time=   0.4s\n",
      "[CV 5/5] END classifier__C=10, classifier__gamma=0.1, classifier__kernel=rbf;, score=0.586 total time=   0.4s\n",
      "[CV 1/5] END classifier__C=0.01, classifier__gamma=0.01, classifier__kernel=sigmoid;, score=0.621 total time=   0.1s\n",
      "[CV 2/5] END classifier__C=0.01, classifier__gamma=0.01, classifier__kernel=sigmoid;, score=0.646 total time=   0.2s\n",
      "[CV 3/5] END classifier__C=0.01, classifier__gamma=0.01, classifier__kernel=sigmoid;, score=0.592 total time=   0.1s\n",
      "[CV 4/5] END classifier__C=0.01, classifier__gamma=0.01, classifier__kernel=sigmoid;, score=0.626 total time=   0.2s\n",
      "[CV 5/5] END classifier__C=0.01, classifier__gamma=0.01, classifier__kernel=sigmoid;, score=0.582 total time=   0.1s\n"
     ]
    },
    {
     "data": {
      "text/html": [
       "<style>#sk-container-id-10 {color: black;background-color: white;}#sk-container-id-10 pre{padding: 0;}#sk-container-id-10 div.sk-toggleable {background-color: white;}#sk-container-id-10 label.sk-toggleable__label {cursor: pointer;display: block;width: 100%;margin-bottom: 0;padding: 0.3em;box-sizing: border-box;text-align: center;}#sk-container-id-10 label.sk-toggleable__label-arrow:before {content: \"▸\";float: left;margin-right: 0.25em;color: #696969;}#sk-container-id-10 label.sk-toggleable__label-arrow:hover:before {color: black;}#sk-container-id-10 div.sk-estimator:hover label.sk-toggleable__label-arrow:before {color: black;}#sk-container-id-10 div.sk-toggleable__content {max-height: 0;max-width: 0;overflow: hidden;text-align: left;background-color: #f0f8ff;}#sk-container-id-10 div.sk-toggleable__content pre {margin: 0.2em;color: black;border-radius: 0.25em;background-color: #f0f8ff;}#sk-container-id-10 input.sk-toggleable__control:checked~div.sk-toggleable__content {max-height: 200px;max-width: 100%;overflow: auto;}#sk-container-id-10 input.sk-toggleable__control:checked~label.sk-toggleable__label-arrow:before {content: \"▾\";}#sk-container-id-10 div.sk-estimator input.sk-toggleable__control:checked~label.sk-toggleable__label {background-color: #d4ebff;}#sk-container-id-10 div.sk-label input.sk-toggleable__control:checked~label.sk-toggleable__label {background-color: #d4ebff;}#sk-container-id-10 input.sk-hidden--visually {border: 0;clip: rect(1px 1px 1px 1px);clip: rect(1px, 1px, 1px, 1px);height: 1px;margin: -1px;overflow: hidden;padding: 0;position: absolute;width: 1px;}#sk-container-id-10 div.sk-estimator {font-family: monospace;background-color: #f0f8ff;border: 1px dotted black;border-radius: 0.25em;box-sizing: border-box;margin-bottom: 0.5em;}#sk-container-id-10 div.sk-estimator:hover {background-color: #d4ebff;}#sk-container-id-10 div.sk-parallel-item::after {content: \"\";width: 100%;border-bottom: 1px solid gray;flex-grow: 1;}#sk-container-id-10 div.sk-label:hover label.sk-toggleable__label {background-color: #d4ebff;}#sk-container-id-10 div.sk-serial::before {content: \"\";position: absolute;border-left: 1px solid gray;box-sizing: border-box;top: 0;bottom: 0;left: 50%;z-index: 0;}#sk-container-id-10 div.sk-serial {display: flex;flex-direction: column;align-items: center;background-color: white;padding-right: 0.2em;padding-left: 0.2em;position: relative;}#sk-container-id-10 div.sk-item {position: relative;z-index: 1;}#sk-container-id-10 div.sk-parallel {display: flex;align-items: stretch;justify-content: center;background-color: white;position: relative;}#sk-container-id-10 div.sk-item::before, #sk-container-id-10 div.sk-parallel-item::before {content: \"\";position: absolute;border-left: 1px solid gray;box-sizing: border-box;top: 0;bottom: 0;left: 50%;z-index: -1;}#sk-container-id-10 div.sk-parallel-item {display: flex;flex-direction: column;z-index: 1;position: relative;background-color: white;}#sk-container-id-10 div.sk-parallel-item:first-child::after {align-self: flex-end;width: 50%;}#sk-container-id-10 div.sk-parallel-item:last-child::after {align-self: flex-start;width: 50%;}#sk-container-id-10 div.sk-parallel-item:only-child::after {width: 0;}#sk-container-id-10 div.sk-dashed-wrapped {border: 1px dashed gray;margin: 0 0.4em 0.5em 0.4em;box-sizing: border-box;padding-bottom: 0.4em;background-color: white;}#sk-container-id-10 div.sk-label label {font-family: monospace;font-weight: bold;display: inline-block;line-height: 1.2em;}#sk-container-id-10 div.sk-label-container {text-align: center;}#sk-container-id-10 div.sk-container {/* jupyter's `normalize.less` sets `[hidden] { display: none; }` but bootstrap.min.css set `[hidden] { display: none !important; }` so we also need the `!important` here to be able to override the default hidden behavior on the sphinx rendered scikit-learn.org. See: https://github.com/scikit-learn/scikit-learn/issues/21755 */display: inline-block !important;position: relative;}#sk-container-id-10 div.sk-text-repr-fallback {display: none;}</style><div id=\"sk-container-id-10\" class=\"sk-top-container\"><div class=\"sk-text-repr-fallback\"><pre>RandomizedSearchCV(cv=KFold(n_splits=5, random_state=None, shuffle=False),\n",
       "                   estimator=Pipeline(steps=[(&#x27;scaler&#x27;, StandardScaler()),\n",
       "                                             (&#x27;classifier&#x27;,\n",
       "                                              SVC(random_state=3))]),\n",
       "                   n_iter=50,\n",
       "                   param_distributions={&#x27;classifier__C&#x27;: [0.01, 0.1, 1, 5, 10,\n",
       "                                                          15],\n",
       "                                        &#x27;classifier__gamma&#x27;: [1, 0.1, 0.01,\n",
       "                                                              0.001, 0.0001],\n",
       "                                        &#x27;classifier__kernel&#x27;: [&#x27;linear&#x27;, &#x27;poly&#x27;,\n",
       "                                                               &#x27;rbf&#x27;,\n",
       "                                                               &#x27;sigmoid&#x27;]},\n",
       "                   random_state=3, verbose=3)</pre><b>In a Jupyter environment, please rerun this cell to show the HTML representation or trust the notebook. <br />On GitHub, the HTML representation is unable to render, please try loading this page with nbviewer.org.</b></div><div class=\"sk-container\" hidden><div class=\"sk-item sk-dashed-wrapped\"><div class=\"sk-label-container\"><div class=\"sk-label sk-toggleable\"><input class=\"sk-toggleable__control sk-hidden--visually\" id=\"sk-estimator-id-31\" type=\"checkbox\" ><label for=\"sk-estimator-id-31\" class=\"sk-toggleable__label sk-toggleable__label-arrow\">RandomizedSearchCV</label><div class=\"sk-toggleable__content\"><pre>RandomizedSearchCV(cv=KFold(n_splits=5, random_state=None, shuffle=False),\n",
       "                   estimator=Pipeline(steps=[(&#x27;scaler&#x27;, StandardScaler()),\n",
       "                                             (&#x27;classifier&#x27;,\n",
       "                                              SVC(random_state=3))]),\n",
       "                   n_iter=50,\n",
       "                   param_distributions={&#x27;classifier__C&#x27;: [0.01, 0.1, 1, 5, 10,\n",
       "                                                          15],\n",
       "                                        &#x27;classifier__gamma&#x27;: [1, 0.1, 0.01,\n",
       "                                                              0.001, 0.0001],\n",
       "                                        &#x27;classifier__kernel&#x27;: [&#x27;linear&#x27;, &#x27;poly&#x27;,\n",
       "                                                               &#x27;rbf&#x27;,\n",
       "                                                               &#x27;sigmoid&#x27;]},\n",
       "                   random_state=3, verbose=3)</pre></div></div></div><div class=\"sk-parallel\"><div class=\"sk-parallel-item\"><div class=\"sk-item\"><div class=\"sk-label-container\"><div class=\"sk-label sk-toggleable\"><input class=\"sk-toggleable__control sk-hidden--visually\" id=\"sk-estimator-id-32\" type=\"checkbox\" ><label for=\"sk-estimator-id-32\" class=\"sk-toggleable__label sk-toggleable__label-arrow\">estimator: Pipeline</label><div class=\"sk-toggleable__content\"><pre>Pipeline(steps=[(&#x27;scaler&#x27;, StandardScaler()),\n",
       "                (&#x27;classifier&#x27;, SVC(random_state=3))])</pre></div></div></div><div class=\"sk-serial\"><div class=\"sk-item\"><div class=\"sk-serial\"><div class=\"sk-item\"><div class=\"sk-estimator sk-toggleable\"><input class=\"sk-toggleable__control sk-hidden--visually\" id=\"sk-estimator-id-33\" type=\"checkbox\" ><label for=\"sk-estimator-id-33\" class=\"sk-toggleable__label sk-toggleable__label-arrow\">StandardScaler</label><div class=\"sk-toggleable__content\"><pre>StandardScaler()</pre></div></div></div><div class=\"sk-item\"><div class=\"sk-estimator sk-toggleable\"><input class=\"sk-toggleable__control sk-hidden--visually\" id=\"sk-estimator-id-34\" type=\"checkbox\" ><label for=\"sk-estimator-id-34\" class=\"sk-toggleable__label sk-toggleable__label-arrow\">SVC</label><div class=\"sk-toggleable__content\"><pre>SVC(random_state=3)</pre></div></div></div></div></div></div></div></div></div></div></div></div>"
      ],
      "text/plain": [
       "RandomizedSearchCV(cv=KFold(n_splits=5, random_state=None, shuffle=False),\n",
       "                   estimator=Pipeline(steps=[('scaler', StandardScaler()),\n",
       "                                             ('classifier',\n",
       "                                              SVC(random_state=3))]),\n",
       "                   n_iter=50,\n",
       "                   param_distributions={'classifier__C': [0.01, 0.1, 1, 5, 10,\n",
       "                                                          15],\n",
       "                                        'classifier__gamma': [1, 0.1, 0.01,\n",
       "                                                              0.001, 0.0001],\n",
       "                                        'classifier__kernel': ['linear', 'poly',\n",
       "                                                               'rbf',\n",
       "                                                               'sigmoid']},\n",
       "                   random_state=3, verbose=3)"
      ]
     },
     "execution_count": 47,
     "metadata": {},
     "output_type": "execute_result"
    }
   ],
   "source": [
    "svm_classifier_param_space = {\n",
    "    'classifier__C': [0.01, 0.1, 1, 5, 10, 15],\n",
    "    'classifier__gamma': [1, 0.1, 0.01, 0.001, 0.0001],\n",
    "    'classifier__kernel': ['linear', 'poly', 'rbf', 'sigmoid'],\n",
    "}\n",
    "\n",
    "svm_classifier_grid_search = RandomizedSearchCV(svm_classifier_pipe, svm_classifier_param_space, cv=KFold(n_splits=5), n_iter=50, random_state=SEED, verbose=3)\n",
    "\n",
    "svm_classifier_grid_search.fit(X_transformed, y_categorical_transformed)"
   ]
  },
  {
   "cell_type": "code",
   "execution_count": 48,
   "metadata": {},
   "outputs": [
    {
     "data": {
      "text/plain": [
       "{'classifier__kernel': 'rbf', 'classifier__gamma': 1, 'classifier__C': 10}"
      ]
     },
     "execution_count": 48,
     "metadata": {},
     "output_type": "execute_result"
    }
   ],
   "source": [
    "svm_classifier_grid_search.best_params_"
   ]
  },
  {
   "cell_type": "code",
   "execution_count": 49,
   "metadata": {},
   "outputs": [
    {
     "name": "stdout",
     "output_type": "stream",
     "text": [
      "Acurácia: 61.39%\n",
      "Precision: 52.54%\n",
      "Recall: 61.39%\n",
      "F1: 47.10%\n",
      "              precision    recall  f1-score   support\n",
      "\n",
      "           0       1.00      1.00      1.00        73\n",
      "           1       0.99      0.99      0.99       162\n",
      "           2       1.00      1.00      1.00       393\n",
      "           3       1.00      1.00      1.00      1021\n",
      "\n",
      "    accuracy                           1.00      1649\n",
      "   macro avg       1.00      1.00      1.00      1649\n",
      "weighted avg       1.00      1.00      1.00      1649\n",
      "\n"
     ]
    },
    {
     "data": {
      "image/png": "[encoded data removed]",
      "text/plain": [
       "<Figure size 640x480 with 2 Axes>"
      ]
     },
     "metadata": {},
     "output_type": "display_data"
    }
   ],
   "source": [
    "tuned_svm_classifier_pipe = svm_classifier_grid_search.best_estimator_\n",
    "\n",
    "evaluate_classification_model(tuned_svm_classifier_pipe)\n",
    "plt.show()"
   ]
  },
  {
   "cell_type": "code",
   "execution_count": 50,
   "metadata": {},
   "outputs": [],
   "source": [
    "sio.dump(svm_classifier_pipe, '../sklearn/models/svm_classifier.skops')\n",
    "sio.dump(tuned_svm_classifier_pipe, '../sklearn/models/tuned/tuned_svm_classifier.skops')"
   ]
  },
  {
   "attachments": {},
   "cell_type": "markdown",
   "metadata": {},
   "source": [
    "**Regressor**"
   ]
  },
  {
   "attachments": {},
   "cell_type": "markdown",
   "metadata": {},
   "source": [
    "Base model"
   ]
  },
  {
   "cell_type": "code",
   "execution_count": 51,
   "metadata": {},
   "outputs": [],
   "source": [
    "svm_regressor_pipe = Pipeline(steps=[\n",
    "    ('scaler', StandardScaler()),\n",
    "    ('regressor', SVR()),\n",
    "])"
   ]
  },
  {
   "cell_type": "code",
   "execution_count": 52,
   "metadata": {},
   "outputs": [
    {
     "data": {
      "text/html": [
       "<style>#sk-container-id-11 {color: black;background-color: white;}#sk-container-id-11 pre{padding: 0;}#sk-container-id-11 div.sk-toggleable {background-color: white;}#sk-container-id-11 label.sk-toggleable__label {cursor: pointer;display: block;width: 100%;margin-bottom: 0;padding: 0.3em;box-sizing: border-box;text-align: center;}#sk-container-id-11 label.sk-toggleable__label-arrow:before {content: \"▸\";float: left;margin-right: 0.25em;color: #696969;}#sk-container-id-11 label.sk-toggleable__label-arrow:hover:before {color: black;}#sk-container-id-11 div.sk-estimator:hover label.sk-toggleable__label-arrow:before {color: black;}#sk-container-id-11 div.sk-toggleable__content {max-height: 0;max-width: 0;overflow: hidden;text-align: left;background-color: #f0f8ff;}#sk-container-id-11 div.sk-toggleable__content pre {margin: 0.2em;color: black;border-radius: 0.25em;background-color: #f0f8ff;}#sk-container-id-11 input.sk-toggleable__control:checked~div.sk-toggleable__content {max-height: 200px;max-width: 100%;overflow: auto;}#sk-container-id-11 input.sk-toggleable__control:checked~label.sk-toggleable__label-arrow:before {content: \"▾\";}#sk-container-id-11 div.sk-estimator input.sk-toggleable__control:checked~label.sk-toggleable__label {background-color: #d4ebff;}#sk-container-id-11 div.sk-label input.sk-toggleable__control:checked~label.sk-toggleable__label {background-color: #d4ebff;}#sk-container-id-11 input.sk-hidden--visually {border: 0;clip: rect(1px 1px 1px 1px);clip: rect(1px, 1px, 1px, 1px);height: 1px;margin: -1px;overflow: hidden;padding: 0;position: absolute;width: 1px;}#sk-container-id-11 div.sk-estimator {font-family: monospace;background-color: #f0f8ff;border: 1px dotted black;border-radius: 0.25em;box-sizing: border-box;margin-bottom: 0.5em;}#sk-container-id-11 div.sk-estimator:hover {background-color: #d4ebff;}#sk-container-id-11 div.sk-parallel-item::after {content: \"\";width: 100%;border-bottom: 1px solid gray;flex-grow: 1;}#sk-container-id-11 div.sk-label:hover label.sk-toggleable__label {background-color: #d4ebff;}#sk-container-id-11 div.sk-serial::before {content: \"\";position: absolute;border-left: 1px solid gray;box-sizing: border-box;top: 0;bottom: 0;left: 50%;z-index: 0;}#sk-container-id-11 div.sk-serial {display: flex;flex-direction: column;align-items: center;background-color: white;padding-right: 0.2em;padding-left: 0.2em;position: relative;}#sk-container-id-11 div.sk-item {position: relative;z-index: 1;}#sk-container-id-11 div.sk-parallel {display: flex;align-items: stretch;justify-content: center;background-color: white;position: relative;}#sk-container-id-11 div.sk-item::before, #sk-container-id-11 div.sk-parallel-item::before {content: \"\";position: absolute;border-left: 1px solid gray;box-sizing: border-box;top: 0;bottom: 0;left: 50%;z-index: -1;}#sk-container-id-11 div.sk-parallel-item {display: flex;flex-direction: column;z-index: 1;position: relative;background-color: white;}#sk-container-id-11 div.sk-parallel-item:first-child::after {align-self: flex-end;width: 50%;}#sk-container-id-11 div.sk-parallel-item:last-child::after {align-self: flex-start;width: 50%;}#sk-container-id-11 div.sk-parallel-item:only-child::after {width: 0;}#sk-container-id-11 div.sk-dashed-wrapped {border: 1px dashed gray;margin: 0 0.4em 0.5em 0.4em;box-sizing: border-box;padding-bottom: 0.4em;background-color: white;}#sk-container-id-11 div.sk-label label {font-family: monospace;font-weight: bold;display: inline-block;line-height: 1.2em;}#sk-container-id-11 div.sk-label-container {text-align: center;}#sk-container-id-11 div.sk-container {/* jupyter's `normalize.less` sets `[hidden] { display: none; }` but bootstrap.min.css set `[hidden] { display: none !important; }` so we also need the `!important` here to be able to override the default hidden behavior on the sphinx rendered scikit-learn.org. See: https://github.com/scikit-learn/scikit-learn/issues/21755 */display: inline-block !important;position: relative;}#sk-container-id-11 div.sk-text-repr-fallback {display: none;}</style><div id=\"sk-container-id-11\" class=\"sk-top-container\"><div class=\"sk-text-repr-fallback\"><pre>Pipeline(steps=[(&#x27;scaler&#x27;, StandardScaler()), (&#x27;regressor&#x27;, SVR())])</pre><b>In a Jupyter environment, please rerun this cell to show the HTML representation or trust the notebook. <br />On GitHub, the HTML representation is unable to render, please try loading this page with nbviewer.org.</b></div><div class=\"sk-container\" hidden><div class=\"sk-item sk-dashed-wrapped\"><div class=\"sk-label-container\"><div class=\"sk-label sk-toggleable\"><input class=\"sk-toggleable__control sk-hidden--visually\" id=\"sk-estimator-id-35\" type=\"checkbox\" ><label for=\"sk-estimator-id-35\" class=\"sk-toggleable__label sk-toggleable__label-arrow\">Pipeline</label><div class=\"sk-toggleable__content\"><pre>Pipeline(steps=[(&#x27;scaler&#x27;, StandardScaler()), (&#x27;regressor&#x27;, SVR())])</pre></div></div></div><div class=\"sk-serial\"><div class=\"sk-item\"><div class=\"sk-estimator sk-toggleable\"><input class=\"sk-toggleable__control sk-hidden--visually\" id=\"sk-estimator-id-36\" type=\"checkbox\" ><label for=\"sk-estimator-id-36\" class=\"sk-toggleable__label sk-toggleable__label-arrow\">StandardScaler</label><div class=\"sk-toggleable__content\"><pre>StandardScaler()</pre></div></div></div><div class=\"sk-item\"><div class=\"sk-estimator sk-toggleable\"><input class=\"sk-toggleable__control sk-hidden--visually\" id=\"sk-estimator-id-37\" type=\"checkbox\" ><label for=\"sk-estimator-id-37\" class=\"sk-toggleable__label sk-toggleable__label-arrow\">SVR</label><div class=\"sk-toggleable__content\"><pre>SVR()</pre></div></div></div></div></div></div></div>"
      ],
      "text/plain": [
       "Pipeline(steps=[('scaler', StandardScaler()), ('regressor', SVR())])"
      ]
     },
     "execution_count": 52,
     "metadata": {},
     "output_type": "execute_result"
    }
   ],
   "source": [
    "svm_regressor_pipe.fit(X_numerical_train, y_numerical_train)"
   ]
  },
  {
   "cell_type": "code",
   "execution_count": 53,
   "metadata": {},
   "outputs": [
    {
     "name": "stdout",
     "output_type": "stream",
     "text": [
      "MAE: 60.67\n",
      "RMSE: 75.73\n",
      "R²: -10.94%\n",
      "MAPE: 10.92%\n"
     ]
    }
   ],
   "source": [
    "evaluate_regression_model(svm_regressor_pipe)"
   ]
  },
  {
   "attachments": {},
   "cell_type": "markdown",
   "metadata": {},
   "source": [
    "Tuned model"
   ]
  },
  {
   "cell_type": "code",
   "execution_count": 54,
   "metadata": {},
   "outputs": [
    {
     "name": "stdout",
     "output_type": "stream",
     "text": [
      "Fitting 5 folds for each of 50 candidates, totalling 250 fits\n",
      "[CV 1/5] END regressor__C=15, regressor__gamma=1, regressor__kernel=sigmoid;, score=-6548020.415 total time=   0.2s\n",
      "[CV 2/5] END regressor__C=15, regressor__gamma=1, regressor__kernel=sigmoid;, score=-8390283.077 total time=   0.2s\n",
      "[CV 3/5] END regressor__C=15, regressor__gamma=1, regressor__kernel=sigmoid;, score=-6270305.029 total time=   0.2s\n",
      "[CV 4/5] END regressor__C=15, regressor__gamma=1, regressor__kernel=sigmoid;, score=-6586100.148 total time=   0.2s\n",
      "[CV 5/5] END regressor__C=15, regressor__gamma=1, regressor__kernel=sigmoid;, score=-6104619.623 total time=   0.2s\n",
      "[CV 1/5] END regressor__C=10, regressor__gamma=0.001, regressor__kernel=sigmoid;, score=0.086 total time=   0.1s\n",
      "[CV 2/5] END regressor__C=10, regressor__gamma=0.001, regressor__kernel=sigmoid;, score=0.121 total time=   0.1s\n",
      "[CV 3/5] END regressor__C=10, regressor__gamma=0.001, regressor__kernel=sigmoid;, score=-0.003 total time=   0.1s\n",
      "[CV 4/5] END regressor__C=10, regressor__gamma=0.001, regressor__kernel=sigmoid;, score=0.081 total time=   0.1s\n",
      "[CV 5/5] END regressor__C=10, regressor__gamma=0.001, regressor__kernel=sigmoid;, score=0.028 total time=   0.1s\n",
      "[CV 1/5] END regressor__C=0.01, regressor__gamma=0.1, regressor__kernel=poly;, score=-1.492 total time=   0.2s\n",
      "[CV 2/5] END regressor__C=0.01, regressor__gamma=0.1, regressor__kernel=poly;, score=-0.011 total time=   0.2s\n",
      "[CV 3/5] END regressor__C=0.01, regressor__gamma=0.1, regressor__kernel=poly;, score=-0.078 total time=   0.2s\n",
      "[CV 4/5] END regressor__C=0.01, regressor__gamma=0.1, regressor__kernel=poly;, score=0.009 total time=   0.2s\n",
      "[CV 5/5] END regressor__C=0.01, regressor__gamma=0.1, regressor__kernel=poly;, score=0.001 total time=   0.2s\n",
      "[CV 1/5] END regressor__C=15, regressor__gamma=0.01, regressor__kernel=sigmoid;, score=-591.561 total time=   0.2s\n",
      "[CV 2/5] END regressor__C=15, regressor__gamma=0.01, regressor__kernel=sigmoid;, score=-857.841 total time=   0.2s\n",
      "[CV 3/5] END regressor__C=15, regressor__gamma=0.01, regressor__kernel=sigmoid;, score=-665.165 total time=   0.2s\n",
      "[CV 4/5] END regressor__C=15, regressor__gamma=0.01, regressor__kernel=sigmoid;, score=-686.236 total time=   0.2s\n",
      "[CV 5/5] END regressor__C=15, regressor__gamma=0.01, regressor__kernel=sigmoid;, score=-662.572 total time=   0.2s\n",
      "[CV 1/5] END regressor__C=15, regressor__gamma=1, regressor__kernel=poly;, score=-442.012 total time=   1.0s\n",
      "[CV 2/5] END regressor__C=15, regressor__gamma=1, regressor__kernel=poly;, score=-302.354 total time=   2.1s\n",
      "[CV 3/5] END regressor__C=15, regressor__gamma=1, regressor__kernel=poly;, score=-102.835 total time=   1.2s\n",
      "[CV 4/5] END regressor__C=15, regressor__gamma=1, regressor__kernel=poly;, score=-1019.515 total time=   2.3s\n",
      "[CV 5/5] END regressor__C=15, regressor__gamma=1, regressor__kernel=poly;, score=-72.129 total time=   0.9s\n",
      "[CV 1/5] END regressor__C=0.01, regressor__gamma=0.1, regressor__kernel=rbf;, score=-0.288 total time=   0.3s\n",
      "[CV 2/5] END regressor__C=0.01, regressor__gamma=0.1, regressor__kernel=rbf;, score=-0.242 total time=   0.3s\n",
      "[CV 3/5] END regressor__C=0.01, regressor__gamma=0.1, regressor__kernel=rbf;, score=-0.339 total time=   0.3s\n",
      "[CV 4/5] END regressor__C=0.01, regressor__gamma=0.1, regressor__kernel=rbf;, score=-0.276 total time=   0.3s\n",
      "[CV 5/5] END regressor__C=0.01, regressor__gamma=0.1, regressor__kernel=rbf;, score=-0.350 total time=   0.3s\n",
      "[CV 1/5] END regressor__C=1, regressor__gamma=0.0001, regressor__kernel=sigmoid;, score=-0.233 total time=   0.1s\n",
      "[CV 2/5] END regressor__C=1, regressor__gamma=0.0001, regressor__kernel=sigmoid;, score=-0.190 total time=   0.1s\n",
      "[CV 3/5] END regressor__C=1, regressor__gamma=0.0001, regressor__kernel=sigmoid;, score=-0.302 total time=   0.1s\n",
      "[CV 4/5] END regressor__C=1, regressor__gamma=0.0001, regressor__kernel=sigmoid;, score=-0.236 total time=   0.1s\n",
      "[CV 5/5] END regressor__C=1, regressor__gamma=0.0001, regressor__kernel=sigmoid;, score=-0.320 total time=   0.1s\n",
      "[CV 1/5] END regressor__C=0.1, regressor__gamma=0.1, regressor__kernel=poly;, score=-5.955 total time=   0.3s\n",
      "[CV 2/5] END regressor__C=0.1, regressor__gamma=0.1, regressor__kernel=poly;, score=-0.624 total time=   0.3s\n",
      "[CV 3/5] END regressor__C=0.1, regressor__gamma=0.1, regressor__kernel=poly;, score=-0.489 total time=   0.3s\n",
      "[CV 4/5] END regressor__C=0.1, regressor__gamma=0.1, regressor__kernel=poly;, score=-0.509 total time=   0.3s\n",
      "[CV 5/5] END regressor__C=0.1, regressor__gamma=0.1, regressor__kernel=poly;, score=-0.251 total time=   0.3s\n",
      "[CV 1/5] END regressor__C=15, regressor__gamma=0.001, regressor__kernel=linear;, score=0.083 total time=   8.6s\n",
      "[CV 2/5] END regressor__C=15, regressor__gamma=0.001, regressor__kernel=linear;, score=0.119 total time=  10.1s\n",
      "[CV 3/5] END regressor__C=15, regressor__gamma=0.001, regressor__kernel=linear;, score=0.006 total time=   8.2s\n",
      "[CV 4/5] END regressor__C=15, regressor__gamma=0.001, regressor__kernel=linear;, score=0.084 total time=   8.7s\n",
      "[CV 5/5] END regressor__C=15, regressor__gamma=0.001, regressor__kernel=linear;, score=0.037 total time=   9.6s\n",
      "[CV 1/5] END regressor__C=0.01, regressor__gamma=0.0001, regressor__kernel=poly;, score=-0.310 total time=   0.1s\n",
      "[CV 2/5] END regressor__C=0.01, regressor__gamma=0.0001, regressor__kernel=poly;, score=-0.265 total time=   0.1s\n",
      "[CV 3/5] END regressor__C=0.01, regressor__gamma=0.0001, regressor__kernel=poly;, score=-0.358 total time=   0.1s\n",
      "[CV 4/5] END regressor__C=0.01, regressor__gamma=0.0001, regressor__kernel=poly;, score=-0.296 total time=   0.1s\n",
      "[CV 5/5] END regressor__C=0.01, regressor__gamma=0.0001, regressor__kernel=poly;, score=-0.372 total time=   0.1s\n",
      "[CV 1/5] END regressor__C=15, regressor__gamma=0.0001, regressor__kernel=poly;, score=-0.310 total time=   0.1s\n",
      "[CV 2/5] END regressor__C=15, regressor__gamma=0.0001, regressor__kernel=poly;, score=-0.265 total time=   0.1s\n",
      "[CV 3/5] END regressor__C=15, regressor__gamma=0.0001, regressor__kernel=poly;, score=-0.358 total time=   0.1s\n",
      "[CV 4/5] END regressor__C=15, regressor__gamma=0.0001, regressor__kernel=poly;, score=-0.296 total time=   0.1s\n",
      "[CV 5/5] END regressor__C=15, regressor__gamma=0.0001, regressor__kernel=poly;, score=-0.372 total time=   0.1s\n",
      "[CV 1/5] END regressor__C=1, regressor__gamma=0.1, regressor__kernel=sigmoid;, score=-8485.766 total time=   0.2s\n",
      "[CV 2/5] END regressor__C=1, regressor__gamma=0.1, regressor__kernel=sigmoid;, score=-12830.933 total time=   0.2s\n",
      "[CV 3/5] END regressor__C=1, regressor__gamma=0.1, regressor__kernel=sigmoid;, score=-8861.998 total time=   0.2s\n",
      "[CV 4/5] END regressor__C=1, regressor__gamma=0.1, regressor__kernel=sigmoid;, score=-8870.126 total time=   0.2s\n",
      "[CV 5/5] END regressor__C=1, regressor__gamma=0.1, regressor__kernel=sigmoid;, score=-8065.078 total time=   0.2s\n",
      "[CV 1/5] END regressor__C=15, regressor__gamma=1, regressor__kernel=linear;, score=0.083 total time=   8.6s\n",
      "[CV 2/5] END regressor__C=15, regressor__gamma=1, regressor__kernel=linear;, score=0.119 total time=  10.1s\n",
      "[CV 3/5] END regressor__C=15, regressor__gamma=1, regressor__kernel=linear;, score=0.006 total time=   8.2s\n",
      "[CV 4/5] END regressor__C=15, regressor__gamma=1, regressor__kernel=linear;, score=0.084 total time=   8.7s\n",
      "[CV 5/5] END regressor__C=15, regressor__gamma=1, regressor__kernel=linear;, score=0.037 total time=   9.6s\n",
      "[CV 1/5] END regressor__C=10, regressor__gamma=0.1, regressor__kernel=poly;, score=-18.242 total time=   0.6s\n",
      "[CV 2/5] END regressor__C=10, regressor__gamma=0.1, regressor__kernel=poly;, score=-5.516 total time=   0.5s\n",
      "[CV 3/5] END regressor__C=10, regressor__gamma=0.1, regressor__kernel=poly;, score=-4.064 total time=   0.7s\n",
      "[CV 4/5] END regressor__C=10, regressor__gamma=0.1, regressor__kernel=poly;, score=-4.856 total time=   0.6s\n",
      "[CV 5/5] END regressor__C=10, regressor__gamma=0.1, regressor__kernel=poly;, score=-3.736 total time=   0.6s\n",
      "[CV 1/5] END regressor__C=1, regressor__gamma=1, regressor__kernel=rbf;, score=-0.002 total time=   0.3s\n",
      "[CV 2/5] END regressor__C=1, regressor__gamma=1, regressor__kernel=rbf;, score=0.003 total time=   0.3s\n",
      "[CV 3/5] END regressor__C=1, regressor__gamma=1, regressor__kernel=rbf;, score=-0.024 total time=   0.3s\n",
      "[CV 4/5] END regressor__C=1, regressor__gamma=1, regressor__kernel=rbf;, score=-0.008 total time=   0.3s\n",
      "[CV 5/5] END regressor__C=1, regressor__gamma=1, regressor__kernel=rbf;, score=-0.043 total time=   0.3s\n",
      "[CV 1/5] END regressor__C=0.01, regressor__gamma=0.01, regressor__kernel=linear;, score=0.088 total time=   0.1s\n",
      "[CV 2/5] END regressor__C=0.01, regressor__gamma=0.01, regressor__kernel=linear;, score=0.121 total time=   0.1s\n",
      "[CV 3/5] END regressor__C=0.01, regressor__gamma=0.01, regressor__kernel=linear;, score=-0.004 total time=   0.1s\n",
      "[CV 4/5] END regressor__C=0.01, regressor__gamma=0.01, regressor__kernel=linear;, score=0.080 total time=   0.1s\n",
      "[CV 5/5] END regressor__C=0.01, regressor__gamma=0.01, regressor__kernel=linear;, score=0.025 total time=   0.1s\n",
      "[CV 1/5] END regressor__C=1, regressor__gamma=0.0001, regressor__kernel=poly;, score=-0.310 total time=   0.1s\n",
      "[CV 2/5] END regressor__C=1, regressor__gamma=0.0001, regressor__kernel=poly;, score=-0.265 total time=   0.1s\n",
      "[CV 3/5] END regressor__C=1, regressor__gamma=0.0001, regressor__kernel=poly;, score=-0.358 total time=   0.1s\n",
      "[CV 4/5] END regressor__C=1, regressor__gamma=0.0001, regressor__kernel=poly;, score=-0.296 total time=   0.1s\n",
      "[CV 5/5] END regressor__C=1, regressor__gamma=0.0001, regressor__kernel=poly;, score=-0.372 total time=   0.1s\n",
      "[CV 1/5] END regressor__C=10, regressor__gamma=0.0001, regressor__kernel=poly;, score=-0.310 total time=   0.1s\n",
      "[CV 2/5] END regressor__C=10, regressor__gamma=0.0001, regressor__kernel=poly;, score=-0.265 total time=   0.1s\n",
      "[CV 3/5] END regressor__C=10, regressor__gamma=0.0001, regressor__kernel=poly;, score=-0.358 total time=   0.1s\n",
      "[CV 4/5] END regressor__C=10, regressor__gamma=0.0001, regressor__kernel=poly;, score=-0.296 total time=   0.1s\n",
      "[CV 5/5] END regressor__C=10, regressor__gamma=0.0001, regressor__kernel=poly;, score=-0.372 total time=   0.1s\n",
      "[CV 1/5] END regressor__C=1, regressor__gamma=0.1, regressor__kernel=poly;, score=-13.849 total time=   0.4s\n",
      "[CV 2/5] END regressor__C=1, regressor__gamma=0.1, regressor__kernel=poly;, score=-2.487 total time=   0.4s\n",
      "[CV 3/5] END regressor__C=1, regressor__gamma=0.1, regressor__kernel=poly;, score=-1.774 total time=   0.4s\n",
      "[CV 4/5] END regressor__C=1, regressor__gamma=0.1, regressor__kernel=poly;, score=-1.765 total time=   0.4s\n",
      "[CV 5/5] END regressor__C=1, regressor__gamma=0.1, regressor__kernel=poly;, score=-1.612 total time=   0.4s\n",
      "[CV 1/5] END regressor__C=0.01, regressor__gamma=0.1, regressor__kernel=linear;, score=0.088 total time=   0.1s\n",
      "[CV 2/5] END regressor__C=0.01, regressor__gamma=0.1, regressor__kernel=linear;, score=0.121 total time=   0.1s\n",
      "[CV 3/5] END regressor__C=0.01, regressor__gamma=0.1, regressor__kernel=linear;, score=-0.004 total time=   0.1s\n",
      "[CV 4/5] END regressor__C=0.01, regressor__gamma=0.1, regressor__kernel=linear;, score=0.080 total time=   0.1s\n",
      "[CV 5/5] END regressor__C=0.01, regressor__gamma=0.1, regressor__kernel=linear;, score=0.025 total time=   0.1s\n",
      "[CV 1/5] END regressor__C=0.01, regressor__gamma=0.001, regressor__kernel=linear;, score=0.088 total time=   0.1s\n",
      "[CV 2/5] END regressor__C=0.01, regressor__gamma=0.001, regressor__kernel=linear;, score=0.121 total time=   0.1s\n",
      "[CV 3/5] END regressor__C=0.01, regressor__gamma=0.001, regressor__kernel=linear;, score=-0.004 total time=   0.1s\n",
      "[CV 4/5] END regressor__C=0.01, regressor__gamma=0.001, regressor__kernel=linear;, score=0.080 total time=   0.1s\n",
      "[CV 5/5] END regressor__C=0.01, regressor__gamma=0.001, regressor__kernel=linear;, score=0.025 total time=   0.1s\n",
      "[CV 1/5] END regressor__C=15, regressor__gamma=0.1, regressor__kernel=poly;, score=-16.408 total time=   0.7s\n",
      "[CV 2/5] END regressor__C=15, regressor__gamma=0.1, regressor__kernel=poly;, score=-5.589 total time=   0.5s\n",
      "[CV 3/5] END regressor__C=15, regressor__gamma=0.1, regressor__kernel=poly;, score=-4.634 total time=   0.6s\n",
      "[CV 4/5] END regressor__C=15, regressor__gamma=0.1, regressor__kernel=poly;, score=-6.443 total time=   0.6s\n",
      "[CV 5/5] END regressor__C=15, regressor__gamma=0.1, regressor__kernel=poly;, score=-4.244 total time=   0.5s\n",
      "[CV 1/5] END regressor__C=1, regressor__gamma=0.001, regressor__kernel=linear;, score=0.084 total time=   0.7s\n",
      "[CV 2/5] END regressor__C=1, regressor__gamma=0.001, regressor__kernel=linear;, score=0.119 total time=   0.9s\n",
      "[CV 3/5] END regressor__C=1, regressor__gamma=0.001, regressor__kernel=linear;, score=0.007 total time=   0.7s\n",
      "[CV 4/5] END regressor__C=1, regressor__gamma=0.001, regressor__kernel=linear;, score=0.084 total time=   0.8s\n",
      "[CV 5/5] END regressor__C=1, regressor__gamma=0.001, regressor__kernel=linear;, score=0.034 total time=   0.8s\n",
      "[CV 1/5] END regressor__C=15, regressor__gamma=0.0001, regressor__kernel=sigmoid;, score=0.046 total time=   0.1s\n",
      "[CV 2/5] END regressor__C=15, regressor__gamma=0.0001, regressor__kernel=sigmoid;, score=0.096 total time=   0.1s\n",
      "[CV 3/5] END regressor__C=15, regressor__gamma=0.0001, regressor__kernel=sigmoid;, score=-0.072 total time=   0.1s\n",
      "[CV 4/5] END regressor__C=15, regressor__gamma=0.0001, regressor__kernel=sigmoid;, score=0.036 total time=   0.1s\n",
      "[CV 5/5] END regressor__C=15, regressor__gamma=0.0001, regressor__kernel=sigmoid;, score=-0.074 total time=   0.1s\n",
      "[CV 1/5] END regressor__C=10, regressor__gamma=1, regressor__kernel=rbf;, score=-0.001 total time=   0.3s\n",
      "[CV 2/5] END regressor__C=10, regressor__gamma=1, regressor__kernel=rbf;, score=-0.028 total time=   0.3s\n",
      "[CV 3/5] END regressor__C=10, regressor__gamma=1, regressor__kernel=rbf;, score=-0.009 total time=   0.3s\n",
      "[CV 4/5] END regressor__C=10, regressor__gamma=1, regressor__kernel=rbf;, score=-0.003 total time=   0.3s\n",
      "[CV 5/5] END regressor__C=10, regressor__gamma=1, regressor__kernel=rbf;, score=-0.025 total time=   0.3s\n",
      "[CV 1/5] END regressor__C=5, regressor__gamma=0.0001, regressor__kernel=rbf;, score=0.006 total time=   0.2s\n",
      "[CV 2/5] END regressor__C=5, regressor__gamma=0.0001, regressor__kernel=rbf;, score=0.063 total time=   0.2s\n",
      "[CV 3/5] END regressor__C=5, regressor__gamma=0.0001, regressor__kernel=rbf;, score=-0.108 total time=   0.2s\n",
      "[CV 4/5] END regressor__C=5, regressor__gamma=0.0001, regressor__kernel=rbf;, score=-0.006 total time=   0.2s\n",
      "[CV 5/5] END regressor__C=5, regressor__gamma=0.0001, regressor__kernel=rbf;, score=-0.121 total time=   0.2s\n",
      "[CV 1/5] END regressor__C=0.1, regressor__gamma=0.001, regressor__kernel=rbf;, score=-0.171 total time=   0.2s\n",
      "[CV 2/5] END regressor__C=0.1, regressor__gamma=0.001, regressor__kernel=rbf;, score=-0.131 total time=   0.2s\n",
      "[CV 3/5] END regressor__C=0.1, regressor__gamma=0.001, regressor__kernel=rbf;, score=-0.257 total time=   0.2s\n",
      "[CV 4/5] END regressor__C=0.1, regressor__gamma=0.001, regressor__kernel=rbf;, score=-0.186 total time=   0.2s\n",
      "[CV 5/5] END regressor__C=0.1, regressor__gamma=0.001, regressor__kernel=rbf;, score=-0.275 total time=   0.2s\n",
      "[CV 1/5] END regressor__C=10, regressor__gamma=0.1, regressor__kernel=sigmoid;, score=-849998.241 total time=   0.2s\n",
      "[CV 2/5] END regressor__C=10, regressor__gamma=0.1, regressor__kernel=sigmoid;, score=-1281261.333 total time=   0.2s\n",
      "[CV 3/5] END regressor__C=10, regressor__gamma=0.1, regressor__kernel=sigmoid;, score=-888146.686 total time=   0.2s\n",
      "[CV 4/5] END regressor__C=10, regressor__gamma=0.1, regressor__kernel=sigmoid;, score=-882244.417 total time=   0.2s\n",
      "[CV 5/5] END regressor__C=10, regressor__gamma=0.1, regressor__kernel=sigmoid;, score=-801733.772 total time=   0.2s\n",
      "[CV 1/5] END regressor__C=15, regressor__gamma=0.01, regressor__kernel=poly;, score=-2.296 total time=   0.2s\n",
      "[CV 2/5] END regressor__C=15, regressor__gamma=0.01, regressor__kernel=poly;, score=-0.062 total time=   0.2s\n",
      "[CV 3/5] END regressor__C=15, regressor__gamma=0.01, regressor__kernel=poly;, score=-0.097 total time=   0.2s\n",
      "[CV 4/5] END regressor__C=15, regressor__gamma=0.01, regressor__kernel=poly;, score=-0.024 total time=   0.2s\n",
      "[CV 5/5] END regressor__C=15, regressor__gamma=0.01, regressor__kernel=poly;, score=0.002 total time=   0.2s\n",
      "[CV 1/5] END regressor__C=0.1, regressor__gamma=1, regressor__kernel=sigmoid;, score=-289.127 total time=   0.2s\n",
      "[CV 2/5] END regressor__C=0.1, regressor__gamma=1, regressor__kernel=sigmoid;, score=-373.624 total time=   0.2s\n",
      "[CV 3/5] END regressor__C=0.1, regressor__gamma=1, regressor__kernel=sigmoid;, score=-283.303 total time=   0.2s\n",
      "[CV 4/5] END regressor__C=0.1, regressor__gamma=1, regressor__kernel=sigmoid;, score=-291.110 total time=   0.2s\n",
      "[CV 5/5] END regressor__C=0.1, regressor__gamma=1, regressor__kernel=sigmoid;, score=-264.052 total time=   0.2s\n",
      "[CV 1/5] END regressor__C=0.01, regressor__gamma=0.001, regressor__kernel=sigmoid;, score=-0.302 total time=   0.1s\n",
      "[CV 2/5] END regressor__C=0.01, regressor__gamma=0.001, regressor__kernel=sigmoid;, score=-0.258 total time=   0.1s\n",
      "[CV 3/5] END regressor__C=0.01, regressor__gamma=0.001, regressor__kernel=sigmoid;, score=-0.353 total time=   0.1s\n",
      "[CV 4/5] END regressor__C=0.01, regressor__gamma=0.001, regressor__kernel=sigmoid;, score=-0.289 total time=   0.1s\n",
      "[CV 5/5] END regressor__C=0.01, regressor__gamma=0.001, regressor__kernel=sigmoid;, score=-0.366 total time=   0.1s\n",
      "[CV 1/5] END regressor__C=5, regressor__gamma=0.001, regressor__kernel=poly;, score=-0.308 total time=   0.1s\n",
      "[CV 2/5] END regressor__C=5, regressor__gamma=0.001, regressor__kernel=poly;, score=-0.264 total time=   0.1s\n",
      "[CV 3/5] END regressor__C=5, regressor__gamma=0.001, regressor__kernel=poly;, score=-0.357 total time=   0.1s\n",
      "[CV 4/5] END regressor__C=5, regressor__gamma=0.001, regressor__kernel=poly;, score=-0.295 total time=   0.1s\n",
      "[CV 5/5] END regressor__C=5, regressor__gamma=0.001, regressor__kernel=poly;, score=-0.371 total time=   0.1s\n",
      "[CV 1/5] END regressor__C=0.01, regressor__gamma=0.01, regressor__kernel=poly;, score=-0.306 total time=   0.1s\n",
      "[CV 2/5] END regressor__C=0.01, regressor__gamma=0.01, regressor__kernel=poly;, score=-0.262 total time=   0.1s\n",
      "[CV 3/5] END regressor__C=0.01, regressor__gamma=0.01, regressor__kernel=poly;, score=-0.356 total time=   0.1s\n",
      "[CV 4/5] END regressor__C=0.01, regressor__gamma=0.01, regressor__kernel=poly;, score=-0.294 total time=   0.1s\n",
      "[CV 5/5] END regressor__C=0.01, regressor__gamma=0.01, regressor__kernel=poly;, score=-0.369 total time=   0.1s\n",
      "[CV 1/5] END regressor__C=10, regressor__gamma=0.0001, regressor__kernel=rbf;, score=0.070 total time=   0.2s\n",
      "[CV 2/5] END regressor__C=10, regressor__gamma=0.0001, regressor__kernel=rbf;, score=0.107 total time=   0.2s\n",
      "[CV 3/5] END regressor__C=10, regressor__gamma=0.0001, regressor__kernel=rbf;, score=-0.039 total time=   0.2s\n",
      "[CV 4/5] END regressor__C=10, regressor__gamma=0.0001, regressor__kernel=rbf;, score=0.054 total time=   0.2s\n",
      "[CV 5/5] END regressor__C=10, regressor__gamma=0.0001, regressor__kernel=rbf;, score=-0.040 total time=   0.2s\n",
      "[CV 1/5] END regressor__C=10, regressor__gamma=0.01, regressor__kernel=linear;, score=0.083 total time=   6.7s\n",
      "[CV 2/5] END regressor__C=10, regressor__gamma=0.01, regressor__kernel=linear;, score=0.119 total time=   8.9s\n",
      "[CV 3/5] END regressor__C=10, regressor__gamma=0.01, regressor__kernel=linear;, score=0.007 total time=   5.8s\n",
      "[CV 4/5] END regressor__C=10, regressor__gamma=0.01, regressor__kernel=linear;, score=0.084 total time=   6.5s\n",
      "[CV 5/5] END regressor__C=10, regressor__gamma=0.01, regressor__kernel=linear;, score=0.037 total time=   6.7s\n",
      "[CV 1/5] END regressor__C=5, regressor__gamma=0.01, regressor__kernel=sigmoid;, score=-56.310 total time=   0.2s\n",
      "[CV 2/5] END regressor__C=5, regressor__gamma=0.01, regressor__kernel=sigmoid;, score=-84.502 total time=   0.2s\n",
      "[CV 3/5] END regressor__C=5, regressor__gamma=0.01, regressor__kernel=sigmoid;, score=-69.107 total time=   0.2s\n",
      "[CV 4/5] END regressor__C=5, regressor__gamma=0.01, regressor__kernel=sigmoid;, score=-67.832 total time=   0.2s\n",
      "[CV 5/5] END regressor__C=5, regressor__gamma=0.01, regressor__kernel=sigmoid;, score=-65.209 total time=   0.2s\n",
      "[CV 1/5] END regressor__C=5, regressor__gamma=0.01, regressor__kernel=linear;, score=0.083 total time=   3.2s\n",
      "[CV 2/5] END regressor__C=5, regressor__gamma=0.01, regressor__kernel=linear;, score=0.119 total time=   3.5s\n",
      "[CV 3/5] END regressor__C=5, regressor__gamma=0.01, regressor__kernel=linear;, score=0.007 total time=   3.0s\n",
      "[CV 4/5] END regressor__C=5, regressor__gamma=0.01, regressor__kernel=linear;, score=0.084 total time=   3.0s\n",
      "[CV 5/5] END regressor__C=5, regressor__gamma=0.01, regressor__kernel=linear;, score=0.036 total time=   3.5s\n",
      "[CV 1/5] END regressor__C=1, regressor__gamma=1, regressor__kernel=linear;, score=0.084 total time=   0.7s\n",
      "[CV 2/5] END regressor__C=1, regressor__gamma=1, regressor__kernel=linear;, score=0.119 total time=   0.9s\n",
      "[CV 3/5] END regressor__C=1, regressor__gamma=1, regressor__kernel=linear;, score=0.007 total time=   0.7s\n",
      "[CV 4/5] END regressor__C=1, regressor__gamma=1, regressor__kernel=linear;, score=0.084 total time=   0.8s\n",
      "[CV 5/5] END regressor__C=1, regressor__gamma=1, regressor__kernel=linear;, score=0.034 total time=   0.8s\n",
      "[CV 1/5] END regressor__C=10, regressor__gamma=0.001, regressor__kernel=linear;, score=0.083 total time=   6.7s\n",
      "[CV 2/5] END regressor__C=10, regressor__gamma=0.001, regressor__kernel=linear;, score=0.119 total time=   8.4s\n",
      "[CV 3/5] END regressor__C=10, regressor__gamma=0.001, regressor__kernel=linear;, score=0.007 total time=   5.8s\n",
      "[CV 4/5] END regressor__C=10, regressor__gamma=0.001, regressor__kernel=linear;, score=0.084 total time=   6.5s\n",
      "[CV 5/5] END regressor__C=10, regressor__gamma=0.001, regressor__kernel=linear;, score=0.037 total time=   6.7s\n",
      "[CV 1/5] END regressor__C=10, regressor__gamma=0.0001, regressor__kernel=sigmoid;, score=0.004 total time=   0.1s\n",
      "[CV 2/5] END regressor__C=10, regressor__gamma=0.0001, regressor__kernel=sigmoid;, score=0.063 total time=   0.1s\n",
      "[CV 3/5] END regressor__C=10, regressor__gamma=0.0001, regressor__kernel=sigmoid;, score=-0.108 total time=   0.1s\n",
      "[CV 4/5] END regressor__C=10, regressor__gamma=0.0001, regressor__kernel=sigmoid;, score=-0.007 total time=   0.1s\n",
      "[CV 5/5] END regressor__C=10, regressor__gamma=0.0001, regressor__kernel=sigmoid;, score=-0.123 total time=   0.1s\n",
      "[CV 1/5] END regressor__C=1, regressor__gamma=0.0001, regressor__kernel=rbf;, score=-0.166 total time=   0.2s\n",
      "[CV 2/5] END regressor__C=1, regressor__gamma=0.0001, regressor__kernel=rbf;, score=-0.125 total time=   0.2s\n",
      "[CV 3/5] END regressor__C=1, regressor__gamma=0.0001, regressor__kernel=rbf;, score=-0.252 total time=   0.2s\n",
      "[CV 4/5] END regressor__C=1, regressor__gamma=0.0001, regressor__kernel=rbf;, score=-0.181 total time=   0.2s\n",
      "[CV 5/5] END regressor__C=1, regressor__gamma=0.0001, regressor__kernel=rbf;, score=-0.271 total time=   0.2s\n",
      "[CV 1/5] END regressor__C=5, regressor__gamma=0.0001, regressor__kernel=linear;, score=0.083 total time=   3.2s\n",
      "[CV 2/5] END regressor__C=5, regressor__gamma=0.0001, regressor__kernel=linear;, score=0.119 total time=   3.5s\n",
      "[CV 3/5] END regressor__C=5, regressor__gamma=0.0001, regressor__kernel=linear;, score=0.007 total time=   3.0s\n",
      "[CV 4/5] END regressor__C=5, regressor__gamma=0.0001, regressor__kernel=linear;, score=0.084 total time=   3.0s\n",
      "[CV 5/5] END regressor__C=5, regressor__gamma=0.0001, regressor__kernel=linear;, score=0.036 total time=   3.5s\n",
      "[CV 1/5] END regressor__C=10, regressor__gamma=0.001, regressor__kernel=rbf;, score=0.126 total time=   0.2s\n",
      "[CV 2/5] END regressor__C=10, regressor__gamma=0.001, regressor__kernel=rbf;, score=0.120 total time=   0.2s\n",
      "[CV 3/5] END regressor__C=10, regressor__gamma=0.001, regressor__kernel=rbf;, score=0.007 total time=   0.3s\n",
      "[CV 4/5] END regressor__C=10, regressor__gamma=0.001, regressor__kernel=rbf;, score=0.098 total time=   0.2s\n",
      "[CV 5/5] END regressor__C=10, regressor__gamma=0.001, regressor__kernel=rbf;, score=0.077 total time=   0.2s\n",
      "[CV 1/5] END regressor__C=5, regressor__gamma=0.1, regressor__kernel=poly;, score=-21.165 total time=   0.6s\n",
      "[CV 2/5] END regressor__C=5, regressor__gamma=0.1, regressor__kernel=poly;, score=-4.550 total time=   0.5s\n",
      "[CV 3/5] END regressor__C=5, regressor__gamma=0.1, regressor__kernel=poly;, score=-3.395 total time=   0.5s\n",
      "[CV 4/5] END regressor__C=5, regressor__gamma=0.1, regressor__kernel=poly;, score=-3.144 total time=   0.5s\n",
      "[CV 5/5] END regressor__C=5, regressor__gamma=0.1, regressor__kernel=poly;, score=-2.781 total time=   0.4s\n",
      "[CV 1/5] END regressor__C=0.1, regressor__gamma=0.01, regressor__kernel=rbf;, score=0.079 total time=   0.2s\n",
      "[CV 2/5] END regressor__C=0.1, regressor__gamma=0.01, regressor__kernel=rbf;, score=0.094 total time=   0.2s\n",
      "[CV 3/5] END regressor__C=0.1, regressor__gamma=0.01, regressor__kernel=rbf;, score=-0.032 total time=   0.2s\n",
      "[CV 4/5] END regressor__C=0.1, regressor__gamma=0.01, regressor__kernel=rbf;, score=0.070 total time=   0.2s\n",
      "[CV 5/5] END regressor__C=0.1, regressor__gamma=0.01, regressor__kernel=rbf;, score=0.015 total time=   0.2s\n",
      "[CV 1/5] END regressor__C=5, regressor__gamma=0.1, regressor__kernel=sigmoid;, score=-212635.320 total time=   0.2s\n",
      "[CV 2/5] END regressor__C=5, regressor__gamma=0.1, regressor__kernel=sigmoid;, score=-318980.297 total time=   0.2s\n",
      "[CV 3/5] END regressor__C=5, regressor__gamma=0.1, regressor__kernel=sigmoid;, score=-222244.337 total time=   0.2s\n",
      "[CV 4/5] END regressor__C=5, regressor__gamma=0.1, regressor__kernel=sigmoid;, score=-221445.654 total time=   0.2s\n",
      "[CV 5/5] END regressor__C=5, regressor__gamma=0.1, regressor__kernel=sigmoid;, score=-200393.702 total time=   0.2s\n",
      "[CV 1/5] END regressor__C=0.01, regressor__gamma=0.001, regressor__kernel=poly;, score=-0.310 total time=   0.1s\n",
      "[CV 2/5] END regressor__C=0.01, regressor__gamma=0.001, regressor__kernel=poly;, score=-0.265 total time=   0.1s\n",
      "[CV 3/5] END regressor__C=0.01, regressor__gamma=0.001, regressor__kernel=poly;, score=-0.358 total time=   0.1s\n",
      "[CV 4/5] END regressor__C=0.01, regressor__gamma=0.001, regressor__kernel=poly;, score=-0.296 total time=   0.1s\n",
      "[CV 5/5] END regressor__C=0.01, regressor__gamma=0.001, regressor__kernel=poly;, score=-0.372 total time=   0.1s\n",
      "[CV 1/5] END regressor__C=0.1, regressor__gamma=0.01, regressor__kernel=sigmoid;, score=-0.001 total time=   0.1s\n",
      "[CV 2/5] END regressor__C=0.1, regressor__gamma=0.01, regressor__kernel=sigmoid;, score=0.061 total time=   0.1s\n",
      "[CV 3/5] END regressor__C=0.1, regressor__gamma=0.01, regressor__kernel=sigmoid;, score=-0.119 total time=   0.1s\n",
      "[CV 4/5] END regressor__C=0.1, regressor__gamma=0.01, regressor__kernel=sigmoid;, score=-0.015 total time=   0.1s\n",
      "[CV 5/5] END regressor__C=0.1, regressor__gamma=0.01, regressor__kernel=sigmoid;, score=-0.125 total time=   0.1s\n",
      "[CV 1/5] END regressor__C=10, regressor__gamma=0.1, regressor__kernel=rbf;, score=0.065 total time=   0.3s\n",
      "[CV 2/5] END regressor__C=10, regressor__gamma=0.1, regressor__kernel=rbf;, score=-0.041 total time=   0.3s\n",
      "[CV 3/5] END regressor__C=10, regressor__gamma=0.1, regressor__kernel=rbf;, score=0.004 total time=   0.3s\n",
      "[CV 4/5] END regressor__C=10, regressor__gamma=0.1, regressor__kernel=rbf;, score=0.053 total time=   0.3s\n",
      "[CV 5/5] END regressor__C=10, regressor__gamma=0.1, regressor__kernel=rbf;, score=0.033 total time=   0.3s\n",
      "[CV 1/5] END regressor__C=0.01, regressor__gamma=0.01, regressor__kernel=sigmoid;, score=-0.234 total time=   0.1s\n",
      "[CV 2/5] END regressor__C=0.01, regressor__gamma=0.01, regressor__kernel=sigmoid;, score=-0.191 total time=   0.1s\n",
      "[CV 3/5] END regressor__C=0.01, regressor__gamma=0.01, regressor__kernel=sigmoid;, score=-0.302 total time=   0.1s\n",
      "[CV 4/5] END regressor__C=0.01, regressor__gamma=0.01, regressor__kernel=sigmoid;, score=-0.236 total time=   0.1s\n",
      "[CV 5/5] END regressor__C=0.01, regressor__gamma=0.01, regressor__kernel=sigmoid;, score=-0.320 total time=   0.1s\n"
     ]
    },
    {
     "data": {
      "text/html": [
       "<style>#sk-container-id-12 {color: black;background-color: white;}#sk-container-id-12 pre{padding: 0;}#sk-container-id-12 div.sk-toggleable {background-color: white;}#sk-container-id-12 label.sk-toggleable__label {cursor: pointer;display: block;width: 100%;margin-bottom: 0;padding: 0.3em;box-sizing: border-box;text-align: center;}#sk-container-id-12 label.sk-toggleable__label-arrow:before {content: \"▸\";float: left;margin-right: 0.25em;color: #696969;}#sk-container-id-12 label.sk-toggleable__label-arrow:hover:before {color: black;}#sk-container-id-12 div.sk-estimator:hover label.sk-toggleable__label-arrow:before {color: black;}#sk-container-id-12 div.sk-toggleable__content {max-height: 0;max-width: 0;overflow: hidden;text-align: left;background-color: #f0f8ff;}#sk-container-id-12 div.sk-toggleable__content pre {margin: 0.2em;color: black;border-radius: 0.25em;background-color: #f0f8ff;}#sk-container-id-12 input.sk-toggleable__control:checked~div.sk-toggleable__content {max-height: 200px;max-width: 100%;overflow: auto;}#sk-container-id-12 input.sk-toggleable__control:checked~label.sk-toggleable__label-arrow:before {content: \"▾\";}#sk-container-id-12 div.sk-estimator input.sk-toggleable__control:checked~label.sk-toggleable__label {background-color: #d4ebff;}#sk-container-id-12 div.sk-label input.sk-toggleable__control:checked~label.sk-toggleable__label {background-color: #d4ebff;}#sk-container-id-12 input.sk-hidden--visually {border: 0;clip: rect(1px 1px 1px 1px);clip: rect(1px, 1px, 1px, 1px);height: 1px;margin: -1px;overflow: hidden;padding: 0;position: absolute;width: 1px;}#sk-container-id-12 div.sk-estimator {font-family: monospace;background-color: #f0f8ff;border: 1px dotted black;border-radius: 0.25em;box-sizing: border-box;margin-bottom: 0.5em;}#sk-container-id-12 div.sk-estimator:hover {background-color: #d4ebff;}#sk-container-id-12 div.sk-parallel-item::after {content: \"\";width: 100%;border-bottom: 1px solid gray;flex-grow: 1;}#sk-container-id-12 div.sk-label:hover label.sk-toggleable__label {background-color: #d4ebff;}#sk-container-id-12 div.sk-serial::before {content: \"\";position: absolute;border-left: 1px solid gray;box-sizing: border-box;top: 0;bottom: 0;left: 50%;z-index: 0;}#sk-container-id-12 div.sk-serial {display: flex;flex-direction: column;align-items: center;background-color: white;padding-right: 0.2em;padding-left: 0.2em;position: relative;}#sk-container-id-12 div.sk-item {position: relative;z-index: 1;}#sk-container-id-12 div.sk-parallel {display: flex;align-items: stretch;justify-content: center;background-color: white;position: relative;}#sk-container-id-12 div.sk-item::before, #sk-container-id-12 div.sk-parallel-item::before {content: \"\";position: absolute;border-left: 1px solid gray;box-sizing: border-box;top: 0;bottom: 0;left: 50%;z-index: -1;}#sk-container-id-12 div.sk-parallel-item {display: flex;flex-direction: column;z-index: 1;position: relative;background-color: white;}#sk-container-id-12 div.sk-parallel-item:first-child::after {align-self: flex-end;width: 50%;}#sk-container-id-12 div.sk-parallel-item:last-child::after {align-self: flex-start;width: 50%;}#sk-container-id-12 div.sk-parallel-item:only-child::after {width: 0;}#sk-container-id-12 div.sk-dashed-wrapped {border: 1px dashed gray;margin: 0 0.4em 0.5em 0.4em;box-sizing: border-box;padding-bottom: 0.4em;background-color: white;}#sk-container-id-12 div.sk-label label {font-family: monospace;font-weight: bold;display: inline-block;line-height: 1.2em;}#sk-container-id-12 div.sk-label-container {text-align: center;}#sk-container-id-12 div.sk-container {/* jupyter's `normalize.less` sets `[hidden] { display: none; }` but bootstrap.min.css set `[hidden] { display: none !important; }` so we also need the `!important` here to be able to override the default hidden behavior on the sphinx rendered scikit-learn.org. See: https://github.com/scikit-learn/scikit-learn/issues/21755 */display: inline-block !important;position: relative;}#sk-container-id-12 div.sk-text-repr-fallback {display: none;}</style><div id=\"sk-container-id-12\" class=\"sk-top-container\"><div class=\"sk-text-repr-fallback\"><pre>RandomizedSearchCV(cv=KFold(n_splits=5, random_state=None, shuffle=False),\n",
       "                   estimator=Pipeline(steps=[(&#x27;scaler&#x27;, StandardScaler()),\n",
       "                                             (&#x27;regressor&#x27;, SVR())]),\n",
       "                   n_iter=50,\n",
       "                   param_distributions={&#x27;regressor__C&#x27;: [0.01, 0.1, 1, 5, 10,\n",
       "                                                         15],\n",
       "                                        &#x27;regressor__gamma&#x27;: [1, 0.1, 0.01,\n",
       "                                                             0.001, 0.0001],\n",
       "                                        &#x27;regressor__kernel&#x27;: [&#x27;linear&#x27;, &#x27;poly&#x27;,\n",
       "                                                              &#x27;rbf&#x27;,\n",
       "                                                              &#x27;sigmoid&#x27;]},\n",
       "                   random_state=3, verbose=3)</pre><b>In a Jupyter environment, please rerun this cell to show the HTML representation or trust the notebook. <br />On GitHub, the HTML representation is unable to render, please try loading this page with nbviewer.org.</b></div><div class=\"sk-container\" hidden><div class=\"sk-item sk-dashed-wrapped\"><div class=\"sk-label-container\"><div class=\"sk-label sk-toggleable\"><input class=\"sk-toggleable__control sk-hidden--visually\" id=\"sk-estimator-id-38\" type=\"checkbox\" ><label for=\"sk-estimator-id-38\" class=\"sk-toggleable__label sk-toggleable__label-arrow\">RandomizedSearchCV</label><div class=\"sk-toggleable__content\"><pre>RandomizedSearchCV(cv=KFold(n_splits=5, random_state=None, shuffle=False),\n",
       "                   estimator=Pipeline(steps=[(&#x27;scaler&#x27;, StandardScaler()),\n",
       "                                             (&#x27;regressor&#x27;, SVR())]),\n",
       "                   n_iter=50,\n",
       "                   param_distributions={&#x27;regressor__C&#x27;: [0.01, 0.1, 1, 5, 10,\n",
       "                                                         15],\n",
       "                                        &#x27;regressor__gamma&#x27;: [1, 0.1, 0.01,\n",
       "                                                             0.001, 0.0001],\n",
       "                                        &#x27;regressor__kernel&#x27;: [&#x27;linear&#x27;, &#x27;poly&#x27;,\n",
       "                                                              &#x27;rbf&#x27;,\n",
       "                                                              &#x27;sigmoid&#x27;]},\n",
       "                   random_state=3, verbose=3)</pre></div></div></div><div class=\"sk-parallel\"><div class=\"sk-parallel-item\"><div class=\"sk-item\"><div class=\"sk-label-container\"><div class=\"sk-label sk-toggleable\"><input class=\"sk-toggleable__control sk-hidden--visually\" id=\"sk-estimator-id-39\" type=\"checkbox\" ><label for=\"sk-estimator-id-39\" class=\"sk-toggleable__label sk-toggleable__label-arrow\">estimator: Pipeline</label><div class=\"sk-toggleable__content\"><pre>Pipeline(steps=[(&#x27;scaler&#x27;, StandardScaler()), (&#x27;regressor&#x27;, SVR())])</pre></div></div></div><div class=\"sk-serial\"><div class=\"sk-item\"><div class=\"sk-serial\"><div class=\"sk-item\"><div class=\"sk-estimator sk-toggleable\"><input class=\"sk-toggleable__control sk-hidden--visually\" id=\"sk-estimator-id-40\" type=\"checkbox\" ><label for=\"sk-estimator-id-40\" class=\"sk-toggleable__label sk-toggleable__label-arrow\">StandardScaler</label><div class=\"sk-toggleable__content\"><pre>StandardScaler()</pre></div></div></div><div class=\"sk-item\"><div class=\"sk-estimator sk-toggleable\"><input class=\"sk-toggleable__control sk-hidden--visually\" id=\"sk-estimator-id-41\" type=\"checkbox\" ><label for=\"sk-estimator-id-41\" class=\"sk-toggleable__label sk-toggleable__label-arrow\">SVR</label><div class=\"sk-toggleable__content\"><pre>SVR()</pre></div></div></div></div></div></div></div></div></div></div></div></div>"
      ],
      "text/plain": [
       "RandomizedSearchCV(cv=KFold(n_splits=5, random_state=None, shuffle=False),\n",
       "                   estimator=Pipeline(steps=[('scaler', StandardScaler()),\n",
       "                                             ('regressor', SVR())]),\n",
       "                   n_iter=50,\n",
       "                   param_distributions={'regressor__C': [0.01, 0.1, 1, 5, 10,\n",
       "                                                         15],\n",
       "                                        'regressor__gamma': [1, 0.1, 0.01,\n",
       "                                                             0.001, 0.0001],\n",
       "                                        'regressor__kernel': ['linear', 'poly',\n",
       "                                                              'rbf',\n",
       "                                                              'sigmoid']},\n",
       "                   random_state=3, verbose=3)"
      ]
     },
     "execution_count": 54,
     "metadata": {},
     "output_type": "execute_result"
    }
   ],
   "source": [
    "svm_regressor_param_space = {\n",
    "    'regressor__C': [0.01, 0.1, 1, 5, 10, 15],\n",
    "    'regressor__gamma': [1, 0.1, 0.01, 0.001, 0.0001],\n",
    "    'regressor__kernel': ['linear', 'poly', 'rbf', 'sigmoid'],\n",
    "}\n",
    "\n",
    "svm_regressor_grid_search = RandomizedSearchCV(svm_regressor_pipe, svm_regressor_param_space, cv=KFold(n_splits=5), n_iter=50, random_state=SEED, verbose=3)\n",
    "\n",
    "svm_regressor_grid_search.fit(X_transformed, y_categorical_transformed)"
   ]
  },
  {
   "cell_type": "code",
   "execution_count": 55,
   "metadata": {},
   "outputs": [
    {
     "data": {
      "text/plain": [
       "{'regressor__kernel': 'rbf', 'regressor__gamma': 0.001, 'regressor__C': 10}"
      ]
     },
     "execution_count": 55,
     "metadata": {},
     "output_type": "execute_result"
    }
   ],
   "source": [
    "svm_regressor_grid_search.best_params_"
   ]
  },
  {
   "cell_type": "code",
   "execution_count": 56,
   "metadata": {},
   "outputs": [
    {
     "name": "stdout",
     "output_type": "stream",
     "text": [
      "MAE: 58.52\n",
      "RMSE: 73.34\n",
      "R²: -16.47%\n",
      "MAPE: 10.52%\n"
     ]
    }
   ],
   "source": [
    "tuned_svm_regressor_pipe = svm_regressor_grid_search.best_estimator_\n",
    "\n",
    "evaluate_regression_model(tuned_svm_regressor_pipe)"
   ]
  },
  {
   "cell_type": "code",
   "execution_count": 57,
   "metadata": {},
   "outputs": [],
   "source": [
    "sio.dump(svm_regressor_pipe, '../sklearn/models/svm_regressor.skops')\n",
    "sio.dump(tuned_svm_regressor_pipe, '../sklearn/models/tuned/tuned_svm_regressor.skops')"
   ]
  },
  {
   "attachments": {},
   "cell_type": "markdown",
   "metadata": {},
   "source": [
    "#### **Random Forest**"
   ]
  },
  {
   "attachments": {},
   "cell_type": "markdown",
   "metadata": {},
   "source": [
    "**Classificador**"
   ]
  },
  {
   "attachments": {},
   "cell_type": "markdown",
   "metadata": {},
   "source": [
    "Base model"
   ]
  },
  {
   "cell_type": "code",
   "execution_count": 58,
   "metadata": {},
   "outputs": [],
   "source": [
    "randomforest_classifier_pipe = Pipeline(steps=[\n",
    "    ('scaler', StandardScaler()),\n",
    "    ('classifier', RandomForestClassifier(random_state=SEED)),\n",
    "])"
   ]
  },
  {
   "cell_type": "code",
   "execution_count": 59,
   "metadata": {},
   "outputs": [
    {
     "data": {
      "text/html": [
       "<style>#sk-container-id-13 {color: black;background-color: white;}#sk-container-id-13 pre{padding: 0;}#sk-container-id-13 div.sk-toggleable {background-color: white;}#sk-container-id-13 label.sk-toggleable__label {cursor: pointer;display: block;width: 100%;margin-bottom: 0;padding: 0.3em;box-sizing: border-box;text-align: center;}#sk-container-id-13 label.sk-toggleable__label-arrow:before {content: \"▸\";float: left;margin-right: 0.25em;color: #696969;}#sk-container-id-13 label.sk-toggleable__label-arrow:hover:before {color: black;}#sk-container-id-13 div.sk-estimator:hover label.sk-toggleable__label-arrow:before {color: black;}#sk-container-id-13 div.sk-toggleable__content {max-height: 0;max-width: 0;overflow: hidden;text-align: left;background-color: #f0f8ff;}#sk-container-id-13 div.sk-toggleable__content pre {margin: 0.2em;color: black;border-radius: 0.25em;background-color: #f0f8ff;}#sk-container-id-13 input.sk-toggleable__control:checked~div.sk-toggleable__content {max-height: 200px;max-width: 100%;overflow: auto;}#sk-container-id-13 input.sk-toggleable__control:checked~label.sk-toggleable__label-arrow:before {content: \"▾\";}#sk-container-id-13 div.sk-estimator input.sk-toggleable__control:checked~label.sk-toggleable__label {background-color: #d4ebff;}#sk-container-id-13 div.sk-label input.sk-toggleable__control:checked~label.sk-toggleable__label {background-color: #d4ebff;}#sk-container-id-13 input.sk-hidden--visually {border: 0;clip: rect(1px 1px 1px 1px);clip: rect(1px, 1px, 1px, 1px);height: 1px;margin: -1px;overflow: hidden;padding: 0;position: absolute;width: 1px;}#sk-container-id-13 div.sk-estimator {font-family: monospace;background-color: #f0f8ff;border: 1px dotted black;border-radius: 0.25em;box-sizing: border-box;margin-bottom: 0.5em;}#sk-container-id-13 div.sk-estimator:hover {background-color: #d4ebff;}#sk-container-id-13 div.sk-parallel-item::after {content: \"\";width: 100%;border-bottom: 1px solid gray;flex-grow: 1;}#sk-container-id-13 div.sk-label:hover label.sk-toggleable__label {background-color: #d4ebff;}#sk-container-id-13 div.sk-serial::before {content: \"\";position: absolute;border-left: 1px solid gray;box-sizing: border-box;top: 0;bottom: 0;left: 50%;z-index: 0;}#sk-container-id-13 div.sk-serial {display: flex;flex-direction: column;align-items: center;background-color: white;padding-right: 0.2em;padding-left: 0.2em;position: relative;}#sk-container-id-13 div.sk-item {position: relative;z-index: 1;}#sk-container-id-13 div.sk-parallel {display: flex;align-items: stretch;justify-content: center;background-color: white;position: relative;}#sk-container-id-13 div.sk-item::before, #sk-container-id-13 div.sk-parallel-item::before {content: \"\";position: absolute;border-left: 1px solid gray;box-sizing: border-box;top: 0;bottom: 0;left: 50%;z-index: -1;}#sk-container-id-13 div.sk-parallel-item {display: flex;flex-direction: column;z-index: 1;position: relative;background-color: white;}#sk-container-id-13 div.sk-parallel-item:first-child::after {align-self: flex-end;width: 50%;}#sk-container-id-13 div.sk-parallel-item:last-child::after {align-self: flex-start;width: 50%;}#sk-container-id-13 div.sk-parallel-item:only-child::after {width: 0;}#sk-container-id-13 div.sk-dashed-wrapped {border: 1px dashed gray;margin: 0 0.4em 0.5em 0.4em;box-sizing: border-box;padding-bottom: 0.4em;background-color: white;}#sk-container-id-13 div.sk-label label {font-family: monospace;font-weight: bold;display: inline-block;line-height: 1.2em;}#sk-container-id-13 div.sk-label-container {text-align: center;}#sk-container-id-13 div.sk-container {/* jupyter's `normalize.less` sets `[hidden] { display: none; }` but bootstrap.min.css set `[hidden] { display: none !important; }` so we also need the `!important` here to be able to override the default hidden behavior on the sphinx rendered scikit-learn.org. See: https://github.com/scikit-learn/scikit-learn/issues/21755 */display: inline-block !important;position: relative;}#sk-container-id-13 div.sk-text-repr-fallback {display: none;}</style><div id=\"sk-container-id-13\" class=\"sk-top-container\"><div class=\"sk-text-repr-fallback\"><pre>Pipeline(steps=[(&#x27;scaler&#x27;, StandardScaler()),\n",
       "                (&#x27;classifier&#x27;, RandomForestClassifier(random_state=3))])</pre><b>In a Jupyter environment, please rerun this cell to show the HTML representation or trust the notebook. <br />On GitHub, the HTML representation is unable to render, please try loading this page with nbviewer.org.</b></div><div class=\"sk-container\" hidden><div class=\"sk-item sk-dashed-wrapped\"><div class=\"sk-label-container\"><div class=\"sk-label sk-toggleable\"><input class=\"sk-toggleable__control sk-hidden--visually\" id=\"sk-estimator-id-42\" type=\"checkbox\" ><label for=\"sk-estimator-id-42\" class=\"sk-toggleable__label sk-toggleable__label-arrow\">Pipeline</label><div class=\"sk-toggleable__content\"><pre>Pipeline(steps=[(&#x27;scaler&#x27;, StandardScaler()),\n",
       "                (&#x27;classifier&#x27;, RandomForestClassifier(random_state=3))])</pre></div></div></div><div class=\"sk-serial\"><div class=\"sk-item\"><div class=\"sk-estimator sk-toggleable\"><input class=\"sk-toggleable__control sk-hidden--visually\" id=\"sk-estimator-id-43\" type=\"checkbox\" ><label for=\"sk-estimator-id-43\" class=\"sk-toggleable__label sk-toggleable__label-arrow\">StandardScaler</label><div class=\"sk-toggleable__content\"><pre>StandardScaler()</pre></div></div></div><div class=\"sk-item\"><div class=\"sk-estimator sk-toggleable\"><input class=\"sk-toggleable__control sk-hidden--visually\" id=\"sk-estimator-id-44\" type=\"checkbox\" ><label for=\"sk-estimator-id-44\" class=\"sk-toggleable__label sk-toggleable__label-arrow\">RandomForestClassifier</label><div class=\"sk-toggleable__content\"><pre>RandomForestClassifier(random_state=3)</pre></div></div></div></div></div></div></div>"
      ],
      "text/plain": [
       "Pipeline(steps=[('scaler', StandardScaler()),\n",
       "                ('classifier', RandomForestClassifier(random_state=3))])"
      ]
     },
     "execution_count": 59,
     "metadata": {},
     "output_type": "execute_result"
    }
   ],
   "source": [
    "randomforest_classifier_pipe.fit(X_categorical_train, y_categorical_train)"
   ]
  },
  {
   "cell_type": "code",
   "execution_count": 60,
   "metadata": {},
   "outputs": [
    {
     "name": "stdout",
     "output_type": "stream",
     "text": [
      "Acurácia: 60.54%\n",
      "Precision: 50.02%\n",
      "Recall: 60.54%\n",
      "F1: 51.24%\n",
      "              precision    recall  f1-score   support\n",
      "\n",
      "           0       1.00      1.00      1.00        73\n",
      "           1       1.00      1.00      1.00       162\n",
      "           2       1.00      1.00      1.00       393\n",
      "           3       1.00      1.00      1.00      1021\n",
      "\n",
      "    accuracy                           1.00      1649\n",
      "   macro avg       1.00      1.00      1.00      1649\n",
      "weighted avg       1.00      1.00      1.00      1649\n",
      "\n"
     ]
    },
    {
     "data": {
      "image/png": "[encoded data removed]",
      "text/plain": [
       "<Figure size 640x480 with 2 Axes>"
      ]
     },
     "metadata": {},
     "output_type": "display_data"
    }
   ],
   "source": [
    "evaluate_classification_model(randomforest_classifier_pipe)\n",
    "plt.show()"
   ]
  },
  {
   "cell_type": "code",
   "execution_count": 61,
   "metadata": {},
   "outputs": [
    {
     "data": {
      "text/plain": [
       "PARTICIPANTE_RENDA_PER_CAPITA              10.49\n",
       "PARTICIPANTE_TP_FAIXA_ETARIA                3.79\n",
       "PARTICIPANTE_TP_COR_RACA                    3.39\n",
       "HABESTUDO_Q021                              3.30\n",
       "HABESTUDO_Q019                              3.23\n",
       "HABESTUDO_Q022                              3.18\n",
       "HABESTUDO_Q005                              2.96\n",
       "HABESTUDO_Q020                              2.92\n",
       "HABESTUDO_Q024                              2.92\n",
       "HABESTUDO_Q009                              2.78\n",
       "HABESTUDO_Q013                              2.76\n",
       "HABESTUDO_Q018                              2.68\n",
       "HABESTUDO_Q015                              2.64\n",
       "HABESTUDO_Q011                              2.59\n",
       "HABESTUDO_Q012                              2.56\n",
       "HABESTUDO_Q007                              2.54\n",
       "HABESTUDO_Q006                              2.46\n",
       "HABESTUDO_Q014                              2.46\n",
       "HABESTUDO_Q008                              2.44\n",
       "HABESTUDO_Q010                              2.43\n",
       "HABESTUDO_Q023                              2.37\n",
       "HABESTUDO_Q016                              2.31\n",
       "HABESTUDO_Q017                              2.29\n",
       "PARTICIPANTE_TP_SEXO_F                      2.23\n",
       "HABESTUDO_Q028G                             2.19\n",
       "HABESTUDO_Q028B                             2.08\n",
       "HABESTUDO_Q028A                             2.03\n",
       "PARTICIPANTE_REGIAO_ESCOLA_Sudeste          1.75\n",
       "HABESTUDO_Q028C                             1.74\n",
       "PARTICIPANTE_REGIAO_ESCOLA_Nordeste         1.65\n",
       "HABESTUDO_Q028H                             1.51\n",
       "HABESTUDO_Q028J                             1.46\n",
       "PARTICIPANTE_REGIAO_ESCOLA_Norte            1.35\n",
       "HABESTUDO_Q028D                             1.26\n",
       "PARTICIPANTE_REGIAO_ESCOLA_Sul              1.24\n",
       "HABESTUDO_Q028I                             1.19\n",
       "HABESTUDO_Q028F                             1.09\n",
       "PARTICIPANTE_REGIAO_ESCOLA_Centro-Oeste     1.06\n",
       "HABESTUDO_Q028E                             0.94\n",
       "HABESTUDO_Q028L                             0.70\n",
       "HABESTUDO_Q028N                             0.60\n",
       "HABESTUDO_Q028P                             0.58\n",
       "HABESTUDO_Q028K                             0.52\n",
       "HABESTUDO_Q028M                             0.42\n",
       "HABESTUDO_Q028O                             0.38\n",
       "HABESTUDO_Q028Q                             0.32\n",
       "HABESTUDO_Q028R                             0.17\n",
       "HABESTUDO_Q027                              0.04\n",
       "dtype: float64"
      ]
     },
     "execution_count": 61,
     "metadata": {},
     "output_type": "execute_result"
    }
   ],
   "source": [
    "randomforest_classifier_feature_importances = pd.Series(randomforest_classifier_pipe['classifier'].feature_importances_, index=X_categorical_train.columns)\n",
    "randomforest_classifier_feature_importances = randomforest_classifier_feature_importances.sort_values(ascending=False)\n",
    "randomforest_classifier_feature_importances = randomforest_classifier_feature_importances.apply(lambda x: round(100*x, 2))\n",
    "randomforest_classifier_feature_importances"
   ]
  },
  {
   "attachments": {},
   "cell_type": "markdown",
   "metadata": {},
   "source": [
    "Tuned model"
   ]
  },
  {
   "cell_type": "code",
   "execution_count": 62,
   "metadata": {},
   "outputs": [
    {
     "data": {
      "text/html": [
       "<style>#sk-container-id-14 {color: black;background-color: white;}#sk-container-id-14 pre{padding: 0;}#sk-container-id-14 div.sk-toggleable {background-color: white;}#sk-container-id-14 label.sk-toggleable__label {cursor: pointer;display: block;width: 100%;margin-bottom: 0;padding: 0.3em;box-sizing: border-box;text-align: center;}#sk-container-id-14 label.sk-toggleable__label-arrow:before {content: \"▸\";float: left;margin-right: 0.25em;color: #696969;}#sk-container-id-14 label.sk-toggleable__label-arrow:hover:before {color: black;}#sk-container-id-14 div.sk-estimator:hover label.sk-toggleable__label-arrow:before {color: black;}#sk-container-id-14 div.sk-toggleable__content {max-height: 0;max-width: 0;overflow: hidden;text-align: left;background-color: #f0f8ff;}#sk-container-id-14 div.sk-toggleable__content pre {margin: 0.2em;color: black;border-radius: 0.25em;background-color: #f0f8ff;}#sk-container-id-14 input.sk-toggleable__control:checked~div.sk-toggleable__content {max-height: 200px;max-width: 100%;overflow: auto;}#sk-container-id-14 input.sk-toggleable__control:checked~label.sk-toggleable__label-arrow:before {content: \"▾\";}#sk-container-id-14 div.sk-estimator input.sk-toggleable__control:checked~label.sk-toggleable__label {background-color: #d4ebff;}#sk-container-id-14 div.sk-label input.sk-toggleable__control:checked~label.sk-toggleable__label {background-color: #d4ebff;}#sk-container-id-14 input.sk-hidden--visually {border: 0;clip: rect(1px 1px 1px 1px);clip: rect(1px, 1px, 1px, 1px);height: 1px;margin: -1px;overflow: hidden;padding: 0;position: absolute;width: 1px;}#sk-container-id-14 div.sk-estimator {font-family: monospace;background-color: #f0f8ff;border: 1px dotted black;border-radius: 0.25em;box-sizing: border-box;margin-bottom: 0.5em;}#sk-container-id-14 div.sk-estimator:hover {background-color: #d4ebff;}#sk-container-id-14 div.sk-parallel-item::after {content: \"\";width: 100%;border-bottom: 1px solid gray;flex-grow: 1;}#sk-container-id-14 div.sk-label:hover label.sk-toggleable__label {background-color: #d4ebff;}#sk-container-id-14 div.sk-serial::before {content: \"\";position: absolute;border-left: 1px solid gray;box-sizing: border-box;top: 0;bottom: 0;left: 50%;z-index: 0;}#sk-container-id-14 div.sk-serial {display: flex;flex-direction: column;align-items: center;background-color: white;padding-right: 0.2em;padding-left: 0.2em;position: relative;}#sk-container-id-14 div.sk-item {position: relative;z-index: 1;}#sk-container-id-14 div.sk-parallel {display: flex;align-items: stretch;justify-content: center;background-color: white;position: relative;}#sk-container-id-14 div.sk-item::before, #sk-container-id-14 div.sk-parallel-item::before {content: \"\";position: absolute;border-left: 1px solid gray;box-sizing: border-box;top: 0;bottom: 0;left: 50%;z-index: -1;}#sk-container-id-14 div.sk-parallel-item {display: flex;flex-direction: column;z-index: 1;position: relative;background-color: white;}#sk-container-id-14 div.sk-parallel-item:first-child::after {align-self: flex-end;width: 50%;}#sk-container-id-14 div.sk-parallel-item:last-child::after {align-self: flex-start;width: 50%;}#sk-container-id-14 div.sk-parallel-item:only-child::after {width: 0;}#sk-container-id-14 div.sk-dashed-wrapped {border: 1px dashed gray;margin: 0 0.4em 0.5em 0.4em;box-sizing: border-box;padding-bottom: 0.4em;background-color: white;}#sk-container-id-14 div.sk-label label {font-family: monospace;font-weight: bold;display: inline-block;line-height: 1.2em;}#sk-container-id-14 div.sk-label-container {text-align: center;}#sk-container-id-14 div.sk-container {/* jupyter's `normalize.less` sets `[hidden] { display: none; }` but bootstrap.min.css set `[hidden] { display: none !important; }` so we also need the `!important` here to be able to override the default hidden behavior on the sphinx rendered scikit-learn.org. See: https://github.com/scikit-learn/scikit-learn/issues/21755 */display: inline-block !important;position: relative;}#sk-container-id-14 div.sk-text-repr-fallback {display: none;}</style><div id=\"sk-container-id-14\" class=\"sk-top-container\"><div class=\"sk-text-repr-fallback\"><pre>RandomizedSearchCV(cv=KFold(n_splits=5, random_state=None, shuffle=False),\n",
       "                   estimator=Pipeline(steps=[(&#x27;scaler&#x27;, StandardScaler()),\n",
       "                                             (&#x27;classifier&#x27;,\n",
       "                                              RandomForestClassifier(random_state=3))]),\n",
       "                   n_iter=50,\n",
       "                   param_distributions={&#x27;classifier__bootstrap&#x27;: [True, False],\n",
       "                                        &#x27;classifier__criterion&#x27;: [&#x27;gini&#x27;,\n",
       "                                                                  &#x27;entropy&#x27;,\n",
       "                                                                  &#x27;log_loss&#x27;],\n",
       "                                        &#x27;classifier__max_depth&#x27;: [None, 60, 65,\n",
       "                                                                  70, 75, 80],\n",
       "                                        &#x27;classifier__max_features&#x27;: [&#x27;sqrt&#x27;,\n",
       "                                                                     &#x27;log2&#x27;],\n",
       "                                        &#x27;classifier__min_samples_leaf&#x27;: [1, 2,\n",
       "                                                                         3, 4],\n",
       "                                        &#x27;classifier__min_samples_split&#x27;: [2, 5,\n",
       "                                                                          10],\n",
       "                                        &#x27;classifier__n_estimators&#x27;: [500, 850,\n",
       "                                                                     1000, 1250,\n",
       "                                                                     1500]},\n",
       "                   random_state=3)</pre><b>In a Jupyter environment, please rerun this cell to show the HTML representation or trust the notebook. <br />On GitHub, the HTML representation is unable to render, please try loading this page with nbviewer.org.</b></div><div class=\"sk-container\" hidden><div class=\"sk-item sk-dashed-wrapped\"><div class=\"sk-label-container\"><div class=\"sk-label sk-toggleable\"><input class=\"sk-toggleable__control sk-hidden--visually\" id=\"sk-estimator-id-45\" type=\"checkbox\" ><label for=\"sk-estimator-id-45\" class=\"sk-toggleable__label sk-toggleable__label-arrow\">RandomizedSearchCV</label><div class=\"sk-toggleable__content\"><pre>RandomizedSearchCV(cv=KFold(n_splits=5, random_state=None, shuffle=False),\n",
       "                   estimator=Pipeline(steps=[(&#x27;scaler&#x27;, StandardScaler()),\n",
       "                                             (&#x27;classifier&#x27;,\n",
       "                                              RandomForestClassifier(random_state=3))]),\n",
       "                   n_iter=50,\n",
       "                   param_distributions={&#x27;classifier__bootstrap&#x27;: [True, False],\n",
       "                                        &#x27;classifier__criterion&#x27;: [&#x27;gini&#x27;,\n",
       "                                                                  &#x27;entropy&#x27;,\n",
       "                                                                  &#x27;log_loss&#x27;],\n",
       "                                        &#x27;classifier__max_depth&#x27;: [None, 60, 65,\n",
       "                                                                  70, 75, 80],\n",
       "                                        &#x27;classifier__max_features&#x27;: [&#x27;sqrt&#x27;,\n",
       "                                                                     &#x27;log2&#x27;],\n",
       "                                        &#x27;classifier__min_samples_leaf&#x27;: [1, 2,\n",
       "                                                                         3, 4],\n",
       "                                        &#x27;classifier__min_samples_split&#x27;: [2, 5,\n",
       "                                                                          10],\n",
       "                                        &#x27;classifier__n_estimators&#x27;: [500, 850,\n",
       "                                                                     1000, 1250,\n",
       "                                                                     1500]},\n",
       "                   random_state=3)</pre></div></div></div><div class=\"sk-parallel\"><div class=\"sk-parallel-item\"><div class=\"sk-item\"><div class=\"sk-label-container\"><div class=\"sk-label sk-toggleable\"><input class=\"sk-toggleable__control sk-hidden--visually\" id=\"sk-estimator-id-46\" type=\"checkbox\" ><label for=\"sk-estimator-id-46\" class=\"sk-toggleable__label sk-toggleable__label-arrow\">estimator: Pipeline</label><div class=\"sk-toggleable__content\"><pre>Pipeline(steps=[(&#x27;scaler&#x27;, StandardScaler()),\n",
       "                (&#x27;classifier&#x27;, RandomForestClassifier(random_state=3))])</pre></div></div></div><div class=\"sk-serial\"><div class=\"sk-item\"><div class=\"sk-serial\"><div class=\"sk-item\"><div class=\"sk-estimator sk-toggleable\"><input class=\"sk-toggleable__control sk-hidden--visually\" id=\"sk-estimator-id-47\" type=\"checkbox\" ><label for=\"sk-estimator-id-47\" class=\"sk-toggleable__label sk-toggleable__label-arrow\">StandardScaler</label><div class=\"sk-toggleable__content\"><pre>StandardScaler()</pre></div></div></div><div class=\"sk-item\"><div class=\"sk-estimator sk-toggleable\"><input class=\"sk-toggleable__control sk-hidden--visually\" id=\"sk-estimator-id-48\" type=\"checkbox\" ><label for=\"sk-estimator-id-48\" class=\"sk-toggleable__label sk-toggleable__label-arrow\">RandomForestClassifier</label><div class=\"sk-toggleable__content\"><pre>RandomForestClassifier(random_state=3)</pre></div></div></div></div></div></div></div></div></div></div></div></div>"
      ],
      "text/plain": [
       "RandomizedSearchCV(cv=KFold(n_splits=5, random_state=None, shuffle=False),\n",
       "                   estimator=Pipeline(steps=[('scaler', StandardScaler()),\n",
       "                                             ('classifier',\n",
       "                                              RandomForestClassifier(random_state=3))]),\n",
       "                   n_iter=50,\n",
       "                   param_distributions={'classifier__bootstrap': [True, False],\n",
       "                                        'classifier__criterion': ['gini',\n",
       "                                                                  'entropy',\n",
       "                                                                  'log_loss'],\n",
       "                                        'classifier__max_depth': [None, 60, 65,\n",
       "                                                                  70, 75, 80],\n",
       "                                        'classifier__max_features': ['sqrt',\n",
       "                                                                     'log2'],\n",
       "                                        'classifier__min_samples_leaf': [1, 2,\n",
       "                                                                         3, 4],\n",
       "                                        'classifier__min_samples_split': [2, 5,\n",
       "                                                                          10],\n",
       "                                        'classifier__n_estimators': [500, 850,\n",
       "                                                                     1000, 1250,\n",
       "                                                                     1500]},\n",
       "                   random_state=3)"
      ]
     },
     "execution_count": 62,
     "metadata": {},
     "output_type": "execute_result"
    }
   ],
   "source": [
    "randomforest_classifier_param_space = {\n",
    "    'classifier__criterion': ['gini', 'entropy', 'log_loss'],\n",
    "    'classifier__n_estimators': [500, 850, 1000, 1250, 1500],\n",
    "    'classifier__max_features': ['sqrt', 'log2'],\n",
    "    'classifier__max_depth': [None, 60, 65, 70, 75, 80],\n",
    "    'classifier__min_samples_split': [2, 5, 10],\n",
    "    'classifier__min_samples_leaf': [1, 2, 3, 4],\n",
    "    'classifier__bootstrap': [True, False],\n",
    "}\n",
    "\n",
    "randomforest_classifier_grid_search = RandomizedSearchCV(randomforest_classifier_pipe, randomforest_classifier_param_space, cv=KFold(n_splits=5), n_iter=50, random_state=SEED)\n",
    "\n",
    "randomforest_classifier_grid_search.fit(X_transformed, y_categorical_transformed)"
   ]
  },
  {
   "cell_type": "code",
   "execution_count": 63,
   "metadata": {},
   "outputs": [
    {
     "data": {
      "text/plain": [
       "{'classifier__n_estimators': 1250,\n",
       " 'classifier__min_samples_split': 10,\n",
       " 'classifier__min_samples_leaf': 2,\n",
       " 'classifier__max_features': 'sqrt',\n",
       " 'classifier__max_depth': 65,\n",
       " 'classifier__criterion': 'entropy',\n",
       " 'classifier__bootstrap': False}"
      ]
     },
     "execution_count": 63,
     "metadata": {},
     "output_type": "execute_result"
    }
   ],
   "source": [
    "randomforest_classifier_grid_search.best_params_"
   ]
  },
  {
   "cell_type": "code",
   "execution_count": 64,
   "metadata": {},
   "outputs": [
    {
     "name": "stdout",
     "output_type": "stream",
     "text": [
      "Acurácia: 61.73%\n",
      "Precision: 49.26%\n",
      "Recall: 61.73%\n",
      "F1: 51.03%\n",
      "              precision    recall  f1-score   support\n",
      "\n",
      "           0       1.00      0.48      0.65        73\n",
      "           1       1.00      0.63      0.77       162\n",
      "           2       0.99      0.93      0.96       393\n",
      "           3       0.90      1.00      0.94      1021\n",
      "\n",
      "    accuracy                           0.92      1649\n",
      "   macro avg       0.97      0.76      0.83      1649\n",
      "weighted avg       0.93      0.92      0.92      1649\n",
      "\n"
     ]
    },
    {
     "data": {
      "image/png": "[encoded data removed]",
      "text/plain": [
       "<Figure size 640x480 with 2 Axes>"
      ]
     },
     "metadata": {},
     "output_type": "display_data"
    }
   ],
   "source": [
    "tuned_randomforest_classifier_pipe = randomforest_classifier_grid_search.best_estimator_\n",
    "\n",
    "evaluate_classification_model(tuned_randomforest_classifier_pipe)\n",
    "plt.show()"
   ]
  },
  {
   "cell_type": "code",
   "execution_count": 65,
   "metadata": {},
   "outputs": [],
   "source": [
    "sio.dump(randomforest_classifier_pipe, '../sklearn/models/randomforest_classifier.skops')\n",
    "sio.dump(tuned_randomforest_classifier_pipe, '../sklearn/models/tuned/tuned_randomforest_classifier.skops')"
   ]
  },
  {
   "attachments": {},
   "cell_type": "markdown",
   "metadata": {},
   "source": [
    "**Regressor**"
   ]
  },
  {
   "attachments": {},
   "cell_type": "markdown",
   "metadata": {},
   "source": [
    "Base model"
   ]
  },
  {
   "cell_type": "code",
   "execution_count": 66,
   "metadata": {},
   "outputs": [],
   "source": [
    "randomforest_regressor_pipe = Pipeline(steps=[\n",
    "    ('scaler', StandardScaler()),\n",
    "    ('regressor', RandomForestRegressor(random_state=SEED)),\n",
    "])"
   ]
  },
  {
   "cell_type": "code",
   "execution_count": 67,
   "metadata": {},
   "outputs": [
    {
     "data": {
      "text/html": [
       "<style>#sk-container-id-15 {color: black;background-color: white;}#sk-container-id-15 pre{padding: 0;}#sk-container-id-15 div.sk-toggleable {background-color: white;}#sk-container-id-15 label.sk-toggleable__label {cursor: pointer;display: block;width: 100%;margin-bottom: 0;padding: 0.3em;box-sizing: border-box;text-align: center;}#sk-container-id-15 label.sk-toggleable__label-arrow:before {content: \"▸\";float: left;margin-right: 0.25em;color: #696969;}#sk-container-id-15 label.sk-toggleable__label-arrow:hover:before {color: black;}#sk-container-id-15 div.sk-estimator:hover label.sk-toggleable__label-arrow:before {color: black;}#sk-container-id-15 div.sk-toggleable__content {max-height: 0;max-width: 0;overflow: hidden;text-align: left;background-color: #f0f8ff;}#sk-container-id-15 div.sk-toggleable__content pre {margin: 0.2em;color: black;border-radius: 0.25em;background-color: #f0f8ff;}#sk-container-id-15 input.sk-toggleable__control:checked~div.sk-toggleable__content {max-height: 200px;max-width: 100%;overflow: auto;}#sk-container-id-15 input.sk-toggleable__control:checked~label.sk-toggleable__label-arrow:before {content: \"▾\";}#sk-container-id-15 div.sk-estimator input.sk-toggleable__control:checked~label.sk-toggleable__label {background-color: #d4ebff;}#sk-container-id-15 div.sk-label input.sk-toggleable__control:checked~label.sk-toggleable__label {background-color: #d4ebff;}#sk-container-id-15 input.sk-hidden--visually {border: 0;clip: rect(1px 1px 1px 1px);clip: rect(1px, 1px, 1px, 1px);height: 1px;margin: -1px;overflow: hidden;padding: 0;position: absolute;width: 1px;}#sk-container-id-15 div.sk-estimator {font-family: monospace;background-color: #f0f8ff;border: 1px dotted black;border-radius: 0.25em;box-sizing: border-box;margin-bottom: 0.5em;}#sk-container-id-15 div.sk-estimator:hover {background-color: #d4ebff;}#sk-container-id-15 div.sk-parallel-item::after {content: \"\";width: 100%;border-bottom: 1px solid gray;flex-grow: 1;}#sk-container-id-15 div.sk-label:hover label.sk-toggleable__label {background-color: #d4ebff;}#sk-container-id-15 div.sk-serial::before {content: \"\";position: absolute;border-left: 1px solid gray;box-sizing: border-box;top: 0;bottom: 0;left: 50%;z-index: 0;}#sk-container-id-15 div.sk-serial {display: flex;flex-direction: column;align-items: center;background-color: white;padding-right: 0.2em;padding-left: 0.2em;position: relative;}#sk-container-id-15 div.sk-item {position: relative;z-index: 1;}#sk-container-id-15 div.sk-parallel {display: flex;align-items: stretch;justify-content: center;background-color: white;position: relative;}#sk-container-id-15 div.sk-item::before, #sk-container-id-15 div.sk-parallel-item::before {content: \"\";position: absolute;border-left: 1px solid gray;box-sizing: border-box;top: 0;bottom: 0;left: 50%;z-index: -1;}#sk-container-id-15 div.sk-parallel-item {display: flex;flex-direction: column;z-index: 1;position: relative;background-color: white;}#sk-container-id-15 div.sk-parallel-item:first-child::after {align-self: flex-end;width: 50%;}#sk-container-id-15 div.sk-parallel-item:last-child::after {align-self: flex-start;width: 50%;}#sk-container-id-15 div.sk-parallel-item:only-child::after {width: 0;}#sk-container-id-15 div.sk-dashed-wrapped {border: 1px dashed gray;margin: 0 0.4em 0.5em 0.4em;box-sizing: border-box;padding-bottom: 0.4em;background-color: white;}#sk-container-id-15 div.sk-label label {font-family: monospace;font-weight: bold;display: inline-block;line-height: 1.2em;}#sk-container-id-15 div.sk-label-container {text-align: center;}#sk-container-id-15 div.sk-container {/* jupyter's `normalize.less` sets `[hidden] { display: none; }` but bootstrap.min.css set `[hidden] { display: none !important; }` so we also need the `!important` here to be able to override the default hidden behavior on the sphinx rendered scikit-learn.org. See: https://github.com/scikit-learn/scikit-learn/issues/21755 */display: inline-block !important;position: relative;}#sk-container-id-15 div.sk-text-repr-fallback {display: none;}</style><div id=\"sk-container-id-15\" class=\"sk-top-container\"><div class=\"sk-text-repr-fallback\"><pre>Pipeline(steps=[(&#x27;scaler&#x27;, StandardScaler()),\n",
       "                (&#x27;regressor&#x27;, RandomForestRegressor(random_state=3))])</pre><b>In a Jupyter environment, please rerun this cell to show the HTML representation or trust the notebook. <br />On GitHub, the HTML representation is unable to render, please try loading this page with nbviewer.org.</b></div><div class=\"sk-container\" hidden><div class=\"sk-item sk-dashed-wrapped\"><div class=\"sk-label-container\"><div class=\"sk-label sk-toggleable\"><input class=\"sk-toggleable__control sk-hidden--visually\" id=\"sk-estimator-id-49\" type=\"checkbox\" ><label for=\"sk-estimator-id-49\" class=\"sk-toggleable__label sk-toggleable__label-arrow\">Pipeline</label><div class=\"sk-toggleable__content\"><pre>Pipeline(steps=[(&#x27;scaler&#x27;, StandardScaler()),\n",
       "                (&#x27;regressor&#x27;, RandomForestRegressor(random_state=3))])</pre></div></div></div><div class=\"sk-serial\"><div class=\"sk-item\"><div class=\"sk-estimator sk-toggleable\"><input class=\"sk-toggleable__control sk-hidden--visually\" id=\"sk-estimator-id-50\" type=\"checkbox\" ><label for=\"sk-estimator-id-50\" class=\"sk-toggleable__label sk-toggleable__label-arrow\">StandardScaler</label><div class=\"sk-toggleable__content\"><pre>StandardScaler()</pre></div></div></div><div class=\"sk-item\"><div class=\"sk-estimator sk-toggleable\"><input class=\"sk-toggleable__control sk-hidden--visually\" id=\"sk-estimator-id-51\" type=\"checkbox\" ><label for=\"sk-estimator-id-51\" class=\"sk-toggleable__label sk-toggleable__label-arrow\">RandomForestRegressor</label><div class=\"sk-toggleable__content\"><pre>RandomForestRegressor(random_state=3)</pre></div></div></div></div></div></div></div>"
      ],
      "text/plain": [
       "Pipeline(steps=[('scaler', StandardScaler()),\n",
       "                ('regressor', RandomForestRegressor(random_state=3))])"
      ]
     },
     "execution_count": 67,
     "metadata": {},
     "output_type": "execute_result"
    }
   ],
   "source": [
    "randomforest_regressor_pipe.fit(X_numerical_train, y_numerical_train)"
   ]
  },
  {
   "cell_type": "code",
   "execution_count": 68,
   "metadata": {},
   "outputs": [
    {
     "name": "stdout",
     "output_type": "stream",
     "text": [
      "MAE: 58.14\n",
      "RMSE: 73.05\n",
      "R²: -17.03%\n",
      "MAPE: 10.36%\n"
     ]
    }
   ],
   "source": [
    "evaluate_regression_model(randomforest_regressor_pipe)"
   ]
  },
  {
   "cell_type": "code",
   "execution_count": 69,
   "metadata": {},
   "outputs": [
    {
     "data": {
      "text/plain": [
       "PARTICIPANTE_RENDA_PER_CAPITA              15.11\n",
       "HABESTUDO_Q028G                             4.72\n",
       "PARTICIPANTE_TP_FAIXA_ETARIA                4.22\n",
       "PARTICIPANTE_TP_COR_RACA                    3.54\n",
       "HABESTUDO_Q019                              3.34\n",
       "HABESTUDO_Q018                              3.32\n",
       "HABESTUDO_Q006                              3.29\n",
       "HABESTUDO_Q007                              3.28\n",
       "HABESTUDO_Q028H                             2.83\n",
       "HABESTUDO_Q024                              2.72\n",
       "HABESTUDO_Q022                              2.62\n",
       "HABESTUDO_Q011                              2.60\n",
       "HABESTUDO_Q020                              2.54\n",
       "HABESTUDO_Q021                              2.45\n",
       "HABESTUDO_Q005                              2.43\n",
       "HABESTUDO_Q028J                             2.29\n",
       "HABESTUDO_Q013                              2.25\n",
       "HABESTUDO_Q028C                             2.23\n",
       "HABESTUDO_Q014                              2.11\n",
       "HABESTUDO_Q009                              2.04\n",
       "HABESTUDO_Q010                              2.01\n",
       "HABESTUDO_Q012                              1.99\n",
       "HABESTUDO_Q028B                             1.99\n",
       "HABESTUDO_Q023                              1.84\n",
       "HABESTUDO_Q008                              1.84\n",
       "HABESTUDO_Q017                              1.74\n",
       "HABESTUDO_Q016                              1.67\n",
       "HABESTUDO_Q028D                             1.60\n",
       "HABESTUDO_Q028A                             1.57\n",
       "PARTICIPANTE_REGIAO_ESCOLA_Sudeste          1.53\n",
       "HABESTUDO_Q015                              1.48\n",
       "PARTICIPANTE_TP_SEXO_F                      1.47\n",
       "PARTICIPANTE_REGIAO_ESCOLA_Nordeste         1.28\n",
       "PARTICIPANTE_REGIAO_ESCOLA_Sul              1.03\n",
       "HABESTUDO_Q028E                             0.90\n",
       "PARTICIPANTE_REGIAO_ESCOLA_Norte            0.87\n",
       "HABESTUDO_Q028I                             0.83\n",
       "PARTICIPANTE_REGIAO_ESCOLA_Centro-Oeste     0.82\n",
       "HABESTUDO_Q028F                             0.67\n",
       "HABESTUDO_Q028K                             0.66\n",
       "HABESTUDO_Q028L                             0.57\n",
       "HABESTUDO_Q028M                             0.42\n",
       "HABESTUDO_Q028O                             0.38\n",
       "HABESTUDO_Q028P                             0.37\n",
       "HABESTUDO_Q028N                             0.36\n",
       "HABESTUDO_Q028Q                             0.14\n",
       "HABESTUDO_Q028R                             0.04\n",
       "HABESTUDO_Q027                              0.00\n",
       "dtype: float64"
      ]
     },
     "execution_count": 69,
     "metadata": {},
     "output_type": "execute_result"
    }
   ],
   "source": [
    "randomforest_regressor_feature_importances = pd.Series(randomforest_regressor_pipe['regressor'].feature_importances_, index=X_numerical_train.columns)\n",
    "randomforest_regressor_feature_importances = randomforest_regressor_feature_importances.sort_values(ascending=False)\n",
    "randomforest_regressor_feature_importances = randomforest_regressor_feature_importances.apply(lambda x: round(100*x, 2))\n",
    "randomforest_regressor_feature_importances"
   ]
  },
  {
   "attachments": {},
   "cell_type": "markdown",
   "metadata": {},
   "source": [
    "Tuned model"
   ]
  },
  {
   "cell_type": "code",
   "execution_count": 70,
   "metadata": {},
   "outputs": [
    {
     "name": "stdout",
     "output_type": "stream",
     "text": [
      "Fitting 5 folds for each of 50 candidates, totalling 250 fits\n",
      "[CV 1/5] END regressor__bootstrap=True, regressor__criterion=friedman_mse, regressor__max_depth=65, regressor__max_features=sqrt, regressor__min_samples_leaf=1, regressor__min_samples_split=5, regressor__n_estimators=1250;, score=0.147 total time=   2.2s\n",
      "[CV 2/5] END regressor__bootstrap=True, regressor__criterion=friedman_mse, regressor__max_depth=65, regressor__max_features=sqrt, regressor__min_samples_leaf=1, regressor__min_samples_split=5, regressor__n_estimators=1250;, score=0.117 total time=   2.2s\n",
      "[CV 3/5] END regressor__bootstrap=True, regressor__criterion=friedman_mse, regressor__max_depth=65, regressor__max_features=sqrt, regressor__min_samples_leaf=1, regressor__min_samples_split=5, regressor__n_estimators=1250;, score=0.085 total time=   2.2s\n",
      "[CV 4/5] END regressor__bootstrap=True, regressor__criterion=friedman_mse, regressor__max_depth=65, regressor__max_features=sqrt, regressor__min_samples_leaf=1, regressor__min_samples_split=5, regressor__n_estimators=1250;, score=0.120 total time=   2.2s\n",
      "[CV 5/5] END regressor__bootstrap=True, regressor__criterion=friedman_mse, regressor__max_depth=65, regressor__max_features=sqrt, regressor__min_samples_leaf=1, regressor__min_samples_split=5, regressor__n_estimators=1250;, score=0.140 total time=   2.2s\n",
      "[CV 1/5] END regressor__bootstrap=False, regressor__criterion=squared_error, regressor__max_depth=70, regressor__max_features=log2, regressor__min_samples_leaf=2, regressor__min_samples_split=5, regressor__n_estimators=850;, score=0.145 total time=   1.5s\n",
      "[CV 2/5] END regressor__bootstrap=False, regressor__criterion=squared_error, regressor__max_depth=70, regressor__max_features=log2, regressor__min_samples_leaf=2, regressor__min_samples_split=5, regressor__n_estimators=850;, score=0.116 total time=   1.6s\n",
      "[CV 3/5] END regressor__bootstrap=False, regressor__criterion=squared_error, regressor__max_depth=70, regressor__max_features=log2, regressor__min_samples_leaf=2, regressor__min_samples_split=5, regressor__n_estimators=850;, score=0.078 total time=   1.5s\n",
      "[CV 4/5] END regressor__bootstrap=False, regressor__criterion=squared_error, regressor__max_depth=70, regressor__max_features=log2, regressor__min_samples_leaf=2, regressor__min_samples_split=5, regressor__n_estimators=850;, score=0.126 total time=   1.6s\n",
      "[CV 5/5] END regressor__bootstrap=False, regressor__criterion=squared_error, regressor__max_depth=70, regressor__max_features=log2, regressor__min_samples_leaf=2, regressor__min_samples_split=5, regressor__n_estimators=850;, score=0.126 total time=   1.6s\n",
      "[CV 1/5] END regressor__bootstrap=True, regressor__criterion=friedman_mse, regressor__max_depth=60, regressor__max_features=log2, regressor__min_samples_leaf=4, regressor__min_samples_split=2, regressor__n_estimators=1000;, score=0.149 total time=   1.3s\n",
      "[CV 2/5] END regressor__bootstrap=True, regressor__criterion=friedman_mse, regressor__max_depth=60, regressor__max_features=log2, regressor__min_samples_leaf=4, regressor__min_samples_split=2, regressor__n_estimators=1000;, score=0.128 total time=   1.3s\n",
      "[CV 3/5] END regressor__bootstrap=True, regressor__criterion=friedman_mse, regressor__max_depth=60, regressor__max_features=log2, regressor__min_samples_leaf=4, regressor__min_samples_split=2, regressor__n_estimators=1000;, score=0.097 total time=   1.3s\n",
      "[CV 4/5] END regressor__bootstrap=True, regressor__criterion=friedman_mse, regressor__max_depth=60, regressor__max_features=log2, regressor__min_samples_leaf=4, regressor__min_samples_split=2, regressor__n_estimators=1000;, score=0.140 total time=   1.4s\n",
      "[CV 5/5] END regressor__bootstrap=True, regressor__criterion=friedman_mse, regressor__max_depth=60, regressor__max_features=log2, regressor__min_samples_leaf=4, regressor__min_samples_split=2, regressor__n_estimators=1000;, score=0.136 total time=   1.4s\n",
      "[CV 1/5] END regressor__bootstrap=True, regressor__criterion=absolute_error, regressor__max_depth=65, regressor__max_features=sqrt, regressor__min_samples_leaf=1, regressor__min_samples_split=5, regressor__n_estimators=1250;, score=0.154 total time= 1.1min\n",
      "[CV 2/5] END regressor__bootstrap=True, regressor__criterion=absolute_error, regressor__max_depth=65, regressor__max_features=sqrt, regressor__min_samples_leaf=1, regressor__min_samples_split=5, regressor__n_estimators=1250;, score=0.126 total time=  59.3s\n",
      "[CV 3/5] END regressor__bootstrap=True, regressor__criterion=absolute_error, regressor__max_depth=65, regressor__max_features=sqrt, regressor__min_samples_leaf=1, regressor__min_samples_split=5, regressor__n_estimators=1250;, score=0.085 total time= 1.0min\n",
      "[CV 4/5] END regressor__bootstrap=True, regressor__criterion=absolute_error, regressor__max_depth=65, regressor__max_features=sqrt, regressor__min_samples_leaf=1, regressor__min_samples_split=5, regressor__n_estimators=1250;, score=0.102 total time= 1.1min\n",
      "[CV 5/5] END regressor__bootstrap=True, regressor__criterion=absolute_error, regressor__max_depth=65, regressor__max_features=sqrt, regressor__min_samples_leaf=1, regressor__min_samples_split=5, regressor__n_estimators=1250;, score=0.118 total time= 1.1min\n",
      "[CV 1/5] END regressor__bootstrap=True, regressor__criterion=absolute_error, regressor__max_depth=None, regressor__max_features=log2, regressor__min_samples_leaf=1, regressor__min_samples_split=5, regressor__n_estimators=1500;, score=0.157 total time= 1.1min\n",
      "[CV 2/5] END regressor__bootstrap=True, regressor__criterion=absolute_error, regressor__max_depth=None, regressor__max_features=log2, regressor__min_samples_leaf=1, regressor__min_samples_split=5, regressor__n_estimators=1500;, score=0.135 total time= 1.0min\n",
      "[CV 3/5] END regressor__bootstrap=True, regressor__criterion=absolute_error, regressor__max_depth=None, regressor__max_features=log2, regressor__min_samples_leaf=1, regressor__min_samples_split=5, regressor__n_estimators=1500;, score=0.078 total time= 1.0min\n",
      "[CV 4/5] END regressor__bootstrap=True, regressor__criterion=absolute_error, regressor__max_depth=None, regressor__max_features=log2, regressor__min_samples_leaf=1, regressor__min_samples_split=5, regressor__n_estimators=1500;, score=0.102 total time= 1.1min\n",
      "[CV 5/5] END regressor__bootstrap=True, regressor__criterion=absolute_error, regressor__max_depth=None, regressor__max_features=log2, regressor__min_samples_leaf=1, regressor__min_samples_split=5, regressor__n_estimators=1500;, score=0.108 total time= 1.1min\n",
      "[CV 1/5] END regressor__bootstrap=False, regressor__criterion=squared_error, regressor__max_depth=60, regressor__max_features=log2, regressor__min_samples_leaf=1, regressor__min_samples_split=5, regressor__n_estimators=1500;, score=0.136 total time=   3.0s\n",
      "[CV 2/5] END regressor__bootstrap=False, regressor__criterion=squared_error, regressor__max_depth=60, regressor__max_features=log2, regressor__min_samples_leaf=1, regressor__min_samples_split=5, regressor__n_estimators=1500;, score=0.107 total time=   3.0s\n",
      "[CV 3/5] END regressor__bootstrap=False, regressor__criterion=squared_error, regressor__max_depth=60, regressor__max_features=log2, regressor__min_samples_leaf=1, regressor__min_samples_split=5, regressor__n_estimators=1500;, score=0.071 total time=   3.0s\n",
      "[CV 4/5] END regressor__bootstrap=False, regressor__criterion=squared_error, regressor__max_depth=60, regressor__max_features=log2, regressor__min_samples_leaf=1, regressor__min_samples_split=5, regressor__n_estimators=1500;, score=0.110 total time=   3.0s\n",
      "[CV 5/5] END regressor__bootstrap=False, regressor__criterion=squared_error, regressor__max_depth=60, regressor__max_features=log2, regressor__min_samples_leaf=1, regressor__min_samples_split=5, regressor__n_estimators=1500;, score=0.127 total time=   3.0s\n",
      "[CV 1/5] END regressor__bootstrap=True, regressor__criterion=poisson, regressor__max_depth=75, regressor__max_features=log2, regressor__min_samples_leaf=1, regressor__min_samples_split=5, regressor__n_estimators=1000;, score=0.142 total time=   1.9s\n",
      "[CV 2/5] END regressor__bootstrap=True, regressor__criterion=poisson, regressor__max_depth=75, regressor__max_features=log2, regressor__min_samples_leaf=1, regressor__min_samples_split=5, regressor__n_estimators=1000;, score=0.119 total time=   1.9s\n",
      "[CV 3/5] END regressor__bootstrap=True, regressor__criterion=poisson, regressor__max_depth=75, regressor__max_features=log2, regressor__min_samples_leaf=1, regressor__min_samples_split=5, regressor__n_estimators=1000;, score=0.088 total time=   1.9s\n",
      "[CV 4/5] END regressor__bootstrap=True, regressor__criterion=poisson, regressor__max_depth=75, regressor__max_features=log2, regressor__min_samples_leaf=1, regressor__min_samples_split=5, regressor__n_estimators=1000;, score=0.123 total time=   1.9s\n",
      "[CV 5/5] END regressor__bootstrap=True, regressor__criterion=poisson, regressor__max_depth=75, regressor__max_features=log2, regressor__min_samples_leaf=1, regressor__min_samples_split=5, regressor__n_estimators=1000;, score=0.139 total time=   1.9s\n",
      "[CV 1/5] END regressor__bootstrap=False, regressor__criterion=squared_error, regressor__max_depth=None, regressor__max_features=sqrt, regressor__min_samples_leaf=3, regressor__min_samples_split=10, regressor__n_estimators=1250;, score=0.143 total time=   2.2s\n",
      "[CV 2/5] END regressor__bootstrap=False, regressor__criterion=squared_error, regressor__max_depth=None, regressor__max_features=sqrt, regressor__min_samples_leaf=3, regressor__min_samples_split=10, regressor__n_estimators=1250;, score=0.120 total time=   2.2s\n",
      "[CV 3/5] END regressor__bootstrap=False, regressor__criterion=squared_error, regressor__max_depth=None, regressor__max_features=sqrt, regressor__min_samples_leaf=3, regressor__min_samples_split=10, regressor__n_estimators=1250;, score=0.084 total time=   2.2s\n",
      "[CV 4/5] END regressor__bootstrap=False, regressor__criterion=squared_error, regressor__max_depth=None, regressor__max_features=sqrt, regressor__min_samples_leaf=3, regressor__min_samples_split=10, regressor__n_estimators=1250;, score=0.129 total time=   2.2s\n",
      "[CV 5/5] END regressor__bootstrap=False, regressor__criterion=squared_error, regressor__max_depth=None, regressor__max_features=sqrt, regressor__min_samples_leaf=3, regressor__min_samples_split=10, regressor__n_estimators=1250;, score=0.135 total time=   2.2s\n",
      "[CV 1/5] END regressor__bootstrap=True, regressor__criterion=friedman_mse, regressor__max_depth=65, regressor__max_features=sqrt, regressor__min_samples_leaf=2, regressor__min_samples_split=10, regressor__n_estimators=500;, score=0.149 total time=   0.8s\n",
      "[CV 2/5] END regressor__bootstrap=True, regressor__criterion=friedman_mse, regressor__max_depth=65, regressor__max_features=sqrt, regressor__min_samples_leaf=2, regressor__min_samples_split=10, regressor__n_estimators=500;, score=0.126 total time=   0.8s\n",
      "[CV 3/5] END regressor__bootstrap=True, regressor__criterion=friedman_mse, regressor__max_depth=65, regressor__max_features=sqrt, regressor__min_samples_leaf=2, regressor__min_samples_split=10, regressor__n_estimators=500;, score=0.091 total time=   0.7s\n",
      "[CV 4/5] END regressor__bootstrap=True, regressor__criterion=friedman_mse, regressor__max_depth=65, regressor__max_features=sqrt, regressor__min_samples_leaf=2, regressor__min_samples_split=10, regressor__n_estimators=500;, score=0.135 total time=   0.8s\n",
      "[CV 5/5] END regressor__bootstrap=True, regressor__criterion=friedman_mse, regressor__max_depth=65, regressor__max_features=sqrt, regressor__min_samples_leaf=2, regressor__min_samples_split=10, regressor__n_estimators=500;, score=0.144 total time=   0.7s\n",
      "[CV 1/5] END regressor__bootstrap=False, regressor__criterion=poisson, regressor__max_depth=60, regressor__max_features=log2, regressor__min_samples_leaf=2, regressor__min_samples_split=2, regressor__n_estimators=1500;, score=0.140 total time=   3.3s\n",
      "[CV 2/5] END regressor__bootstrap=False, regressor__criterion=poisson, regressor__max_depth=60, regressor__max_features=log2, regressor__min_samples_leaf=2, regressor__min_samples_split=2, regressor__n_estimators=1500;, score=0.117 total time=   3.4s\n",
      "[CV 3/5] END regressor__bootstrap=False, regressor__criterion=poisson, regressor__max_depth=60, regressor__max_features=log2, regressor__min_samples_leaf=2, regressor__min_samples_split=2, regressor__n_estimators=1500;, score=0.081 total time=   3.3s\n",
      "[CV 4/5] END regressor__bootstrap=False, regressor__criterion=poisson, regressor__max_depth=60, regressor__max_features=log2, regressor__min_samples_leaf=2, regressor__min_samples_split=2, regressor__n_estimators=1500;, score=0.121 total time=   3.4s\n",
      "[CV 5/5] END regressor__bootstrap=False, regressor__criterion=poisson, regressor__max_depth=60, regressor__max_features=log2, regressor__min_samples_leaf=2, regressor__min_samples_split=2, regressor__n_estimators=1500;, score=0.129 total time=   3.4s\n",
      "[CV 1/5] END regressor__bootstrap=True, regressor__criterion=poisson, regressor__max_depth=70, regressor__max_features=sqrt, regressor__min_samples_leaf=1, regressor__min_samples_split=5, regressor__n_estimators=1250;, score=0.146 total time=   2.5s\n",
      "[CV 2/5] END regressor__bootstrap=True, regressor__criterion=poisson, regressor__max_depth=70, regressor__max_features=sqrt, regressor__min_samples_leaf=1, regressor__min_samples_split=5, regressor__n_estimators=1250;, score=0.115 total time=   2.5s\n",
      "[CV 3/5] END regressor__bootstrap=True, regressor__criterion=poisson, regressor__max_depth=70, regressor__max_features=sqrt, regressor__min_samples_leaf=1, regressor__min_samples_split=5, regressor__n_estimators=1250;, score=0.090 total time=   2.5s\n",
      "[CV 4/5] END regressor__bootstrap=True, regressor__criterion=poisson, regressor__max_depth=70, regressor__max_features=sqrt, regressor__min_samples_leaf=1, regressor__min_samples_split=5, regressor__n_estimators=1250;, score=0.125 total time=   2.5s\n",
      "[CV 5/5] END regressor__bootstrap=True, regressor__criterion=poisson, regressor__max_depth=70, regressor__max_features=sqrt, regressor__min_samples_leaf=1, regressor__min_samples_split=5, regressor__n_estimators=1250;, score=0.139 total time=   2.5s\n",
      "[CV 1/5] END regressor__bootstrap=True, regressor__criterion=friedman_mse, regressor__max_depth=None, regressor__max_features=sqrt, regressor__min_samples_leaf=1, regressor__min_samples_split=5, regressor__n_estimators=1000;, score=0.149 total time=   1.8s\n",
      "[CV 2/5] END regressor__bootstrap=True, regressor__criterion=friedman_mse, regressor__max_depth=None, regressor__max_features=sqrt, regressor__min_samples_leaf=1, regressor__min_samples_split=5, regressor__n_estimators=1000;, score=0.114 total time=   1.7s\n",
      "[CV 3/5] END regressor__bootstrap=True, regressor__criterion=friedman_mse, regressor__max_depth=None, regressor__max_features=sqrt, regressor__min_samples_leaf=1, regressor__min_samples_split=5, regressor__n_estimators=1000;, score=0.086 total time=   1.7s\n",
      "[CV 4/5] END regressor__bootstrap=True, regressor__criterion=friedman_mse, regressor__max_depth=None, regressor__max_features=sqrt, regressor__min_samples_leaf=1, regressor__min_samples_split=5, regressor__n_estimators=1000;, score=0.121 total time=   1.7s\n",
      "[CV 5/5] END regressor__bootstrap=True, regressor__criterion=friedman_mse, regressor__max_depth=None, regressor__max_features=sqrt, regressor__min_samples_leaf=1, regressor__min_samples_split=5, regressor__n_estimators=1000;, score=0.139 total time=   1.7s\n",
      "[CV 1/5] END regressor__bootstrap=False, regressor__criterion=squared_error, regressor__max_depth=80, regressor__max_features=log2, regressor__min_samples_leaf=3, regressor__min_samples_split=5, regressor__n_estimators=850;, score=0.143 total time=   1.4s\n",
      "[CV 2/5] END regressor__bootstrap=False, regressor__criterion=squared_error, regressor__max_depth=80, regressor__max_features=log2, regressor__min_samples_leaf=3, regressor__min_samples_split=5, regressor__n_estimators=850;, score=0.118 total time=   1.4s\n",
      "[CV 3/5] END regressor__bootstrap=False, regressor__criterion=squared_error, regressor__max_depth=80, regressor__max_features=log2, regressor__min_samples_leaf=3, regressor__min_samples_split=5, regressor__n_estimators=850;, score=0.083 total time=   1.4s\n",
      "[CV 4/5] END regressor__bootstrap=False, regressor__criterion=squared_error, regressor__max_depth=80, regressor__max_features=log2, regressor__min_samples_leaf=3, regressor__min_samples_split=5, regressor__n_estimators=850;, score=0.126 total time=   1.4s\n",
      "[CV 5/5] END regressor__bootstrap=False, regressor__criterion=squared_error, regressor__max_depth=80, regressor__max_features=log2, regressor__min_samples_leaf=3, regressor__min_samples_split=5, regressor__n_estimators=850;, score=0.130 total time=   1.4s\n",
      "[CV 1/5] END regressor__bootstrap=False, regressor__criterion=absolute_error, regressor__max_depth=None, regressor__max_features=sqrt, regressor__min_samples_leaf=1, regressor__min_samples_split=10, regressor__n_estimators=500;, score=0.156 total time=  54.7s\n",
      "[CV 2/5] END regressor__bootstrap=False, regressor__criterion=absolute_error, regressor__max_depth=None, regressor__max_features=sqrt, regressor__min_samples_leaf=1, regressor__min_samples_split=10, regressor__n_estimators=500;, score=0.137 total time=  49.0s\n",
      "[CV 3/5] END regressor__bootstrap=False, regressor__criterion=absolute_error, regressor__max_depth=None, regressor__max_features=sqrt, regressor__min_samples_leaf=1, regressor__min_samples_split=10, regressor__n_estimators=500;, score=0.042 total time=  50.1s\n",
      "[CV 4/5] END regressor__bootstrap=False, regressor__criterion=absolute_error, regressor__max_depth=None, regressor__max_features=sqrt, regressor__min_samples_leaf=1, regressor__min_samples_split=10, regressor__n_estimators=500;, score=0.086 total time=  50.8s\n",
      "[CV 5/5] END regressor__bootstrap=False, regressor__criterion=absolute_error, regressor__max_depth=None, regressor__max_features=sqrt, regressor__min_samples_leaf=1, regressor__min_samples_split=10, regressor__n_estimators=500;, score=0.098 total time=  51.8s\n",
      "[CV 1/5] END regressor__bootstrap=False, regressor__criterion=friedman_mse, regressor__max_depth=None, regressor__max_features=log2, regressor__min_samples_leaf=4, regressor__min_samples_split=5, regressor__n_estimators=1250;, score=0.145 total time=   2.0s\n",
      "[CV 2/5] END regressor__bootstrap=False, regressor__criterion=friedman_mse, regressor__max_depth=None, regressor__max_features=log2, regressor__min_samples_leaf=4, regressor__min_samples_split=5, regressor__n_estimators=1250;, score=0.125 total time=   2.0s\n",
      "[CV 3/5] END regressor__bootstrap=False, regressor__criterion=friedman_mse, regressor__max_depth=None, regressor__max_features=log2, regressor__min_samples_leaf=4, regressor__min_samples_split=5, regressor__n_estimators=1250;, score=0.087 total time=   2.0s\n",
      "[CV 4/5] END regressor__bootstrap=False, regressor__criterion=friedman_mse, regressor__max_depth=None, regressor__max_features=log2, regressor__min_samples_leaf=4, regressor__min_samples_split=5, regressor__n_estimators=1250;, score=0.134 total time=   2.0s\n",
      "[CV 5/5] END regressor__bootstrap=False, regressor__criterion=friedman_mse, regressor__max_depth=None, regressor__max_features=log2, regressor__min_samples_leaf=4, regressor__min_samples_split=5, regressor__n_estimators=1250;, score=0.132 total time=   2.0s\n",
      "[CV 1/5] END regressor__bootstrap=True, regressor__criterion=friedman_mse, regressor__max_depth=None, regressor__max_features=sqrt, regressor__min_samples_leaf=4, regressor__min_samples_split=10, regressor__n_estimators=1250;, score=0.150 total time=   1.8s\n",
      "[CV 2/5] END regressor__bootstrap=True, regressor__criterion=friedman_mse, regressor__max_depth=None, regressor__max_features=sqrt, regressor__min_samples_leaf=4, regressor__min_samples_split=10, regressor__n_estimators=1250;, score=0.125 total time=   1.8s\n",
      "[CV 3/5] END regressor__bootstrap=True, regressor__criterion=friedman_mse, regressor__max_depth=None, regressor__max_features=sqrt, regressor__min_samples_leaf=4, regressor__min_samples_split=10, regressor__n_estimators=1250;, score=0.094 total time=   1.8s\n",
      "[CV 4/5] END regressor__bootstrap=True, regressor__criterion=friedman_mse, regressor__max_depth=None, regressor__max_features=sqrt, regressor__min_samples_leaf=4, regressor__min_samples_split=10, regressor__n_estimators=1250;, score=0.142 total time=   1.8s\n",
      "[CV 5/5] END regressor__bootstrap=True, regressor__criterion=friedman_mse, regressor__max_depth=None, regressor__max_features=sqrt, regressor__min_samples_leaf=4, regressor__min_samples_split=10, regressor__n_estimators=1250;, score=0.141 total time=   1.8s\n",
      "[CV 1/5] END regressor__bootstrap=True, regressor__criterion=poisson, regressor__max_depth=75, regressor__max_features=log2, regressor__min_samples_leaf=1, regressor__min_samples_split=10, regressor__n_estimators=500;, score=0.146 total time=   0.8s\n",
      "[CV 2/5] END regressor__bootstrap=True, regressor__criterion=poisson, regressor__max_depth=75, regressor__max_features=log2, regressor__min_samples_leaf=1, regressor__min_samples_split=10, regressor__n_estimators=500;, score=0.124 total time=   0.8s\n",
      "[CV 3/5] END regressor__bootstrap=True, regressor__criterion=poisson, regressor__max_depth=75, regressor__max_features=log2, regressor__min_samples_leaf=1, regressor__min_samples_split=10, regressor__n_estimators=500;, score=0.097 total time=   0.8s\n",
      "[CV 4/5] END regressor__bootstrap=True, regressor__criterion=poisson, regressor__max_depth=75, regressor__max_features=log2, regressor__min_samples_leaf=1, regressor__min_samples_split=10, regressor__n_estimators=500;, score=0.124 total time=   0.8s\n",
      "[CV 5/5] END regressor__bootstrap=True, regressor__criterion=poisson, regressor__max_depth=75, regressor__max_features=log2, regressor__min_samples_leaf=1, regressor__min_samples_split=10, regressor__n_estimators=500;, score=0.144 total time=   0.8s\n",
      "[CV 1/5] END regressor__bootstrap=True, regressor__criterion=absolute_error, regressor__max_depth=None, regressor__max_features=log2, regressor__min_samples_leaf=4, regressor__min_samples_split=5, regressor__n_estimators=1500;, score=0.126 total time=  53.9s\n",
      "[CV 2/5] END regressor__bootstrap=True, regressor__criterion=absolute_error, regressor__max_depth=None, regressor__max_features=log2, regressor__min_samples_leaf=4, regressor__min_samples_split=5, regressor__n_estimators=1500;, score=0.135 total time=  51.5s\n",
      "[CV 3/5] END regressor__bootstrap=True, regressor__criterion=absolute_error, regressor__max_depth=None, regressor__max_features=log2, regressor__min_samples_leaf=4, regressor__min_samples_split=5, regressor__n_estimators=1500;, score=0.012 total time=  52.1s\n",
      "[CV 4/5] END regressor__bootstrap=True, regressor__criterion=absolute_error, regressor__max_depth=None, regressor__max_features=log2, regressor__min_samples_leaf=4, regressor__min_samples_split=5, regressor__n_estimators=1500;, score=0.084 total time=  53.8s\n",
      "[CV 5/5] END regressor__bootstrap=True, regressor__criterion=absolute_error, regressor__max_depth=None, regressor__max_features=log2, regressor__min_samples_leaf=4, regressor__min_samples_split=5, regressor__n_estimators=1500;, score=0.045 total time=  53.0s\n",
      "[CV 1/5] END regressor__bootstrap=True, regressor__criterion=poisson, regressor__max_depth=60, regressor__max_features=sqrt, regressor__min_samples_leaf=2, regressor__min_samples_split=10, regressor__n_estimators=850;, score=0.149 total time=   1.4s\n",
      "[CV 2/5] END regressor__bootstrap=True, regressor__criterion=poisson, regressor__max_depth=60, regressor__max_features=sqrt, regressor__min_samples_leaf=2, regressor__min_samples_split=10, regressor__n_estimators=850;, score=0.125 total time=   1.5s\n",
      "[CV 3/5] END regressor__bootstrap=True, regressor__criterion=poisson, regressor__max_depth=60, regressor__max_features=sqrt, regressor__min_samples_leaf=2, regressor__min_samples_split=10, regressor__n_estimators=850;, score=0.095 total time=   1.4s\n",
      "[CV 4/5] END regressor__bootstrap=True, regressor__criterion=poisson, regressor__max_depth=60, regressor__max_features=sqrt, regressor__min_samples_leaf=2, regressor__min_samples_split=10, regressor__n_estimators=850;, score=0.132 total time=   1.5s\n",
      "[CV 5/5] END regressor__bootstrap=True, regressor__criterion=poisson, regressor__max_depth=60, regressor__max_features=sqrt, regressor__min_samples_leaf=2, regressor__min_samples_split=10, regressor__n_estimators=850;, score=0.147 total time=   1.5s\n",
      "[CV 1/5] END regressor__bootstrap=False, regressor__criterion=squared_error, regressor__max_depth=75, regressor__max_features=sqrt, regressor__min_samples_leaf=2, regressor__min_samples_split=10, regressor__n_estimators=1250;, score=0.142 total time=   2.3s\n",
      "[CV 2/5] END regressor__bootstrap=False, regressor__criterion=squared_error, regressor__max_depth=75, regressor__max_features=sqrt, regressor__min_samples_leaf=2, regressor__min_samples_split=10, regressor__n_estimators=1250;, score=0.116 total time=   2.3s\n",
      "[CV 3/5] END regressor__bootstrap=False, regressor__criterion=squared_error, regressor__max_depth=75, regressor__max_features=sqrt, regressor__min_samples_leaf=2, regressor__min_samples_split=10, regressor__n_estimators=1250;, score=0.081 total time=   2.2s\n",
      "[CV 4/5] END regressor__bootstrap=False, regressor__criterion=squared_error, regressor__max_depth=75, regressor__max_features=sqrt, regressor__min_samples_leaf=2, regressor__min_samples_split=10, regressor__n_estimators=1250;, score=0.122 total time=   2.3s\n",
      "[CV 5/5] END regressor__bootstrap=False, regressor__criterion=squared_error, regressor__max_depth=75, regressor__max_features=sqrt, regressor__min_samples_leaf=2, regressor__min_samples_split=10, regressor__n_estimators=1250;, score=0.135 total time=   2.3s\n",
      "[CV 1/5] END regressor__bootstrap=False, regressor__criterion=friedman_mse, regressor__max_depth=70, regressor__max_features=sqrt, regressor__min_samples_leaf=4, regressor__min_samples_split=10, regressor__n_estimators=1000;, score=0.143 total time=   1.7s\n",
      "[CV 2/5] END regressor__bootstrap=False, regressor__criterion=friedman_mse, regressor__max_depth=70, regressor__max_features=sqrt, regressor__min_samples_leaf=4, regressor__min_samples_split=10, regressor__n_estimators=1000;, score=0.119 total time=   1.7s\n",
      "[CV 3/5] END regressor__bootstrap=False, regressor__criterion=friedman_mse, regressor__max_depth=70, regressor__max_features=sqrt, regressor__min_samples_leaf=4, regressor__min_samples_split=10, regressor__n_estimators=1000;, score=0.085 total time=   1.7s\n",
      "[CV 4/5] END regressor__bootstrap=False, regressor__criterion=friedman_mse, regressor__max_depth=70, regressor__max_features=sqrt, regressor__min_samples_leaf=4, regressor__min_samples_split=10, regressor__n_estimators=1000;, score=0.132 total time=   1.7s\n",
      "[CV 5/5] END regressor__bootstrap=False, regressor__criterion=friedman_mse, regressor__max_depth=70, regressor__max_features=sqrt, regressor__min_samples_leaf=4, regressor__min_samples_split=10, regressor__n_estimators=1000;, score=0.135 total time=   1.7s\n",
      "[CV 1/5] END regressor__bootstrap=False, regressor__criterion=absolute_error, regressor__max_depth=70, regressor__max_features=sqrt, regressor__min_samples_leaf=4, regressor__min_samples_split=10, regressor__n_estimators=1500;, score=0.138 total time=33.5min\n",
      "[CV 2/5] END regressor__bootstrap=False, regressor__criterion=absolute_error, regressor__max_depth=70, regressor__max_features=sqrt, regressor__min_samples_leaf=4, regressor__min_samples_split=10, regressor__n_estimators=1500;, score=0.135 total time= 2.1min\n",
      "[CV 3/5] END regressor__bootstrap=False, regressor__criterion=absolute_error, regressor__max_depth=70, regressor__max_features=sqrt, regressor__min_samples_leaf=4, regressor__min_samples_split=10, regressor__n_estimators=1500;, score=-0.004 total time= 2.2min\n",
      "[CV 4/5] END regressor__bootstrap=False, regressor__criterion=absolute_error, regressor__max_depth=70, regressor__max_features=sqrt, regressor__min_samples_leaf=4, regressor__min_samples_split=10, regressor__n_estimators=1500;, score=0.086 total time= 2.2min\n",
      "[CV 5/5] END regressor__bootstrap=False, regressor__criterion=absolute_error, regressor__max_depth=70, regressor__max_features=sqrt, regressor__min_samples_leaf=4, regressor__min_samples_split=10, regressor__n_estimators=1500;, score=0.057 total time= 2.3min\n",
      "[CV 1/5] END regressor__bootstrap=True, regressor__criterion=absolute_error, regressor__max_depth=60, regressor__max_features=sqrt, regressor__min_samples_leaf=2, regressor__min_samples_split=2, regressor__n_estimators=1250;, score=0.153 total time=  57.5s\n",
      "[CV 2/5] END regressor__bootstrap=True, regressor__criterion=absolute_error, regressor__max_depth=60, regressor__max_features=sqrt, regressor__min_samples_leaf=2, regressor__min_samples_split=2, regressor__n_estimators=1250;, score=0.140 total time=  54.3s\n",
      "[CV 3/5] END regressor__bootstrap=True, regressor__criterion=absolute_error, regressor__max_depth=60, regressor__max_features=sqrt, regressor__min_samples_leaf=2, regressor__min_samples_split=2, regressor__n_estimators=1250;, score=0.073 total time= 2.5min\n",
      "[CV 4/5] END regressor__bootstrap=True, regressor__criterion=absolute_error, regressor__max_depth=60, regressor__max_features=sqrt, regressor__min_samples_leaf=2, regressor__min_samples_split=2, regressor__n_estimators=1250;, score=0.110 total time=  57.0s\n",
      "[CV 5/5] END regressor__bootstrap=True, regressor__criterion=absolute_error, regressor__max_depth=60, regressor__max_features=sqrt, regressor__min_samples_leaf=2, regressor__min_samples_split=2, regressor__n_estimators=1250;, score=0.106 total time=  57.1s\n",
      "[CV 1/5] END regressor__bootstrap=False, regressor__criterion=friedman_mse, regressor__max_depth=70, regressor__max_features=sqrt, regressor__min_samples_leaf=3, regressor__min_samples_split=5, regressor__n_estimators=1250;, score=0.142 total time=   2.3s\n",
      "[CV 2/5] END regressor__bootstrap=False, regressor__criterion=friedman_mse, regressor__max_depth=70, regressor__max_features=sqrt, regressor__min_samples_leaf=3, regressor__min_samples_split=5, regressor__n_estimators=1250;, score=0.119 total time=   2.3s\n",
      "[CV 3/5] END regressor__bootstrap=False, regressor__criterion=friedman_mse, regressor__max_depth=70, regressor__max_features=sqrt, regressor__min_samples_leaf=3, regressor__min_samples_split=5, regressor__n_estimators=1250;, score=0.078 total time=   2.4s\n",
      "[CV 4/5] END regressor__bootstrap=False, regressor__criterion=friedman_mse, regressor__max_depth=70, regressor__max_features=sqrt, regressor__min_samples_leaf=3, regressor__min_samples_split=5, regressor__n_estimators=1250;, score=0.129 total time=   2.6s\n",
      "[CV 5/5] END regressor__bootstrap=False, regressor__criterion=friedman_mse, regressor__max_depth=70, regressor__max_features=sqrt, regressor__min_samples_leaf=3, regressor__min_samples_split=5, regressor__n_estimators=1250;, score=0.128 total time=   3.1s\n",
      "[CV 1/5] END regressor__bootstrap=False, regressor__criterion=poisson, regressor__max_depth=80, regressor__max_features=log2, regressor__min_samples_leaf=2, regressor__min_samples_split=10, regressor__n_estimators=1500;, score=0.147 total time=   3.5s\n",
      "[CV 2/5] END regressor__bootstrap=False, regressor__criterion=poisson, regressor__max_depth=80, regressor__max_features=log2, regressor__min_samples_leaf=2, regressor__min_samples_split=10, regressor__n_estimators=1500;, score=0.121 total time=   3.1s\n",
      "[CV 3/5] END regressor__bootstrap=False, regressor__criterion=poisson, regressor__max_depth=80, regressor__max_features=log2, regressor__min_samples_leaf=2, regressor__min_samples_split=10, regressor__n_estimators=1500;, score=0.087 total time=   3.0s\n",
      "[CV 4/5] END regressor__bootstrap=False, regressor__criterion=poisson, regressor__max_depth=80, regressor__max_features=log2, regressor__min_samples_leaf=2, regressor__min_samples_split=10, regressor__n_estimators=1500;, score=0.125 total time=   3.1s\n",
      "[CV 5/5] END regressor__bootstrap=False, regressor__criterion=poisson, regressor__max_depth=80, regressor__max_features=log2, regressor__min_samples_leaf=2, regressor__min_samples_split=10, regressor__n_estimators=1500;, score=0.137 total time=   3.0s\n",
      "[CV 1/5] END regressor__bootstrap=True, regressor__criterion=friedman_mse, regressor__max_depth=60, regressor__max_features=log2, regressor__min_samples_leaf=2, regressor__min_samples_split=5, regressor__n_estimators=1000;, score=0.149 total time=   1.5s\n",
      "[CV 2/5] END regressor__bootstrap=True, regressor__criterion=friedman_mse, regressor__max_depth=60, regressor__max_features=log2, regressor__min_samples_leaf=2, regressor__min_samples_split=5, regressor__n_estimators=1000;, score=0.123 total time=   1.5s\n",
      "[CV 3/5] END regressor__bootstrap=True, regressor__criterion=friedman_mse, regressor__max_depth=60, regressor__max_features=log2, regressor__min_samples_leaf=2, regressor__min_samples_split=5, regressor__n_estimators=1000;, score=0.086 total time=   1.7s\n",
      "[CV 4/5] END regressor__bootstrap=True, regressor__criterion=friedman_mse, regressor__max_depth=60, regressor__max_features=log2, regressor__min_samples_leaf=2, regressor__min_samples_split=5, regressor__n_estimators=1000;, score=0.130 total time=   1.7s\n",
      "[CV 5/5] END regressor__bootstrap=True, regressor__criterion=friedman_mse, regressor__max_depth=60, regressor__max_features=log2, regressor__min_samples_leaf=2, regressor__min_samples_split=5, regressor__n_estimators=1000;, score=0.136 total time=   1.6s\n",
      "[CV 1/5] END regressor__bootstrap=False, regressor__criterion=friedman_mse, regressor__max_depth=80, regressor__max_features=sqrt, regressor__min_samples_leaf=1, regressor__min_samples_split=5, regressor__n_estimators=850;, score=0.131 total time=   1.9s\n",
      "[CV 2/5] END regressor__bootstrap=False, regressor__criterion=friedman_mse, regressor__max_depth=80, regressor__max_features=sqrt, regressor__min_samples_leaf=1, regressor__min_samples_split=5, regressor__n_estimators=850;, score=0.098 total time=   2.0s\n",
      "[CV 3/5] END regressor__bootstrap=False, regressor__criterion=friedman_mse, regressor__max_depth=80, regressor__max_features=sqrt, regressor__min_samples_leaf=1, regressor__min_samples_split=5, regressor__n_estimators=850;, score=0.067 total time=   2.0s\n",
      "[CV 4/5] END regressor__bootstrap=False, regressor__criterion=friedman_mse, regressor__max_depth=80, regressor__max_features=sqrt, regressor__min_samples_leaf=1, regressor__min_samples_split=5, regressor__n_estimators=850;, score=0.106 total time=   2.0s\n",
      "[CV 5/5] END regressor__bootstrap=False, regressor__criterion=friedman_mse, regressor__max_depth=80, regressor__max_features=sqrt, regressor__min_samples_leaf=1, regressor__min_samples_split=5, regressor__n_estimators=850;, score=0.125 total time=   1.9s\n",
      "[CV 1/5] END regressor__bootstrap=True, regressor__criterion=poisson, regressor__max_depth=70, regressor__max_features=sqrt, regressor__min_samples_leaf=4, regressor__min_samples_split=2, regressor__n_estimators=1000;, score=0.153 total time=   1.7s\n",
      "[CV 2/5] END regressor__bootstrap=True, regressor__criterion=poisson, regressor__max_depth=70, regressor__max_features=sqrt, regressor__min_samples_leaf=4, regressor__min_samples_split=2, regressor__n_estimators=1000;, score=0.127 total time=   1.7s\n",
      "[CV 3/5] END regressor__bootstrap=True, regressor__criterion=poisson, regressor__max_depth=70, regressor__max_features=sqrt, regressor__min_samples_leaf=4, regressor__min_samples_split=2, regressor__n_estimators=1000;, score=0.097 total time=   1.7s\n",
      "[CV 4/5] END regressor__bootstrap=True, regressor__criterion=poisson, regressor__max_depth=70, regressor__max_features=sqrt, regressor__min_samples_leaf=4, regressor__min_samples_split=2, regressor__n_estimators=1000;, score=0.136 total time=   1.7s\n",
      "[CV 5/5] END regressor__bootstrap=True, regressor__criterion=poisson, regressor__max_depth=70, regressor__max_features=sqrt, regressor__min_samples_leaf=4, regressor__min_samples_split=2, regressor__n_estimators=1000;, score=0.140 total time=   1.8s\n",
      "[CV 1/5] END regressor__bootstrap=False, regressor__criterion=squared_error, regressor__max_depth=70, regressor__max_features=sqrt, regressor__min_samples_leaf=1, regressor__min_samples_split=2, regressor__n_estimators=1250;, score=0.120 total time=   3.3s\n",
      "[CV 2/5] END regressor__bootstrap=False, regressor__criterion=squared_error, regressor__max_depth=70, regressor__max_features=sqrt, regressor__min_samples_leaf=1, regressor__min_samples_split=2, regressor__n_estimators=1250;, score=0.084 total time=   3.1s\n",
      "[CV 3/5] END regressor__bootstrap=False, regressor__criterion=squared_error, regressor__max_depth=70, regressor__max_features=sqrt, regressor__min_samples_leaf=1, regressor__min_samples_split=2, regressor__n_estimators=1250;, score=0.052 total time=   3.1s\n",
      "[CV 4/5] END regressor__bootstrap=False, regressor__criterion=squared_error, regressor__max_depth=70, regressor__max_features=sqrt, regressor__min_samples_leaf=1, regressor__min_samples_split=2, regressor__n_estimators=1250;, score=0.098 total time=   3.2s\n",
      "[CV 5/5] END regressor__bootstrap=False, regressor__criterion=squared_error, regressor__max_depth=70, regressor__max_features=sqrt, regressor__min_samples_leaf=1, regressor__min_samples_split=2, regressor__n_estimators=1250;, score=0.106 total time=   3.1s\n",
      "[CV 1/5] END regressor__bootstrap=False, regressor__criterion=poisson, regressor__max_depth=70, regressor__max_features=sqrt, regressor__min_samples_leaf=4, regressor__min_samples_split=10, regressor__n_estimators=500;, score=0.148 total time=   1.0s\n",
      "[CV 2/5] END regressor__bootstrap=False, regressor__criterion=poisson, regressor__max_depth=70, regressor__max_features=sqrt, regressor__min_samples_leaf=4, regressor__min_samples_split=10, regressor__n_estimators=500;, score=0.121 total time=   1.0s\n",
      "[CV 3/5] END regressor__bootstrap=False, regressor__criterion=poisson, regressor__max_depth=70, regressor__max_features=sqrt, regressor__min_samples_leaf=4, regressor__min_samples_split=10, regressor__n_estimators=500;, score=0.092 total time=   1.0s\n",
      "[CV 4/5] END regressor__bootstrap=False, regressor__criterion=poisson, regressor__max_depth=70, regressor__max_features=sqrt, regressor__min_samples_leaf=4, regressor__min_samples_split=10, regressor__n_estimators=500;, score=0.129 total time=   1.0s\n",
      "[CV 5/5] END regressor__bootstrap=False, regressor__criterion=poisson, regressor__max_depth=70, regressor__max_features=sqrt, regressor__min_samples_leaf=4, regressor__min_samples_split=10, regressor__n_estimators=500;, score=0.135 total time=   1.0s\n",
      "[CV 1/5] END regressor__bootstrap=False, regressor__criterion=absolute_error, regressor__max_depth=80, regressor__max_features=log2, regressor__min_samples_leaf=1, regressor__min_samples_split=10, regressor__n_estimators=1000;, score=0.155 total time= 1.5min\n",
      "[CV 2/5] END regressor__bootstrap=False, regressor__criterion=absolute_error, regressor__max_depth=80, regressor__max_features=log2, regressor__min_samples_leaf=1, regressor__min_samples_split=10, regressor__n_estimators=1000;, score=0.140 total time= 1.3min\n",
      "[CV 3/5] END regressor__bootstrap=False, regressor__criterion=absolute_error, regressor__max_depth=80, regressor__max_features=log2, regressor__min_samples_leaf=1, regressor__min_samples_split=10, regressor__n_estimators=1000;, score=0.037 total time= 1.4min\n",
      "[CV 4/5] END regressor__bootstrap=False, regressor__criterion=absolute_error, regressor__max_depth=80, regressor__max_features=log2, regressor__min_samples_leaf=1, regressor__min_samples_split=10, regressor__n_estimators=1000;, score=0.091 total time= 1.4min\n",
      "[CV 5/5] END regressor__bootstrap=False, regressor__criterion=absolute_error, regressor__max_depth=80, regressor__max_features=log2, regressor__min_samples_leaf=1, regressor__min_samples_split=10, regressor__n_estimators=1000;, score=0.096 total time= 1.4min\n",
      "[CV 1/5] END regressor__bootstrap=True, regressor__criterion=poisson, regressor__max_depth=70, regressor__max_features=log2, regressor__min_samples_leaf=2, regressor__min_samples_split=10, regressor__n_estimators=1500;, score=0.150 total time=   2.4s\n",
      "[CV 2/5] END regressor__bootstrap=True, regressor__criterion=poisson, regressor__max_depth=70, regressor__max_features=log2, regressor__min_samples_leaf=2, regressor__min_samples_split=10, regressor__n_estimators=1500;, score=0.127 total time=   2.5s\n",
      "[CV 3/5] END regressor__bootstrap=True, regressor__criterion=poisson, regressor__max_depth=70, regressor__max_features=log2, regressor__min_samples_leaf=2, regressor__min_samples_split=10, regressor__n_estimators=1500;, score=0.097 total time=   2.4s\n",
      "[CV 4/5] END regressor__bootstrap=True, regressor__criterion=poisson, regressor__max_depth=70, regressor__max_features=log2, regressor__min_samples_leaf=2, regressor__min_samples_split=10, regressor__n_estimators=1500;, score=0.130 total time=   2.5s\n",
      "[CV 5/5] END regressor__bootstrap=True, regressor__criterion=poisson, regressor__max_depth=70, regressor__max_features=log2, regressor__min_samples_leaf=2, regressor__min_samples_split=10, regressor__n_estimators=1500;, score=0.141 total time=   2.4s\n",
      "[CV 1/5] END regressor__bootstrap=False, regressor__criterion=poisson, regressor__max_depth=75, regressor__max_features=sqrt, regressor__min_samples_leaf=1, regressor__min_samples_split=5, regressor__n_estimators=500;, score=0.132 total time=   1.3s\n",
      "[CV 2/5] END regressor__bootstrap=False, regressor__criterion=poisson, regressor__max_depth=75, regressor__max_features=sqrt, regressor__min_samples_leaf=1, regressor__min_samples_split=5, regressor__n_estimators=500;, score=0.103 total time=   1.3s\n",
      "[CV 3/5] END regressor__bootstrap=False, regressor__criterion=poisson, regressor__max_depth=75, regressor__max_features=sqrt, regressor__min_samples_leaf=1, regressor__min_samples_split=5, regressor__n_estimators=500;, score=0.070 total time=   1.3s\n",
      "[CV 4/5] END regressor__bootstrap=False, regressor__criterion=poisson, regressor__max_depth=75, regressor__max_features=sqrt, regressor__min_samples_leaf=1, regressor__min_samples_split=5, regressor__n_estimators=500;, score=0.102 total time=   1.3s\n",
      "[CV 5/5] END regressor__bootstrap=False, regressor__criterion=poisson, regressor__max_depth=75, regressor__max_features=sqrt, regressor__min_samples_leaf=1, regressor__min_samples_split=5, regressor__n_estimators=500;, score=0.118 total time=   1.3s\n",
      "[CV 1/5] END regressor__bootstrap=True, regressor__criterion=squared_error, regressor__max_depth=70, regressor__max_features=sqrt, regressor__min_samples_leaf=2, regressor__min_samples_split=5, regressor__n_estimators=1250;, score=0.150 total time=   2.1s\n",
      "[CV 2/5] END regressor__bootstrap=True, regressor__criterion=squared_error, regressor__max_depth=70, regressor__max_features=sqrt, regressor__min_samples_leaf=2, regressor__min_samples_split=5, regressor__n_estimators=1250;, score=0.117 total time=   2.1s\n",
      "[CV 3/5] END regressor__bootstrap=True, regressor__criterion=squared_error, regressor__max_depth=70, regressor__max_features=sqrt, regressor__min_samples_leaf=2, regressor__min_samples_split=5, regressor__n_estimators=1250;, score=0.091 total time=   2.1s\n",
      "[CV 4/5] END regressor__bootstrap=True, regressor__criterion=squared_error, regressor__max_depth=70, regressor__max_features=sqrt, regressor__min_samples_leaf=2, regressor__min_samples_split=5, regressor__n_estimators=1250;, score=0.127 total time=   2.1s\n",
      "[CV 5/5] END regressor__bootstrap=True, regressor__criterion=squared_error, regressor__max_depth=70, regressor__max_features=sqrt, regressor__min_samples_leaf=2, regressor__min_samples_split=5, regressor__n_estimators=1250;, score=0.139 total time=   2.1s\n",
      "[CV 1/5] END regressor__bootstrap=False, regressor__criterion=poisson, regressor__max_depth=80, regressor__max_features=sqrt, regressor__min_samples_leaf=2, regressor__min_samples_split=5, regressor__n_estimators=500;, score=0.145 total time=   1.3s\n",
      "[CV 2/5] END regressor__bootstrap=False, regressor__criterion=poisson, regressor__max_depth=80, regressor__max_features=sqrt, regressor__min_samples_leaf=2, regressor__min_samples_split=5, regressor__n_estimators=500;, score=0.114 total time=   1.3s\n",
      "[CV 3/5] END regressor__bootstrap=False, regressor__criterion=poisson, regressor__max_depth=80, regressor__max_features=sqrt, regressor__min_samples_leaf=2, regressor__min_samples_split=5, regressor__n_estimators=500;, score=0.074 total time=   1.2s\n",
      "[CV 4/5] END regressor__bootstrap=False, regressor__criterion=poisson, regressor__max_depth=80, regressor__max_features=sqrt, regressor__min_samples_leaf=2, regressor__min_samples_split=5, regressor__n_estimators=500;, score=0.118 total time=   1.2s\n",
      "[CV 5/5] END regressor__bootstrap=False, regressor__criterion=poisson, regressor__max_depth=80, regressor__max_features=sqrt, regressor__min_samples_leaf=2, regressor__min_samples_split=5, regressor__n_estimators=500;, score=0.128 total time=   1.2s\n",
      "[CV 1/5] END regressor__bootstrap=False, regressor__criterion=poisson, regressor__max_depth=80, regressor__max_features=sqrt, regressor__min_samples_leaf=4, regressor__min_samples_split=2, regressor__n_estimators=850;, score=0.143 total time=   1.8s\n",
      "[CV 2/5] END regressor__bootstrap=False, regressor__criterion=poisson, regressor__max_depth=80, regressor__max_features=sqrt, regressor__min_samples_leaf=4, regressor__min_samples_split=2, regressor__n_estimators=850;, score=0.123 total time=   1.8s\n",
      "[CV 3/5] END regressor__bootstrap=False, regressor__criterion=poisson, regressor__max_depth=80, regressor__max_features=sqrt, regressor__min_samples_leaf=4, regressor__min_samples_split=2, regressor__n_estimators=850;, score=0.090 total time=   1.7s\n",
      "[CV 4/5] END regressor__bootstrap=False, regressor__criterion=poisson, regressor__max_depth=80, regressor__max_features=sqrt, regressor__min_samples_leaf=4, regressor__min_samples_split=2, regressor__n_estimators=850;, score=0.129 total time=   1.8s\n",
      "[CV 5/5] END regressor__bootstrap=False, regressor__criterion=poisson, regressor__max_depth=80, regressor__max_features=sqrt, regressor__min_samples_leaf=4, regressor__min_samples_split=2, regressor__n_estimators=850;, score=0.132 total time=   1.8s\n",
      "[CV 1/5] END regressor__bootstrap=True, regressor__criterion=absolute_error, regressor__max_depth=65, regressor__max_features=log2, regressor__min_samples_leaf=1, regressor__min_samples_split=2, regressor__n_estimators=1500;, score=0.159 total time= 1.1min\n",
      "[CV 2/5] END regressor__bootstrap=True, regressor__criterion=absolute_error, regressor__max_depth=65, regressor__max_features=log2, regressor__min_samples_leaf=1, regressor__min_samples_split=2, regressor__n_estimators=1500;, score=0.120 total time= 1.0min\n",
      "[CV 3/5] END regressor__bootstrap=True, regressor__criterion=absolute_error, regressor__max_depth=65, regressor__max_features=log2, regressor__min_samples_leaf=1, regressor__min_samples_split=2, regressor__n_estimators=1500;, score=0.077 total time= 1.1min\n",
      "[CV 4/5] END regressor__bootstrap=True, regressor__criterion=absolute_error, regressor__max_depth=65, regressor__max_features=log2, regressor__min_samples_leaf=1, regressor__min_samples_split=2, regressor__n_estimators=1500;, score=0.113 total time= 1.1min\n",
      "[CV 5/5] END regressor__bootstrap=True, regressor__criterion=absolute_error, regressor__max_depth=65, regressor__max_features=log2, regressor__min_samples_leaf=1, regressor__min_samples_split=2, regressor__n_estimators=1500;, score=0.108 total time= 1.1min\n",
      "[CV 1/5] END regressor__bootstrap=True, regressor__criterion=squared_error, regressor__max_depth=80, regressor__max_features=log2, regressor__min_samples_leaf=3, regressor__min_samples_split=10, regressor__n_estimators=1500;, score=0.150 total time=   2.1s\n",
      "[CV 2/5] END regressor__bootstrap=True, regressor__criterion=squared_error, regressor__max_depth=80, regressor__max_features=log2, regressor__min_samples_leaf=3, regressor__min_samples_split=10, regressor__n_estimators=1500;, score=0.127 total time=   2.1s\n",
      "[CV 3/5] END regressor__bootstrap=True, regressor__criterion=squared_error, regressor__max_depth=80, regressor__max_features=log2, regressor__min_samples_leaf=3, regressor__min_samples_split=10, regressor__n_estimators=1500;, score=0.095 total time=   2.1s\n",
      "[CV 4/5] END regressor__bootstrap=True, regressor__criterion=squared_error, regressor__max_depth=80, regressor__max_features=log2, regressor__min_samples_leaf=3, regressor__min_samples_split=10, regressor__n_estimators=1500;, score=0.137 total time=   2.1s\n",
      "[CV 5/5] END regressor__bootstrap=True, regressor__criterion=squared_error, regressor__max_depth=80, regressor__max_features=log2, regressor__min_samples_leaf=3, regressor__min_samples_split=10, regressor__n_estimators=1500;, score=0.139 total time=   2.2s\n",
      "[CV 1/5] END regressor__bootstrap=True, regressor__criterion=squared_error, regressor__max_depth=65, regressor__max_features=sqrt, regressor__min_samples_leaf=3, regressor__min_samples_split=2, regressor__n_estimators=1500;, score=0.152 total time=   2.4s\n",
      "[CV 2/5] END regressor__bootstrap=True, regressor__criterion=squared_error, regressor__max_depth=65, regressor__max_features=sqrt, regressor__min_samples_leaf=3, regressor__min_samples_split=2, regressor__n_estimators=1500;, score=0.123 total time=   2.3s\n",
      "[CV 3/5] END regressor__bootstrap=True, regressor__criterion=squared_error, regressor__max_depth=65, regressor__max_features=sqrt, regressor__min_samples_leaf=3, regressor__min_samples_split=2, regressor__n_estimators=1500;, score=0.092 total time=   2.3s\n",
      "[CV 4/5] END regressor__bootstrap=True, regressor__criterion=squared_error, regressor__max_depth=65, regressor__max_features=sqrt, regressor__min_samples_leaf=3, regressor__min_samples_split=2, regressor__n_estimators=1500;, score=0.136 total time=   2.4s\n",
      "[CV 5/5] END regressor__bootstrap=True, regressor__criterion=squared_error, regressor__max_depth=65, regressor__max_features=sqrt, regressor__min_samples_leaf=3, regressor__min_samples_split=2, regressor__n_estimators=1500;, score=0.140 total time=   2.4s\n",
      "[CV 1/5] END regressor__bootstrap=True, regressor__criterion=absolute_error, regressor__max_depth=80, regressor__max_features=log2, regressor__min_samples_leaf=2, regressor__min_samples_split=2, regressor__n_estimators=850;, score=0.151 total time=  34.0s\n",
      "[CV 2/5] END regressor__bootstrap=True, regressor__criterion=absolute_error, regressor__max_depth=80, regressor__max_features=log2, regressor__min_samples_leaf=2, regressor__min_samples_split=2, regressor__n_estimators=850;, score=0.136 total time=  32.3s\n",
      "[CV 3/5] END regressor__bootstrap=True, regressor__criterion=absolute_error, regressor__max_depth=80, regressor__max_features=log2, regressor__min_samples_leaf=2, regressor__min_samples_split=2, regressor__n_estimators=850;, score=0.066 total time=  32.6s\n",
      "[CV 4/5] END regressor__bootstrap=True, regressor__criterion=absolute_error, regressor__max_depth=80, regressor__max_features=log2, regressor__min_samples_leaf=2, regressor__min_samples_split=2, regressor__n_estimators=850;, score=0.108 total time=  33.5s\n",
      "[CV 5/5] END regressor__bootstrap=True, regressor__criterion=absolute_error, regressor__max_depth=80, regressor__max_features=log2, regressor__min_samples_leaf=2, regressor__min_samples_split=2, regressor__n_estimators=850;, score=0.096 total time=  33.5s\n",
      "[CV 1/5] END regressor__bootstrap=True, regressor__criterion=poisson, regressor__max_depth=None, regressor__max_features=log2, regressor__min_samples_leaf=1, regressor__min_samples_split=10, regressor__n_estimators=1000;, score=0.147 total time=   1.7s\n",
      "[CV 2/5] END regressor__bootstrap=True, regressor__criterion=poisson, regressor__max_depth=None, regressor__max_features=log2, regressor__min_samples_leaf=1, regressor__min_samples_split=10, regressor__n_estimators=1000;, score=0.126 total time=   1.7s\n",
      "[CV 3/5] END regressor__bootstrap=True, regressor__criterion=poisson, regressor__max_depth=None, regressor__max_features=log2, regressor__min_samples_leaf=1, regressor__min_samples_split=10, regressor__n_estimators=1000;, score=0.097 total time=   1.7s\n",
      "[CV 4/5] END regressor__bootstrap=True, regressor__criterion=poisson, regressor__max_depth=None, regressor__max_features=log2, regressor__min_samples_leaf=1, regressor__min_samples_split=10, regressor__n_estimators=1000;, score=0.128 total time=   1.7s\n",
      "[CV 5/5] END regressor__bootstrap=True, regressor__criterion=poisson, regressor__max_depth=None, regressor__max_features=log2, regressor__min_samples_leaf=1, regressor__min_samples_split=10, regressor__n_estimators=1000;, score=0.146 total time=   1.7s\n",
      "[CV 1/5] END regressor__bootstrap=False, regressor__criterion=absolute_error, regressor__max_depth=70, regressor__max_features=log2, regressor__min_samples_leaf=2, regressor__min_samples_split=2, regressor__n_estimators=1500;, score=0.158 total time= 2.1min\n",
      "[CV 2/5] END regressor__bootstrap=False, regressor__criterion=absolute_error, regressor__max_depth=70, regressor__max_features=log2, regressor__min_samples_leaf=2, regressor__min_samples_split=2, regressor__n_estimators=1500;, score=0.141 total time= 1.9min\n",
      "[CV 3/5] END regressor__bootstrap=False, regressor__criterion=absolute_error, regressor__max_depth=70, regressor__max_features=log2, regressor__min_samples_leaf=2, regressor__min_samples_split=2, regressor__n_estimators=1500;, score=0.058 total time= 2.0min\n",
      "[CV 4/5] END regressor__bootstrap=False, regressor__criterion=absolute_error, regressor__max_depth=70, regressor__max_features=log2, regressor__min_samples_leaf=2, regressor__min_samples_split=2, regressor__n_estimators=1500;, score=0.115 total time= 2.0min\n",
      "[CV 5/5] END regressor__bootstrap=False, regressor__criterion=absolute_error, regressor__max_depth=70, regressor__max_features=log2, regressor__min_samples_leaf=2, regressor__min_samples_split=2, regressor__n_estimators=1500;, score=0.112 total time= 2.0min\n",
      "[CV 1/5] END regressor__bootstrap=True, regressor__criterion=poisson, regressor__max_depth=None, regressor__max_features=sqrt, regressor__min_samples_leaf=4, regressor__min_samples_split=5, regressor__n_estimators=1250;, score=0.153 total time=   2.0s\n",
      "[CV 2/5] END regressor__bootstrap=True, regressor__criterion=poisson, regressor__max_depth=None, regressor__max_features=sqrt, regressor__min_samples_leaf=4, regressor__min_samples_split=5, regressor__n_estimators=1250;, score=0.127 total time=   2.1s\n",
      "[CV 3/5] END regressor__bootstrap=True, regressor__criterion=poisson, regressor__max_depth=None, regressor__max_features=sqrt, regressor__min_samples_leaf=4, regressor__min_samples_split=5, regressor__n_estimators=1250;, score=0.096 total time=   2.0s\n",
      "[CV 4/5] END regressor__bootstrap=True, regressor__criterion=poisson, regressor__max_depth=None, regressor__max_features=sqrt, regressor__min_samples_leaf=4, regressor__min_samples_split=5, regressor__n_estimators=1250;, score=0.136 total time=   2.1s\n",
      "[CV 5/5] END regressor__bootstrap=True, regressor__criterion=poisson, regressor__max_depth=None, regressor__max_features=sqrt, regressor__min_samples_leaf=4, regressor__min_samples_split=5, regressor__n_estimators=1250;, score=0.140 total time=   2.0s\n",
      "[CV 1/5] END regressor__bootstrap=True, regressor__criterion=friedman_mse, regressor__max_depth=65, regressor__max_features=log2, regressor__min_samples_leaf=4, regressor__min_samples_split=2, regressor__n_estimators=1500;, score=0.150 total time=   2.0s\n",
      "[CV 2/5] END regressor__bootstrap=True, regressor__criterion=friedman_mse, regressor__max_depth=65, regressor__max_features=log2, regressor__min_samples_leaf=4, regressor__min_samples_split=2, regressor__n_estimators=1500;, score=0.128 total time=   2.1s\n",
      "[CV 3/5] END regressor__bootstrap=True, regressor__criterion=friedman_mse, regressor__max_depth=65, regressor__max_features=log2, regressor__min_samples_leaf=4, regressor__min_samples_split=2, regressor__n_estimators=1500;, score=0.094 total time=   2.0s\n",
      "[CV 4/5] END regressor__bootstrap=True, regressor__criterion=friedman_mse, regressor__max_depth=65, regressor__max_features=log2, regressor__min_samples_leaf=4, regressor__min_samples_split=2, regressor__n_estimators=1500;, score=0.140 total time=   2.1s\n",
      "[CV 5/5] END regressor__bootstrap=True, regressor__criterion=friedman_mse, regressor__max_depth=65, regressor__max_features=log2, regressor__min_samples_leaf=4, regressor__min_samples_split=2, regressor__n_estimators=1500;, score=0.138 total time=   2.0s\n",
      "[CV 1/5] END regressor__bootstrap=True, regressor__criterion=squared_error, regressor__max_depth=75, regressor__max_features=log2, regressor__min_samples_leaf=1, regressor__min_samples_split=5, regressor__n_estimators=500;, score=0.146 total time=   0.8s\n",
      "[CV 2/5] END regressor__bootstrap=True, regressor__criterion=squared_error, regressor__max_depth=75, regressor__max_features=log2, regressor__min_samples_leaf=1, regressor__min_samples_split=5, regressor__n_estimators=500;, score=0.110 total time=   0.8s\n",
      "[CV 3/5] END regressor__bootstrap=True, regressor__criterion=squared_error, regressor__max_depth=75, regressor__max_features=log2, regressor__min_samples_leaf=1, regressor__min_samples_split=5, regressor__n_estimators=500;, score=0.088 total time=   0.8s\n",
      "[CV 4/5] END regressor__bootstrap=True, regressor__criterion=squared_error, regressor__max_depth=75, regressor__max_features=log2, regressor__min_samples_leaf=1, regressor__min_samples_split=5, regressor__n_estimators=500;, score=0.123 total time=   0.8s\n",
      "[CV 5/5] END regressor__bootstrap=True, regressor__criterion=squared_error, regressor__max_depth=75, regressor__max_features=log2, regressor__min_samples_leaf=1, regressor__min_samples_split=5, regressor__n_estimators=500;, score=0.137 total time=   0.8s\n",
      "[CV 1/5] END regressor__bootstrap=True, regressor__criterion=poisson, regressor__max_depth=None, regressor__max_features=sqrt, regressor__min_samples_leaf=1, regressor__min_samples_split=2, regressor__n_estimators=850;, score=0.144 total time=   1.9s\n",
      "[CV 2/5] END regressor__bootstrap=True, regressor__criterion=poisson, regressor__max_depth=None, regressor__max_features=sqrt, regressor__min_samples_leaf=1, regressor__min_samples_split=2, regressor__n_estimators=850;, score=0.102 total time=   1.9s\n",
      "[CV 3/5] END regressor__bootstrap=True, regressor__criterion=poisson, regressor__max_depth=None, regressor__max_features=sqrt, regressor__min_samples_leaf=1, regressor__min_samples_split=2, regressor__n_estimators=850;, score=0.080 total time=   1.9s\n",
      "[CV 4/5] END regressor__bootstrap=True, regressor__criterion=poisson, regressor__max_depth=None, regressor__max_features=sqrt, regressor__min_samples_leaf=1, regressor__min_samples_split=2, regressor__n_estimators=850;, score=0.122 total time=   1.9s\n",
      "[CV 5/5] END regressor__bootstrap=True, regressor__criterion=poisson, regressor__max_depth=None, regressor__max_features=sqrt, regressor__min_samples_leaf=1, regressor__min_samples_split=2, regressor__n_estimators=850;, score=0.132 total time=   1.9s\n",
      "[CV 1/5] END regressor__bootstrap=False, regressor__criterion=squared_error, regressor__max_depth=60, regressor__max_features=log2, regressor__min_samples_leaf=1, regressor__min_samples_split=10, regressor__n_estimators=1250;, score=0.142 total time=   2.2s\n",
      "[CV 2/5] END regressor__bootstrap=False, regressor__criterion=squared_error, regressor__max_depth=60, regressor__max_features=log2, regressor__min_samples_leaf=1, regressor__min_samples_split=10, regressor__n_estimators=1250;, score=0.116 total time=   2.2s\n",
      "[CV 3/5] END regressor__bootstrap=False, regressor__criterion=squared_error, regressor__max_depth=60, regressor__max_features=log2, regressor__min_samples_leaf=1, regressor__min_samples_split=10, regressor__n_estimators=1250;, score=0.083 total time=   2.2s\n",
      "[CV 4/5] END regressor__bootstrap=False, regressor__criterion=squared_error, regressor__max_depth=60, regressor__max_features=log2, regressor__min_samples_leaf=1, regressor__min_samples_split=10, regressor__n_estimators=1250;, score=0.116 total time=   2.2s\n",
      "[CV 5/5] END regressor__bootstrap=False, regressor__criterion=squared_error, regressor__max_depth=60, regressor__max_features=log2, regressor__min_samples_leaf=1, regressor__min_samples_split=10, regressor__n_estimators=1250;, score=0.140 total time=   2.2s\n",
      "[CV 1/5] END regressor__bootstrap=False, regressor__criterion=absolute_error, regressor__max_depth=80, regressor__max_features=sqrt, regressor__min_samples_leaf=1, regressor__min_samples_split=10, regressor__n_estimators=1250;, score=0.157 total time= 2.3min\n",
      "[CV 2/5] END regressor__bootstrap=False, regressor__criterion=absolute_error, regressor__max_depth=80, regressor__max_features=sqrt, regressor__min_samples_leaf=1, regressor__min_samples_split=10, regressor__n_estimators=1250;, score=0.136 total time= 2.0min\n",
      "[CV 3/5] END regressor__bootstrap=False, regressor__criterion=absolute_error, regressor__max_depth=80, regressor__max_features=sqrt, regressor__min_samples_leaf=1, regressor__min_samples_split=10, regressor__n_estimators=1250;, score=0.042 total time= 2.1min\n",
      "[CV 4/5] END regressor__bootstrap=False, regressor__criterion=absolute_error, regressor__max_depth=80, regressor__max_features=sqrt, regressor__min_samples_leaf=1, regressor__min_samples_split=10, regressor__n_estimators=1250;, score=0.087 total time= 2.1min\n",
      "[CV 5/5] END regressor__bootstrap=False, regressor__criterion=absolute_error, regressor__max_depth=80, regressor__max_features=sqrt, regressor__min_samples_leaf=1, regressor__min_samples_split=10, regressor__n_estimators=1250;, score=0.101 total time= 2.2min\n",
      "[CV 1/5] END regressor__bootstrap=False, regressor__criterion=friedman_mse, regressor__max_depth=80, regressor__max_features=log2, regressor__min_samples_leaf=1, regressor__min_samples_split=2, regressor__n_estimators=1250;, score=0.125 total time=   2.8s\n",
      "[CV 2/5] END regressor__bootstrap=False, regressor__criterion=friedman_mse, regressor__max_depth=80, regressor__max_features=log2, regressor__min_samples_leaf=1, regressor__min_samples_split=2, regressor__n_estimators=1250;, score=0.088 total time=   2.8s\n",
      "[CV 3/5] END regressor__bootstrap=False, regressor__criterion=friedman_mse, regressor__max_depth=80, regressor__max_features=log2, regressor__min_samples_leaf=1, regressor__min_samples_split=2, regressor__n_estimators=1250;, score=0.053 total time=   2.8s\n",
      "[CV 4/5] END regressor__bootstrap=False, regressor__criterion=friedman_mse, regressor__max_depth=80, regressor__max_features=log2, regressor__min_samples_leaf=1, regressor__min_samples_split=2, regressor__n_estimators=1250;, score=0.098 total time=   2.8s\n",
      "[CV 5/5] END regressor__bootstrap=False, regressor__criterion=friedman_mse, regressor__max_depth=80, regressor__max_features=log2, regressor__min_samples_leaf=1, regressor__min_samples_split=2, regressor__n_estimators=1250;, score=0.104 total time=   2.8s\n",
      "[CV 1/5] END regressor__bootstrap=False, regressor__criterion=squared_error, regressor__max_depth=60, regressor__max_features=sqrt, regressor__min_samples_leaf=3, regressor__min_samples_split=10, regressor__n_estimators=1500;, score=0.143 total time=   2.6s\n",
      "[CV 2/5] END regressor__bootstrap=False, regressor__criterion=squared_error, regressor__max_depth=60, regressor__max_features=sqrt, regressor__min_samples_leaf=3, regressor__min_samples_split=10, regressor__n_estimators=1500;, score=0.120 total time=   2.6s\n",
      "[CV 3/5] END regressor__bootstrap=False, regressor__criterion=squared_error, regressor__max_depth=60, regressor__max_features=sqrt, regressor__min_samples_leaf=3, regressor__min_samples_split=10, regressor__n_estimators=1500;, score=0.083 total time=   2.7s\n",
      "[CV 4/5] END regressor__bootstrap=False, regressor__criterion=squared_error, regressor__max_depth=60, regressor__max_features=sqrt, regressor__min_samples_leaf=3, regressor__min_samples_split=10, regressor__n_estimators=1500;, score=0.128 total time=   2.7s\n",
      "[CV 5/5] END regressor__bootstrap=False, regressor__criterion=squared_error, regressor__max_depth=60, regressor__max_features=sqrt, regressor__min_samples_leaf=3, regressor__min_samples_split=10, regressor__n_estimators=1500;, score=0.135 total time=   2.7s\n"
     ]
    },
    {
     "data": {
      "text/html": [
       "<style>#sk-container-id-16 {color: black;background-color: white;}#sk-container-id-16 pre{padding: 0;}#sk-container-id-16 div.sk-toggleable {background-color: white;}#sk-container-id-16 label.sk-toggleable__label {cursor: pointer;display: block;width: 100%;margin-bottom: 0;padding: 0.3em;box-sizing: border-box;text-align: center;}#sk-container-id-16 label.sk-toggleable__label-arrow:before {content: \"▸\";float: left;margin-right: 0.25em;color: #696969;}#sk-container-id-16 label.sk-toggleable__label-arrow:hover:before {color: black;}#sk-container-id-16 div.sk-estimator:hover label.sk-toggleable__label-arrow:before {color: black;}#sk-container-id-16 div.sk-toggleable__content {max-height: 0;max-width: 0;overflow: hidden;text-align: left;background-color: #f0f8ff;}#sk-container-id-16 div.sk-toggleable__content pre {margin: 0.2em;color: black;border-radius: 0.25em;background-color: #f0f8ff;}#sk-container-id-16 input.sk-toggleable__control:checked~div.sk-toggleable__content {max-height: 200px;max-width: 100%;overflow: auto;}#sk-container-id-16 input.sk-toggleable__control:checked~label.sk-toggleable__label-arrow:before {content: \"▾\";}#sk-container-id-16 div.sk-estimator input.sk-toggleable__control:checked~label.sk-toggleable__label {background-color: #d4ebff;}#sk-container-id-16 div.sk-label input.sk-toggleable__control:checked~label.sk-toggleable__label {background-color: #d4ebff;}#sk-container-id-16 input.sk-hidden--visually {border: 0;clip: rect(1px 1px 1px 1px);clip: rect(1px, 1px, 1px, 1px);height: 1px;margin: -1px;overflow: hidden;padding: 0;position: absolute;width: 1px;}#sk-container-id-16 div.sk-estimator {font-family: monospace;background-color: #f0f8ff;border: 1px dotted black;border-radius: 0.25em;box-sizing: border-box;margin-bottom: 0.5em;}#sk-container-id-16 div.sk-estimator:hover {background-color: #d4ebff;}#sk-container-id-16 div.sk-parallel-item::after {content: \"\";width: 100%;border-bottom: 1px solid gray;flex-grow: 1;}#sk-container-id-16 div.sk-label:hover label.sk-toggleable__label {background-color: #d4ebff;}#sk-container-id-16 div.sk-serial::before {content: \"\";position: absolute;border-left: 1px solid gray;box-sizing: border-box;top: 0;bottom: 0;left: 50%;z-index: 0;}#sk-container-id-16 div.sk-serial {display: flex;flex-direction: column;align-items: center;background-color: white;padding-right: 0.2em;padding-left: 0.2em;position: relative;}#sk-container-id-16 div.sk-item {position: relative;z-index: 1;}#sk-container-id-16 div.sk-parallel {display: flex;align-items: stretch;justify-content: center;background-color: white;position: relative;}#sk-container-id-16 div.sk-item::before, #sk-container-id-16 div.sk-parallel-item::before {content: \"\";position: absolute;border-left: 1px solid gray;box-sizing: border-box;top: 0;bottom: 0;left: 50%;z-index: -1;}#sk-container-id-16 div.sk-parallel-item {display: flex;flex-direction: column;z-index: 1;position: relative;background-color: white;}#sk-container-id-16 div.sk-parallel-item:first-child::after {align-self: flex-end;width: 50%;}#sk-container-id-16 div.sk-parallel-item:last-child::after {align-self: flex-start;width: 50%;}#sk-container-id-16 div.sk-parallel-item:only-child::after {width: 0;}#sk-container-id-16 div.sk-dashed-wrapped {border: 1px dashed gray;margin: 0 0.4em 0.5em 0.4em;box-sizing: border-box;padding-bottom: 0.4em;background-color: white;}#sk-container-id-16 div.sk-label label {font-family: monospace;font-weight: bold;display: inline-block;line-height: 1.2em;}#sk-container-id-16 div.sk-label-container {text-align: center;}#sk-container-id-16 div.sk-container {/* jupyter's `normalize.less` sets `[hidden] { display: none; }` but bootstrap.min.css set `[hidden] { display: none !important; }` so we also need the `!important` here to be able to override the default hidden behavior on the sphinx rendered scikit-learn.org. See: https://github.com/scikit-learn/scikit-learn/issues/21755 */display: inline-block !important;position: relative;}#sk-container-id-16 div.sk-text-repr-fallback {display: none;}</style><div id=\"sk-container-id-16\" class=\"sk-top-container\"><div class=\"sk-text-repr-fallback\"><pre>RandomizedSearchCV(cv=KFold(n_splits=5, random_state=None, shuffle=False),\n",
       "                   estimator=Pipeline(steps=[(&#x27;scaler&#x27;, StandardScaler()),\n",
       "                                             (&#x27;regressor&#x27;,\n",
       "                                              RandomForestRegressor(random_state=3))]),\n",
       "                   n_iter=50,\n",
       "                   param_distributions={&#x27;regressor__bootstrap&#x27;: [True, False],\n",
       "                                        &#x27;regressor__criterion&#x27;: [&#x27;squared_error&#x27;,\n",
       "                                                                 &#x27;absolute_error&#x27;,\n",
       "                                                                 &#x27;friedman_mse&#x27;,\n",
       "                                                                 &#x27;poisson&#x27;],\n",
       "                                        &#x27;regressor__max_depth&#x27;: [None, 60, 65,\n",
       "                                                                 70, 75, 80],\n",
       "                                        &#x27;regressor__max_features&#x27;: [&#x27;sqrt&#x27;,\n",
       "                                                                    &#x27;log2&#x27;],\n",
       "                                        &#x27;regressor__min_samples_leaf&#x27;: [1, 2, 3,\n",
       "                                                                        4],\n",
       "                                        &#x27;regressor__min_samples_split&#x27;: [2, 5,\n",
       "                                                                         10],\n",
       "                                        &#x27;regressor__n_estimators&#x27;: [500, 850,\n",
       "                                                                    1000, 1250,\n",
       "                                                                    1500]},\n",
       "                   random_state=3, verbose=3)</pre><b>In a Jupyter environment, please rerun this cell to show the HTML representation or trust the notebook. <br />On GitHub, the HTML representation is unable to render, please try loading this page with nbviewer.org.</b></div><div class=\"sk-container\" hidden><div class=\"sk-item sk-dashed-wrapped\"><div class=\"sk-label-container\"><div class=\"sk-label sk-toggleable\"><input class=\"sk-toggleable__control sk-hidden--visually\" id=\"sk-estimator-id-52\" type=\"checkbox\" ><label for=\"sk-estimator-id-52\" class=\"sk-toggleable__label sk-toggleable__label-arrow\">RandomizedSearchCV</label><div class=\"sk-toggleable__content\"><pre>RandomizedSearchCV(cv=KFold(n_splits=5, random_state=None, shuffle=False),\n",
       "                   estimator=Pipeline(steps=[(&#x27;scaler&#x27;, StandardScaler()),\n",
       "                                             (&#x27;regressor&#x27;,\n",
       "                                              RandomForestRegressor(random_state=3))]),\n",
       "                   n_iter=50,\n",
       "                   param_distributions={&#x27;regressor__bootstrap&#x27;: [True, False],\n",
       "                                        &#x27;regressor__criterion&#x27;: [&#x27;squared_error&#x27;,\n",
       "                                                                 &#x27;absolute_error&#x27;,\n",
       "                                                                 &#x27;friedman_mse&#x27;,\n",
       "                                                                 &#x27;poisson&#x27;],\n",
       "                                        &#x27;regressor__max_depth&#x27;: [None, 60, 65,\n",
       "                                                                 70, 75, 80],\n",
       "                                        &#x27;regressor__max_features&#x27;: [&#x27;sqrt&#x27;,\n",
       "                                                                    &#x27;log2&#x27;],\n",
       "                                        &#x27;regressor__min_samples_leaf&#x27;: [1, 2, 3,\n",
       "                                                                        4],\n",
       "                                        &#x27;regressor__min_samples_split&#x27;: [2, 5,\n",
       "                                                                         10],\n",
       "                                        &#x27;regressor__n_estimators&#x27;: [500, 850,\n",
       "                                                                    1000, 1250,\n",
       "                                                                    1500]},\n",
       "                   random_state=3, verbose=3)</pre></div></div></div><div class=\"sk-parallel\"><div class=\"sk-parallel-item\"><div class=\"sk-item\"><div class=\"sk-label-container\"><div class=\"sk-label sk-toggleable\"><input class=\"sk-toggleable__control sk-hidden--visually\" id=\"sk-estimator-id-53\" type=\"checkbox\" ><label for=\"sk-estimator-id-53\" class=\"sk-toggleable__label sk-toggleable__label-arrow\">estimator: Pipeline</label><div class=\"sk-toggleable__content\"><pre>Pipeline(steps=[(&#x27;scaler&#x27;, StandardScaler()),\n",
       "                (&#x27;regressor&#x27;, RandomForestRegressor(random_state=3))])</pre></div></div></div><div class=\"sk-serial\"><div class=\"sk-item\"><div class=\"sk-serial\"><div class=\"sk-item\"><div class=\"sk-estimator sk-toggleable\"><input class=\"sk-toggleable__control sk-hidden--visually\" id=\"sk-estimator-id-54\" type=\"checkbox\" ><label for=\"sk-estimator-id-54\" class=\"sk-toggleable__label sk-toggleable__label-arrow\">StandardScaler</label><div class=\"sk-toggleable__content\"><pre>StandardScaler()</pre></div></div></div><div class=\"sk-item\"><div class=\"sk-estimator sk-toggleable\"><input class=\"sk-toggleable__control sk-hidden--visually\" id=\"sk-estimator-id-55\" type=\"checkbox\" ><label for=\"sk-estimator-id-55\" class=\"sk-toggleable__label sk-toggleable__label-arrow\">RandomForestRegressor</label><div class=\"sk-toggleable__content\"><pre>RandomForestRegressor(random_state=3)</pre></div></div></div></div></div></div></div></div></div></div></div></div>"
      ],
      "text/plain": [
       "RandomizedSearchCV(cv=KFold(n_splits=5, random_state=None, shuffle=False),\n",
       "                   estimator=Pipeline(steps=[('scaler', StandardScaler()),\n",
       "                                             ('regressor',\n",
       "                                              RandomForestRegressor(random_state=3))]),\n",
       "                   n_iter=50,\n",
       "                   param_distributions={'regressor__bootstrap': [True, False],\n",
       "                                        'regressor__criterion': ['squared_error',\n",
       "                                                                 'absolute_error',\n",
       "                                                                 'friedman_mse',\n",
       "                                                                 'poisson'],\n",
       "                                        'regressor__max_depth': [None, 60, 65,\n",
       "                                                                 70, 75, 80],\n",
       "                                        'regressor__max_features': ['sqrt',\n",
       "                                                                    'log2'],\n",
       "                                        'regressor__min_samples_leaf': [1, 2, 3,\n",
       "                                                                        4],\n",
       "                                        'regressor__min_samples_split': [2, 5,\n",
       "                                                                         10],\n",
       "                                        'regressor__n_estimators': [500, 850,\n",
       "                                                                    1000, 1250,\n",
       "                                                                    1500]},\n",
       "                   random_state=3, verbose=3)"
      ]
     },
     "execution_count": 70,
     "metadata": {},
     "output_type": "execute_result"
    }
   ],
   "source": [
    "randomforest_regressor_param_space = {\n",
    "    'regressor__criterion': ['squared_error', 'absolute_error', 'friedman_mse', 'poisson'],\n",
    "    'regressor__n_estimators': [500, 850, 1000, 1250, 1500],\n",
    "    'regressor__max_features': ['sqrt', 'log2'],\n",
    "    'regressor__max_depth': [None, 60, 65, 70, 75, 80],\n",
    "    'regressor__min_samples_split': [2, 5, 10],\n",
    "    'regressor__min_samples_leaf': [1, 2, 3, 4],\n",
    "    'regressor__bootstrap': [True, False],\n",
    "}\n",
    "\n",
    "randomforest_regressor_grid_search = RandomizedSearchCV(randomforest_regressor_pipe, randomforest_regressor_param_space, cv=KFold(n_splits=5), n_iter=50, random_state=SEED, verbose=3)\n",
    "\n",
    "randomforest_regressor_grid_search.fit(X_transformed, y_categorical_transformed)"
   ]
  },
  {
   "cell_type": "code",
   "execution_count": 71,
   "metadata": {},
   "outputs": [
    {
     "data": {
      "text/plain": [
       "{'regressor__n_estimators': 1000,\n",
       " 'regressor__min_samples_split': 2,\n",
       " 'regressor__min_samples_leaf': 4,\n",
       " 'regressor__max_features': 'sqrt',\n",
       " 'regressor__max_depth': 70,\n",
       " 'regressor__criterion': 'poisson',\n",
       " 'regressor__bootstrap': True}"
      ]
     },
     "execution_count": 71,
     "metadata": {},
     "output_type": "execute_result"
    }
   ],
   "source": [
    "randomforest_regressor_grid_search.best_params_"
   ]
  },
  {
   "cell_type": "code",
   "execution_count": 72,
   "metadata": {},
   "outputs": [
    {
     "name": "stdout",
     "output_type": "stream",
     "text": [
      "MAE: 57.50\n",
      "RMSE: 72.11\n",
      "R²: -19.23%\n",
      "MAPE: 10.28%\n"
     ]
    }
   ],
   "source": [
    "tuned_randomforest_regressor_pipe = randomforest_regressor_grid_search.best_estimator_\n",
    "\n",
    "evaluate_regression_model(tuned_randomforest_regressor_pipe)"
   ]
  },
  {
   "cell_type": "code",
   "execution_count": 73,
   "metadata": {},
   "outputs": [],
   "source": [
    "sio.dump(randomforest_regressor_pipe, '../sklearn/models/randomforest_regressor.skops')\n",
    "sio.dump(tuned_randomforest_regressor_pipe, '../sklearn/models/tuned/tuned_randomforest_regressor.skops')"
   ]
  },
  {
   "cell_type": "code",
   "execution_count": 74,
   "metadata": {},
   "outputs": [],
   "source": [
    "# decelerating sklearn\n",
    "unpatch_sklearn()"
   ]
  }
 ],
 "metadata": {
  "kernelspec": {
   "display_name": "py311",
   "language": "python",
   "name": "python3"
  },
  "language_info": {
   "codemirror_mode": {
    "name": "ipython",
    "version": 3
   },
   "file_extension": ".py",
   "mimetype": "text/x-python",
   "name": "python",
   "nbconvert_exporter": "python",
   "pygments_lexer": "ipython3",
   "version": "3.11.3"
  },
  "orig_nbformat": 4
 },
 "nbformat": 4,
 "nbformat_minor": 2
}
